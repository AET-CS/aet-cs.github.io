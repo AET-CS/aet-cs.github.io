{
 "cells": [
  {
   "cell_type": "markdown",
   "id": "641979b4-84cb-4927-a762-1ea790835388",
   "metadata": {},
   "source": [
    "# Decision Trees Intro"
   ]
  },
  {
   "cell_type": "markdown",
   "id": "164f1089-3865-48f4-995b-892d5732c8e0",
   "metadata": {},
   "source": [
    "## Part 1: The Restaurant Dataset"
   ]
  },
  {
   "cell_type": "code",
   "execution_count": null,
   "id": "a87e1e8a-0d4c-4f3d-ae7f-0bcced53566f",
   "metadata": {},
   "outputs": [],
   "source": [
    "import pandas as pd"
   ]
  },
  {
   "cell_type": "code",
   "execution_count": null,
   "id": "d0a618b2-9c66-4d5e-9d73-1a0c496dad29",
   "metadata": {},
   "outputs": [],
   "source": [
    "# This will get the dataset\n",
    "# It's a good practice to go ahead and download it (curl/wget)\n",
    "# and change this cell to read locally\n",
    "\n",
    "df = pd.read_csv(\"https://aet-cs.github.io/white/ML/lessons/restaurant.csv\")"
   ]
  },
  {
   "cell_type": "code",
   "execution_count": null,
   "id": "0d1eaadd-8fd7-440d-bfac-e42041f7c4b4",
   "metadata": {},
   "outputs": [],
   "source": [
    "df"
   ]
  },
  {
   "cell_type": "markdown",
   "id": "56c68b23-ff4f-42c8-b63d-10f482bdbdb7",
   "metadata": {},
   "source": [
    "Check out the documentation for [Decision Tree Classifiers](https://scikit-learn.org/1.5/modules/tree.html) and implement one for the Restaurant dataset. Print out your decision tree and its accuracy. (It's a small dataset so using all the data for training is OK)"
   ]
  },
  {
   "cell_type": "code",
   "execution_count": null,
   "id": "e1de0499-affa-421b-848e-9b29a4351601",
   "metadata": {},
   "outputs": [],
   "source": [
    "# Your code!"
   ]
  },
  {
   "cell_type": "markdown",
   "id": "04cc17f9-83d4-4561-9697-fa6632d4a42d",
   "metadata": {},
   "source": [
    "## Part 2: The entropy of English"
   ]
  },
  {
   "cell_type": "markdown",
   "id": "c3cd0a34-0e86-43a0-b670-82f05164ed25",
   "metadata": {},
   "source": [
    "Install nltk (natural language toolkit) following the commands below."
   ]
  },
  {
   "cell_type": "code",
   "execution_count": null,
   "id": "438a674d-d3be-4559-b9de-7c26efe2976c",
   "metadata": {},
   "outputs": [],
   "source": [
    "!pip install nltk"
   ]
  },
  {
   "cell_type": "markdown",
   "id": "8a2bfe6a-1e32-4cfc-b0c8-f00214642d48",
   "metadata": {},
   "source": [
    "The next cell will open an interactive window (which is a bit weird). Follow the prompts to download a library called 'brown'"
   ]
  },
  {
   "cell_type": "code",
   "execution_count": null,
   "id": "b6f622c4-1136-4088-93d9-972831d032ae",
   "metadata": {},
   "outputs": [],
   "source": [
    "import nltk\n",
    "\n",
    "## delete the next line after you download \"brown\" (or comment it)\n",
    "nltk.download()"
   ]
  },
  {
   "cell_type": "markdown",
   "id": "77336ff5-9586-4f56-94ae-60ecce864c8a",
   "metadata": {},
   "source": [
    "brown.words is a list of words"
   ]
  },
  {
   "cell_type": "code",
   "execution_count": null,
   "id": "80c0ed99-d906-4c04-b191-20809bd41deb",
   "metadata": {},
   "outputs": [],
   "source": [
    "from nltk.corpus import brown"
   ]
  },
  {
   "cell_type": "code",
   "execution_count": null,
   "id": "8dfa49e2-196d-46c0-9296-7340bf4a1679",
   "metadata": {},
   "outputs": [],
   "source": [
    "brown.words()"
   ]
  },
  {
   "cell_type": "code",
   "execution_count": null,
   "id": "acd2575d-9976-4116-a812-bbc3ff09502d",
   "metadata": {},
   "outputs": [],
   "source": [
    "len(brown.words())"
   ]
  },
  {
   "cell_type": "markdown",
   "id": "85c5a672-0789-4638-89a9-12ed0480cf3a",
   "metadata": {},
   "source": [
    "Your job is to use these words to compute, using standard python, the entropy of the English language. Only consider 27 characters -- the alphabet plus space."
   ]
  },
  {
   "cell_type": "code",
   "execution_count": 18,
   "id": "18b98771-c53e-4be4-92a0-e43ba7730536",
   "metadata": {},
   "outputs": [],
   "source": [
    "# your code!"
   ]
  },
  {
   "cell_type": "code",
   "execution_count": null,
   "id": "4e41e0f3-9cd8-44e1-a4db-0d1a2f4d8244",
   "metadata": {},
   "outputs": [],
   "source": []
  }
 ],
 "metadata": {
  "kernelspec": {
   "display_name": "ML Python",
   "language": "python",
   "name": "myenv"
  },
  "language_info": {
   "codemirror_mode": {
    "name": "ipython",
    "version": 3
   },
   "file_extension": ".py",
   "mimetype": "text/x-python",
   "name": "python",
   "nbconvert_exporter": "python",
   "pygments_lexer": "ipython3",
   "version": "3.11.9"
  }
 },
 "nbformat": 4,
 "nbformat_minor": 5
}
