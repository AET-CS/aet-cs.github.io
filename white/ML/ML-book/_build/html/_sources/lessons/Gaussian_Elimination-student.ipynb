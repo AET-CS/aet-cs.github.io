{
 "cells": [
  {
   "cell_type": "markdown",
   "id": "dc08a78f-071c-423d-86ea-161a34af2428",
   "metadata": {},
   "source": [
    "# Gaussian Elimination"
   ]
  },
  {
   "cell_type": "markdown",
   "id": "f9dfe510-0678-49fa-a8ac-898ab100fe54",
   "metadata": {
    "editable": true,
    "slideshow": {
     "slide_type": ""
    },
    "tags": []
   },
   "source": [
    "Gaussian elimination is an algorithm for solving  a linear system by matrix operations. You will write code that performs Gaussian elimination on a solvable system and returns the solution. First, we work through an instructive example."
   ]
  },
  {
   "cell_type": "markdown",
   "id": "08f7995f-90fc-4ab1-ba53-265cccc832b4",
   "metadata": {
    "editable": true,
    "slideshow": {
     "slide_type": ""
    },
    "tags": []
   },
   "source": [
    "$$\n",
    "\\begin{aligned}\n",
    "x + 2y - z &= 1 \\\\\n",
    "2x - y + 3z &= 5 \\\\\n",
    "3x + y + 3z &= 10\n",
    "\\end{aligned}\n",
    "$$\n",
    "Now, we'll solve this system using reduced row echelon form (RREF).\n",
    "\n",
    "### Step 1: Write the Augmented Matrix\n",
    "\n",
    "The augmented matrix for this system is:\n",
    "$$\n",
    "\\begin{pmatrix}\n",
    "1 & 2 & -1 & \\vert & 1 \\\\\n",
    "2 & -1 & 3 & \\vert & 5 \\\\\n",
    "3 & 1 & 3 & \\vert & 10\n",
    "\\end{pmatrix}\n",
    "$$\n",
    "### Step 2: Apply Row Operations to Achieve RREF\n",
    "\n",
    "We'll perform row operations to transform the matrix into reduced row echelon form (RREF).\n",
    "\n",
    "1. **Make the pivot in the first row (top-left corner) a 1.**  \n",
    "   This is already 1, so no changes are needed."
   ]
  },
  {
   "cell_type": "markdown",
   "id": "bb9af8f3-6463-465d-a24a-87436d190072",
   "metadata": {
    "editable": true,
    "slideshow": {
     "slide_type": ""
    },
    "tags": []
   },
   "source": [
    "2. **Make the first column below the pivot zeros.**\n",
    "   - Add -2 times the first row to the second row:\n",
    "     $R_2 \\rightarrow R_2 - 2R_1$\n",
    "     \n",
    "     $$\n",
    "     \\begin{pmatrix}\n",
    "     1 & 2 & -1 & \\vert & 1 \\\\\n",
    "     0 & -5 & 5 & \\vert & 3 \\\\\n",
    "     3 & 1 & 3 & \\vert & 10\n",
    "     \\end{pmatrix}\n",
    "     $$\n",
    "     \n",
    "   - Add -3 times the first row to the third row:\n",
    "     $R_3 \\rightarrow R_3 - 3R_1$\n",
    "  \n",
    "     \n",
    "     $$\n",
    "     \\begin{pmatrix}\n",
    "     1 & 2 & -1 & \\vert & 1 \\\\\n",
    "     0 & -5 & 5 & \\vert & 3 \\\\\n",
    "     0 & -5 & 6 & \\vert & 7\n",
    "     \\end{pmatrix}\n",
    "     $$"
   ]
  },
  {
   "cell_type": "markdown",
   "id": "38cfcae6-631a-478e-b476-b5a420691bf3",
   "metadata": {
    "editable": true,
    "slideshow": {
     "slide_type": ""
    },
    "tags": []
   },
   "source": [
    "3. **Make the pivot in the second row a 1.**\n",
    "   - Divide the second row by -5:\n",
    "     $R_2 \\rightarrow \\frac{1}{-5}R_2$\n",
    "     $$\\begin{pmatrix}\n",
    "     1 & 2 & -1 & \\vert & 1 \\\\\n",
    "     0 & 1 & -1 & \\vert & -\\frac{3}{5} \\\\\n",
    "     0 & -5 & 6 & \\vert & 7\n",
    "     \\end{pmatrix}\n",
    "     $$\n",
    "\n",
    "4. **Make the second column below the pivot zeros.**\n",
    "   - Add 5 times the second row to the third row:\n",
    "     $R_3 \\rightarrow R_3 + 5R_2$\n",
    "     \n",
    "     $$\\begin{pmatrix}\n",
    "     1 & 2 & -1 & \\vert & 1 \\\\\n",
    "     0 & 1 & -1 & \\vert & -\\frac{3}{5} \\\\\n",
    "     0 & 0 & 1 & \\vert & 4\n",
    "     \\end{pmatrix}\n",
    "     $$\n",
    "     \n",
    "5. **Make the third column above the pivot zeros.**\n",
    "   - Add 1 times the third row to the second row:\n",
    "     $R_2 \\rightarrow R_2 + 1R_3$\n",
    "\n",
    "     $$\\begin{pmatrix}\n",
    "     1 & 2 & -1 & \\vert & 1 \\\\\n",
    "     0 & 1 & 0 & \\vert & \\frac{17}{5} \\\\\n",
    "     0 & 0 & 1 & \\vert & 4\n",
    "     \\end{pmatrix}\n",
    "     $$\n",
    "   - Add 1 times the third row to the first row:\n",
    "     $R_1 \\rightarrow R_1 + 1R_3$\n",
    "  \n",
    "     \n",
    "     $$\\begin{pmatrix}\n",
    "     1 & 2 & 0 & \\vert & 5 \\\\\n",
    "     0 & 1 & 0 & \\vert & \\frac{17}{5} \\\\\n",
    "     0 & 0 & 1 & \\vert & 4\n",
    "     \\end{pmatrix}\n",
    "     $$\n",
    "\n",
    "7. **Make the second column above the pivot zeros.**\n",
    "   - Add -2 times the second row to the first row:\n",
    "     $R_1 \\rightarrow R_1 - 2R_2$\n",
    "     \n",
    "     $$\n",
    "     \\begin{pmatrix}\n",
    "     1 & 0 & 0 & \\vert & -\\frac{9}{5} \\\\\n",
    "     0 & 1 & 0 & \\vert & \\frac{17}{5} \\\\\n",
    "     0 & 0 & 1 & \\vert & 4\n",
    "     \\end{pmatrix}\n",
    "     $$"
   ]
  },
  {
   "cell_type": "markdown",
   "id": "85f4fb40-124c-4a85-859f-c5a04bff51de",
   "metadata": {
    "editable": true,
    "slideshow": {
     "slide_type": ""
    },
    "tags": []
   },
   "source": [
    "### Step 3: Extract the solution\n",
    "\n",
    "The system has a unique solution, given by the final column.\n",
    "\n",
    "$$\n",
    "x = -\\frac95, \\quad y = -\\frac{17}{5}, \\quad z = 4\n",
    "$$\n"
   ]
  },
  {
   "cell_type": "markdown",
   "id": "70931667-9b14-461b-8bb6-649b8b45ea67",
   "metadata": {
    "editable": true,
    "slideshow": {
     "slide_type": ""
    },
    "tags": []
   },
   "source": [
    "## Coding"
   ]
  },
  {
   "cell_type": "markdown",
   "id": "4dcc2e84-8b0f-4ce3-94bc-cb7ba364058d",
   "metadata": {
    "editable": true,
    "slideshow": {
     "slide_type": ""
    },
    "tags": []
   },
   "source": [
    "Write a method `system_solve(A,b)` that solves the linear system **Ax = b** using Gaussian elimination. You may assume the solution exists and is unique. **A** should be an $n \\times n$ coefficient matrix and **b** is an $n \\times 1$ column vector. Some example input is given for you."
   ]
  },
  {
   "cell_type": "code",
   "execution_count": null,
   "id": "edae9562-9d24-4db5-bf96-ca0b8e64fe1c",
   "metadata": {
    "editable": true,
    "slideshow": {
     "slide_type": ""
    },
    "tags": []
   },
   "outputs": [],
   "source": [
    "import numpy as np\n",
    "import matplotlib.pyplot as plt\n",
    "plt.rcParams['figure.dpi'] = 300 ## for high-dpi displays. edit as needed"
   ]
  },
  {
   "cell_type": "code",
   "execution_count": null,
   "id": "ef732287-4ac1-4ec7-9e88-0d2abcb72d83",
   "metadata": {
    "editable": true,
    "slideshow": {
     "slide_type": ""
    },
    "tags": []
   },
   "outputs": [],
   "source": [
    "A = np.array([[1,2,-1],[2,-1,3],[3,1,3]], np.float64)\n",
    "b = np.array([[1,3,10]], np.float64).T\n",
    "\n",
    "## The following line creates the augmented matrix $(A | b)$. You should use this in your method\n",
    "AA= np.hstack([A,b])"
   ]
  },
  {
   "cell_type": "code",
   "execution_count": null,
   "id": "ce039a78-4dc1-4e70-bceb-b483d37ac8c4",
   "metadata": {
    "editable": true,
    "slideshow": {
     "slide_type": ""
    },
    "tags": [
     "solution"
    ]
   },
   "outputs": [],
   "source": [
    "## Your code goes here. Insert cells as needed."
   ]
  },
  {
   "cell_type": "markdown",
   "id": "16289f81-df10-4e2f-bf3d-f9acc7b4ab44",
   "metadata": {
    "editable": true,
    "slideshow": {
     "slide_type": ""
    },
    "tags": []
   },
   "source": [
    "The following cell will check your code on 10 random 5x5 matrices"
   ]
  },
  {
   "cell_type": "code",
   "execution_count": null,
   "id": "73e9050b-e39a-4fe5-aae6-1f76c68d7d8b",
   "metadata": {
    "editable": true,
    "scrolled": true,
    "slideshow": {
     "slide_type": ""
    },
    "tags": []
   },
   "outputs": [],
   "source": [
    "for i in range(10):\n",
    "    A = np.random.rand(5,5)*10\n",
    "    x = np.random.rand(5,1)*10\n",
    "    b = A@x\n",
    "    assert((np.abs(system_solve(A,b)-x)<1e-10).all())"
   ]
  },
  {
   "cell_type": "markdown",
   "id": "61537411-c442-4525-8b84-dd7bef55ac80",
   "metadata": {
    "editable": true,
    "slideshow": {
     "slide_type": ""
    },
    "tags": []
   },
   "source": [
    "## Measuring Error"
   ]
  },
  {
   "cell_type": "markdown",
   "id": "f8db6f6a-c5a2-418a-94e1-d0e3992f30e1",
   "metadata": {
    "editable": true,
    "slideshow": {
     "slide_type": ""
    },
    "tags": []
   },
   "source": [
    "The Gaussian Elimination algorithm has an error that increases with the size of the input matrix. In this section you will approximate the rate at which that error grows. Assume the error can be modeled by a polynomial $$ err(N) \\sim N^k $$\n",
    "\n",
    "where $N$ is the number of unknowns in the linear system and $k$ is a constant to be determined. It should be noted that in general the error term depends on the relative sizes of the elements in the coefficient matrix. We are choosing them to be random from $[0,1]$ so they will usually behave reasonably the same and so the problem is simplified in our case."
   ]
  },
  {
   "cell_type": "markdown",
   "id": "1810d445-e71d-4549-8d7a-6e743791073d",
   "metadata": {
    "editable": true,
    "slideshow": {
     "slide_type": ""
    },
    "tags": []
   },
   "source": [
    "### Approach"
   ]
  },
  {
   "cell_type": "markdown",
   "id": "c308f800-6c64-40ca-ab10-7c7626283746",
   "metadata": {
    "editable": true,
    "slideshow": {
     "slide_type": ""
    },
    "tags": []
   },
   "source": [
    "You will calculate the error in your linear system solver on several systems up to size $N=1000$. For each size $N$ you will solve 10 random systems and average the error $e(N)$ over the 25 runs. You will then find a polynomial fit for the dataset $N$ vs. $e(N)$."
   ]
  },
  {
   "cell_type": "markdown",
   "id": "e9abb363-ecc5-4676-9f26-92485de4d49e",
   "metadata": {
    "editable": true,
    "slideshow": {
     "slide_type": ""
    },
    "tags": []
   },
   "source": [
    "Write a method that takes as parameters the matrix size $N$ and the number of repetitions to compute. Create two random uniform matrices: $A$ and $x$ (uniformly random over $[0,1]$, by using `np.random.rand`. Compute $b = Ax$. Use your linear solver to find $\\tilde{x}$ given $A,b$ and determine the length of the error vector $x - \\tilde{x}$. Do this for each repetition and return the *median* error (length of the error vector). We are using the **median** instead of the mean because the mean is too sensitive to outliers and this investigation is rife with outliers!"
   ]
  },
  {
   "cell_type": "code",
   "execution_count": null,
   "id": "e070badd-f870-4b6e-a515-2dcead602446",
   "metadata": {
    "editable": true,
    "slideshow": {
     "slide_type": ""
    },
    "tags": [
     "solution"
    ]
   },
   "outputs": [],
   "source": [
    "## Your code goes here. Insert cells as needed."
   ]
  },
  {
   "cell_type": "markdown",
   "id": "35a0d5c1-8cca-4f61-8f92-d4c560f4b6bf",
   "metadata": {
    "editable": true,
    "slideshow": {
     "slide_type": ""
    },
    "tags": []
   },
   "source": [
    "Now collect data on various values of $N$ up to 1000. Be judicious: this problem takes a while to solve for large matrices. You should end up with a vector $X$ that contains matrix sizes ($N$) up to 1000 and $Y$ that contains the average error $e(N)$."
   ]
  },
  {
   "cell_type": "code",
   "execution_count": null,
   "id": "30df42a4-5c5c-49f0-894f-da2babbe1e64",
   "metadata": {
    "editable": true,
    "slideshow": {
     "slide_type": ""
    },
    "tags": [
     "solution"
    ]
   },
   "outputs": [],
   "source": [
    "## Your code goes here. Insert cells as needed."
   ]
  },
  {
   "cell_type": "markdown",
   "id": "b3facc4b-1ea9-4d0f-973e-0c99818949ae",
   "metadata": {
    "editable": true,
    "slideshow": {
     "slide_type": ""
    },
    "tags": []
   },
   "source": [
    "Now create a scatter plot of $N$ vs $e(N)$. An example plot is shown here\n",
    "![scatterplot](./error-scatterplot.png)."
   ]
  },
  {
   "cell_type": "code",
   "execution_count": null,
   "id": "46319215-0c87-4058-bf38-6d1bc79243bb",
   "metadata": {
    "editable": true,
    "slideshow": {
     "slide_type": ""
    },
    "tags": [
     "solution"
    ]
   },
   "outputs": [],
   "source": [
    "## Your code goes here. Insert cells as needed."
   ]
  },
  {
   "cell_type": "markdown",
   "id": "b7a1b70d-3c70-45a8-8d5b-3eca0ec4001d",
   "metadata": {
    "editable": true,
    "slideshow": {
     "slide_type": ""
    },
    "tags": []
   },
   "source": [
    "## Regression"
   ]
  },
  {
   "cell_type": "markdown",
   "id": "bdfc91e8-7e2c-4337-84a2-d0ee21e74916",
   "metadata": {
    "editable": true,
    "slideshow": {
     "slide_type": ""
    },
    "tags": []
   },
   "source": [
    "You have written a regression routine before, but we will use some built into numpy. Here's sample code for doing a quadratic regression\n",
    "```python\n",
    "x = # x data as numpy array or python list\n",
    "y = # y data as numpy array or python list\n",
    "coefficients = np.polyfit(x, y, 2)  # 2 indicates quadratic\n",
    "a2, a1, a0 = coefficients # in decreasing order of powers\n",
    "quadratic_model = np.poly1d(coefficients) # make a2x^2 + a1x + a0\n",
    "y_fit = quadratic_model(x) # now y_fit is a vector\n",
    "```\n",
    "\n",
    "First you should compute a quadratic regression and superimpose the resulting parabola on a scatterplot of the data"
   ]
  },
  {
   "cell_type": "code",
   "execution_count": null,
   "id": "9c9d82d9-56c8-4ef5-99d7-faa2faf43be5",
   "metadata": {
    "editable": true,
    "slideshow": {
     "slide_type": ""
    },
    "tags": [
     "solution"
    ]
   },
   "outputs": [],
   "source": [
    "## Your code goes here. Insert cells as needed."
   ]
  },
  {
   "cell_type": "markdown",
   "id": "84191340-53ff-4f5d-bbfe-5a2de0c7b5ad",
   "metadata": {
    "editable": true,
    "slideshow": {
     "slide_type": ""
    },
    "tags": []
   },
   "source": [
    "### A regression problem and a solution"
   ]
  },
  {
   "cell_type": "markdown",
   "id": "57b35e8e-fdbe-4ca9-8eed-441f05f9585f",
   "metadata": {
    "editable": true,
    "slideshow": {
     "slide_type": ""
    },
    "tags": []
   },
   "source": [
    "Depending on your data the parabola you've plotted may or may not look like a decent fit. But it has one glaring problem. By finding a quadratic fit we are assuming $O(N^2)$ growth of our error term. But it could be $O(n^3)$ or $O(n^{2.3})$. What we want to find is the best **exponent** $O(n^k)$ for polynomial growth. This is the perfect time to use a log-log plot. If you transform your data $x_{log} = \\log(x)$ and $y_{log} = \\log(y)$ and perform a linear fit, the slope of the best fit line tells you the order of growth $k$ (derivation of this is discussed in class.)"
   ]
  },
  {
   "cell_type": "markdown",
   "id": "37a5ed74-05bc-4d94-a4a1-2bafcd98eaaa",
   "metadata": {
    "editable": true,
    "slideshow": {
     "slide_type": ""
    },
    "tags": []
   },
   "source": [
    "You should find the best log-log plot slope. Then make a scatter plot of the values `x_log` and `y_log` along with the best fit line. Above the graph print the coefficients of the plot and state your best estimate of the growth rate $err(N) \\sim N^k$"
   ]
  },
  {
   "cell_type": "code",
   "execution_count": null,
   "id": "c20faf31-ab55-4a53-9b93-aafedbbccdf1",
   "metadata": {
    "editable": true,
    "slideshow": {
     "slide_type": ""
    },
    "tags": [
     "solution"
    ]
   },
   "outputs": [],
   "source": [
    "## Your code goes here. Insert cells as needed."
   ]
  },
  {
   "cell_type": "markdown",
   "id": "d8240403-6214-47c0-b281-cb555b024b96",
   "metadata": {
    "editable": true,
    "slideshow": {
     "slide_type": ""
    },
    "tags": []
   },
   "source": [
    "Finally, find the correlation coefficient for `x_log` and `y_log`. What amount of the variance is explained by your linear model? (There are several built in methods than can find this value)"
   ]
  },
  {
   "cell_type": "code",
   "execution_count": null,
   "id": "8e626fb6-36d8-4bf6-9bfd-92aa5b044917",
   "metadata": {
    "editable": true,
    "slideshow": {
     "slide_type": ""
    },
    "tags": [
     "solution"
    ]
   },
   "outputs": [],
   "source": [
    "## Your code goes here. Insert cells as needed."
   ]
  }
 ],
 "metadata": {
  "kernelspec": {
   "display_name": "Python 3 (ipykernel)",
   "language": "python",
   "name": "python3"
  },
  "language_info": {
   "codemirror_mode": {
    "name": "ipython",
    "version": 3
   },
   "file_extension": ".py",
   "mimetype": "text/x-python",
   "name": "python",
   "nbconvert_exporter": "python",
   "pygments_lexer": "ipython3",
   "version": "3.10.12"
  }
 },
 "nbformat": 4,
 "nbformat_minor": 5
}
