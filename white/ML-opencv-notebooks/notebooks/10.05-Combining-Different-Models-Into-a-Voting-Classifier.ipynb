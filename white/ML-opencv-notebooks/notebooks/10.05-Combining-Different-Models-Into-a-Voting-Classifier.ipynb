{
    "cells": [
        {
            "cell_type": "markdown",
            "metadata": {
                "collapsed": true,
                "jupyter": {
                    "outputs_hidden": true
                }
            },
            "source": [
                "# Combining Different Models Into a Voting Classifier\n",
                "\n",
                "So far, we saw how to combine different instances of the same classifier or regressor into an\n",
                "ensemble. In this chapter, we are going to take this idea a step further and combine\n",
                "conceptually different classifiers into what is known as a **voting classifier**.\n",
                "\n",
                "The idea behind voting classifiers is that the individual learners in the ensemble don't\n",
                "necessarily need to be of the same type. After all, no matter how the individual classifiers\n",
                "arrived at their prediction, in the end, we are going to apply a decision rule that integrates\n",
                "all the votes of the individual classifiers. This is also known as a **voting scheme**.\n",
                "\n",
                "Two different voting schemes are common among voting classifiers:\n",
                "- In **hard voting** (also known as **majority voting**), every individual classifier votes for a class, and the majority wins. In statistical terms, the predicted target label of the ensemble is the mode of the distribution of individually predicted labels.\n",
                "- In **soft voting**, every individual classifier provides a probability value that a specific data point belongs to a particular target class. The predictions are weighted by the classifier's importance and summed up. Then the target label with the greatest sum of weighted probabilities wins the vote.\n",
                "\n",
                "You can find an example of how these voting schemes work in practice in the book."
            ]
        },
        {
            "cell_type": "markdown",
            "metadata": {},
            "source": [
                "## Implementing a Voting Classifier\n",
                "\n",
                "Let's look at a simple example of a voting classifier that combines three different algorithms:\n",
                "- A logistic regression classifier from [Chapter 3](03.00-First-Steps-in-Supervised-Learning.ipynb), *First Steps in Supervised Learning*\n",
                "- A Gaussian naive Bayes classifier from [Chapter 7](07.00-Implementing-a-Spam-Filter-with-Bayesian-Learning.ipynb), *Implementing a Spam Filter with Bayesian Learning*\n",
                "- A random forest classifier from this chapter"
            ]
        },
        {
            "cell_type": "markdown",
            "metadata": {},
            "source": [
                "We can combine these three algorithms into a voting classifier and apply it to the breast\n",
                "cancer dataset with the following steps.\n",
                "\n",
                "Load the dataset, and split it into training and test sets:"
            ]
        },
        {
            "cell_type": "code",
            "execution_count": 1,
            "metadata": {
                "collapsed": true,
                "execution": {
                    "iopub.execute_input": "2024-08-11T01:38:04.639872Z",
                    "iopub.status.busy": "2024-08-11T01:38:04.639407Z",
                    "iopub.status.idle": "2024-08-11T01:38:05.178124Z",
                    "shell.execute_reply": "2024-08-11T01:38:05.177636Z"
                },
                "jupyter": {
                    "outputs_hidden": true
                }
            },
            "outputs": [],
            "source": [
                "from sklearn.datasets import load_breast_cancer\n",
                "iris = load_breast_cancer()\n",
                "X = iris.data\n",
                "y = iris.target"
            ]
        },
        {
            "cell_type": "code",
            "execution_count": 2,
            "metadata": {
                "execution": {
                    "iopub.execute_input": "2024-08-11T01:38:05.180741Z",
                    "iopub.status.busy": "2024-08-11T01:38:05.180498Z",
                    "iopub.status.idle": "2024-08-11T01:38:05.202958Z",
                    "shell.execute_reply": "2024-08-11T01:38:05.202393Z"
                }
            },
            "outputs": [],
            "source": [
                "from sklearn.model_selection import train_test_split\n",
                "X_train, X_test, y_train, y_test = train_test_split(\n",
                "    X, y, random_state=13\n",
                ")"
            ]
        },
        {
            "cell_type": "markdown",
            "metadata": {},
            "source": [
                "Instantiate the individual classifiers:"
            ]
        },
        {
            "cell_type": "code",
            "execution_count": 3,
            "metadata": {
                "collapsed": true,
                "execution": {
                    "iopub.execute_input": "2024-08-11T01:38:05.205582Z",
                    "iopub.status.busy": "2024-08-11T01:38:05.205310Z",
                    "iopub.status.idle": "2024-08-11T01:38:05.227665Z",
                    "shell.execute_reply": "2024-08-11T01:38:05.227182Z"
                },
                "jupyter": {
                    "outputs_hidden": true
                }
            },
            "outputs": [],
            "source": [
                "from sklearn.linear_model import LogisticRegression\n",
                "model1 = LogisticRegression(random_state=13)"
            ]
        },
        {
            "cell_type": "code",
            "execution_count": 4,
            "metadata": {
                "collapsed": true,
                "execution": {
                    "iopub.execute_input": "2024-08-11T01:38:05.230195Z",
                    "iopub.status.busy": "2024-08-11T01:38:05.229937Z",
                    "iopub.status.idle": "2024-08-11T01:38:05.234978Z",
                    "shell.execute_reply": "2024-08-11T01:38:05.234493Z"
                },
                "jupyter": {
                    "outputs_hidden": true
                }
            },
            "outputs": [],
            "source": [
                "from sklearn.naive_bayes import GaussianNB\n",
                "model2 = GaussianNB()"
            ]
        },
        {
            "cell_type": "code",
            "execution_count": 5,
            "metadata": {
                "collapsed": true,
                "execution": {
                    "iopub.execute_input": "2024-08-11T01:38:05.236932Z",
                    "iopub.status.busy": "2024-08-11T01:38:05.236777Z",
                    "iopub.status.idle": "2024-08-11T01:38:05.267937Z",
                    "shell.execute_reply": "2024-08-11T01:38:05.267454Z"
                },
                "jupyter": {
                    "outputs_hidden": true
                }
            },
            "outputs": [],
            "source": [
                "from sklearn.ensemble import RandomForestClassifier\n",
                "model3 = RandomForestClassifier(random_state=13)"
            ]
        },
        {
            "cell_type": "markdown",
            "metadata": {},
            "source": [
                "Assign the individual classifiers to the voting ensemble. Here, we need to pass a\n",
                "list of tuples (`estimators`), where every tuple consists of the name of the\n",
                "classifier (a string of our choosing) and the model object. The voting scheme can\n",
                "be either `voting='hard'` or `voting='soft'`:"
            ]
        },
        {
            "cell_type": "code",
            "execution_count": 6,
            "metadata": {
                "collapsed": true,
                "execution": {
                    "iopub.execute_input": "2024-08-11T01:38:05.270530Z",
                    "iopub.status.busy": "2024-08-11T01:38:05.270253Z",
                    "iopub.status.idle": "2024-08-11T01:38:05.273245Z",
                    "shell.execute_reply": "2024-08-11T01:38:05.272883Z"
                },
                "jupyter": {
                    "outputs_hidden": true
                }
            },
            "outputs": [],
            "source": [
                "from sklearn.ensemble import VotingClassifier\n",
                "vote = VotingClassifier(estimators=[('lr', model1),\n",
                "                                    ('gnb', model2),\n",
                "                                    ('rfc', model3)],\n",
                "                        voting='hard')"
            ]
        },
        {
            "cell_type": "markdown",
            "metadata": {},
            "source": [
                "Fit the ensemble to the training data and score it on the test data:"
            ]
        },
        {
            "cell_type": "code",
            "execution_count": 7,
            "metadata": {
                "execution": {
                    "iopub.execute_input": "2024-08-11T01:38:05.275167Z",
                    "iopub.status.busy": "2024-08-11T01:38:05.274983Z",
                    "iopub.status.idle": "2024-08-11T01:38:05.441365Z",
                    "shell.execute_reply": "2024-08-11T01:38:05.440948Z"
                }
            },
            "outputs": [
                {
                    "name": "stderr",
                    "output_type": "stream",
                    "text": [
                        "/home/pewhite/github/aet/2024-2025/scratch/dev_env/env2/lib/python3.11/site-packages/sklearn/linear_model/_logistic.py:469: ConvergenceWarning: lbfgs failed to converge (status=1):\n",
                        "STOP: TOTAL NO. of ITERATIONS REACHED LIMIT.\n",
                        "\n",
                        "Increase the number of iterations (max_iter) or scale the data as shown in:\n",
                        "    https://scikit-learn.org/stable/modules/preprocessing.html\n",
                        "Please also refer to the documentation for alternative solver options:\n",
                        "    https://scikit-learn.org/stable/modules/linear_model.html#logistic-regression\n",
                        "  n_iter_i = _check_optimize_result(\n"
                    ]
                },
                {
                    "data": {
                        "text/plain": [
                            "0.9440559440559441"
                        ]
                    },
                    "execution_count": 7,
                    "metadata": {},
                    "output_type": "execute_result"
                }
            ],
            "source": [
                "vote.fit(X_train, y_train)\n",
                "vote.score(X_test, y_test)"
            ]
        },
        {
            "cell_type": "markdown",
            "metadata": {},
            "source": [
                "In order to convince us that 95.1% is a great accuracy score, we can compare the ensemble's\n",
                "performance to the theoretical performance of each individual classifier. We do this by\n",
                "fitting the individual classifiers to the data. Then we will see that the logistic regression\n",
                "model achieves 94.4% accuracy on its own:"
            ]
        },
        {
            "cell_type": "code",
            "execution_count": 8,
            "metadata": {
                "execution": {
                    "iopub.execute_input": "2024-08-11T01:38:05.471702Z",
                    "iopub.status.busy": "2024-08-11T01:38:05.471410Z",
                    "iopub.status.idle": "2024-08-11T01:38:05.486459Z",
                    "shell.execute_reply": "2024-08-11T01:38:05.486085Z"
                }
            },
            "outputs": [
                {
                    "name": "stderr",
                    "output_type": "stream",
                    "text": [
                        "/home/pewhite/github/aet/2024-2025/scratch/dev_env/env2/lib/python3.11/site-packages/sklearn/linear_model/_logistic.py:469: ConvergenceWarning: lbfgs failed to converge (status=1):\n",
                        "STOP: TOTAL NO. of ITERATIONS REACHED LIMIT.\n",
                        "\n",
                        "Increase the number of iterations (max_iter) or scale the data as shown in:\n",
                        "    https://scikit-learn.org/stable/modules/preprocessing.html\n",
                        "Please also refer to the documentation for alternative solver options:\n",
                        "    https://scikit-learn.org/stable/modules/linear_model.html#logistic-regression\n",
                        "  n_iter_i = _check_optimize_result(\n"
                    ]
                },
                {
                    "data": {
                        "text/plain": [
                            "0.9370629370629371"
                        ]
                    },
                    "execution_count": 8,
                    "metadata": {},
                    "output_type": "execute_result"
                }
            ],
            "source": [
                "model1.fit(X_train, y_train)\n",
                "model1.score(X_test, y_test)"
            ]
        },
        {
            "cell_type": "markdown",
            "metadata": {},
            "source": [
                "Similarly, the naive Bayes classifier achieves 93.0% accuracy:"
            ]
        },
        {
            "cell_type": "code",
            "execution_count": 9,
            "metadata": {
                "execution": {
                    "iopub.execute_input": "2024-08-11T01:38:05.488423Z",
                    "iopub.status.busy": "2024-08-11T01:38:05.488240Z",
                    "iopub.status.idle": "2024-08-11T01:38:05.493657Z",
                    "shell.execute_reply": "2024-08-11T01:38:05.493287Z"
                }
            },
            "outputs": [
                {
                    "data": {
                        "text/plain": [
                            "0.9300699300699301"
                        ]
                    },
                    "execution_count": 9,
                    "metadata": {},
                    "output_type": "execute_result"
                }
            ],
            "source": [
                "model2.fit(X_train, y_train)\n",
                "model2.score(X_test, y_test)"
            ]
        },
        {
            "cell_type": "markdown",
            "metadata": {},
            "source": [
                "Last but not least, the random forest classifier also achieved 94.4% accuracy:"
            ]
        },
        {
            "cell_type": "code",
            "execution_count": 10,
            "metadata": {
                "execution": {
                    "iopub.execute_input": "2024-08-11T01:38:05.495475Z",
                    "iopub.status.busy": "2024-08-11T01:38:05.495334Z",
                    "iopub.status.idle": "2024-08-11T01:38:05.637759Z",
                    "shell.execute_reply": "2024-08-11T01:38:05.637110Z"
                }
            },
            "outputs": [
                {
                    "data": {
                        "text/plain": [
                            "0.9300699300699301"
                        ]
                    },
                    "execution_count": 10,
                    "metadata": {},
                    "output_type": "execute_result"
                }
            ],
            "source": [
                "model3.fit(X_train, y_train)\n",
                "model3.score(X_test, y_test)"
            ]
        }
    ],
    "metadata": {
        "kernelspec": {
            "display_name": "Python 3 (ipykernel)",
            "language": "python",
            "name": "python3"
        },
        "language_info": {
            "codemirror_mode": {
                "name": "ipython",
                "version": 3
            },
            "file_extension": ".py",
            "mimetype": "text/x-python",
            "name": "python",
            "nbconvert_exporter": "python",
            "pygments_lexer": "ipython3",
            "version": "3.11.9"
        }
    },
    "nbformat": 4,
    "nbformat_minor": 4
}