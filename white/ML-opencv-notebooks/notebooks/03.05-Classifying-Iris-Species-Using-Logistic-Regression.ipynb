{
    "cells": [
        {
            "cell_type": "markdown",
            "metadata": {},
            "source": [
                "# Classifying Iris Species Using Logistic Regression\n",
                "\n",
                "Another famous dataset in the world of machine learning is called the **Iris dataset**.\n",
                "\n",
                "The Iris\n",
                "dataset contains measurements of 150 iris flowers from three different species: setosa,\n",
                "versicolor, and viriginica. These measurements include the length and width of the petals,\n",
                "and the length and width of the sepals, all measured in centimeters.\n",
                "\n",
                "Our goal is to build a machine learning model that can learn the measurements of these iris\n",
                "flowers, whose species are known, so that we can predict the species for a new iris flower."
            ]
        },
        {
            "cell_type": "markdown",
            "metadata": {},
            "source": [
                "## Understanding logistic regression\n",
                "\n",
                "Despite its name, **logistic regression** can actually be used as a model for classification. It\n",
                "uses a **logistic function** (or **sigmoid**) to convert any real-valued input $x$ into a predicted\n",
                "output value $\u0177$ that takes values between 0 and 1. Rounding $\u0177$ to the nearest integer effectively classifies the input as belonging either to class\n",
                "0 or 1.\n",
                "\n",
                "Of course, most often, our problems have more than one input or feature value, x. For\n",
                "example, the Iris dataset provides a total of four features.\n",
                "To find out how logistic regression works in these cases, please refer to the book."
            ]
        },
        {
            "cell_type": "markdown",
            "metadata": {},
            "source": [
                "## Logistic Regression in OpenCV\n",
                "\n",
                "### Loading the dataset\n",
                "The Iris dataset is included with scikit-learn. We first load all the necessary modules, as we\n",
                "did in our earlier examples:"
            ]
        },
        {
            "cell_type": "code",
            "execution_count": 1,
            "metadata": {
                "execution": {
                    "iopub.execute_input": "2024-08-11T01:35:11.634258Z",
                    "iopub.status.busy": "2024-08-11T01:35:11.633828Z",
                    "iopub.status.idle": "2024-08-11T01:35:12.621030Z",
                    "shell.execute_reply": "2024-08-11T01:35:12.620468Z"
                }
            },
            "outputs": [],
            "source": [
                "import numpy as np\n",
                "import cv2\n",
                "\n",
                "from sklearn import datasets\n",
                "from sklearn import model_selection\n",
                "from sklearn import metrics\n",
                "\n",
                "import matplotlib.pyplot as plt\n",
                "%matplotlib inline"
            ]
        },
        {
            "cell_type": "code",
            "execution_count": 2,
            "metadata": {
                "execution": {
                    "iopub.execute_input": "2024-08-11T01:35:12.624005Z",
                    "iopub.status.busy": "2024-08-11T01:35:12.623756Z",
                    "iopub.status.idle": "2024-08-11T01:35:12.626976Z",
                    "shell.execute_reply": "2024-08-11T01:35:12.626470Z"
                }
            },
            "outputs": [],
            "source": [
                "plt.style.use('ggplot')"
            ]
        },
        {
            "cell_type": "markdown",
            "metadata": {},
            "source": [
                "Then, loading the dataset is a one-liner:"
            ]
        },
        {
            "cell_type": "code",
            "execution_count": 3,
            "metadata": {
                "execution": {
                    "iopub.execute_input": "2024-08-11T01:35:12.629772Z",
                    "iopub.status.busy": "2024-08-11T01:35:12.629546Z",
                    "iopub.status.idle": "2024-08-11T01:35:12.634230Z",
                    "shell.execute_reply": "2024-08-11T01:35:12.633741Z"
                }
            },
            "outputs": [],
            "source": [
                "iris = datasets.load_iris()"
            ]
        },
        {
            "cell_type": "markdown",
            "metadata": {},
            "source": [
                "This function returns a dictionary we call `iris`, which contains a bunch of different fields:\n",
                "- `DESCR`: Get a description of the data\n",
                "- `data`: The actual data, <`num_samples` x `num_features`>\n",
                "- `feature_names`: The names of the features\n",
                "- `target`: The class labels, <`num_samples` x 1>\n",
                "- `target_names`: The names of the class labels"
            ]
        },
        {
            "cell_type": "code",
            "execution_count": 4,
            "metadata": {
                "execution": {
                    "iopub.execute_input": "2024-08-11T01:35:12.637385Z",
                    "iopub.status.busy": "2024-08-11T01:35:12.637134Z",
                    "iopub.status.idle": "2024-08-11T01:35:12.641554Z",
                    "shell.execute_reply": "2024-08-11T01:35:12.641083Z"
                }
            },
            "outputs": [
                {
                    "data": {
                        "text/plain": [
                            "['DESCR',\n",
                            " 'data',\n",
                            " 'data_module',\n",
                            " 'feature_names',\n",
                            " 'filename',\n",
                            " 'frame',\n",
                            " 'target',\n",
                            " 'target_names']"
                        ]
                    },
                    "execution_count": 4,
                    "metadata": {},
                    "output_type": "execute_result"
                }
            ],
            "source": [
                "dir(iris)"
            ]
        },
        {
            "cell_type": "markdown",
            "metadata": {},
            "source": [
                "Here, all the data points are contained in `'data'`. There are 150 data points, each of which\n",
                "have four feature values:"
            ]
        },
        {
            "cell_type": "code",
            "execution_count": 5,
            "metadata": {
                "execution": {
                    "iopub.execute_input": "2024-08-11T01:35:12.698749Z",
                    "iopub.status.busy": "2024-08-11T01:35:12.698317Z",
                    "iopub.status.idle": "2024-08-11T01:35:12.704264Z",
                    "shell.execute_reply": "2024-08-11T01:35:12.703554Z"
                }
            },
            "outputs": [
                {
                    "data": {
                        "text/plain": [
                            "(150, 4)"
                        ]
                    },
                    "execution_count": 5,
                    "metadata": {},
                    "output_type": "execute_result"
                }
            ],
            "source": [
                "iris.data.shape"
            ]
        },
        {
            "cell_type": "markdown",
            "metadata": {},
            "source": [
                "These four features correspond to the sepal and petal dimensions mentioned earlier:"
            ]
        },
        {
            "cell_type": "code",
            "execution_count": 6,
            "metadata": {
                "execution": {
                    "iopub.execute_input": "2024-08-11T01:35:12.707602Z",
                    "iopub.status.busy": "2024-08-11T01:35:12.706956Z",
                    "iopub.status.idle": "2024-08-11T01:35:12.712008Z",
                    "shell.execute_reply": "2024-08-11T01:35:12.711453Z"
                }
            },
            "outputs": [
                {
                    "data": {
                        "text/plain": [
                            "['sepal length (cm)',\n",
                            " 'sepal width (cm)',\n",
                            " 'petal length (cm)',\n",
                            " 'petal width (cm)']"
                        ]
                    },
                    "execution_count": 6,
                    "metadata": {},
                    "output_type": "execute_result"
                }
            ],
            "source": [
                "iris.feature_names"
            ]
        },
        {
            "cell_type": "markdown",
            "metadata": {},
            "source": [
                "For every data point, we have a class label stored in `target`:"
            ]
        },
        {
            "cell_type": "code",
            "execution_count": 7,
            "metadata": {
                "execution": {
                    "iopub.execute_input": "2024-08-11T01:35:12.715339Z",
                    "iopub.status.busy": "2024-08-11T01:35:12.714915Z",
                    "iopub.status.idle": "2024-08-11T01:35:12.719218Z",
                    "shell.execute_reply": "2024-08-11T01:35:12.718618Z"
                }
            },
            "outputs": [
                {
                    "data": {
                        "text/plain": [
                            "(150,)"
                        ]
                    },
                    "execution_count": 7,
                    "metadata": {},
                    "output_type": "execute_result"
                }
            ],
            "source": [
                "iris.target.shape"
            ]
        },
        {
            "cell_type": "markdown",
            "metadata": {},
            "source": [
                "We can also inspect the class labels, and find that there is a total of three classes:"
            ]
        },
        {
            "cell_type": "code",
            "execution_count": 8,
            "metadata": {
                "execution": {
                    "iopub.execute_input": "2024-08-11T01:35:12.721755Z",
                    "iopub.status.busy": "2024-08-11T01:35:12.721449Z",
                    "iopub.status.idle": "2024-08-11T01:35:12.725764Z",
                    "shell.execute_reply": "2024-08-11T01:35:12.725370Z"
                }
            },
            "outputs": [
                {
                    "data": {
                        "text/plain": [
                            "array([0, 1, 2])"
                        ]
                    },
                    "execution_count": 8,
                    "metadata": {},
                    "output_type": "execute_result"
                }
            ],
            "source": [
                "np.unique(iris.target)"
            ]
        },
        {
            "cell_type": "markdown",
            "metadata": {},
            "source": [
                "### Making it a binary classification problem\n",
                "\n",
                "For the sake of simplicity, we want to focus on a **binary classification problem** for now,\n",
                "where we only have two classes. The easiest way to do this is to discard all data points\n",
                "belonging to a certain class, such as class label 2, by selecting all the rows that *do not* belong\n",
                "to class 2:"
            ]
        },
        {
            "cell_type": "code",
            "execution_count": 9,
            "metadata": {
                "execution": {
                    "iopub.execute_input": "2024-08-11T01:35:12.727759Z",
                    "iopub.status.busy": "2024-08-11T01:35:12.727455Z",
                    "iopub.status.idle": "2024-08-11T01:35:12.730465Z",
                    "shell.execute_reply": "2024-08-11T01:35:12.729920Z"
                }
            },
            "outputs": [],
            "source": [
                "idx = iris.target != 2\n",
                "data = iris.data[idx].astype(np.float32)\n",
                "target = iris.target[idx].astype(np.float32)"
            ]
        },
        {
            "cell_type": "markdown",
            "metadata": {},
            "source": [
                "### Inspecting the data\n",
                "\n",
                "Before you get started with setting up a model, it is always a good idea to have a look at the data. We did this above for the town map example, so let's continue our streak. Using Matplotlib, we create a **scatter plot** where the color of each data point corresponds to the class label.\n",
                "\n",
                "To make plotting easier, we limit ourselves to the first two features\n",
                "(`iris.feature_names[0]` being the sepal length and `iris.feature_names[1]` being\n",
                "the sepal width). We can see a nice separation of classes in the following figure:"
            ]
        },
        {
            "cell_type": "code",
            "execution_count": 10,
            "metadata": {
                "execution": {
                    "iopub.execute_input": "2024-08-11T01:35:12.732421Z",
                    "iopub.status.busy": "2024-08-11T01:35:12.732220Z",
                    "iopub.status.idle": "2024-08-11T01:35:12.866076Z",
                    "shell.execute_reply": "2024-08-11T01:35:12.865495Z"
                }
            },
            "outputs": [
                {
                    "data": {
                        "image/png": "[encoded data removed]",
                        "text/plain": [
                            "<Figure size 1000x600 with 1 Axes>"
                        ]
                    },
                    "metadata": {},
                    "output_type": "display_data"
                }
            ],
            "source": [
                "plt.figure(figsize=(10, 6))\n",
                "plt.scatter(data[:, 0], data[:, 1], c=target, cmap=plt.cm.Paired, s=100)\n",
                "plt.xlabel(iris.feature_names[0])\n",
                "plt.ylabel(iris.feature_names[1]);"
            ]
        },
        {
            "cell_type": "markdown",
            "metadata": {},
            "source": [
                "### Splitting the data into training and test sets\n",
                "\n",
                "We learned in the previous chapter that it is essential to keep training and test data\n",
                "separate. We can easily split the data using one of scikit-learn's many helper functions:"
            ]
        },
        {
            "cell_type": "code",
            "execution_count": 11,
            "metadata": {
                "execution": {
                    "iopub.execute_input": "2024-08-11T01:35:12.868666Z",
                    "iopub.status.busy": "2024-08-11T01:35:12.868432Z",
                    "iopub.status.idle": "2024-08-11T01:35:12.871757Z",
                    "shell.execute_reply": "2024-08-11T01:35:12.871354Z"
                }
            },
            "outputs": [],
            "source": [
                "X_train, X_test, y_train, y_test = model_selection.train_test_split(\n",
                "    data, target, test_size=0.1, random_state=42\n",
                ")"
            ]
        },
        {
            "cell_type": "markdown",
            "metadata": {},
            "source": [
                "Here we want to split the data into 90 percent training data and 10 percent test data, which\n",
                "we specify with `test_size=0.1`. By inspecting the return arguments, we note that we\n",
                "ended up with exactly 90 training data points and 10 test data points:"
            ]
        },
        {
            "cell_type": "code",
            "execution_count": 12,
            "metadata": {
                "execution": {
                    "iopub.execute_input": "2024-08-11T01:35:12.874331Z",
                    "iopub.status.busy": "2024-08-11T01:35:12.874178Z",
                    "iopub.status.idle": "2024-08-11T01:35:12.877956Z",
                    "shell.execute_reply": "2024-08-11T01:35:12.877080Z"
                }
            },
            "outputs": [
                {
                    "data": {
                        "text/plain": [
                            "((90, 4), (90,))"
                        ]
                    },
                    "execution_count": 12,
                    "metadata": {},
                    "output_type": "execute_result"
                }
            ],
            "source": [
                "X_train.shape, y_train.shape"
            ]
        },
        {
            "cell_type": "code",
            "execution_count": 13,
            "metadata": {
                "execution": {
                    "iopub.execute_input": "2024-08-11T01:35:12.880491Z",
                    "iopub.status.busy": "2024-08-11T01:35:12.880271Z",
                    "iopub.status.idle": "2024-08-11T01:35:12.883491Z",
                    "shell.execute_reply": "2024-08-11T01:35:12.883134Z"
                }
            },
            "outputs": [
                {
                    "data": {
                        "text/plain": [
                            "((10, 4), (10,))"
                        ]
                    },
                    "execution_count": 13,
                    "metadata": {},
                    "output_type": "execute_result"
                }
            ],
            "source": [
                "X_test.shape, y_test.shape"
            ]
        },
        {
            "cell_type": "markdown",
            "metadata": {},
            "source": [
                "### Training the classifier\n",
                "\n",
                "Creating a logistic regression classifier involves pretty much the same steps as setting up $k$-NN:"
            ]
        },
        {
            "cell_type": "code",
            "execution_count": 14,
            "metadata": {
                "execution": {
                    "iopub.execute_input": "2024-08-11T01:35:12.886401Z",
                    "iopub.status.busy": "2024-08-11T01:35:12.886028Z",
                    "iopub.status.idle": "2024-08-11T01:35:12.888505Z",
                    "shell.execute_reply": "2024-08-11T01:35:12.888135Z"
                }
            },
            "outputs": [],
            "source": [
                "lr = cv2.ml.LogisticRegression_create()"
            ]
        },
        {
            "cell_type": "markdown",
            "metadata": {},
            "source": [
                "We then have to specify the desired training method. Here, we can choose\n",
                "`cv2.ml.LogisticRegression_BATCH` or `cv2.ml.LogisticRegression_MINI_BATCH`.\n",
                "For now, all we need to know is that we want to update the model after every data point,\n",
                "which can be achieved with the following code:"
            ]
        },
        {
            "cell_type": "code",
            "execution_count": 15,
            "metadata": {
                "execution": {
                    "iopub.execute_input": "2024-08-11T01:35:12.890855Z",
                    "iopub.status.busy": "2024-08-11T01:35:12.890659Z",
                    "iopub.status.idle": "2024-08-11T01:35:12.892981Z",
                    "shell.execute_reply": "2024-08-11T01:35:12.892625Z"
                }
            },
            "outputs": [],
            "source": [
                "lr.setTrainMethod(cv2.ml.LogisticRegression_MINI_BATCH)\n",
                "lr.setMiniBatchSize(1)"
            ]
        },
        {
            "cell_type": "markdown",
            "metadata": {},
            "source": [
                "We also want to specify the number of iterations the algorithm should run before it\n",
                "terminates:"
            ]
        },
        {
            "cell_type": "code",
            "execution_count": 16,
            "metadata": {
                "execution": {
                    "iopub.execute_input": "2024-08-11T01:35:12.895266Z",
                    "iopub.status.busy": "2024-08-11T01:35:12.895071Z",
                    "iopub.status.idle": "2024-08-11T01:35:12.897350Z",
                    "shell.execute_reply": "2024-08-11T01:35:12.896974Z"
                }
            },
            "outputs": [],
            "source": [
                "lr.setIterations(100)"
            ]
        },
        {
            "cell_type": "markdown",
            "metadata": {},
            "source": [
                "We can then call the `train` method of the object (in the exact same way as we did earlier),\n",
                "which will return `True` upon success:"
            ]
        },
        {
            "cell_type": "code",
            "execution_count": 17,
            "metadata": {
                "execution": {
                    "iopub.execute_input": "2024-08-11T01:35:12.899712Z",
                    "iopub.status.busy": "2024-08-11T01:35:12.899493Z",
                    "iopub.status.idle": "2024-08-11T01:35:12.927247Z",
                    "shell.execute_reply": "2024-08-11T01:35:12.926664Z"
                }
            },
            "outputs": [],
            "source": [
                "lr.train(X_train, cv2.ml.ROW_SAMPLE, y_train);"
            ]
        },
        {
            "cell_type": "markdown",
            "metadata": {},
            "source": [
                "Retrieve the learned weights:"
            ]
        },
        {
            "cell_type": "code",
            "execution_count": 18,
            "metadata": {
                "execution": {
                    "iopub.execute_input": "2024-08-11T01:35:12.930454Z",
                    "iopub.status.busy": "2024-08-11T01:35:12.930006Z",
                    "iopub.status.idle": "2024-08-11T01:35:12.936931Z",
                    "shell.execute_reply": "2024-08-11T01:35:12.935067Z"
                }
            },
            "outputs": [
                {
                    "data": {
                        "text/plain": [
                            "array([[-0.04090133, -0.01910264, -0.16340333,  0.28743777,  0.11909772]],\n",
                            "      dtype=float32)"
                        ]
                    },
                    "execution_count": 18,
                    "metadata": {},
                    "output_type": "execute_result"
                }
            ],
            "source": [
                "lr.get_learnt_thetas()"
            ]
        },
        {
            "cell_type": "markdown",
            "metadata": {},
            "source": [
                "### Testing the classifier\n",
                "\n",
                "Let's see for ourselves by calculating the accuracy score on the training set:"
            ]
        },
        {
            "cell_type": "code",
            "execution_count": 19,
            "metadata": {
                "execution": {
                    "iopub.execute_input": "2024-08-11T01:35:12.940637Z",
                    "iopub.status.busy": "2024-08-11T01:35:12.939869Z",
                    "iopub.status.idle": "2024-08-11T01:35:12.945896Z",
                    "shell.execute_reply": "2024-08-11T01:35:12.945124Z"
                }
            },
            "outputs": [],
            "source": [
                "ret, y_pred = lr.predict(X_train)"
            ]
        },
        {
            "cell_type": "code",
            "execution_count": 20,
            "metadata": {
                "execution": {
                    "iopub.execute_input": "2024-08-11T01:35:12.949055Z",
                    "iopub.status.busy": "2024-08-11T01:35:12.948418Z",
                    "iopub.status.idle": "2024-08-11T01:35:12.954008Z",
                    "shell.execute_reply": "2024-08-11T01:35:12.953557Z"
                }
            },
            "outputs": [
                {
                    "data": {
                        "text/plain": [
                            "1.0"
                        ]
                    },
                    "execution_count": 20,
                    "metadata": {},
                    "output_type": "execute_result"
                }
            ],
            "source": [
                "metrics.accuracy_score(y_train, y_pred)"
            ]
        },
        {
            "cell_type": "markdown",
            "metadata": {},
            "source": [
                "Perfect score! However, this only means that the model was able to perfectly **memorize** the\n",
                "training dataset. This does not mean that the model would be able to classify a new, unseen\n",
                "data point. For this, we need to check the test dataset:"
            ]
        },
        {
            "cell_type": "code",
            "execution_count": 21,
            "metadata": {
                "execution": {
                    "iopub.execute_input": "2024-08-11T01:35:12.956304Z",
                    "iopub.status.busy": "2024-08-11T01:35:12.956130Z",
                    "iopub.status.idle": "2024-08-11T01:35:12.960849Z",
                    "shell.execute_reply": "2024-08-11T01:35:12.960337Z"
                }
            },
            "outputs": [
                {
                    "data": {
                        "text/plain": [
                            "1.0"
                        ]
                    },
                    "execution_count": 21,
                    "metadata": {},
                    "output_type": "execute_result"
                }
            ],
            "source": [
                "ret, y_pred = lr.predict(X_test)\n",
                "metrics.accuracy_score(y_test, y_pred)"
            ]
        },
        {
            "cell_type": "markdown",
            "metadata": {},
            "source": [
                "Luckily, we get another perfect score! Now we can be sure that the model we built is truly\n",
                "awesome."
            ]
        }
    ],
    "metadata": {
        "anaconda-cloud": {},
        "kernelspec": {
            "display_name": "Python 3 (ipykernel)",
            "language": "python",
            "name": "python3"
        },
        "language_info": {
            "codemirror_mode": {
                "name": "ipython",
                "version": 3
            },
            "file_extension": ".py",
            "mimetype": "text/x-python",
            "name": "python",
            "nbconvert_exporter": "python",
            "pygments_lexer": "ipython3",
            "version": "3.11.9"
        }
    },
    "nbformat": 4,
    "nbformat_minor": 4
}