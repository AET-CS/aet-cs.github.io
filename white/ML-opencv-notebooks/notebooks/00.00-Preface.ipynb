{
    "cells": [
        {
            "cell_type": "markdown",
            "metadata": {
                "collapsed": true,
                "deletable": true,
                "editable": true,
                "jupyter": {
                    "outputs_hidden": true
                }
            },
            "source": [
                "# Machine Learning for OpenCV\n",
                "## A practical introduction to the world of machine learning using OpenCV and Python"
            ]
        },
        {
            "cell_type": "markdown",
            "metadata": {
                "deletable": true,
                "editable": true
            },
            "source": [
                "I\u2019m glad you\u2019re here. It\u2019s about time we talked about machine learning.\n",
                "\n",
                "**Machine learning** is no longer just a buzzword, it is all around us: from protecting your email, to automatically tagging friends in pictures, to predicting what movies you like. As a subfield of **data science**, machine learning enables computers to learn through experience: to make predictions about the future using collected data from the past.\n",
                "\n",
                "And the amount of data to be analyzed is enormous! Current estimates put the daily amount of produced data at 2.5 exabytes (or roughly 1 billion gigabytes). Can you believe it? This would be enough data to fill up 10 million blu-ray discs, or amount to 90 years of HD video. In order to deal with these vast amounts of data, companies such as Google, Amazon, Microsoft, and Facebook have been heavily investing in the development of data science platforms that allow us to benefit from machine learning wherever we go \u2013 scaling from your mobile phone application all the way to supercomputers connected through the cloud.\n",
                "\n",
                "> **In other words: This is the time to invest in machine learning. And if it is your wish to become a machine learning practitioner, too \u2013 then this book is for you!**"
            ]
        },
        {
            "cell_type": "markdown",
            "metadata": {
                "deletable": true,
                "editable": true
            },
            "source": [
                "## What this book covers\n",
                "\n",
                "The first step of this book is to introduce you to the essential concepts of statistical learning, such as [classification and regression](03.00-First-Steps-in-Supervised-Learning.ipynb), with the help of simple and intuitive examples. If you have already studied machine learning theory in detail, this book will show you how to put your knowledge into practice. Oh, and don't worry if you are completely new to the field of machine learning \u2013 all you need is the willingness to learn.\n",
                "\n",
                "Once we covered all the basic concepts, we will start exploring various algorithms such as [decision trees](05.00-Using-Decision-Trees-to-Make-a-Medical-Diagnosis.ipynb), [support vector machines](06.00-Detecting-Pedestrians-with-Support-Vector-Machines.ipynb), and [Bayesian networks](07.00-Implementing-a-Spam-Filter-with-Bayesian-Learning.ipynb), and learn how to combine them with other OpenCV functionality. Along the way, you will learn how to [\u2018understand the task by understanding the data\u2019](04.00-Representing-Data-and-Engineering-Features.ipynb) and how to build fully functioning [machine learning pipelines](11.03-Chaining-Algorithms-Together-to-Form-a-Pipeline.ipynb).\n",
                "\n",
                "As the book progresses, so will your machine learning skills, until you are ready to take on today's hottest topic in the field: [deep learning](09.00-Using-Deep-Learning-to-Classify-Handwritten-Digits.ipynb). Combined with the trained skill of knowing [how to select the right tool for the task](11.00-Selecting-the-Right-Model-with-Hyper-Parameter-Tuning.ipynb), we will make sure you get comfortable with all relevant machine learning fundamentals.\n",
                "\n",
                "At the end of the book, you will be ready to take on your own machine learning problems, either by building on the existing source code or developing your own algorithm from scratch!"
            ]
        },
        {
            "cell_type": "markdown",
            "metadata": {
                "deletable": true,
                "editable": true
            },
            "source": [
                "## What you need for this book\n",
                "\n",
                "You will need a computer, Python Anaconda, and enthusiasm. Lots of enthusiasm.\n",
                "\n",
                "*Why Python?,* you may ask. The answer is simple: It has become the de facto language of data science, thanks to its great number of open-source libraries and tools to process and interact with data.\n",
                "\n",
                "One of these tools is the **Python Anaconda** distribution, which provides all the scientific computing libraries we could possibly ask for, such as **NumPy**, **SciPy**, **Matplotlib**, **scikit-learn**, and **Pandas**. In addition, installing **OpenCV** is essentially a one-liner. No more flipping switches in ccmake or compiling from scratch! We will talk about how to install Python Anaconda in [Chapter 1, A Taste of Machine Learning](01.00-A-Taste-of-Machine-Learning.ipynb).\n",
                "\n",
                "If you have mostly been using OpenCV in combination with C++, that\u2019s fine. But, at least for the purpose of this book, I would strongly suggest that you switch to Python. C++ is fine when your task is to develop high-performance code or real-time applications. But, when it comes to picking up a new skill, I believe Python to be the fundamentally better choice of language, because you can do more by typing less. Rather than getting annoyed by the syntactic subtleties of C++, or wasting hours trying to convert data from one format into another, Python will help you concentrate on the topic at hand: to become an expert in machine learning.\n",
                "\n",
                "If you get stuck or have questions about the source code, you are welcome to post in our\n",
                "[Discussion group](https://groups.google.com/d/forum/machine-learning-for-opencv).\n",
                "Chances are, someone else has already shared a solution to your specific problem."
            ]
        }
    ],
    "metadata": {
        "kernelspec": {
            "display_name": "Python 3 (ipykernel)",
            "language": "python",
            "name": "python3"
        },
        "language_info": {
            "codemirror_mode": {
                "name": "ipython",
                "version": 3
            },
            "file_extension": ".py",
            "mimetype": "text/x-python",
            "name": "python",
            "nbconvert_exporter": "python",
            "pygments_lexer": "ipython3",
            "version": "3.11.9"
        }
    },
    "nbformat": 4,
    "nbformat_minor": 4
}