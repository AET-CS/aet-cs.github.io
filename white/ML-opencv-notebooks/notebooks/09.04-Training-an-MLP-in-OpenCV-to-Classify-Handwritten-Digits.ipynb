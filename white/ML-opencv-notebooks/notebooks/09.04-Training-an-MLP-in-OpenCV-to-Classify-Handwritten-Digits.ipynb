{
    "cells": [
        {
            "cell_type": "markdown",
            "metadata": {
                "collapsed": true,
                "deletable": true,
                "editable": true,
                "jupyter": {
                    "outputs_hidden": true
                }
            },
            "source": [
                "https://github.com/fchollet/keras/blob/master/examples/mnist_cnn.py"
            ]
        },
        {
            "cell_type": "markdown",
            "metadata": {
                "deletable": true,
                "editable": true
            },
            "source": [
                "# Training an MLP in OpenCV to Classify Handwritten Digits\n",
                "\n",
                "In this section, we will use an MLP in OpenCV to classify\n",
                "handwritten digits from the popular MNIST dataset, which has been constructed by Yann\n",
                "LeCun and colleagues and serves as a popular benchmark dataset for machine learning\n",
                "algorithms."
            ]
        },
        {
            "cell_type": "markdown",
            "metadata": {},
            "source": [
                "## Loading the MNIST dataset\n",
                "\n",
                "The easiest way to obtain the MNIST dataset is using Keras:"
            ]
        },
        {
            "cell_type": "code",
            "execution_count": 1,
            "metadata": {
                "collapsed": false,
                "deletable": true,
                "editable": true,
                "jupyter": {
                    "outputs_hidden": false
                }
            },
            "outputs": [
                {
                    "name": "stderr",
                    "output_type": "stream",
                    "text": [
                        "Using Theano backend.\n",
                        "WARNING (theano.configdefaults): g++ not available, if using conda: `conda install m2w64-toolchain`\n",
                        "WARNING (theano.configdefaults): g++ not detected ! Theano will be unable to execute optimized C-implementations (for both CPU and GPU) and will default to Python implementations. Performance will be severely degraded. To remove this warning, set Theano flags cxx to an empty string.\n"
                    ]
                }
            ],
            "source": [
                "from keras.datasets import mnist\n",
                "(X_train, y_train), (X_test, y_test) = mnist.load_data()"
            ]
        },
        {
            "cell_type": "markdown",
            "metadata": {},
            "source": [
                "This will download the data from the Amazon Cloud (might take a while depending on\n",
                "your internet connection) and automatically split the data into training and test sets."
            ]
        },
        {
            "cell_type": "markdown",
            "metadata": {},
            "source": [
                "This data comes in a format that we are already familiar with:"
            ]
        },
        {
            "cell_type": "code",
            "execution_count": 2,
            "metadata": {
                "collapsed": false,
                "deletable": true,
                "editable": true,
                "jupyter": {
                    "outputs_hidden": false
                }
            },
            "outputs": [
                {
                    "data": {
                        "text/plain": [
                            "((60000, 28, 28), (60000,))"
                        ]
                    },
                    "execution_count": 2,
                    "metadata": {},
                    "output_type": "execute_result"
                }
            ],
            "source": [
                "X_train.shape, y_train.shape"
            ]
        },
        {
            "cell_type": "markdown",
            "metadata": {},
            "source": [
                "We should take note that the labels come as integer values between zero and nine\n",
                "(corresponding to the digits 0-9):"
            ]
        },
        {
            "cell_type": "code",
            "execution_count": 3,
            "metadata": {
                "collapsed": false,
                "deletable": true,
                "editable": true,
                "jupyter": {
                    "outputs_hidden": false
                }
            },
            "outputs": [
                {
                    "data": {
                        "text/plain": [
                            "array([0, 1, 2, 3, 4, 5, 6, 7, 8, 9], dtype=uint8)"
                        ]
                    },
                    "execution_count": 3,
                    "metadata": {},
                    "output_type": "execute_result"
                }
            ],
            "source": [
                "import numpy as np\n",
                "np.unique(y_train)"
            ]
        },
        {
            "cell_type": "markdown",
            "metadata": {},
            "source": [
                "We can have a look at some example digits:"
            ]
        },
        {
            "cell_type": "code",
            "execution_count": 4,
            "metadata": {
                "collapsed": true,
                "deletable": true,
                "editable": true,
                "jupyter": {
                    "outputs_hidden": true
                }
            },
            "outputs": [],
            "source": [
                "import matplotlib.pyplot as plt\n",
                "%matplotlib inline"
            ]
        },
        {
            "cell_type": "code",
            "execution_count": 5,
            "metadata": {
                "collapsed": false,
                "deletable": true,
                "editable": true,
                "jupyter": {
                    "outputs_hidden": false
                }
            },
            "outputs": [
                {
                    "data": {
                        "image/png": "[encoded data removed]",
                        "text/plain": [
                            "<matplotlib.figure.Figure at 0x1a5487cca58>"
                        ]
                    },
                    "metadata": {},
                    "output_type": "display_data"
                }
            ],
            "source": [
                "plt.figure(figsize=(16, 6))\n",
                "for i in range(10):\n",
                "    plt.subplot(2, 5, i + 1)\n",
                "    plt.imshow(X_train[i, :, :], cmap='gray')\n",
                "    plt.axis('off')\n",
                "plt.savefig('mnist-examples.png')"
            ]
        },
        {
            "cell_type": "markdown",
            "metadata": {},
            "source": [
                "In fact, the MNIST dataset is the successor to the NIST digits dataset provided by scikit-learn\n",
                "that we used before (`sklearn.datasets.load_digits` (refer to [Chapter 2](02.00-Working-with-Data-in-OpenCV.ipynb), *Working\n",
                "with Data in OpenCV and Python*).\n",
                "\n",
                "Some notable differences are as follows:\n",
                "- MNIST images are significantly larger (28x28 pixels) than NIST images (8x8 pixels), thus paying more attention to fine details, such as distortions and individual differences between images of the same digit\n",
                "- The MNIST dataset is much larger than the NIST dataset, providing 60,000 training and 10,000 test samples (as compared to a total of 5,620 NIST images)"
            ]
        },
        {
            "cell_type": "markdown",
            "metadata": {
                "deletable": true,
                "editable": true
            },
            "source": [
                "## Preprocessing the MNIST dataset\n",
                "\n",
                "As we learned in [Chapter 4](04.00-Representing-Data-and-Engineering-Features.ipynb), *Representing Data and Engineering Features*, there are a number\n",
                "of preprocessing steps we might like to apply here, such as **centering**, **scaling**, and **representing categorical features**."
            ]
        },
        {
            "cell_type": "markdown",
            "metadata": {},
            "source": [
                "The easiest way to transform `y_train` and `y_test` is by the one-hot encoder from scikit-learn:"
            ]
        },
        {
            "cell_type": "code",
            "execution_count": 6,
            "metadata": {
                "collapsed": true,
                "deletable": true,
                "editable": true,
                "jupyter": {
                    "outputs_hidden": true
                }
            },
            "outputs": [],
            "source": [
                "from sklearn.preprocessing import OneHotEncoder\n",
                "enc = OneHotEncoder(sparse=False, dtype=np.float32)\n",
                "y_train_pre = enc.fit_transform(y_train.reshape(-1, 1))"
            ]
        },
        {
            "cell_type": "markdown",
            "metadata": {},
            "source": [
                "This will transform the labels of the training set from a `<n_samples x 1>` vector with\n",
                "integers 0-9 into a `<n_samples x 10>` matrix with floating point numbers 0.0 or 1.0.\n",
                "\n",
                "Analogously, we can transform `y_test` using the same procedure:"
            ]
        },
        {
            "cell_type": "code",
            "execution_count": 7,
            "metadata": {
                "collapsed": false,
                "deletable": true,
                "editable": true,
                "jupyter": {
                    "outputs_hidden": false
                }
            },
            "outputs": [],
            "source": [
                "y_test_pre = enc.fit_transform(y_test.reshape(-1, 1))"
            ]
        },
        {
            "cell_type": "markdown",
            "metadata": {},
            "source": [
                "In addition, we need to preprocess `X_train` and `X_test` for the purpose of working with\n",
                "OpenCV. Currently, `X_train` and `X_test` are 3-D matrices `<n_samples x 28 x 28>`\n",
                "with integer values between 0 and 255. Preferably, we want a 2-D matrix `<n_samples x\n",
                "n_features>` with floating point numbers, where `n_features` is 784:"
            ]
        },
        {
            "cell_type": "code",
            "execution_count": 8,
            "metadata": {
                "collapsed": false,
                "deletable": true,
                "editable": true,
                "jupyter": {
                    "outputs_hidden": false
                }
            },
            "outputs": [],
            "source": [
                "X_train_pre = X_train.astype(np.float32) / 255.0\n",
                "X_train_pre = X_train_pre.reshape((X_train.shape[0], -1))\n",
                "X_test_pre = X_test.astype(np.float32) / 255.0\n",
                "X_test_pre = X_test_pre.reshape((X_test.shape[0], -1))"
            ]
        },
        {
            "cell_type": "markdown",
            "metadata": {},
            "source": [
                "Then we are ready to train the network."
            ]
        },
        {
            "cell_type": "markdown",
            "metadata": {
                "deletable": true,
                "editable": true
            },
            "source": [
                "## Training an MLP using OpenCV\n",
                "\n",
                "We can set up and train an MLP in OpenCV with the following recipe:\n",
                "\n",
                "Instantiate a new MLP object:"
            ]
        },
        {
            "cell_type": "code",
            "execution_count": 9,
            "metadata": {
                "collapsed": true,
                "deletable": true,
                "editable": true,
                "jupyter": {
                    "outputs_hidden": true
                }
            },
            "outputs": [],
            "source": [
                "import cv2\n",
                "mlp = cv2.ml.ANN_MLP_create()"
            ]
        },
        {
            "cell_type": "markdown",
            "metadata": {},
            "source": [
                "Specify the size of every layer in the network. We are free to add as many layers as we want, but we need to make sure that the first layer has the same number of neurons as input features (784 in our case), and that the last layer has the same number of neurons as class labels (10 in our case):"
            ]
        },
        {
            "cell_type": "code",
            "execution_count": 10,
            "metadata": {
                "collapsed": true,
                "deletable": true,
                "editable": true,
                "jupyter": {
                    "outputs_hidden": true
                }
            },
            "outputs": [],
            "source": [
                "mlp.setLayerSizes(np.array([784, 512, 512, 10]))"
            ]
        },
        {
            "cell_type": "markdown",
            "metadata": {},
            "source": [
                "Specify an activation function. Here we use the sigmoidal activation function\n",
                "from before:"
            ]
        },
        {
            "cell_type": "code",
            "execution_count": 11,
            "metadata": {
                "collapsed": true,
                "deletable": true,
                "editable": true,
                "jupyter": {
                    "outputs_hidden": true
                }
            },
            "outputs": [],
            "source": [
                "mlp.setActivationFunction(cv2.ml.ANN_MLP_SIGMOID_SYM, 2.5, 1.0)"
            ]
        },
        {
            "cell_type": "markdown",
            "metadata": {},
            "source": [
                "Specify the training method. Here we use the backpropagation algorithm\n",
                "described above. We also need to make sure that we choose a small enough\n",
                "learning rate. Since we have on the order of $10^5$ training samples, it is a good idea\n",
                "to set the learning rate to at most $10^{-5}$:"
            ]
        },
        {
            "cell_type": "code",
            "execution_count": 12,
            "metadata": {
                "collapsed": true,
                "deletable": true,
                "editable": true,
                "jupyter": {
                    "outputs_hidden": true
                }
            },
            "outputs": [],
            "source": [
                "mlp.setTrainMethod(cv2.ml.ANN_MLP_BACKPROP)\n",
                "mlp.setBackpropWeightScale(0.0001)"
            ]
        },
        {
            "cell_type": "markdown",
            "metadata": {},
            "source": [
                "Specify the termination criteria. Here we use the same criteria as above: to run\n",
                "training for ten iterations (`term_max_iter`) or until the error does no longer\n",
                "decrease significantly (`term_eps`):"
            ]
        },
        {
            "cell_type": "code",
            "execution_count": 13,
            "metadata": {
                "collapsed": true,
                "deletable": true,
                "editable": true,
                "jupyter": {
                    "outputs_hidden": true
                }
            },
            "outputs": [],
            "source": [
                "term_mode = cv2.TERM_CRITERIA_MAX_ITER + cv2.TERM_CRITERIA_EPS\n",
                "term_max_iter = 10\n",
                "term_eps = 0.01\n",
                "mlp.setTermCriteria((term_mode, term_max_iter, term_eps))"
            ]
        },
        {
            "cell_type": "markdown",
            "metadata": {},
            "source": [
                "Train the network on the training set (`X_train_pre`):"
            ]
        },
        {
            "cell_type": "markdown",
            "metadata": {},
            "source": [
                "When the training completes, we can calculate the accuracy score on the training set to see\n",
                "how far we got:"
            ]
        },
        {
            "cell_type": "code",
            "execution_count": 14,
            "metadata": {
                "collapsed": false,
                "deletable": true,
                "editable": true,
                "jupyter": {
                    "outputs_hidden": false
                }
            },
            "outputs": [
                {
                    "data": {
                        "text/plain": [
                            "True"
                        ]
                    },
                    "execution_count": 14,
                    "metadata": {},
                    "output_type": "execute_result"
                }
            ],
            "source": [
                "mlp.train(X_train_pre, cv2.ml.ROW_SAMPLE, y_train_pre)"
            ]
        },
        {
            "cell_type": "code",
            "execution_count": 15,
            "metadata": {
                "collapsed": false,
                "deletable": true,
                "editable": true,
                "jupyter": {
                    "outputs_hidden": false
                }
            },
            "outputs": [],
            "source": [
                "_, y_hat_train = mlp.predict(X_train_pre)"
            ]
        },
        {
            "cell_type": "code",
            "execution_count": 16,
            "metadata": {
                "collapsed": false,
                "deletable": true,
                "editable": true,
                "jupyter": {
                    "outputs_hidden": false
                }
            },
            "outputs": [
                {
                    "data": {
                        "text/plain": [
                            "0.92976666666666663"
                        ]
                    },
                    "execution_count": 16,
                    "metadata": {},
                    "output_type": "execute_result"
                }
            ],
            "source": [
                "from sklearn.metrics import accuracy_score\n",
                "accuracy_score(y_hat_train.round(), y_train_pre)"
            ]
        },
        {
            "cell_type": "markdown",
            "metadata": {},
            "source": [
                "But, of course, what really counts is the accuracy score we get on the held-out test data:"
            ]
        },
        {
            "cell_type": "code",
            "execution_count": 17,
            "metadata": {
                "collapsed": false,
                "deletable": true,
                "editable": true,
                "jupyter": {
                    "outputs_hidden": false
                }
            },
            "outputs": [
                {
                    "data": {
                        "text/plain": [
                            "0.91690000000000005"
                        ]
                    },
                    "execution_count": 17,
                    "metadata": {},
                    "output_type": "execute_result"
                }
            ],
            "source": [
                "_, y_hat_test = mlp.predict(X_test_pre)\n",
                "accuracy_score(y_hat_test.round(), y_test_pre)"
            ]
        }
    ],
    "metadata": {
        "kernelspec": {
            "display_name": "Python 3 (ipykernel)",
            "language": "python",
            "name": "python3"
        },
        "language_info": {
            "codemirror_mode": {
                "name": "ipython",
                "version": 3
            },
            "file_extension": ".py",
            "mimetype": "text/x-python",
            "name": "python",
            "nbconvert_exporter": "python",
            "pygments_lexer": "ipython3",
            "version": "3.11.9"
        }
    },
    "nbformat": 4,
    "nbformat_minor": 4
}