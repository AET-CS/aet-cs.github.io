{
 "cells": [
  {
   "cell_type": "markdown",
   "id": "d3427101-fc24-4685-9573-8f841230bb52",
   "metadata": {},
   "source": [
    "# Cloudy Days in Leesburg"
   ]
  },
  {
   "cell_type": "code",
   "execution_count": null,
   "id": "fecbe6ac-4f6a-44c1-baa0-6075b85b08e7",
   "metadata": {},
   "outputs": [],
   "source": [
    "import pandas as pd"
   ]
  },
  {
   "cell_type": "markdown",
   "id": "aaeccf60-04ac-431c-a93f-8adcad90d3e1",
   "metadata": {},
   "source": [
    "Analyze Weather data"
   ]
  },
  {
   "cell_type": "code",
   "execution_count": null,
   "id": "53c80434-def4-4fdc-815b-266e959c6589",
   "metadata": {},
   "outputs": [],
   "source": [
    "df = pd.read_csv('../data/weather-daylight.csv')\n",
    "df"
   ]
  },
  {
   "cell_type": "code",
   "execution_count": null,
   "id": "392a30c2-898d-4848-bcbe-afea58e8da94",
   "metadata": {},
   "outputs": [],
   "source": [
    "df.describe()"
   ]
  },
  {
   "cell_type": "code",
   "execution_count": null,
   "id": "54cb3032",
   "metadata": {},
   "outputs": [],
   "source": [
    "df.shape"
   ]
  },
  {
   "cell_type": "code",
   "execution_count": null,
   "id": "f315ff76",
   "metadata": {},
   "outputs": [],
   "source": [
    "df[df['snowdepth'].isna()].shape"
   ]
  },
  {
   "cell_type": "code",
   "execution_count": null,
   "id": "bf8bbf5c",
   "metadata": {},
   "outputs": [],
   "source": [
    "df['skyc1'].value_counts()"
   ]
  },
  {
   "cell_type": "code",
   "execution_count": null,
   "id": "66bf7cbf",
   "metadata": {},
   "outputs": [],
   "source": [
    "df.loc[30:50]"
   ]
  },
  {
   "cell_type": "code",
   "execution_count": null,
   "id": "03c0ae14",
   "metadata": {},
   "outputs": [],
   "source": [
    "df[(df['skyc1']=='CLR')].shape"
   ]
  },
  {
   "cell_type": "code",
   "execution_count": null,
   "id": "c768eed7",
   "metadata": {},
   "outputs": [],
   "source": [
    "df[(df['skyc1']=='CLR') & (df['p01i']>0)].shape"
   ]
  },
  {
   "cell_type": "code",
   "execution_count": null,
   "id": "ffdf6867",
   "metadata": {},
   "outputs": [],
   "source": [
    "df[df['p01i']>0].shape[0] / df[df['p01i']>=0].shape[0]"
   ]
  },
  {
   "cell_type": "code",
   "execution_count": null,
   "id": "7d2ed01c-c7d6-4438-acec-1cda359dbb92",
   "metadata": {},
   "outputs": [],
   "source": [
    "for c in ['skyc1', 'skyc2', 'skyc3', 'skyc4']:\n",
    "\tprint(c,df[df[c].isna()].shape)"
   ]
  },
  {
   "cell_type": "code",
   "execution_count": null,
   "id": "b9d547bc-2ebf-4ece-8e82-ff658bbc3dda",
   "metadata": {},
   "outputs": [],
   "source": [
    "df[(df['skyc1'] != df['skyc2']) & (df['skyc1']=='CLR')][['skyc1','skyc2']]"
   ]
  },
  {
   "cell_type": "code",
   "execution_count": null,
   "id": "9738b2d2-d3c8-4060-a6a5-3cea73726d9b",
   "metadata": {},
   "outputs": [],
   "source": [
    "df[(df['skyc1'] != df['skyc2'])][['skyc1','skyc2']].value_counts()"
   ]
  },
  {
   "cell_type": "code",
   "execution_count": null,
   "id": "5ba92385-7cda-4b2d-9af2-4a47c3aeb020",
   "metadata": {},
   "outputs": [],
   "source": [
    "total_p01i_per_day_et_new = df.groupby('Day Of Week ET')['p01i'].sum()"
   ]
  },
  {
   "cell_type": "code",
   "execution_count": null,
   "id": "6cb91da9-7ae4-45b3-a803-e8475708b5d9",
   "metadata": {},
   "outputs": [],
   "source": [
    "total_p01i_per_day_et_new"
   ]
  },
  {
   "cell_type": "markdown",
   "id": "fd16f9ae",
   "metadata": {},
   "source": [
    "We would like to count the number of clear observations per day. We can do this with a `groupby` followed by a `size()` function"
   ]
  },
  {
   "cell_type": "code",
   "execution_count": null,
   "id": "065d2441",
   "metadata": {},
   "outputs": [],
   "source": [
    "df[df['skyc1'] == 'CLR'].groupby('Day Of Week ET').size()"
   ]
  },
  {
   "cell_type": "code",
   "execution_count": null,
   "id": "c4c73384",
   "metadata": {},
   "outputs": [],
   "source": [
    "df[df['skyc1'] == 'CLR'].groupby('Day Of Week ET').size().plot(kind=\"bar\")"
   ]
  },
  {
   "cell_type": "markdown",
   "id": "f21d4e06",
   "metadata": {},
   "source": [
    "Does every day have the same number of recorded observations?"
   ]
  },
  {
   "cell_type": "code",
   "execution_count": null,
   "id": "9bc00148",
   "metadata": {},
   "outputs": [],
   "source": [
    "df.groupby('Day Of Week ET').size().plot(kind=\"bar\")"
   ]
  },
  {
   "cell_type": "code",
   "execution_count": null,
   "id": "3d4acaae-ab8e-4204-9fb3-e6a1ce27ce82",
   "metadata": {},
   "outputs": [],
   "source": [
    "percentage_clr_days_et_new = (df[df['skyc1'] == 'CLR'].groupby('Day Of Week ET').size() / df.groupby('Day Of Week ET').size()) * 100"
   ]
  },
  {
   "cell_type": "code",
   "execution_count": null,
   "id": "6f895b51-182a-448a-8c67-3ad5f7e0af52",
   "metadata": {},
   "outputs": [],
   "source": [
    "percentage_clr_days_et_new"
   ]
  },
  {
   "cell_type": "code",
   "execution_count": null,
   "id": "e99e6f1d-5e5b-42a7-986d-e5e98cbb44ce",
   "metadata": {},
   "outputs": [],
   "source": [
    "percentage_clr_days_et_new.plot(kind='bar')"
   ]
  },
  {
   "cell_type": "code",
   "execution_count": null,
   "id": "1361c380",
   "metadata": {},
   "outputs": [],
   "source": [
    "# Recalculate the necessary components based on the 'Day Of Week ET' column from the new dataset with daylight information\n",
    "\n",
    "# Total precipitation (p01i) for each day of the week\n",
    "total_p01i_per_day_et_new = df.groupby('Day Of Week ET')['p01i'].sum()\n",
    "\n",
    "# Percentage of OVC and CLR days\n",
    "percentage_ovc_days_et_new = (df[(df['skyc1'] == 'OVC') | (df['skyc2'] == 'OVC') | (df['skyc3'] == 'OVC')].groupby('Day Of Week ET').size() / df.groupby('Day Of Week ET').size()) * 100\n",
    "percentage_clr_days_et_new = (df[df['skyc1'] == 'CLR'].groupby('Day Of Week ET').size() / df.groupby('Day Of Week ET').size()) * 100\n",
    "\n",
    "# Total number of rows (observations) for each day of the week\n",
    "total_rows_per_day_et_new = df.groupby('Day Of Week ET').size()\n",
    "\n",
    "# Combine all the data into one DataFrame\n",
    "combined_et_df_new = pd.DataFrame({\n",
    "    'Day Of Week ET': total_rows_per_day_et_new.index,\n",
    "    'Total Number of Rows ET': total_rows_per_day_et_new.values,\n",
    "    'Total p01i ET': total_p01i_per_day_et_new.values,\n",
    "    'Percentage of OVC Days ET': percentage_ovc_days_et_new.values,\n",
    "    'Percentage of CLR Days ET': percentage_clr_days_et_new.values\n",
    "})\n",
    "\n",
    "combined_et_df_new"
   ]
  },
  {
   "cell_type": "markdown",
   "id": "e600d963",
   "metadata": {},
   "source": [
    "Conclusions? BTW what is day 5 and 6? How else could you define a good/bad day? What ways could you change the question to make your desired outcome more likely? Is this statistically significant?"
   ]
  }
 ],
 "metadata": {
  "kernelspec": {
   "display_name": "Python 3 (ipykernel)",
   "language": "python",
   "name": "python3"
  },
  "language_info": {
   "codemirror_mode": {
    "name": "ipython",
    "version": 3
   },
   "file_extension": ".py",
   "mimetype": "text/x-python",
   "name": "python",
   "nbconvert_exporter": "python",
   "pygments_lexer": "ipython3",
   "version": "3.11.9"
  }
 },
 "nbformat": 4,
 "nbformat_minor": 5
}
