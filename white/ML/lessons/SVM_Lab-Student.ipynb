{
 "cells": [
  {
   "cell_type": "markdown",
   "id": "5035f0db-5d2d-402c-aa20-36467ebe243a",
   "metadata": {},
   "source": [
    "# SVM Lab"
   ]
  },
  {
   "cell_type": "code",
   "execution_count": 2,
   "id": "426773a3-7442-4e4c-a273-bc9c337f81e6",
   "metadata": {},
   "outputs": [],
   "source": [
    "import pandas as pd\n",
    "from sklearn.model_selection import train_test_split\n",
    "from sklearn.feature_extraction.text import TfidfVectorizer, CountVectorizer\n",
    "from sklearn.svm import SVC\n",
    "from sklearn.metrics import classification_report, accuracy_score\n",
    "from sklearn.preprocessing import OrdinalEncoder\n",
    "import numpy as np"
   ]
  },
  {
   "cell_type": "markdown",
   "id": "76327ba4-df38-4a63-81a8-c1f5d9667a44",
   "metadata": {},
   "source": [
    "## Load the Data"
   ]
  },
  {
   "cell_type": "code",
   "execution_count": 14,
   "id": "e4578c77-c525-433b-8b6c-e4c3ebe6de18",
   "metadata": {},
   "outputs": [],
   "source": [
    "# Step 1: Load the dataset (replace with the path to your dataset)\n",
    "# The dataset should have two columns: 'label' (spam/ham) and 'message' (text)\n",
    "url = \"https://aet-cs.github.io/white/ML/data/Fake_News.csv\"\n",
    "data = pd.read_csv(url, sep=',')"
   ]
  },
  {
   "cell_type": "code",
   "execution_count": 7,
   "id": "dc49cdc0-d6dd-4dfe-a5ff-a48541e90e60",
   "metadata": {},
   "outputs": [],
   "source": [
    "data = data.dropna()"
   ]
  },
  {
   "cell_type": "markdown",
   "id": "450d95d4-544a-4870-92b2-5ae653eea085",
   "metadata": {},
   "source": [
    "## EDA"
   ]
  },
  {
   "cell_type": "markdown",
   "id": "2ee1b471-e1f8-4a93-9871-bb026d38f124",
   "metadata": {},
   "source": [
    "Do some basic EDA here. How balanced is the data set? Data types? Etc."
   ]
  },
  {
   "cell_type": "code",
   "execution_count": null,
   "id": "e7ca7672-d1a9-4f92-bb5c-b0fa5d8fc65a",
   "metadata": {},
   "outputs": [],
   "source": []
  },
  {
   "cell_type": "markdown",
   "id": "4abbc3bf-507b-4437-b973-5df44854bb3d",
   "metadata": {},
   "source": [
    "We will ordinal encode the target column"
   ]
  },
  {
   "cell_type": "code",
   "execution_count": 8,
   "id": "98036159-e837-4bf7-ae1b-2a029349f59b",
   "metadata": {},
   "outputs": [],
   "source": [
    "# Encode labels using OrdinalEncoder into 0,1 (dont' change)\n",
    "encoder = OrdinalEncoder()\n",
    "data['label'] = encoder.fit_transform(data[['label']])"
   ]
  },
  {
   "cell_type": "code",
   "execution_count": 9,
   "id": "e861861e-e426-49ed-8b70-cedf9c5958b8",
   "metadata": {},
   "outputs": [
    {
     "name": "stdout",
     "output_type": "stream",
     "text": [
      "Label Encoding:\n",
      "'Fake' -> 0\n",
      "'True' -> 1\n"
     ]
    }
   ],
   "source": [
    "# Print the mapping from labels to numerical values (dont' change)\n",
    "label_mapping = {category: idx for idx, category in enumerate(encoder.categories_[0])}\n",
    "print(\"Label Encoding:\")\n",
    "for label, value in label_mapping.items():\n",
    "    print(f\"'{label}' -> {value}\")"
   ]
  },
  {
   "cell_type": "markdown",
   "id": "96863475-7908-42d6-89a7-19caacbb3a9e",
   "metadata": {},
   "source": [
    "Define X and y to the be title and label"
   ]
  },
  {
   "cell_type": "code",
   "execution_count": 10,
   "id": "82b1ed2f-e9a8-46c7-81b5-ce57f99f1602",
   "metadata": {},
   "outputs": [],
   "source": [
    "# define the data\n",
    "# Your code here"
   ]
  },
  {
   "cell_type": "code",
   "execution_count": 11,
   "id": "a342cc30-983e-4e1d-8c0a-ac3cf94aa958",
   "metadata": {},
   "outputs": [],
   "source": [
    "# Step 2: Split the dataset into training and testing sets\n",
    "# Make a train/test split\n",
    "# Your code here"
   ]
  },
  {
   "cell_type": "code",
   "execution_count": 12,
   "id": "c44b16cd-b447-422a-8cb4-ab8b2de52775",
   "metadata": {},
   "outputs": [
    {
     "ename": "NameError",
     "evalue": "name 'X_train' is not defined",
     "output_type": "error",
     "traceback": [
      "\u001b[0;31m---------------------------------------------------------------------------\u001b[0m",
      "\u001b[0;31mNameError\u001b[0m                                 Traceback (most recent call last)",
      "Cell \u001b[0;32mIn[12], line 4\u001b[0m\n\u001b[1;32m      1\u001b[0m \u001b[38;5;66;03m# Step 3: Text encoding using TF-IDF\u001b[39;00m\n\u001b[1;32m      2\u001b[0m \u001b[38;5;66;03m# Don't change\u001b[39;00m\n\u001b[1;32m      3\u001b[0m vectorizer \u001b[38;5;241m=\u001b[39m CountVectorizer(stop_words\u001b[38;5;241m=\u001b[39m\u001b[38;5;124m'\u001b[39m\u001b[38;5;124menglish\u001b[39m\u001b[38;5;124m'\u001b[39m, max_features\u001b[38;5;241m=\u001b[39m\u001b[38;5;241m1000\u001b[39m)\n\u001b[0;32m----> 4\u001b[0m X_train_tfidf \u001b[38;5;241m=\u001b[39m vectorizer\u001b[38;5;241m.\u001b[39mfit_transform(\u001b[43mX_train\u001b[49m)\n\u001b[1;32m      5\u001b[0m X_test_tfidf \u001b[38;5;241m=\u001b[39m vectorizer\u001b[38;5;241m.\u001b[39mtransform(X_test)\n",
      "\u001b[0;31mNameError\u001b[0m: name 'X_train' is not defined"
     ]
    }
   ],
   "source": [
    "# Step 3: Text encoding using TF-IDF\n",
    "# Don't change\n",
    "vectorizer = CountVectorizer(stop_words='english', max_features=1000)\n",
    "X_train_counts = vectorizer.fit_transform(X_train)\n",
    "X_test_counts = vectorizer.transform(X_test)"
   ]
  },
  {
   "cell_type": "code",
   "execution_count": 13,
   "id": "e70fff40-25b7-4b32-bbe8-073785c96c2b",
   "metadata": {},
   "outputs": [],
   "source": [
    "# Step 4: Train the SVM\n",
    "# your code here\n",
    "# be sure to use the counts vectors"
   ]
  },
  {
   "cell_type": "markdown",
   "id": "c733fea2-e87d-4ede-9ddc-4c82c790d0e2",
   "metadata": {},
   "source": [
    "### Print Results"
   ]
  },
  {
   "cell_type": "code",
   "execution_count": 107,
   "id": "3f536e40-6201-48d0-beb8-ddc3ac7c0d46",
   "metadata": {},
   "outputs": [
    {
     "name": "stdout",
     "output_type": "stream",
     "text": [
      "\n",
      "Misclassified Examples:\n",
      "Message: Meet The CA Sheriff Who Won’t Be Bullied By Obama And Illegal Immigrant Activists Who Believe The Laws Don’t Apply To Lawbreakers\n",
      "True Label: Fake\n",
      "Predicted Label: True\n",
      "--------------------------------------------------\n",
      "Message: ALARMING: NSA Refuses to Release Clinton-Lynch Tarmac Transcript with Lame Excuse\n",
      "True Label: Fake\n",
      "Predicted Label: True\n",
      "--------------------------------------------------\n",
      "Message: Norway appoints its first female foreign minister\n",
      "True Label: True\n",
      "Predicted Label: Fake\n",
      "--------------------------------------------------\n",
      "Message:  Anti-Abortion Laws Collapse In Major Defeat For The Right\n",
      "True Label: Fake\n",
      "Predicted Label: True\n",
      "--------------------------------------------------\n",
      "Message: Shaquille O’Neal: “The Earth is flat. Yes, it is.”\n",
      "True Label: Fake\n",
      "Predicted Label: True\n",
      "--------------------------------------------------\n",
      "Message: THE LIST OF WHO’S WHO TAKING ADVANTAGE OF FAILED EU AUSTERITY EXPERIMENT IN GREECE\n",
      "True Label: Fake\n",
      "Predicted Label: True\n",
      "--------------------------------------------------\n",
      "Message: Obama to visit Hiroshima, will not apologize for World War Two bombing\n",
      "True Label: True\n",
      "Predicted Label: Fake\n",
      "--------------------------------------------------\n",
      "Message:  White House Staff Reportedly Went Behind Trump’s Back On HUGE Issue Because Trump Is Too Reckless\n",
      "True Label: Fake\n",
      "Predicted Label: True\n",
      "--------------------------------------------------\n",
      "Message: Tensions simmer below surface as Trump, Republicans map strategy\n",
      "True Label: True\n",
      "Predicted Label: Fake\n",
      "--------------------------------------------------\n",
      "Message:  Susan Collins Bucked Party, Voted To Protect Kids, Seniors, Women and Entitlements\n",
      "True Label: Fake\n",
      "Predicted Label: True\n",
      "--------------------------------------------------\n"
     ]
    }
   ],
   "source": [
    "# Find misclassified examples\n",
    "y_pred = np.array(y_pred)\n",
    "y_test = np.array(y_test)\n",
    "misclassified_indices = (y_pred != y_test).nonzero()[0]  # Indices where predictions differ from true labels\n",
    "\n",
    "# Print the first few misclassified examples\n",
    "print(\"\\nMisclassified Examples:\")\n",
    "for idx in misclassified_indices[10:20]:  # Limit to 5 examples\n",
    "    print(f\"Message: {X_test.iloc[idx]}\")\n",
    "    print(f\"True Label: {encoder.inverse_transform([[y_test[idx]]])[0][0]}\")\n",
    "    print(f\"Predicted Label: {encoder.inverse_transform([[y_pred[idx]]])[0][0]}\")\n",
    "    print(\"-\" * 50)"
   ]
  },
  {
   "cell_type": "markdown",
   "id": "c2fdb7b5-4f81-4e4a-9d5b-fc9e2448ece8",
   "metadata": {},
   "source": [
    "### Confusion Matrix"
   ]
  },
  {
   "cell_type": "code",
   "execution_count": 1,
   "id": "fb679128-2a9d-40ba-ad88-754d679819cb",
   "metadata": {},
   "outputs": [],
   "source": [
    "# print/draw a confusion matrix"
   ]
  },
  {
   "cell_type": "markdown",
   "id": "f2a9687f-4439-4c3a-9db0-347445d533ae",
   "metadata": {},
   "source": [
    "## TF-IDF"
   ]
  },
  {
   "cell_type": "markdown",
   "id": "5ef2ba30-d4bb-4de2-8091-bd891efc9bf8",
   "metadata": {},
   "source": [
    "Redo the above analysis with a TF-IDF encoding instead of a Counter (Bag of Words)"
   ]
  },
  {
   "cell_type": "code",
   "execution_count": null,
   "id": "54506353-d230-40be-9d68-538b07dfe9c3",
   "metadata": {},
   "outputs": [],
   "source": []
  },
  {
   "cell_type": "markdown",
   "id": "1cf8e9cc-24cd-4059-bddb-6e088d3c6dde",
   "metadata": {},
   "source": [
    "# Optimize"
   ]
  },
  {
   "cell_type": "markdown",
   "id": "ed853b55-1f38-4718-bf75-ca8dada01546",
   "metadata": {},
   "source": [
    "There are lots of parameters to SVM/SVC. Try them out and see how good you can do!"
   ]
  },
  {
   "cell_type": "code",
   "execution_count": null,
   "id": "c2d39556-a07f-4204-afe6-3cda45c615bb",
   "metadata": {},
   "outputs": [],
   "source": []
  }
 ],
 "metadata": {
  "kernelspec": {
   "display_name": "ML Python",
   "language": "python",
   "name": "myenv"
  },
  "language_info": {
   "codemirror_mode": {
    "name": "ipython",
    "version": 3
   },
   "file_extension": ".py",
   "mimetype": "text/x-python",
   "name": "python",
   "nbconvert_exporter": "python",
   "pygments_lexer": "ipython3",
   "version": "3.11.9"
  }
 },
 "nbformat": 4,
 "nbformat_minor": 5
}
