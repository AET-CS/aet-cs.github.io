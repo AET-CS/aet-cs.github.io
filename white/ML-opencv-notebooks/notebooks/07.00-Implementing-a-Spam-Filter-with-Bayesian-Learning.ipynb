{
    "cells": [
        {
            "cell_type": "markdown",
            "metadata": {
                "collapsed": true,
                "jupyter": {
                    "outputs_hidden": true
                }
            },
            "source": [
                "# Implementing a Spam Filter with Bayesian Learning\n",
                "\n",
                "Before we get to grips with advanced topics, such as cluster analysis, deep learning, and\n",
                "ensemble models, let's turn our attention to a much simpler model that we have overlooked\n",
                "so far: the **naive Bayes classifier**.\n",
                "\n",
                "Naive Bayes classifiers have their roots in **Bayesian inference**, named after famed\n",
                "statistician and philosopher Thomas Bayes (1701-1761). **Bayes' theorem** famously describes\n",
                "the **probability** of an event based on **prior knowledge** of conditions that might lead to the\n",
                "event. We can use Bayes' theorem to build a statistical model that can not only classify data\n",
                "but also provide us with an estimate of how likely it is that our classification is correct. In\n",
                "our case, we can use Bayesian inference to dismiss an email as spam with high confidence,\n",
                "and to determine the probability of a woman having breast cancer, given a positive\n",
                "screening test.\n",
                "\n",
                "We have now gained enough experience with the mechanics of implementing machine\n",
                "learning methods, and so we should no longer be afraid to try and understand the theory\n",
                "behind them. Don't worry, we won't write a book on it (ahem), but we need some\n",
                "understanding of the theory to appreciate a model's inner workings. After that, I am sure\n",
                "you will find that Bayesian classifiers are easy to implement, computationally efficient, and\n",
                "tend to perform quite well on relatively small datasets.\n",
                "\n",
                "Along the way, we also want to address the following questions:\n",
                "- What makes a naive Bayes classifier so darn naive in the first place?\n",
                "- What is the difference between discriminative and generative models?\n",
                "- How do I implement Bayesian classifiers in OpenCV and how do I use them to detect fraudulent email messages?\n",
                "\n",
                "## Outline\n",
                "- [Implementing Our First Bayesian Classifier](07.01-Implementing-Our-First-Bayesian-Classifier.ipynb)\n",
                "- [Classifying E-Mails Using Naive Bayes](07.02-Classifying-Emails-Using-Naive-Bayes.ipynb)"
            ]
        }
    ],
    "metadata": {
        "kernelspec": {
            "display_name": "Python 3 (ipykernel)",
            "language": "python",
            "name": "python3"
        },
        "language_info": {
            "codemirror_mode": {
                "name": "ipython",
                "version": 3
            },
            "file_extension": ".py",
            "mimetype": "text/x-python",
            "name": "python",
            "nbconvert_exporter": "python",
            "pygments_lexer": "ipython3",
            "version": "3.11.9"
        }
    },
    "nbformat": 4,
    "nbformat_minor": 4
}