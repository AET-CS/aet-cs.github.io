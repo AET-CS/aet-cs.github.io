{
 "cells": [
  {
   "cell_type": "markdown",
   "id": "7e9349d0",
   "metadata": {},
   "source": [
    "# Poisoned Mushroom Dataset"
   ]
  },
  {
   "cell_type": "markdown",
   "id": "382f85ee",
   "metadata": {},
   "source": [
    "We are going to take a quick tour of machine learning by working on an example dataset. The mushroom dataset\n",
    "categorizes mushrooms as 'poisonous' or 'edible' and collects several descriptive properties of each mushroom example."
   ]
  },
  {
   "cell_type": "code",
   "execution_count": null,
   "id": "771ea7b9-e7de-43c7-96ae-bc3a30862715",
   "metadata": {},
   "outputs": [],
   "source": [
    "import pandas as pd\n",
    "import os"
   ]
  },
  {
   "cell_type": "markdown",
   "id": "c1121f80",
   "metadata": {},
   "source": [
    "## Loading the dataset"
   ]
  },
  {
   "cell_type": "code",
   "execution_count": null,
   "id": "95d691a5-1638-4953-b929-761a8095a773",
   "metadata": {},
   "outputs": [],
   "source": [
    "!wget https://aet-cs.github.io/white/ML/lessons/mushroom.csv\n",
    "data_root = \"./\"\n",
    "filename = \"mushroom.csv\"\n",
    "filepath = os.path.join(data_root, filename)\n",
    "df = pd.read_csv(filepath)\n",
    "df"
   ]
  },
  {
   "cell_type": "code",
   "execution_count": null,
   "id": "a363da42-73b6-4d09-b1c6-f885b020c633",
   "metadata": {},
   "outputs": [],
   "source": [
    "df.describe()"
   ]
  },
  {
   "cell_type": "markdown",
   "id": "b7c00c5e",
   "metadata": {},
   "source": [
    "## Data Exploration"
   ]
  },
  {
   "cell_type": "markdown",
   "id": "66b733f8-c4db-41d1-8e9e-ac316c0b8ecb",
   "metadata": {},
   "source": [
    "Show all the columns. Notice the target is the first column!"
   ]
  },
  {
   "cell_type": "code",
   "execution_count": null,
   "id": "91eae28c-7318-4630-b527-3cb6763babeb",
   "metadata": {},
   "outputs": [],
   "source": [
    "df.columns"
   ]
  },
  {
   "cell_type": "markdown",
   "id": "b5a2457e-739c-41ca-a91e-bbabbd5686f5",
   "metadata": {},
   "source": [
    "Get the size of the dataframe"
   ]
  },
  {
   "cell_type": "code",
   "execution_count": null,
   "id": "7b8d5fcc-1043-427a-9264-6f0a5deeb995",
   "metadata": {},
   "outputs": [],
   "source": [
    "df.shape"
   ]
  },
  {
   "cell_type": "markdown",
   "id": "3e22afb6-b203-4542-9c36-f4910be75a60",
   "metadata": {},
   "source": [
    "Let's peek at the target"
   ]
  },
  {
   "cell_type": "code",
   "execution_count": null,
   "id": "2c1e74a9-08b9-4e73-8855-8af51df9a2ea",
   "metadata": {},
   "outputs": [],
   "source": [
    "df['class']"
   ]
  },
  {
   "cell_type": "markdown",
   "id": "a2d5b6d9-e9dc-4bc6-808f-a5a5523f585c",
   "metadata": {},
   "source": [
    "This dataset has a LOT of \"N/A\" datapoints. One way to clean the data is to drop all affected rows"
   ]
  },
  {
   "cell_type": "code",
   "execution_count": null,
   "id": "635ab8ad-939b-4451-ae75-7414cc9436f1",
   "metadata": {},
   "outputs": [],
   "source": [
    "df.dropna().shape"
   ]
  },
  {
   "cell_type": "markdown",
   "id": "13baf05c-9ed1-4d7f-a794-3f8d6ae332d5",
   "metadata": {},
   "source": [
    "But this *significantly* reduces our dataset. Let's instead use a data imputation strategy that fills the N/A with the *mode*"
   ]
  },
  {
   "cell_type": "code",
   "execution_count": null,
   "id": "90fc05fd-0f98-4d68-bce8-4bf9c3cd77db",
   "metadata": {},
   "outputs": [],
   "source": [
    "for c in df.columns:\n",
    "    df = df.fillna({c: df[c].mode()})"
   ]
  },
  {
   "cell_type": "markdown",
   "id": "5aebfa3d-f8c3-4da8-a28f-fdc8bbe6f40f",
   "metadata": {},
   "source": [
    "Look at df again"
   ]
  },
  {
   "cell_type": "code",
   "execution_count": null,
   "id": "63191ab4-1b33-49fe-b9c3-8a9cfce68f7d",
   "metadata": {},
   "outputs": [],
   "source": [
    "df"
   ]
  },
  {
   "cell_type": "markdown",
   "id": "df21f38d-9f68-46ca-bf03-682cd3e49315",
   "metadata": {},
   "source": [
    "Let's see what the classifications are and how balanced the dataset is."
   ]
  },
  {
   "cell_type": "code",
   "execution_count": null,
   "id": "e7f294dd-8f1e-47dd-9a12-9656ba1e893f",
   "metadata": {},
   "outputs": [],
   "source": [
    "df['class'].value_counts()"
   ]
  },
  {
   "cell_type": "markdown",
   "id": "33d056df-7b9b-41db-8760-f1dec051f951",
   "metadata": {},
   "source": [
    "We'll introduce a new plotting library -- \"seaborn\", which has some advantages over matplotlib. Here we show how to quickly make a histogram from a dataframe. Seaborn works nicely with pandas dataframes."
   ]
  },
  {
   "cell_type": "code",
   "execution_count": null,
   "id": "fd3c5ce9-dbfb-4bed-8105-8587a23c35c6",
   "metadata": {},
   "outputs": [],
   "source": [
    "import seaborn as sns\n",
    "from matplotlib import pyplot as plt\n",
    "\n",
    "# Count plot\n",
    "sns.countplot(x='class', data=df)\n",
    "plt.title('Count Plot of Class Frequencies')\n",
    "plt.xlabel('Class')\n",
    "plt.ylabel('Frequency')\n",
    "plt.show()\n"
   ]
  },
  {
   "cell_type": "markdown",
   "id": "cdc198c6-6a81-4ced-bb41-5316396d5051",
   "metadata": {},
   "source": [
    "As another example let's plot the \"cap color\" feature."
   ]
  },
  {
   "cell_type": "code",
   "execution_count": null,
   "id": "d89439c0",
   "metadata": {},
   "outputs": [],
   "source": [
    "# Count plot\n",
    "sns.countplot(x='cap-color', data=df, )\n",
    "plt.title('Count Plot of Cap Color Frequencies')\n",
    "plt.xlabel('Cap Color')\n",
    "plt.ylabel('Frequency')\n",
    "plt.show()\n"
   ]
  },
  {
   "cell_type": "markdown",
   "id": "7a2f82fe-774f-4a74-98f8-8a14a4a5e343",
   "metadata": {},
   "source": [
    "I wonder how the color correlates to the outcome -- are some color more poisonous? We'll do some pandas work to make this summary for us."
   ]
  },
  {
   "cell_type": "code",
   "execution_count": null,
   "id": "618f14e5",
   "metadata": {},
   "outputs": [],
   "source": [
    "# Count observations by color and toxicity\n",
    "counts = df.groupby(['cap-color', 'class']).size().reset_index(name='count')"
   ]
  },
  {
   "cell_type": "code",
   "execution_count": null,
   "id": "931ce993-ecce-4aee-98b6-df53b08a66f6",
   "metadata": {},
   "outputs": [],
   "source": [
    "# Create the bar plot\n",
    "plt.figure(figsize=(10, 6))\n",
    "sns.barplot(x='cap-color', y='count', hue='class', data=counts, palette={'p': 'blue', 'e': 'red'})\n",
    "\n",
    "# Add plot title and labels\n",
    "plt.title('Distribution of Mushroom Colors with Poisonous Indication')\n",
    "plt.xlabel('Color')\n",
    "plt.ylabel('Count')\n",
    "plt.legend(title='Toxicity', labels=['Edible', 'Poisonous'])\n",
    "\n",
    "# Show the plot\n",
    "plt.show()"
   ]
  },
  {
   "cell_type": "code",
   "execution_count": null,
   "id": "405b65e9-f10a-4d98-b812-4fadff77660f",
   "metadata": {
    "scrolled": true
   },
   "outputs": [],
   "source": [
    "df.describe()"
   ]
  },
  {
   "cell_type": "code",
   "execution_count": null,
   "id": "e8187689-c4d0-4181-aff4-666b0a43138b",
   "metadata": {},
   "outputs": [],
   "source": [
    "# Count observations by color and toxicity\n",
    "counts = df.groupby(['odor', 'class']).size().reset_index(name='count')"
   ]
  },
  {
   "cell_type": "code",
   "execution_count": null,
   "id": "2e3c3a6c-4d7b-4fed-befe-0ef7f74147fe",
   "metadata": {},
   "outputs": [],
   "source": [
    "# Create the bar plot\n",
    "plt.figure(figsize=(10, 6))\n",
    "sns.barplot(x='odor', y='count', hue='class', data=counts, palette={'p': 'blue', 'e': 'red'})\n",
    "\n",
    "# Add plot title and labels\n",
    "plt.title('Distribution of Mushroom Odor with Poisonous Indication')\n",
    "plt.xlabel('Odor')\n",
    "plt.ylabel('Count')\n",
    "plt.legend(title='Toxicity', labels=['Edible', 'Poisonous'])\n",
    "\n",
    "# Show the plot\n",
    "plt.show()"
   ]
  },
  {
   "cell_type": "markdown",
   "id": "0bdfeadc-13f3-4041-a954-d46ed9ead5b2",
   "metadata": {},
   "source": [
    "## Correlation matrix heat map"
   ]
  },
  {
   "cell_type": "markdown",
   "id": "7fc020d8-adfa-48de-b9bb-9dabde9499a4",
   "metadata": {},
   "source": [
    "Let's get a quick visual representation of the relationshop between features in this dataset. We'll use a version of a Chi-Squared test on all pairs $(n,m)$ of features in the dataset, including the target"
   ]
  },
  {
   "cell_type": "code",
   "execution_count": null,
   "id": "1cd6565e-12d2-48a1-bfc1-35c44e39e22b",
   "metadata": {},
   "outputs": [],
   "source": [
    "import pandas as pd\n",
    "import numpy as np\n",
    "import seaborn as sns\n",
    "import matplotlib.pyplot as plt\n",
    "from scipy.stats import chi2_contingency\n",
    "\n",
    "# Function to calculate Cramér's V\n",
    "def cramers_v(x, y):\n",
    "    confusion_matrix = pd.crosstab(x, y)\n",
    "    chi2 = chi2_contingency(confusion_matrix)[0]\n",
    "    n = confusion_matrix.sum().sum()\n",
    "    r, k = confusion_matrix.shape\n",
    "    return np.sqrt(chi2 / (n * (min(r, k) - 1)))\n",
    "\n",
    "categorical_columns = df.select_dtypes(include=['object', 'category']).columns\n",
    "corr_matrix = pd.DataFrame(index=categorical_columns, columns=categorical_columns)\n",
    "\n",
    "for col1 in categorical_columns:\n",
    "    for col2 in categorical_columns:\n",
    "        corr_matrix.loc[col1, col2] = cramers_v(df[col1], df[col2])\n",
    "\n",
    "# Convert to numeric values for plotting\n",
    "corr_matrix = corr_matrix.astype(float)\n",
    "corr_matrix"
   ]
  },
  {
   "cell_type": "code",
   "execution_count": null,
   "id": "6625d1c5-3aad-4a3a-8aaf-3fdb5042930c",
   "metadata": {},
   "outputs": [],
   "source": [
    "# Plotting the correlation matrix\n",
    "plt.figure(figsize=(10,8))\n",
    "sns.heatmap(corr_matrix, annot=False, cmap='Blues', square=True, cbar_kws={\"shrink\": .8})\n",
    "plt.title(\"Cramér's V Correlation Matrix for Categorical Features\")\n",
    "plt.show()"
   ]
  },
  {
   "cell_type": "markdown",
   "id": "e406b72a-e7e7-4294-853c-66ec7f36f6bc",
   "metadata": {},
   "source": [
    "Which features seem to be important?"
   ]
  },
  {
   "cell_type": "code",
   "execution_count": null,
   "id": "7ff1e04d-41dd-48b9-97e4-c17ca7351f75",
   "metadata": {},
   "outputs": [],
   "source": [
    "corr_matrix['class'][corr_matrix['class']>0.1]"
   ]
  },
  {
   "cell_type": "markdown",
   "id": "961a4b15-dbfb-4585-86f6-5d0bddd1f444",
   "metadata": {},
   "source": [
    "## Data Modeling"
   ]
  },
  {
   "cell_type": "code",
   "execution_count": null,
   "id": "f5cf2242-b167-4111-a509-ede1e11c8c75",
   "metadata": {},
   "outputs": [],
   "source": [
    "import pandas as pd\n",
    "from sklearn.model_selection import train_test_split\n",
    "from sklearn.preprocessing import LabelEncoder\n",
    "from sklearn.tree import DecisionTreeClassifier\n",
    "from sklearn.metrics import accuracy_score, classification_report\n",
    "\n",
    "df = pd.read_csv(filepath)\n",
    "X = df.drop('class', axis = 1)\n",
    "y = df['class']\n",
    "\n",
    "X = pd.get_dummies(X)\n",
    "df.describe()"
   ]
  },
  {
   "cell_type": "markdown",
   "id": "f2be1f0e",
   "metadata": {},
   "source": [
    "### Decision Tree Classifier"
   ]
  },
  {
   "cell_type": "code",
   "execution_count": null,
   "id": "f9c04f98-a08e-4700-a663-0d2f143c773f",
   "metadata": {},
   "outputs": [],
   "source": [
    "# Split the data into training and testing sets\n",
    "X_train, X_test, y_train, y_test = train_test_split(X, y, test_size=0.2, random_state=42)\n",
    "\n",
    "# Initialize the DecisionTreeClassifier\n",
    "clf = DecisionTreeClassifier(random_state=10, criterion='entropy')\n",
    "\n",
    "# Fit the model\n",
    "clf.fit(X_train, y_train)\n",
    "\n",
    "# Make predictions\n",
    "y_pred = clf.predict(X_test)\n",
    "\n",
    "# Evaluate the model\n",
    "accuracy = accuracy_score(y_test, y_pred)\n",
    "print(f\"Accuracy: {accuracy}\")\n",
    "\n",
    "print(\"Classification Report:\")\n",
    "print(classification_report(y_test, y_pred))"
   ]
  },
  {
   "cell_type": "code",
   "execution_count": null,
   "id": "c641e9dc-e55a-4b53-8ee7-4b16f61ad6f7",
   "metadata": {},
   "outputs": [],
   "source": [
    "from sklearn.metrics import confusion_matrix, ConfusionMatrixDisplay\n",
    "\n",
    "confusion_matrix(y_test, y_pred)"
   ]
  },
  {
   "cell_type": "code",
   "execution_count": null,
   "id": "3bc8d713-cb12-46c1-9ace-d977e48e5b68",
   "metadata": {},
   "outputs": [],
   "source": [
    "# Calculate the confusion matrix\n",
    "cm = confusion_matrix(y_test, y_pred)\n",
    "cm_display = ConfusionMatrixDisplay(confusion_matrix=cm, display_labels=clf.classes_)\n",
    "\n",
    "# Plot the confusion matrix\n",
    "fig, ax = plt.subplots(figsize=(8, 6))\n",
    "sns.heatmap(cm, annot=True, fmt='d', cmap='Blues', xticklabels=clf.classes_, yticklabels=clf.classes_)\n",
    "plt.xlabel('Predicted')\n",
    "plt.ylabel('Actual')\n",
    "plt.title('Confusion Matrix')\n",
    "plt.show()"
   ]
  },
  {
   "cell_type": "markdown",
   "id": "390a17b1",
   "metadata": {},
   "source": [
    "### Testing more methods"
   ]
  },
  {
   "cell_type": "code",
   "execution_count": null,
   "id": "38933f3c",
   "metadata": {},
   "outputs": [],
   "source": [
    "\n",
    "def classifier_tryout(clf, X_train, y_train, X_test, y_test):\n",
    "\tclf.fit(X_train, y_train)\n",
    "\n",
    "\t# Make predictions\n",
    "\ty_pred = clf.predict(X_test)\n",
    "\n",
    "\t# Evaluate the model\n",
    "\taccuracy = accuracy_score(y_test, y_pred)\n",
    "\tprint(f\"Accuracy: {accuracy}\")\n",
    "\n",
    "\tprint(\"Classification Report:\")\n",
    "\tprint(classification_report(y_test, y_pred))"
   ]
  },
  {
   "cell_type": "markdown",
   "id": "06ef4cb1-23c9-468a-8803-0db9dc26ad0b",
   "metadata": {},
   "source": [
    "### Random Forest"
   ]
  },
  {
   "cell_type": "code",
   "execution_count": null,
   "id": "876eb165-83e6-404d-9397-9ca9e0ed0985",
   "metadata": {},
   "outputs": [],
   "source": [
    "from sklearn.ensemble import RandomForestClassifier\n",
    "\n",
    "clf = RandomForestClassifier(random_state=42, class_weight={'e':100, 'p':1})\n",
    "classifier_tryout(clf, X_train, y_train, X_test, y_test)"
   ]
  },
  {
   "cell_type": "markdown",
   "id": "1a69f38e-fbec-461b-9a67-6384638eb203",
   "metadata": {},
   "source": [
    "### Support Vector Machines"
   ]
  },
  {
   "cell_type": "code",
   "execution_count": null,
   "id": "4decd3d2-2549-40f2-8d6f-6dd9a6e9ef6d",
   "metadata": {},
   "outputs": [],
   "source": [
    "from sklearn.svm import SVC\n",
    "\n",
    "# Initialize the RandomForestClassifier\n",
    "clf = SVC(random_state=42, kernel='rbf')\n",
    "classifier_tryout(clf, X_train, y_train, X_test, y_test)"
   ]
  },
  {
   "cell_type": "markdown",
   "id": "aed528e4-5585-4ec9-9fe6-399a1cb54256",
   "metadata": {},
   "source": [
    "### Logistic Regression"
   ]
  },
  {
   "cell_type": "code",
   "execution_count": null,
   "id": "fd9ebd7b-48da-4652-a149-04bcf0bc015e",
   "metadata": {},
   "outputs": [],
   "source": [
    "from sklearn.linear_model import LogisticRegression\n",
    "\n",
    "# Initialize the LogisticRegression\n",
    "clf = LogisticRegression(random_state=42)\n",
    "classifier_tryout(clf, X_train, y_train, X_test, y_test)"
   ]
  },
  {
   "cell_type": "markdown",
   "id": "eb802b79-197a-411d-aec9-c203c956ef30",
   "metadata": {},
   "source": [
    "### k-Nearest Neighbors"
   ]
  },
  {
   "cell_type": "code",
   "execution_count": null,
   "id": "31601aa2-588b-4997-aee2-dbc36e9ea45e",
   "metadata": {},
   "outputs": [],
   "source": [
    "from sklearn.neighbors import KNeighborsClassifier\n",
    "\n",
    "# Initialize the KNeighborsClassifier\n",
    "clf = KNeighborsClassifier(weights='uniform')\n",
    "classifier_tryout(clf, X_train, y_train, X_test, y_test)"
   ]
  },
  {
   "cell_type": "markdown",
   "id": "f9bf489b-b3f8-45c3-8d4d-979e76eb1f7c",
   "metadata": {},
   "source": [
    "### GradientBoost "
   ]
  },
  {
   "cell_type": "code",
   "execution_count": null,
   "id": "3f393c0c-534d-44d7-8b12-3f5659a5117b",
   "metadata": {},
   "outputs": [],
   "source": [
    "from sklearn.ensemble import GradientBoostingClassifier\n",
    "\n",
    "# Initialize the GradientBoostingClassifier\n",
    "clf = GradientBoostingClassifier(random_state=42)\n",
    "classifier_tryout(clf, X_train, y_train, X_test, y_test)"
   ]
  },
  {
   "cell_type": "markdown",
   "id": "74f7245a-3478-4c53-afbf-53c2a9b3e0f4",
   "metadata": {},
   "source": [
    "### Neural Network"
   ]
  },
  {
   "cell_type": "code",
   "execution_count": null,
   "id": "786d1642-2aec-4987-bad9-afe56337cae2",
   "metadata": {},
   "outputs": [],
   "source": [
    "from sklearn.neural_network import MLPClassifier\n",
    "\n",
    "# Initialize the MLPClassifier\n",
    "clf = MLPClassifier(random_state=42, hidden_layer_sizes=(1000,10,), learning_rate='adaptive')\n",
    "classifier_tryout(clf, X_train, y_train, X_test, y_test)"
   ]
  },
  {
   "cell_type": "code",
   "execution_count": null,
   "id": "16de7a29",
   "metadata": {},
   "outputs": [],
   "source": []
  }
 ],
 "metadata": {
  "kernelspec": {
   "display_name": "Python 3 (ipykernel)",
   "language": "python",
   "name": "python3"
  },
  "language_info": {
   "codemirror_mode": {
    "name": "ipython",
    "version": 3
   },
   "file_extension": ".py",
   "mimetype": "text/x-python",
   "name": "python",
   "nbconvert_exporter": "python",
   "pygments_lexer": "ipython3",
   "version": "3.11.9"
  }
 },
 "nbformat": 4,
 "nbformat_minor": 5
}
