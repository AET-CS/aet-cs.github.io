{
 "cells": [
  {
   "cell_type": "markdown",
   "id": "2dc37563",
   "metadata": {
    "editable": true,
    "slideshow": {
     "slide_type": ""
    },
    "tags": []
   },
   "source": [
    "# Introduction to Matrices in NumPy\n",
    "\n",
    "Matrices are a fundamental data structure in scientific computing, and `numpy` provides powerful tools for creating and manipulating matrices. This guide will introduce the basics of working with matrices in `numpy` by covering the following topics:\n",
    "\n",
    "1. **Creating Matrices**\n",
    "2. **Accessing Elements**\n",
    "3. **Basic Matrix Operations**\n",
    "4. **Extracting Rows and Columns**\n",
    "5. **Row and Column Operations**\n",
    "\n",
    "You should read the guide carefully and run the code cells. Feel free to edit individual cells for experimentation.\n",
    "\n",
    "(This guide was created by ChatGPT and edited by Dr. White)\n"
   ]
  },
  {
   "cell_type": "markdown",
   "id": "12b5c5de",
   "metadata": {},
   "source": [
    "## 1. Creating Matrices\n",
    "\n",
    "In `numpy`, matrices are created as 2D arrays. Here are several ways to create them:"
   ]
  },
  {
   "cell_type": "code",
   "execution_count": 1,
   "id": "2e8b7ce7",
   "metadata": {},
   "outputs": [],
   "source": [
    "import numpy as np"
   ]
  },
  {
   "cell_type": "markdown",
   "id": "870d31ea",
   "metadata": {},
   "source": [
    "### a. Creating a Matrix from a List of Lists"
   ]
  },
  {
   "cell_type": "code",
   "execution_count": 2,
   "id": "1a29aaa9",
   "metadata": {},
   "outputs": [
    {
     "data": {
      "text/plain": [
       "array([[1, 2, 3],\n",
       "       [4, 5, 6],\n",
       "       [7, 8, 9]])"
      ]
     },
     "execution_count": 2,
     "metadata": {},
     "output_type": "execute_result"
    }
   ],
   "source": [
    "# Create a 3x3 matrix of ints\n",
    "matrix = np.array([[1, 2, 3], \n",
    "                   [4, 5, 6], \n",
    "                   [7, 8, 9]])\n",
    "matrix"
   ]
  },
  {
   "cell_type": "code",
   "execution_count": 3,
   "id": "202705f6-337c-47a8-8552-60bb15c300e3",
   "metadata": {},
   "outputs": [
    {
     "data": {
      "text/plain": [
       "array([[1., 2., 3.],\n",
       "       [4., 5., 6.],\n",
       "       [7., 8., 9.]])"
      ]
     },
     "execution_count": 3,
     "metadata": {},
     "output_type": "execute_result"
    }
   ],
   "source": [
    "# Create a 3x3 matrix with 64-bit float data types\n",
    "matrix = np.array([[1, 2, 3], \n",
    "                   [4, 5, 6], \n",
    "                   [7, 8, 9]], np.float64)\n",
    "matrix"
   ]
  },
  {
   "cell_type": "markdown",
   "id": "c736ed7d",
   "metadata": {},
   "source": [
    "### b. Creating Matrices with Built-in Functions"
   ]
  },
  {
   "cell_type": "code",
   "execution_count": 4,
   "id": "791537e4",
   "metadata": {},
   "outputs": [
    {
     "data": {
      "text/plain": [
       "(array([[0., 0., 0.],\n",
       "        [0., 0., 0.],\n",
       "        [0., 0., 0.]]),\n",
       " array([[1., 1., 1.],\n",
       "        [1., 1., 1.],\n",
       "        [1., 1., 1.]]),\n",
       " array([[1., 0., 0.],\n",
       "        [0., 1., 0.],\n",
       "        [0., 0., 1.]]),\n",
       " array([[0.49063027, 0.47861587, 0.11078589],\n",
       "        [0.57207154, 0.10175029, 0.50037231],\n",
       "        [0.64202198, 0.56259134, 0.54402287]]))"
      ]
     },
     "execution_count": 4,
     "metadata": {},
     "output_type": "execute_result"
    }
   ],
   "source": [
    "# Create a 3x3 matrix of zeros\n",
    "zeros_matrix = np.zeros((3, 3))\n",
    "\n",
    "# Create a 3x3 matrix of ones\n",
    "ones_matrix = np.ones((3, 3))\n",
    "\n",
    "# Create a 3x3 identity matrix\n",
    "identity_matrix = np.eye(3)\n",
    "\n",
    "# Create a 3x3 matrix with random values\n",
    "random_matrix = np.random.rand(3, 3)\n",
    "\n",
    "zeros_matrix, ones_matrix, identity_matrix, random_matrix"
   ]
  },
  {
   "cell_type": "markdown",
   "id": "db736506",
   "metadata": {},
   "source": [
    "## 2. Accessing Elements\n",
    "\n",
    "You can access elements, rows, or columns of a matrix using indexing and slicing:"
   ]
  },
  {
   "cell_type": "markdown",
   "id": "e38a527c",
   "metadata": {},
   "source": [
    "### a. Accessing Individual Elements"
   ]
  },
  {
   "cell_type": "code",
   "execution_count": 5,
   "id": "06b480ca",
   "metadata": {},
   "outputs": [
    {
     "data": {
      "text/plain": [
       "6.0"
      ]
     },
     "execution_count": 5,
     "metadata": {},
     "output_type": "execute_result"
    }
   ],
   "source": [
    "# Access element at row 1, column 2 (remember, indexing starts from 0)\n",
    "element = matrix[1, 2]\n",
    "element"
   ]
  },
  {
   "cell_type": "markdown",
   "id": "0a1c8908",
   "metadata": {},
   "source": [
    "### b. Accessing Rows and Columns"
   ]
  },
  {
   "cell_type": "code",
   "execution_count": 6,
   "id": "eae5f7c6",
   "metadata": {},
   "outputs": [
    {
     "data": {
      "text/plain": [
       "(array([4., 5., 6.]), array([3., 6., 9.]))"
      ]
     },
     "execution_count": 6,
     "metadata": {},
     "output_type": "execute_result"
    }
   ],
   "source": [
    "# Access the second row (index 1)\n",
    "second_row = matrix[1, :]\n",
    "\n",
    "# Access the third column (index 2)\n",
    "third_column = matrix[:, 2]\n",
    "\n",
    "second_row, third_column"
   ]
  },
  {
   "cell_type": "markdown",
   "id": "bcf242d0-1f11-4a3b-bd86-4355c1eff003",
   "metadata": {},
   "source": [
    "### c. Modifying parts of a matrix"
   ]
  },
  {
   "cell_type": "code",
   "execution_count": 7,
   "id": "fdc26581-34b4-474d-8077-e49e7e54be61",
   "metadata": {},
   "outputs": [
    {
     "data": {
      "text/plain": [
       "(array([[1., 2., 3.],\n",
       "        [5., 6., 7.],\n",
       "        [7., 8., 9.]]),\n",
       " array([[1., 2., 3.],\n",
       "        [5., 6., 7.],\n",
       "        [7., 8., 9.]]))"
      ]
     },
     "execution_count": 7,
     "metadata": {},
     "output_type": "execute_result"
    }
   ],
   "source": [
    "matrix_2 = matrix\n",
    "matrix_2[1,:] = matrix_2[1,:] + 1\n",
    "matrix, matrix_2"
   ]
  },
  {
   "cell_type": "markdown",
   "id": "40fe4221-037e-4973-bb13-c1eb44917f98",
   "metadata": {},
   "source": [
    "### d. Matrix references"
   ]
  },
  {
   "cell_type": "markdown",
   "id": "3694d1e8-54a4-436f-9721-bb71843d5b08",
   "metadata": {},
   "source": [
    "Notice the above matrix_2 copied a reference to matrix so any change to one changed both. To duplicate a matrix you need to create a new matrix. Notice the two are different in the following cell."
   ]
  },
  {
   "cell_type": "code",
   "execution_count": 8,
   "id": "8d5e47b6-0567-4909-a94d-863db2efd77e",
   "metadata": {},
   "outputs": [
    {
     "data": {
      "text/plain": [
       "(array([[1., 2., 3.],\n",
       "        [5., 6., 7.],\n",
       "        [7., 8., 9.]]),\n",
       " array([[1.  , 2.  , 3.  ],\n",
       "        [0.05, 0.06, 0.07],\n",
       "        [7.  , 8.  , 9.  ]]))"
      ]
     },
     "execution_count": 8,
     "metadata": {},
     "output_type": "execute_result"
    }
   ],
   "source": [
    "matrix_2 = np.array(matrix)\n",
    "matrix_2[1,:] = matrix_2[1,:] / 100\n",
    "matrix, matrix_2"
   ]
  },
  {
   "cell_type": "markdown",
   "id": "a38d1f57",
   "metadata": {},
   "source": [
    "## 3. Basic Matrix Operations\n",
    "\n",
    "NumPy allows you to perform various matrix operations easily."
   ]
  },
  {
   "cell_type": "markdown",
   "id": "4b66d5c0",
   "metadata": {},
   "source": [
    "### a. Matrix Addition and Subtraction"
   ]
  },
  {
   "cell_type": "code",
   "execution_count": 9,
   "id": "9905d559",
   "metadata": {},
   "outputs": [
    {
     "data": {
      "text/plain": [
       "(array([[ 2.,  2.,  3.],\n",
       "        [ 5.,  7.,  7.],\n",
       "        [ 7.,  8., 10.]]),\n",
       " array([[0., 2., 3.],\n",
       "        [5., 5., 7.],\n",
       "        [7., 8., 8.]]))"
      ]
     },
     "execution_count": 9,
     "metadata": {},
     "output_type": "execute_result"
    }
   ],
   "source": [
    "# Add two matrices\n",
    "result_add = matrix + identity_matrix\n",
    "\n",
    "# Subtract two matrices\n",
    "result_subtract = matrix - identity_matrix\n",
    "\n",
    "result_add, result_subtract"
   ]
  },
  {
   "cell_type": "markdown",
   "id": "d259b541",
   "metadata": {},
   "source": [
    "### b. Matrix Multiplication"
   ]
  },
  {
   "cell_type": "code",
   "execution_count": 10,
   "id": "eb31cc2d",
   "metadata": {},
   "outputs": [
    {
     "data": {
      "text/plain": [
       "(array([[ 1.,  4.,  9.],\n",
       "        [25., 36., 49.],\n",
       "        [49., 64., 81.]]),\n",
       " array([[1., 2., 3.],\n",
       "        [5., 6., 7.],\n",
       "        [7., 8., 9.]]),\n",
       " array([[1., 2., 3.],\n",
       "        [5., 6., 7.],\n",
       "        [7., 8., 9.]]))"
      ]
     },
     "execution_count": 10,
     "metadata": {},
     "output_type": "execute_result"
    }
   ],
   "source": [
    "# Element-wise multiplication\n",
    "element_wise_product = matrix * matrix\n",
    "\n",
    "# Matrix multiplication, two ways\n",
    "matrix_product = np.dot(matrix, identity_matrix)\n",
    "mp = matrix @ identity_matrix\n",
    "\n",
    "element_wise_product, matrix_product, mp"
   ]
  },
  {
   "cell_type": "markdown",
   "id": "23979786",
   "metadata": {},
   "source": [
    "### c. Transpose of a Matrix"
   ]
  },
  {
   "cell_type": "code",
   "execution_count": 11,
   "id": "c32379bb",
   "metadata": {},
   "outputs": [
    {
     "data": {
      "text/plain": [
       "array([[1., 5., 7.],\n",
       "       [2., 6., 8.],\n",
       "       [3., 7., 9.]])"
      ]
     },
     "execution_count": 11,
     "metadata": {},
     "output_type": "execute_result"
    }
   ],
   "source": [
    "# Transpose the matrix\n",
    "transpose_matrix = matrix.T\n",
    "transpose_matrix"
   ]
  },
  {
   "cell_type": "markdown",
   "id": "488496f1",
   "metadata": {},
   "source": [
    "### d. Determinant and Inverse"
   ]
  },
  {
   "cell_type": "code",
   "execution_count": 12,
   "id": "ed0288d0",
   "metadata": {},
   "outputs": [
    {
     "data": {
      "text/plain": [
       "(-5.329070518200744e-15,\n",
       " array([[ 3.75299969e+14, -1.12589991e+15,  7.50599938e+14],\n",
       "        [-7.50599938e+14,  2.25179981e+15, -1.50119988e+15],\n",
       "        [ 3.75299969e+14, -1.12589991e+15,  7.50599938e+14]]))"
      ]
     },
     "execution_count": 12,
     "metadata": {},
     "output_type": "execute_result"
    }
   ],
   "source": [
    "# Calculate the determinant\n",
    "determinant = np.linalg.det(matrix)\n",
    "\n",
    "# Calculate the inverse (if the matrix is invertible)\n",
    "inverse_matrix = np.linalg.inv(matrix) if determinant != 0 else None\n",
    "\n",
    "determinant, inverse_matrix"
   ]
  },
  {
   "cell_type": "markdown",
   "id": "15d0d22c",
   "metadata": {},
   "source": [
    "## 4. Extracting Rows and Columns"
   ]
  },
  {
   "cell_type": "markdown",
   "id": "7fbcac53",
   "metadata": {},
   "source": [
    "### a. Extracting Rows"
   ]
  },
  {
   "cell_type": "code",
   "execution_count": 13,
   "id": "0ed28dac",
   "metadata": {},
   "outputs": [
    {
     "data": {
      "text/plain": [
       "array([1., 2., 3.])"
      ]
     },
     "execution_count": 13,
     "metadata": {},
     "output_type": "execute_result"
    }
   ],
   "source": [
    "# Extract the first row (index 0)\n",
    "first_row = matrix[0, :]\n",
    "first_row"
   ]
  },
  {
   "cell_type": "markdown",
   "id": "917be47a",
   "metadata": {},
   "source": [
    "### b. Extracting Columns"
   ]
  },
  {
   "cell_type": "code",
   "execution_count": 14,
   "id": "933cfd1f",
   "metadata": {},
   "outputs": [
    {
     "data": {
      "text/plain": [
       "(array([2., 6., 8.]), array([3., 7., 9.]))"
      ]
     },
     "execution_count": 14,
     "metadata": {},
     "output_type": "execute_result"
    }
   ],
   "source": [
    "# Extract the second column (index 1)\n",
    "second_column = matrix[:, 1]\n",
    "\n",
    "# Extract the last column (index -1)\n",
    "last_column  = matrix[:,-1]\n",
    "\n",
    "second_column, last_column\n"
   ]
  },
  {
   "cell_type": "markdown",
   "id": "55d458b2",
   "metadata": {},
   "source": [
    "### c. Extracting Submatrices"
   ]
  },
  {
   "cell_type": "code",
   "execution_count": 15,
   "id": "7285d8d4",
   "metadata": {},
   "outputs": [
    {
     "data": {
      "text/plain": [
       "array([[1., 2.],\n",
       "       [5., 6.]])"
      ]
     },
     "execution_count": 15,
     "metadata": {},
     "output_type": "execute_result"
    }
   ],
   "source": [
    "# Extract a 2x2 submatrix from the top-left corner\n",
    "submatrix = matrix[0:2, 0:2]\n",
    "submatrix"
   ]
  },
  {
   "cell_type": "markdown",
   "id": "163d32cc",
   "metadata": {},
   "source": [
    "## 5. Row and Column Operations"
   ]
  },
  {
   "cell_type": "markdown",
   "id": "fe179012",
   "metadata": {},
   "source": [
    "### a. Sum, Mean, and Other Operations on Rows/Columns"
   ]
  },
  {
   "cell_type": "code",
   "execution_count": 16,
   "id": "6c887fdd",
   "metadata": {},
   "outputs": [
    {
     "data": {
      "text/plain": [
       "(array([ 6., 18., 24.]), array([4.33333333, 5.33333333, 6.33333333]))"
      ]
     },
     "execution_count": 16,
     "metadata": {},
     "output_type": "execute_result"
    }
   ],
   "source": [
    "# Sum of each row\n",
    "row_sum = np.sum(matrix, axis=1)\n",
    "\n",
    "# Mean of each column\n",
    "column_mean = np.mean(matrix, axis=0)\n",
    "\n",
    "row_sum, column_mean"
   ]
  },
  {
   "cell_type": "markdown",
   "id": "f2736f23",
   "metadata": {},
   "source": [
    "### b. Adding Rows/Columns"
   ]
  },
  {
   "cell_type": "code",
   "execution_count": 17,
   "id": "984d4cca",
   "metadata": {},
   "outputs": [
    {
     "data": {
      "text/plain": [
       "(array([[ 1.,  2.,  3.],\n",
       "        [ 5.,  6.,  7.],\n",
       "        [ 7.,  8.,  9.],\n",
       "        [10., 11., 12.]]),\n",
       " array([[ 1.,  2.,  3., 10.],\n",
       "        [ 5.,  6.,  7., 11.],\n",
       "        [ 7.,  8.,  9., 12.]]))"
      ]
     },
     "execution_count": 17,
     "metadata": {},
     "output_type": "execute_result"
    }
   ],
   "source": [
    "# Add a row (shape should match)\n",
    "new_matrix_row = np.vstack([matrix, [10, 11, 12]])\n",
    "\n",
    "# Add a column (shape should match)\n",
    "new_matrix_column = np.hstack([matrix, [[10], [11], [12]]])\n",
    "\n",
    "new_matrix_row, new_matrix_column"
   ]
  },
  {
   "cell_type": "markdown",
   "id": "ffaad9fb",
   "metadata": {},
   "source": [
    "### c. Deleting Rows/Columns"
   ]
  },
  {
   "cell_type": "code",
   "execution_count": 18,
   "id": "03266470",
   "metadata": {},
   "outputs": [
    {
     "data": {
      "text/plain": [
       "(array([[5., 6., 7.],\n",
       "        [7., 8., 9.]]),\n",
       " array([[1., 3.],\n",
       "        [5., 7.],\n",
       "        [7., 9.]]))"
      ]
     },
     "execution_count": 18,
     "metadata": {},
     "output_type": "execute_result"
    }
   ],
   "source": [
    "# Delete the first row (index 0)\n",
    "matrix_without_first_row = np.delete(matrix, 0, axis=0)\n",
    "\n",
    "# Delete the second column (index 1)\n",
    "matrix_without_second_column = np.delete(matrix, 1, axis=1)\n",
    "\n",
    "matrix_without_first_row, matrix_without_second_column"
   ]
  },
  {
   "cell_type": "markdown",
   "id": "c155841d",
   "metadata": {},
   "source": [
    "### d. Replacing Rows/Columns"
   ]
  },
  {
   "cell_type": "code",
   "execution_count": null,
   "id": "227c8f3e",
   "metadata": {},
   "outputs": [],
   "source": [
    "# Replace the first row\n",
    "matrix[0, :] = [10, 11, 12]\n",
    "\n",
    "# Replace the third column\n",
    "matrix[:, 2] = [13, 14, 15]\n",
    "\n",
    "matrix"
   ]
  }
 ],
 "metadata": {
  "kernelspec": {
   "display_name": "Python 3 (ipykernel)",
   "language": "python",
   "name": "python3"
  },
  "language_info": {
   "codemirror_mode": {
    "name": "ipython",
    "version": 3
   },
   "file_extension": ".py",
   "mimetype": "text/x-python",
   "name": "python",
   "nbconvert_exporter": "python",
   "pygments_lexer": "ipython3",
   "version": "3.10.12"
  }
 },
 "nbformat": 4,
 "nbformat_minor": 5
}
