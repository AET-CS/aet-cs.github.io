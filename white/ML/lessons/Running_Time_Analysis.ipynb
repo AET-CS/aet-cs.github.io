{
 "cells": [
  {
   "cell_type": "markdown",
   "id": "cd0b0a73-c11c-4e44-bda0-d7ca8bb0dc4c",
   "metadata": {},
   "source": [
    "# Running Time Analysis"
   ]
  },
  {
   "cell_type": "markdown",
   "id": "6c225352-2fd4-4a87-ab48-526902f042f1",
   "metadata": {},
   "source": [
    "Use numpy and pandas for this lab. Download the csv file \"matrix_multiply_times.csv\" and put it in this folder"
   ]
  },
  {
   "cell_type": "code",
   "execution_count": null,
   "id": "b372f7e2-8fc8-4753-90a5-2e87932a43fb",
   "metadata": {},
   "outputs": [],
   "source": [
    "!wget https://aet-cs.github.io/white/ML/lessons/matrix_multiply_times.csv"
   ]
  },
  {
   "cell_type": "markdown",
   "id": "d616a40f-2692-4da2-bf53-e3af5a80f7a1",
   "metadata": {},
   "source": [
    "Read the csv as a DataFrame and display it (`pd.read_csv` will help)"
   ]
  },
  {
   "cell_type": "code",
   "execution_count": null,
   "id": "5ee0b4cc-1087-4acc-be36-391059a063e8",
   "metadata": {},
   "outputs": [],
   "source": []
  },
  {
   "cell_type": "markdown",
   "id": "aba39b6c-6486-476c-b6a7-0113770c507a",
   "metadata": {},
   "source": [
    "Drop the column \"Matrix row size\" and save it as a *new* dataframe (I like to use the names df,df2,df3,etc as I do this kind of work) (read about `df.drop`)"
   ]
  },
  {
   "cell_type": "code",
   "execution_count": null,
   "id": "ca8836d3-4ff5-46cc-89d4-26f9b8b202ce",
   "metadata": {},
   "outputs": [],
   "source": []
  },
  {
   "cell_type": "markdown",
   "id": "f8614584-78a3-41c9-acc2-a48f34f18937",
   "metadata": {},
   "source": [
    "Plot the data frame data, `x` is the 'exp' column, the `y` values are the other columns (times in seconds). Use pandas e.g.\n",
    "```python\n",
    "df2.plot(...)\n",
    "```"
   ]
  },
  {
   "cell_type": "code",
   "execution_count": null,
   "id": "a6dac9f3-8079-4de7-b77b-1420e3ec263f",
   "metadata": {},
   "outputs": [],
   "source": []
  },
  {
   "cell_type": "markdown",
   "id": "1748bde3-908b-4c93-8247-67d28806ff1b",
   "metadata": {},
   "source": [
    "Add new columns that represent the log transformations of the existing time columns, because we want a log-log analysis eventually. Here's an example\n",
    "```python\n",
    "df2['strass_log'] = np.log(df['Strassen Time']) ## PLEASE use tab-completion for this!\n",
    "```\n",
    "Then *drop* the old (non-log) columns. Store the result in a *new* data frame that has only 5 columns (one 'exp' and four log-times)"
   ]
  },
  {
   "cell_type": "code",
   "execution_count": null,
   "id": "6b1ef558-978c-49f6-b25c-bfc4b6a1994a",
   "metadata": {},
   "outputs": [],
   "source": []
  },
  {
   "cell_type": "markdown",
   "id": "5784b499-9058-4b57-9acc-1cd1334fbd13",
   "metadata": {},
   "source": [
    "Plot the new dataframe line plots: x vs. log-times"
   ]
  },
  {
   "cell_type": "markdown",
   "id": "b85f343d-54c9-497f-8c7d-7719242fc9b4",
   "metadata": {},
   "source": [
    "Now we want to do a log-log regression. You will need numpy. Luckily pandas and numpy play nicely together. For example you could say\n",
    "```python\n",
    "df = #some dataframe\n",
    "x = df['x']\n",
    "y = df['y']\n",
    "coeffs = np.polyfit(x,y,1)\n",
    "```\n",
    "And you can even add in things like\n",
    "```python\n",
    "y = np.log(y)\n",
    "x = 2**x\n",
    "x = x**2\n",
    "y = y + np.sqrt(y)\n",
    "```\n",
    "for example\n",
    "\n",
    "Do the log-log regressions and print out a table in this format\n",
    "```\n",
    "   algorithm name, rate of growth (degree), corrcoeff\n",
    "```\n",
    "Recall you can get corrcoeff from\n",
    "```python\n",
    "np.corrcoeff(x,y)[0,1]\n",
    "```\n"
   ]
  },
  {
   "cell_type": "code",
   "execution_count": null,
   "id": "3afdb7d5-0624-40e7-9be4-c005e688dd95",
   "metadata": {},
   "outputs": [],
   "source": []
  },
  {
   "cell_type": "markdown",
   "id": "dce73752-9b4c-4347-b185-af11518cb726",
   "metadata": {},
   "source": [
    "You should notice some problems in your results, and the problems will depend on what you did above. What did you expect and how does it compare to what you got? Now your \n",
    "job is to fix it. Here are some things to consider\n",
    "*  Some regression may not even work because it doesn't like the data\n",
    "*  Are the units of your \"x\" column in the regression correct? (They should be log of the row length)\n",
    "*  What base are you using with the logs and are you consistent?\n",
    "*  Small values of $n$ might be skewing the data. Filter them out (see below)\n",
    "*  Rows with NA value are also problematic. Drop them judiciously\n",
    "*  Make sure you understand how to interpret the regression equations and numpy results\n",
    "\n",
    "Work through the Pandas filtering tricks section and then do your analysis afterwards."
   ]
  },
  {
   "cell_type": "markdown",
   "id": "8c0272d0-e2b4-4851-8729-d20fae643d3d",
   "metadata": {},
   "source": [
    "## Pandas filtering tricks"
   ]
  },
  {
   "cell_type": "code",
   "execution_count": null,
   "id": "7ae6640f-f561-4986-ba75-1280ef9e0c4a",
   "metadata": {},
   "outputs": [],
   "source": [
    "import pandas as pd\n",
    "import numpy as np"
   ]
  },
  {
   "cell_type": "code",
   "execution_count": null,
   "id": "bbc42a9b-e692-40c1-8fac-11868d7bc10c",
   "metadata": {},
   "outputs": [],
   "source": [
    "df = pd.DataFrame({'x': [1,2,3,10,20,-10,np.nan], 'y':[5,4,3,4,1,0,9]})\n",
    "df['log_y'] = np.log2(df['y'])"
   ]
  },
  {
   "cell_type": "code",
   "execution_count": null,
   "id": "2a7d2cd0-d58a-4234-9480-017aae7a031a",
   "metadata": {},
   "outputs": [],
   "source": [
    "df"
   ]
  },
  {
   "cell_type": "markdown",
   "id": "96c9099e-05d5-49e0-8926-3fd1274de008",
   "metadata": {},
   "source": [
    "You can index columns by boolean comparisons"
   ]
  },
  {
   "cell_type": "code",
   "execution_count": null,
   "id": "aa608327-4b79-4f79-bf12-59181f9b6f82",
   "metadata": {},
   "outputs": [],
   "source": [
    "df[df.x>5]"
   ]
  },
  {
   "cell_type": "markdown",
   "id": "93590e4b-5b32-4ec4-9ec9-3695fa363c32",
   "metadata": {},
   "source": [
    "This just returns a list of T/F values"
   ]
  },
  {
   "cell_type": "code",
   "execution_count": null,
   "id": "52e2d2c8-a89b-48f9-a50e-fb02e3f751ff",
   "metadata": {},
   "outputs": [],
   "source": [
    "df.x>5"
   ]
  },
  {
   "cell_type": "markdown",
   "id": "0cbb341f-e7f0-4b6b-ab02-0708556cd057",
   "metadata": {},
   "source": [
    "Here's a different syntax"
   ]
  },
  {
   "cell_type": "code",
   "execution_count": null,
   "id": "086e642b-835b-4ff4-bd4a-b79ad4485b5f",
   "metadata": {},
   "outputs": [],
   "source": [
    "df['x']<5"
   ]
  },
  {
   "cell_type": "code",
   "execution_count": null,
   "id": "6548d9e2-9e1d-48a8-a3f1-f7b1305bfc65",
   "metadata": {},
   "outputs": [],
   "source": [
    "df['log_y']==-np.inf"
   ]
  },
  {
   "cell_type": "markdown",
   "id": "6fd835db-db80-4816-b28c-c22661202428",
   "metadata": {},
   "source": [
    "Boolean 'not' is `~` in pandas"
   ]
  },
  {
   "cell_type": "code",
   "execution_count": null,
   "id": "a04bdf7f-3318-4073-91e8-27f61a5cdb7f",
   "metadata": {},
   "outputs": [],
   "source": [
    "df[~(df['log_y']==-np.inf)]"
   ]
  },
  {
   "cell_type": "code",
   "execution_count": null,
   "id": "8efeca4e-65e8-491b-b52d-5679d1bc2ef9",
   "metadata": {},
   "outputs": [],
   "source": [
    "df[~df['x'].isna()]"
   ]
  },
  {
   "cell_type": "markdown",
   "id": "ed905518-e52a-420e-bbc3-c928d5945735",
   "metadata": {},
   "source": [
    "## Analysis"
   ]
  },
  {
   "cell_type": "markdown",
   "id": "948740ba-c65c-4f5b-a402-c9625751d8c1",
   "metadata": {},
   "source": [
    "Complete your final analysis here of the 4 running times by using techniques you have learned in this notebook. Print out your final table the the running time comparisons, based on your best justifiable arguments"
   ]
  },
  {
   "cell_type": "code",
   "execution_count": null,
   "id": "1e40fc26-6f00-4914-b450-1990b86f5da7",
   "metadata": {},
   "outputs": [],
   "source": []
  }
 ],
 "metadata": {
  "kernelspec": {
   "display_name": "Python 3 (ipykernel)",
   "language": "python",
   "name": "python3"
  },
  "language_info": {
   "codemirror_mode": {
    "name": "ipython",
    "version": 3
   },
   "file_extension": ".py",
   "mimetype": "text/x-python",
   "name": "python",
   "nbconvert_exporter": "python",
   "pygments_lexer": "ipython3",
   "version": "3.11.9"
  }
 },
 "nbformat": 4,
 "nbformat_minor": 5
}
