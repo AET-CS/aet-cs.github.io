{
 "cells": [
  {
   "cell_type": "markdown",
   "id": "2445a8ad-8767-4d21-b691-28001d187a76",
   "metadata": {},
   "source": [
    "# Recognizing Digits with k-NN"
   ]
  },
  {
   "cell_type": "markdown",
   "id": "b57c1cea-6f57-4ec0-8b9b-9c496f10f9aa",
   "metadata": {},
   "source": [
    "The MNIST dataset is one of the most widely used datasets in ML classes and has been for years. It consists of 60,000 digitized scans of handwritten digits along with their classifications: 0-9. Sci-kit learn includes a clean subset of this data in its `datasets` package. In this notebook you will recognize digits using a k-NN classifier."
   ]
  },
  {
   "cell_type": "code",
   "execution_count": null,
   "id": "fac9d88a-e890-4a5c-a869-c13c3f0f6217",
   "metadata": {},
   "outputs": [],
   "source": [
    "import numpy as np\n",
    "from sklearn.datasets import load_digits\n",
    "from matplotlib import pyplot as plt"
   ]
  },
  {
   "cell_type": "markdown",
   "id": "a0743d10-bd0e-4cf7-b80f-bddf83c5cf4f",
   "metadata": {},
   "source": [
    "The method to return the dataset is `load_digits()`. Call it in the next cell "
   ]
  },
  {
   "cell_type": "code",
   "execution_count": null,
   "id": "b9ae8d61-e692-4bdd-b508-b34d47437ed3",
   "metadata": {},
   "outputs": [],
   "source": [
    "# call load_digits() and set the return value to a new variable `digits`"
   ]
  },
  {
   "cell_type": "markdown",
   "id": "0824d146-765b-4d60-91a2-8de9b1d42b7c",
   "metadata": {},
   "source": [
    "Look at the data stored in `digits` and load the appropriate values into the variables `X` and `y`. $X$ should be an array of vectors, representing the flattened 8x8 image data and $y$ should be an array of labels 0-9."
   ]
  },
  {
   "cell_type": "code",
   "execution_count": null,
   "id": "fd0a733e-b4d8-4375-ad02-0330060e0e4a",
   "metadata": {},
   "outputs": [],
   "source": [
    "### Store X and y here"
   ]
  },
  {
   "cell_type": "markdown",
   "id": "5486260b-f429-4b72-b28a-87fcaa6b96b1",
   "metadata": {},
   "source": [
    "The following cells let you explore the dataset."
   ]
  },
  {
   "cell_type": "code",
   "execution_count": null,
   "id": "170fd28b-2c27-421f-88aa-8efd3859cd89",
   "metadata": {},
   "outputs": [],
   "source": [
    "images = digits.images"
   ]
  },
  {
   "cell_type": "code",
   "execution_count": null,
   "id": "6790326d-390d-4596-b7a7-73d4d7e5b850",
   "metadata": {},
   "outputs": [],
   "source": [
    "k = 100 # change this\n",
    "plt.imshow(images[k], cmap='grey')\n",
    "print(f\"data = {X[k]}\")\n",
    "print(f\"label = {y[k]}\")"
   ]
  },
  {
   "cell_type": "markdown",
   "id": "a5b44e93-b5ba-4972-9c99-bce94ded2e19",
   "metadata": {},
   "source": [
    "Determine the size and shape of your data. How many X and y observations are there? What are their datatypes? Is there any missing data?"
   ]
  },
  {
   "cell_type": "code",
   "execution_count": null,
   "id": "49fa8d43-7fd8-4b4b-abe1-342c0eeffc5a",
   "metadata": {},
   "outputs": [],
   "source": [
    "## your code here"
   ]
  },
  {
   "cell_type": "markdown",
   "id": "ebde0e87-f40d-4893-932a-7553a68c8c34",
   "metadata": {},
   "source": [
    "Is the dataset balanced? Determine the frequency of each label"
   ]
  },
  {
   "cell_type": "code",
   "execution_count": null,
   "id": "ae568361-e9fa-4185-93e0-1d8a72146de2",
   "metadata": {},
   "outputs": [],
   "source": [
    "## your code here"
   ]
  },
  {
   "cell_type": "markdown",
   "id": "d48ec07a-1d0a-487f-a5fe-0e4c76c25f77",
   "metadata": {},
   "source": [
    "## Training k-NN"
   ]
  },
  {
   "cell_type": "markdown",
   "id": "7608bd0d-3323-42d1-94cb-091c4486c193",
   "metadata": {},
   "source": [
    "We will load the dataset below and some useful library functions. It is your job to make a train/test split and determine the accuracy of a k-NN classifier using scikit learn built in operations. You should\n",
    "\n",
    "1. Correctly process the data and train a k-NN for k=1.\n",
    "2. Print the accuracy on the test set\n",
    "3. Plot a confusion matrix for the test set\n",
    "4. Analyze the accuracy as $k$ increases. For each $k$ (over a range you determine useful), train a $k$-NN on 10 train/test splits and store the average accuracy. Plot this accuracy against k.\n",
    "5. Which $k$ do you think is best?\n",
    "6. Is \"accuracy\" a valid metric in this case? Does it obscure any critical shortcoming of our algorithm?\n",
    "\n",
    "Refer to old notebooks for the functions you need. The basic outline for this is mostly the same for all scikit-learn algorithms."
   ]
  },
  {
   "cell_type": "code",
   "execution_count": null,
   "id": "d9ee26dd-4a52-4ec5-aee5-0498961e52dd",
   "metadata": {},
   "outputs": [],
   "source": [
    "from sklearn.datasets import load_digits\n",
    "from sklearn.model_selection import train_test_split\n",
    "from sklearn.neighbors import KNeighborsClassifier\n",
    "from sklearn.metrics import accuracy_score\n",
    "from sklearn.metrics import confusion_matrix, ConfusionMatrixDisplay"
   ]
  },
  {
   "cell_type": "code",
   "execution_count": null,
   "id": "f74649c2-e12b-47d3-8073-52c4fa0926cc",
   "metadata": {},
   "outputs": [],
   "source": [
    "# complete here"
   ]
  },
  {
   "cell_type": "markdown",
   "id": "73cd1f74-d61a-40c1-9c83-138eaaf5b867",
   "metadata": {},
   "source": [
    "# Extension"
   ]
  },
  {
   "cell_type": "markdown",
   "id": "bebf957f-502c-460a-81af-ce65e6c54ab8",
   "metadata": {},
   "source": [
    "Find the full 60,000 sample dataset online and try it with your preferred $k$-NN. This dataset exists in many places but some are cleaner and easier to use than others so be prepared to shop around. Print out\n",
    "\n",
    "1. the accuracy\n",
    "2. the time spent training\n",
    "3. the time spent testing\n",
    "4. a confusion matrix on the test set"
   ]
  },
  {
   "cell_type": "code",
   "execution_count": null,
   "id": "3cf380f1-d480-4760-a7b4-85cef93e7f5e",
   "metadata": {},
   "outputs": [],
   "source": []
  }
 ],
 "metadata": {
  "kernelspec": {
   "display_name": "ML Python",
   "language": "python",
   "name": "myenv"
  },
  "language_info": {
   "codemirror_mode": {
    "name": "ipython",
    "version": 3
   },
   "file_extension": ".py",
   "mimetype": "text/x-python",
   "name": "python",
   "nbconvert_exporter": "python",
   "pygments_lexer": "ipython3",
   "version": "3.11.9"
  }
 },
 "nbformat": 4,
 "nbformat_minor": 5
}
