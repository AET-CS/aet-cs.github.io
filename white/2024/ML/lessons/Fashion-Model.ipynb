{
 "cells": [
  {
   "cell_type": "markdown",
   "id": "9a47d860-9fa2-4742-b190-31ecb81e3e60",
   "metadata": {},
   "source": [
    "# Fashion MNIST"
   ]
  },
  {
   "cell_type": "code",
   "execution_count": null,
   "id": "c327aa83-f25b-4a6a-b542-f69b7fba501d",
   "metadata": {},
   "outputs": [],
   "source": [
    "import tensorflow as tf\n",
    "from tensorflow import keras\n",
    "from keras.layers import Flatten, Dense\n",
    "from keras.models import Sequential\n",
    "import matplotlib.pyplot as plt\n",
    "import random\n",
    "import numpy as np"
   ]
  },
  {
   "cell_type": "code",
   "execution_count": null,
   "id": "2a86e137-4a2d-414c-873c-c3c5f50efd8a",
   "metadata": {},
   "outputs": [],
   "source": [
    "# Load MNIST dataset\n",
    "mnist = tf.keras.datasets.fashion_mnist\n",
    "(x_train, y_train), (x_test, y_test) = mnist.load_data()"
   ]
  },
  {
   "cell_type": "markdown",
   "id": "49327558-dfe4-4684-b427-3dec43b4b2f9",
   "metadata": {},
   "source": [
    "Here are the names of the 10 classes"
   ]
  },
  {
   "cell_type": "code",
   "execution_count": null,
   "id": "8c0d2fa0-3fdc-4c83-9af5-54593b566b83",
   "metadata": {},
   "outputs": [],
   "source": [
    "class_names = [\"T-shirt/top\", \"Trouser\", \"Pullover\", \"Dress\", \"Coat\",\n",
    "               \"Sandal\", \"Shirt\", \"Sneaker\", \"Bag\", \"Ankle boot\"]"
   ]
  },
  {
   "cell_type": "markdown",
   "id": "d8775f1a-7f6c-4f51-838f-cfe8788d4261",
   "metadata": {},
   "source": [
    "Things to do:\n",
    "*  Plot a histogram of the class labels to determine balance\n",
    "*  Plot some random entries from the dataset and their class name\n",
    "*  Create a DNN based on the MNIST one we made. Use any topology and activation functions you want.\n",
    "*  When you 'compile' the model, include `metrics=['accuracy']`\n",
    "*  Train the model\n",
    "*  Plot the accuracies using the plot code below\n",
    "*  Evaluate the model on the **test** set and report the result\n",
    "*  Repeat the last 5 steps -- try to get the best test accuracy\n",
    "*  Print a confusion matrix (10x10) for the test set\n",
    "*  Make a grid showing a selection of the misclassified samples, along with their label (probably need to google this)"
   ]
  },
  {
   "cell_type": "markdown",
   "id": "35133c84-54ba-4472-8786-0778a093e5a7",
   "metadata": {},
   "source": [
    "## Training the model"
   ]
  },
  {
   "cell_type": "code",
   "execution_count": 8,
   "id": "0538c289-7882-47ee-b560-9675d7b4fce5",
   "metadata": {},
   "outputs": [],
   "source": [
    "# your code"
   ]
  },
  {
   "cell_type": "markdown",
   "id": "6f06cc90-50f1-40a2-8c1f-2202f7b37863",
   "metadata": {},
   "source": [
    "## Plotting the Results"
   ]
  },
  {
   "cell_type": "code",
   "execution_count": null,
   "id": "7b1d1b57-f6ad-4f2b-ba18-35079d533757",
   "metadata": {},
   "outputs": [],
   "source": [
    "import matplotlib.pyplot as plt\n",
    "import pandas as pd\n",
    "\n",
    "pd.DataFrame(history.history).plot(\n",
    "    figsize=(8, 5), xlim=[0, 29], ylim=[0, 1], grid=True, xlabel=\"Epoch\",\n",
    "    style=[\"r--\", \"r--.\", \"b-\", \"b-*\"])\n",
    "plt.legend(loc=\"lower left\")  # extra code\n",
    "plt.show()"
   ]
  },
  {
   "cell_type": "markdown",
   "id": "8c57a1b1-f451-45b3-a438-2abb01c51813",
   "metadata": {},
   "source": [
    "## Display your model"
   ]
  },
  {
   "cell_type": "code",
   "execution_count": null,
   "id": "4774eef3-f723-4f5f-b16c-ccf1709dbffe",
   "metadata": {},
   "outputs": [],
   "source": [
    "tf.keras.utils.plot_model(model, \"Fashion-Mnist.png\", show_shapes=True)"
   ]
  },
  {
   "cell_type": "markdown",
   "id": "336a368c-c4ad-4c1c-b6c7-19935667ee9a",
   "metadata": {},
   "source": [
    "## A selection of misclassified samples"
   ]
  },
  {
   "cell_type": "code",
   "execution_count": null,
   "id": "8754da3e-82ef-420e-8965-2d9b83f34471",
   "metadata": {},
   "outputs": [],
   "source": [
    "# your code"
   ]
  }
 ],
 "metadata": {
  "kernelspec": {
   "display_name": "Python 3 (ipykernel)",
   "language": "python",
   "name": "python3"
  },
  "language_info": {
   "codemirror_mode": {
    "name": "ipython",
    "version": 3
   },
   "file_extension": ".py",
   "mimetype": "text/x-python",
   "name": "python",
   "nbconvert_exporter": "python",
   "pygments_lexer": "ipython3",
   "version": "3.11.9"
  }
 },
 "nbformat": 4,
 "nbformat_minor": 5
}
