{
    "cells": [
        {
            "cell_type": "markdown",
            "metadata": {},
            "source": [
                "# Classifying Emails Using the Naive Bayes Classifier\n",
                "\n",
                "The final task of this chapter will be to apply our newly gained skills to a real spam filter!\n",
                "Naive Bayes classifiers are actually a very popular model for email filtering. Their naivety\n",
                "lends itself nicely to the analysis of text data, where each feature is a word (or a **bag of\n",
                "words**), and it would not be feasible to model the dependence of every word on every other\n",
                "word.\n",
                "\n",
                "A bunch of interesting email datasets are mentioned in the book.\n",
                "\n",
                "In this section, we will be using the Enrom-Spam dataset, which can be downloaded for free\n",
                "from the given website. However, if you followed the installation instructions at the\n",
                "beginning of this book and have downloaded the latest code from GitHub, you are already\n",
                "good to go!"
            ]
        },
        {
            "cell_type": "markdown",
            "metadata": {},
            "source": [
                "## Loading the dataset\n",
                "\n",
                "If you downloaded the latest code from GitHub, you will find a number of `.zip` files in the\n",
                "`notebooks/data/chapter7` directory. These files contain raw email data (with fields for\n",
                "To:, Cc:, and text body) that are either classified as spam (with the `SPAM = 1` class label) or\n",
                "not (also known as ham, the `HAM = 0` class label).\n",
                "\n",
                "We build a variable called sources, which contains all the raw data files:"
            ]
        },
        {
            "cell_type": "code",
            "execution_count": 1,
            "metadata": {
                "execution": {
                    "iopub.execute_input": "2024-08-11T01:36:07.620545Z",
                    "iopub.status.busy": "2024-08-11T01:36:07.620114Z",
                    "iopub.status.idle": "2024-08-11T01:36:07.635165Z",
                    "shell.execute_reply": "2024-08-11T01:36:07.632879Z"
                }
            },
            "outputs": [],
            "source": [
                "HAM = 0\n",
                "SPAM = 1\n",
                "datadir = 'data/chapter7'\n",
                "sources = [\n",
                "    ('beck-s.tar.gz', HAM),\n",
                "    ('farmer-d.tar.gz', HAM),\n",
                "    ('kaminski-v.tar.gz', HAM),\n",
                "    ('kitchen-l.tar.gz', HAM),\n",
                "    ('lokay-m.tar.gz', HAM),\n",
                "    ('williams-w3.tar.gz', HAM),\n",
                "    ('BG.tar.gz', SPAM),\n",
                "    ('GP.tar.gz', SPAM),\n",
                "    ('SH.tar.gz', SPAM)\n",
                "]"
            ]
        },
        {
            "cell_type": "markdown",
            "metadata": {},
            "source": [
                "The first step is to extract these files into subdirectories. For this, we can use the\n",
                "`extract_tar` function we wrote in the previous chapter:"
            ]
        },
        {
            "cell_type": "code",
            "execution_count": 2,
            "metadata": {
                "execution": {
                    "iopub.execute_input": "2024-08-11T01:36:07.641335Z",
                    "iopub.status.busy": "2024-08-11T01:36:07.640894Z",
                    "iopub.status.idle": "2024-08-11T01:36:07.646230Z",
                    "shell.execute_reply": "2024-08-11T01:36:07.645470Z"
                }
            },
            "outputs": [],
            "source": [
                "def extract_tar(datafile, extractdir):\n",
                "    try:\n",
                "        import tarfile\n",
                "    except ImportError:\n",
                "        raise ImportError(\"You do not have tarfile installed. \"\n",
                "                          \"Try unzipping the file outside of Python.\")\n",
                "\n",
                "    tar = tarfile.open(datafile)\n",
                "    tar.extractall(path=extractdir)\n",
                "    tar.close()\n",
                "    print(\"%s successfully extracted to %s\" % (datafile, extractdir))"
            ]
        },
        {
            "cell_type": "markdown",
            "metadata": {},
            "source": [
                "In order to apply the function to all data files in the sources, we need to run a loop. The\n",
                "`extract_tar` function expects a path to the `.tar.gz` file\u2014which we build from `datadir`\n",
                "and an entry in sources\u2014and a directory to extract the files to (`datadir`). This will extract\n",
                "all emails in, for example, `data/chapter7/beck-s.tar.gz` to the\n",
                "`data/chapter7/beck-s/` subdirectory:"
            ]
        },
        {
            "cell_type": "code",
            "execution_count": 3,
            "metadata": {
                "execution": {
                    "iopub.execute_input": "2024-08-11T01:36:07.648678Z",
                    "iopub.status.busy": "2024-08-11T01:36:07.648479Z",
                    "iopub.status.idle": "2024-08-11T01:36:13.367805Z",
                    "shell.execute_reply": "2024-08-11T01:36:13.367353Z"
                }
            },
            "outputs": [
                {
                    "name": "stdout",
                    "output_type": "stream",
                    "text": [
                        "data/chapter7/beck-s.tar.gz successfully extracted to data/chapter7\n"
                    ]
                },
                {
                    "name": "stdout",
                    "output_type": "stream",
                    "text": [
                        "data/chapter7/farmer-d.tar.gz successfully extracted to data/chapter7\n"
                    ]
                },
                {
                    "name": "stdout",
                    "output_type": "stream",
                    "text": [
                        "data/chapter7/kaminski-v.tar.gz successfully extracted to data/chapter7\n"
                    ]
                },
                {
                    "name": "stdout",
                    "output_type": "stream",
                    "text": [
                        "data/chapter7/kitchen-l.tar.gz successfully extracted to data/chapter7\n"
                    ]
                },
                {
                    "name": "stdout",
                    "output_type": "stream",
                    "text": [
                        "data/chapter7/lokay-m.tar.gz successfully extracted to data/chapter7\n"
                    ]
                },
                {
                    "name": "stdout",
                    "output_type": "stream",
                    "text": [
                        "data/chapter7/williams-w3.tar.gz successfully extracted to data/chapter7\n"
                    ]
                },
                {
                    "name": "stdout",
                    "output_type": "stream",
                    "text": [
                        "data/chapter7/BG.tar.gz successfully extracted to data/chapter7\n"
                    ]
                },
                {
                    "name": "stdout",
                    "output_type": "stream",
                    "text": [
                        "data/chapter7/GP.tar.gz successfully extracted to data/chapter7\n"
                    ]
                },
                {
                    "name": "stdout",
                    "output_type": "stream",
                    "text": [
                        "data/chapter7/SH.tar.gz successfully extracted to data/chapter7\n"
                    ]
                }
            ],
            "source": [
                "for source, _ in sources:\n",
                "    datafile = '%s/%s' % (datadir, source)\n",
                "    extract_tar(datafile, datadir)"
            ]
        },
        {
            "cell_type": "markdown",
            "metadata": {},
            "source": [
                "Now here's the tricky bit. Every one of these subdirectories contains a number of other\n",
                "directories, wherein the text files reside. So we need to write two functions:\n",
                "- `read_single_file(filename)`: This is a function that extracts the relevant content from a single file called `filename`\n",
                "- `read_files(path)`: This is a function that extracts the relevant content from all files in a particular directory called `path`"
            ]
        },
        {
            "cell_type": "code",
            "execution_count": 4,
            "metadata": {
                "execution": {
                    "iopub.execute_input": "2024-08-11T01:36:13.369728Z",
                    "iopub.status.busy": "2024-08-11T01:36:13.369547Z",
                    "iopub.status.idle": "2024-08-11T01:36:13.373199Z",
                    "shell.execute_reply": "2024-08-11T01:36:13.372743Z"
                }
            },
            "outputs": [],
            "source": [
                "import os\n",
                "def read_single_file(filename):\n",
                "    past_header, lines = False, []\n",
                "    if os.path.isfile(filename):\n",
                "        f = open(filename, encoding=\"latin-1\")\n",
                "        for line in f:\n",
                "            if past_header:\n",
                "                lines.append(line)\n",
                "            elif line == '\\n':\n",
                "                past_header = True\n",
                "        f.close()\n",
                "    content = '\\n'.join(lines)\n",
                "    return filename, content"
            ]
        },
        {
            "cell_type": "code",
            "execution_count": 5,
            "metadata": {
                "execution": {
                    "iopub.execute_input": "2024-08-11T01:36:13.375119Z",
                    "iopub.status.busy": "2024-08-11T01:36:13.374969Z",
                    "iopub.status.idle": "2024-08-11T01:36:13.377679Z",
                    "shell.execute_reply": "2024-08-11T01:36:13.377302Z"
                }
            },
            "outputs": [],
            "source": [
                "def read_files(path):\n",
                "    for root, dirnames, filenames in os.walk(path):\n",
                "        for filename in filenames:\n",
                "            filepath = os.path.join(root, filename)\n",
                "            yield read_single_file(filepath)"
            ]
        },
        {
            "cell_type": "markdown",
            "metadata": {},
            "source": [
                "## Building a data matrix using Pandas\n",
                "\n",
                "Now it's time to introduce another essential data science tool that comes preinstalled with\n",
                "Python Anaconda: **Pandas**. Pandas is built on NumPy and provides a number of useful\n",
                "tools and methods to deal with data structures in Python. Just as we generally import\n",
                "NumPy under the alias `np`, it is common to import Pandas under the `pd` alias:"
            ]
        },
        {
            "cell_type": "code",
            "execution_count": 6,
            "metadata": {
                "execution": {
                    "iopub.execute_input": "2024-08-11T01:36:13.379474Z",
                    "iopub.status.busy": "2024-08-11T01:36:13.379330Z",
                    "iopub.status.idle": "2024-08-11T01:36:13.676547Z",
                    "shell.execute_reply": "2024-08-11T01:36:13.675563Z"
                }
            },
            "outputs": [],
            "source": [
                "import pandas as pd"
            ]
        },
        {
            "cell_type": "markdown",
            "metadata": {},
            "source": [
                "Pandas provides a useful data structure called `DataFrame`, which can be understood as a\n",
                "generalization of a 2D NumPy array, as shown here:"
            ]
        },
        {
            "cell_type": "code",
            "execution_count": 7,
            "metadata": {
                "execution": {
                    "iopub.execute_input": "2024-08-11T01:36:13.679377Z",
                    "iopub.status.busy": "2024-08-11T01:36:13.679085Z",
                    "iopub.status.idle": "2024-08-11T01:36:13.704408Z",
                    "shell.execute_reply": "2024-08-11T01:36:13.703648Z"
                }
            },
            "outputs": [
                {
                    "data": {
                        "text/html": [
                            "<div>\n",
                            "<style scoped>\n",
                            "    .dataframe tbody tr th:only-of-type {\n",
                            "        vertical-align: middle;\n",
                            "    }\n",
                            "\n",
                            "    .dataframe tbody tr th {\n",
                            "        vertical-align: top;\n",
                            "    }\n",
                            "\n",
                            "    .dataframe thead th {\n",
                            "        text-align: right;\n",
                            "    }\n",
                            "</style>\n",
                            "<table border=\"1\" class=\"dataframe\">\n",
                            "  <thead>\n",
                            "    <tr style=\"text-align: right;\">\n",
                            "      <th></th>\n",
                            "      <th>model</th>\n",
                            "      <th>class</th>\n",
                            "    </tr>\n",
                            "  </thead>\n",
                            "  <tbody>\n",
                            "    <tr>\n",
                            "      <th>0</th>\n",
                            "      <td>Normal Bayes</td>\n",
                            "      <td>cv2.ml.NormalBayesClassifier_create()</td>\n",
                            "    </tr>\n",
                            "    <tr>\n",
                            "      <th>1</th>\n",
                            "      <td>Multinomial Bayes</td>\n",
                            "      <td>sklearn.naive_bayes.MultinomialNB()</td>\n",
                            "    </tr>\n",
                            "    <tr>\n",
                            "      <th>2</th>\n",
                            "      <td>Bernoulli Bayes</td>\n",
                            "      <td>sklearn.naive_bayes.BernoulliNB()</td>\n",
                            "    </tr>\n",
                            "  </tbody>\n",
                            "</table>\n",
                            "</div>"
                        ],
                        "text/plain": [
                            "               model                                  class\n",
                            "0       Normal Bayes  cv2.ml.NormalBayesClassifier_create()\n",
                            "1  Multinomial Bayes    sklearn.naive_bayes.MultinomialNB()\n",
                            "2    Bernoulli Bayes      sklearn.naive_bayes.BernoulliNB()"
                        ]
                    },
                    "execution_count": 7,
                    "metadata": {},
                    "output_type": "execute_result"
                }
            ],
            "source": [
                "pd.DataFrame({\n",
                "    'model': ['Normal Bayes', 'Multinomial Bayes', 'Bernoulli Bayes'],\n",
                "    'class': [\n",
                "        'cv2.ml.NormalBayesClassifier_create()',\n",
                "        'sklearn.naive_bayes.MultinomialNB()',\n",
                "        'sklearn.naive_bayes.BernoulliNB()'\n",
                "    ]\n",
                "})"
            ]
        },
        {
            "cell_type": "markdown",
            "metadata": {},
            "source": [
                "We can combine the preceding functions to build a Pandas DataFrame from the extracted\n",
                "data:"
            ]
        },
        {
            "cell_type": "code",
            "execution_count": 8,
            "metadata": {
                "execution": {
                    "iopub.execute_input": "2024-08-11T01:36:13.709459Z",
                    "iopub.status.busy": "2024-08-11T01:36:13.708423Z",
                    "iopub.status.idle": "2024-08-11T01:36:13.715873Z",
                    "shell.execute_reply": "2024-08-11T01:36:13.715243Z"
                }
            },
            "outputs": [],
            "source": [
                "def build_data_frame(extractdir, classification):\n",
                "    rows = []\n",
                "    index = []\n",
                "    for file_name, text in read_files(extractdir):\n",
                "        rows.append({'text': text, 'class': classification})\n",
                "        index.append(file_name)\n",
                "\n",
                "    data_frame = pd.DataFrame(rows, index=index)\n",
                "    return data_frame"
            ]
        },
        {
            "cell_type": "markdown",
            "metadata": {},
            "source": [
                "We then call it with the following command:"
            ]
        },
        {
            "cell_type": "code",
            "execution_count": 9,
            "metadata": {
                "execution": {
                    "iopub.execute_input": "2024-08-11T01:36:13.719107Z",
                    "iopub.status.busy": "2024-08-11T01:36:13.718541Z",
                    "iopub.status.idle": "2024-08-11T01:36:15.348512Z",
                    "shell.execute_reply": "2024-08-11T01:36:15.347929Z"
                }
            },
            "outputs": [],
            "source": [
                "# Initialize an empty DataFrame\n",
                "data = pd.DataFrame(columns=['text', 'class'])\n",
                "\n",
                "for source, classification in sources:\n",
                "    extractdir = f'{datadir}/{source[:-7]}'\n",
                "    new_data = build_data_frame(extractdir, classification)\n",
                "    data = pd.concat([data, new_data], ignore_index=True)\n"
            ]
        },
        {
            "cell_type": "markdown",
            "metadata": {},
            "source": [
                "## Preprocessing the data\n",
                "\n",
                "Scikit-learn offers a number of options when it comes to encoding text features, which we\n",
                "discussed in [Chapter 4](04.00-Representing-Data-and-Engineering-Features.ipynb), *Representing Data and Engineering Features*. One of the simplest\n",
                "methods of encoding text data, we recall, is by **word count**: For each phrase, you count the\n",
                "number of occurrences of each word within it. In scikit-learn, this is easily done using\n",
                "`CountVectorizer`:"
            ]
        },
        {
            "cell_type": "code",
            "execution_count": 10,
            "metadata": {
                "execution": {
                    "iopub.execute_input": "2024-08-11T01:36:15.351042Z",
                    "iopub.status.busy": "2024-08-11T01:36:15.350664Z",
                    "iopub.status.idle": "2024-08-11T01:36:28.695626Z",
                    "shell.execute_reply": "2024-08-11T01:36:28.695152Z"
                }
            },
            "outputs": [
                {
                    "data": {
                        "text/plain": [
                            "(52076, 643270)"
                        ]
                    },
                    "execution_count": 10,
                    "metadata": {},
                    "output_type": "execute_result"
                }
            ],
            "source": [
                "from sklearn import feature_extraction\n",
                "counts = feature_extraction.text.CountVectorizer()\n",
                "X = counts.fit_transform(data['text'].values)\n",
                "X.shape"
            ]
        },
        {
            "cell_type": "markdown",
            "metadata": {},
            "source": [
                "The result is a giant matrix, which tells us that we harvested a total of 52,076 emails that\n",
                "collectively contain 643,270 different words. However, scikit-learn is smart and saved the\n",
                "data in a sparse matrix:"
            ]
        },
        {
            "cell_type": "code",
            "execution_count": 11,
            "metadata": {
                "execution": {
                    "iopub.execute_input": "2024-08-11T01:36:28.697878Z",
                    "iopub.status.busy": "2024-08-11T01:36:28.697615Z",
                    "iopub.status.idle": "2024-08-11T01:36:28.701400Z",
                    "shell.execute_reply": "2024-08-11T01:36:28.700951Z"
                }
            },
            "outputs": [
                {
                    "data": {
                        "text/plain": [
                            "<Compressed Sparse Row sparse matrix of dtype 'int64'\n",
                            "\twith 8607632 stored elements and shape (52076, 643270)>"
                        ]
                    },
                    "execution_count": 11,
                    "metadata": {},
                    "output_type": "execute_result"
                }
            ],
            "source": [
                "X"
            ]
        },
        {
            "cell_type": "markdown",
            "metadata": {},
            "source": [
                "In order to build the vector of target labels (`y`), we need to access data in the Pandas\n",
                "DataFrame. This can be done by treating the DataFrame like a dictionary, where the `values`\n",
                "attribute will give us access to the underlying NumPy array:"
            ]
        },
        {
            "cell_type": "code",
            "execution_count": 12,
            "metadata": {
                "execution": {
                    "iopub.execute_input": "2024-08-11T01:36:28.703562Z",
                    "iopub.status.busy": "2024-08-11T01:36:28.703341Z",
                    "iopub.status.idle": "2024-08-11T01:36:28.705868Z",
                    "shell.execute_reply": "2024-08-11T01:36:28.705501Z"
                }
            },
            "outputs": [],
            "source": [
                "y = data['class'].values"
            ]
        },
        {
            "cell_type": "markdown",
            "metadata": {},
            "source": [
                "## Training a normal Bayes classifier\n",
                "\n",
                "From here on out, things are (almost) like they always were. We can use scikit-learn to split\n",
                "the data into training and test sets. (Let's reserve 20% of all data points for testing):"
            ]
        },
        {
            "cell_type": "code",
            "execution_count": 13,
            "metadata": {
                "execution": {
                    "iopub.execute_input": "2024-08-11T01:36:28.707865Z",
                    "iopub.status.busy": "2024-08-11T01:36:28.707532Z",
                    "iopub.status.idle": "2024-08-11T01:36:28.753560Z",
                    "shell.execute_reply": "2024-08-11T01:36:28.753090Z"
                }
            },
            "outputs": [],
            "source": [
                "from sklearn import model_selection as ms\n",
                "X_train, X_test, y_train, y_test = ms.train_test_split(\n",
                "    X, y, test_size=0.2, random_state=42\n",
                ")"
            ]
        },
        {
            "cell_type": "markdown",
            "metadata": {},
            "source": [
                "We can instantiate a new normal Bayes classifier with OpenCV:"
            ]
        },
        {
            "cell_type": "code",
            "execution_count": 14,
            "metadata": {
                "execution": {
                    "iopub.execute_input": "2024-08-11T01:36:28.755905Z",
                    "iopub.status.busy": "2024-08-11T01:36:28.755683Z",
                    "iopub.status.idle": "2024-08-11T01:36:28.838660Z",
                    "shell.execute_reply": "2024-08-11T01:36:28.838170Z"
                }
            },
            "outputs": [],
            "source": [
                "import cv2\n",
                "model_norm = cv2.ml.NormalBayesClassifier_create()"
            ]
        },
        {
            "cell_type": "markdown",
            "metadata": {},
            "source": [
                "However, OpenCV does not know about sparse matrices (at least its Python interface does\n",
                "not). If we were to pass `X_train` and `y_train` to the train function like we did earlier,\n",
                "OpenCV would complain that the data matrix is not a NumPy array. But converting the\n",
                "sparse matrix into a regular NumPy array will likely make you run out of memory.\n",
                "\n",
                "Thus, a\n",
                "possible workaround is to train the OpenCV classifier only on a subset of data points (say\n",
                "1,000) and features (say 300):"
            ]
        },
        {
            "cell_type": "code",
            "execution_count": 15,
            "metadata": {
                "execution": {
                    "iopub.execute_input": "2024-08-11T01:36:28.841202Z",
                    "iopub.status.busy": "2024-08-11T01:36:28.840981Z",
                    "iopub.status.idle": "2024-08-11T01:36:28.845000Z",
                    "shell.execute_reply": "2024-08-11T01:36:28.844419Z"
                }
            },
            "outputs": [],
            "source": [
                "import numpy as np\n",
                "X_train_small = X_train[:1000, :300].toarray().astype(np.float32)\n",
                "y_train_small = y_train[:1000]"
            ]
        },
        {
            "cell_type": "markdown",
            "metadata": {},
            "source": [
                "Then it becomes possible to train the OpenCV classifier (although this might take a while):\n",
                "\n",
                "> It appears that `NormalBayesClassifier` is broken in OpenCV 3.1 (segmentation fault). As a result, the kernel will die."
            ]
        },
        {
            "cell_type": "code",
            "execution_count": 16,
            "metadata": {
                "execution": {
                    "iopub.execute_input": "2024-08-11T01:36:28.846999Z",
                    "iopub.status.busy": "2024-08-11T01:36:28.846767Z",
                    "iopub.status.idle": "2024-08-11T01:36:28.848950Z",
                    "shell.execute_reply": "2024-08-11T01:36:28.848602Z"
                }
            },
            "outputs": [],
            "source": [
                "# model_norm.train(X_train_small, cv2.ml.ROW_SAMPLE, y_train_small)"
            ]
        },
        {
            "cell_type": "markdown",
            "metadata": {},
            "source": [
                "## Training on the full dataset\n",
                "\n",
                "However, if you want to classify the full dataset, we need a more sophisticated approach.\n",
                "We turn to scikit-learn's naive Bayes classifier, as it understands how to handle sparse\n",
                "matrices. In fact, if you didn't pay attention and treated `X_train` like every NumPy array\n",
                "before, you might not even notice that anything is different:"
            ]
        },
        {
            "cell_type": "code",
            "execution_count": 17,
            "metadata": {
                "execution": {
                    "iopub.execute_input": "2024-08-11T01:36:28.850757Z",
                    "iopub.status.busy": "2024-08-11T01:36:28.850545Z",
                    "iopub.status.idle": "2024-08-11T01:36:28.853699Z",
                    "shell.execute_reply": "2024-08-11T01:36:28.853292Z"
                }
            },
            "outputs": [
                {
                    "data": {
                        "text/plain": [
                            "array([0, 0, 1, ..., 1, 0, 0], dtype=object)"
                        ]
                    },
                    "execution_count": 17,
                    "metadata": {},
                    "output_type": "execute_result"
                }
            ],
            "source": [
                "y_train"
            ]
        },
        {
            "cell_type": "code",
            "execution_count": 18,
            "metadata": {
                "execution": {
                    "iopub.execute_input": "2024-08-11T01:36:28.855574Z",
                    "iopub.status.busy": "2024-08-11T01:36:28.855283Z",
                    "iopub.status.idle": "2024-08-11T01:36:28.885667Z",
                    "shell.execute_reply": "2024-08-11T01:36:28.885206Z"
                }
            },
            "outputs": [],
            "source": [
                "from sklearn import model_selection as ms\n",
                "X_train, X_test, y_train, y_test = ms.train_test_split(\n",
                "    X, y, test_size=0.2, random_state=42\n",
                ")\n",
                "# Why do we have to convert this?\n",
                "y_train = np.array(y_train).astype(int)\n",
                "y_test = np.array(y_test).astype(int)"
            ]
        },
        {
            "cell_type": "markdown",
            "metadata": {},
            "source": [
                "Here we use `MultinomialNB` from the `naive_bayes` module, which is the version of\n",
                "naive Bayes classifier that is best suited to handle categorical data, such as word counts."
            ]
        },
        {
            "cell_type": "code",
            "execution_count": 19,
            "metadata": {
                "execution": {
                    "iopub.execute_input": "2024-08-11T01:36:28.888145Z",
                    "iopub.status.busy": "2024-08-11T01:36:28.887833Z",
                    "iopub.status.idle": "2024-08-11T01:36:28.939621Z",
                    "shell.execute_reply": "2024-08-11T01:36:28.939191Z"
                }
            },
            "outputs": [
                {
                    "data": {
                        "text/html": [
                            "<style>#sk-container-id-1 {\n",
                            "  /* Definition of color scheme common for light and dark mode */\n",
                            "  --sklearn-color-text: black;\n",
                            "  --sklearn-color-line: gray;\n",
                            "  /* Definition of color scheme for unfitted estimators */\n",
                            "  --sklearn-color-unfitted-level-0: #fff5e6;\n",
                            "  --sklearn-color-unfitted-level-1: #f6e4d2;\n",
                            "  --sklearn-color-unfitted-level-2: #ffe0b3;\n",
                            "  --sklearn-color-unfitted-level-3: chocolate;\n",
                            "  /* Definition of color scheme for fitted estimators */\n",
                            "  --sklearn-color-fitted-level-0: #f0f8ff;\n",
                            "  --sklearn-color-fitted-level-1: #d4ebff;\n",
                            "  --sklearn-color-fitted-level-2: #b3dbfd;\n",
                            "  --sklearn-color-fitted-level-3: cornflowerblue;\n",
                            "\n",
                            "  /* Specific color for light theme */\n",
                            "  --sklearn-color-text-on-default-background: var(--sg-text-color, var(--theme-code-foreground, var(--jp-content-font-color1, black)));\n",
                            "  --sklearn-color-background: var(--sg-background-color, var(--theme-background, var(--jp-layout-color0, white)));\n",
                            "  --sklearn-color-border-box: var(--sg-text-color, var(--theme-code-foreground, var(--jp-content-font-color1, black)));\n",
                            "  --sklearn-color-icon: #696969;\n",
                            "\n",
                            "  @media (prefers-color-scheme: dark) {\n",
                            "    /* Redefinition of color scheme for dark theme */\n",
                            "    --sklearn-color-text-on-default-background: var(--sg-text-color, var(--theme-code-foreground, var(--jp-content-font-color1, white)));\n",
                            "    --sklearn-color-background: var(--sg-background-color, var(--theme-background, var(--jp-layout-color0, #111)));\n",
                            "    --sklearn-color-border-box: var(--sg-text-color, var(--theme-code-foreground, var(--jp-content-font-color1, white)));\n",
                            "    --sklearn-color-icon: #878787;\n",
                            "  }\n",
                            "}\n",
                            "\n",
                            "#sk-container-id-1 {\n",
                            "  color: var(--sklearn-color-text);\n",
                            "}\n",
                            "\n",
                            "#sk-container-id-1 pre {\n",
                            "  padding: 0;\n",
                            "}\n",
                            "\n",
                            "#sk-container-id-1 input.sk-hidden--visually {\n",
                            "  border: 0;\n",
                            "  clip: rect(1px 1px 1px 1px);\n",
                            "  clip: rect(1px, 1px, 1px, 1px);\n",
                            "  height: 1px;\n",
                            "  margin: -1px;\n",
                            "  overflow: hidden;\n",
                            "  padding: 0;\n",
                            "  position: absolute;\n",
                            "  width: 1px;\n",
                            "}\n",
                            "\n",
                            "#sk-container-id-1 div.sk-dashed-wrapped {\n",
                            "  border: 1px dashed var(--sklearn-color-line);\n",
                            "  margin: 0 0.4em 0.5em 0.4em;\n",
                            "  box-sizing: border-box;\n",
                            "  padding-bottom: 0.4em;\n",
                            "  background-color: var(--sklearn-color-background);\n",
                            "}\n",
                            "\n",
                            "#sk-container-id-1 div.sk-container {\n",
                            "  /* jupyter's `normalize.less` sets `[hidden] { display: none; }`\n",
                            "     but bootstrap.min.css set `[hidden] { display: none !important; }`\n",
                            "     so we also need the `!important` here to be able to override the\n",
                            "     default hidden behavior on the sphinx rendered scikit-learn.org.\n",
                            "     See: https://github.com/scikit-learn/scikit-learn/issues/21755 */\n",
                            "  display: inline-block !important;\n",
                            "  position: relative;\n",
                            "}\n",
                            "\n",
                            "#sk-container-id-1 div.sk-text-repr-fallback {\n",
                            "  display: none;\n",
                            "}\n",
                            "\n",
                            "div.sk-parallel-item,\n",
                            "div.sk-serial,\n",
                            "div.sk-item {\n",
                            "  /* draw centered vertical line to link estimators */\n",
                            "  background-image: linear-gradient(var(--sklearn-color-text-on-default-background), var(--sklearn-color-text-on-default-background));\n",
                            "  background-size: 2px 100%;\n",
                            "  background-repeat: no-repeat;\n",
                            "  background-position: center center;\n",
                            "}\n",
                            "\n",
                            "/* Parallel-specific style estimator block */\n",
                            "\n",
                            "#sk-container-id-1 div.sk-parallel-item::after {\n",
                            "  content: \"\";\n",
                            "  width: 100%;\n",
                            "  border-bottom: 2px solid var(--sklearn-color-text-on-default-background);\n",
                            "  flex-grow: 1;\n",
                            "}\n",
                            "\n",
                            "#sk-container-id-1 div.sk-parallel {\n",
                            "  display: flex;\n",
                            "  align-items: stretch;\n",
                            "  justify-content: center;\n",
                            "  background-color: var(--sklearn-color-background);\n",
                            "  position: relative;\n",
                            "}\n",
                            "\n",
                            "#sk-container-id-1 div.sk-parallel-item {\n",
                            "  display: flex;\n",
                            "  flex-direction: column;\n",
                            "}\n",
                            "\n",
                            "#sk-container-id-1 div.sk-parallel-item:first-child::after {\n",
                            "  align-self: flex-end;\n",
                            "  width: 50%;\n",
                            "}\n",
                            "\n",
                            "#sk-container-id-1 div.sk-parallel-item:last-child::after {\n",
                            "  align-self: flex-start;\n",
                            "  width: 50%;\n",
                            "}\n",
                            "\n",
                            "#sk-container-id-1 div.sk-parallel-item:only-child::after {\n",
                            "  width: 0;\n",
                            "}\n",
                            "\n",
                            "/* Serial-specific style estimator block */\n",
                            "\n",
                            "#sk-container-id-1 div.sk-serial {\n",
                            "  display: flex;\n",
                            "  flex-direction: column;\n",
                            "  align-items: center;\n",
                            "  background-color: var(--sklearn-color-background);\n",
                            "  padding-right: 1em;\n",
                            "  padding-left: 1em;\n",
                            "}\n",
                            "\n",
                            "\n",
                            "/* Toggleable style: style used for estimator/Pipeline/ColumnTransformer box that is\n",
                            "clickable and can be expanded/collapsed.\n",
                            "- Pipeline and ColumnTransformer use this feature and define the default style\n",
                            "- Estimators will overwrite some part of the style using the `sk-estimator` class\n",
                            "*/\n",
                            "\n",
                            "/* Pipeline and ColumnTransformer style (default) */\n",
                            "\n",
                            "#sk-container-id-1 div.sk-toggleable {\n",
                            "  /* Default theme specific background. It is overwritten whether we have a\n",
                            "  specific estimator or a Pipeline/ColumnTransformer */\n",
                            "  background-color: var(--sklearn-color-background);\n",
                            "}\n",
                            "\n",
                            "/* Toggleable label */\n",
                            "#sk-container-id-1 label.sk-toggleable__label {\n",
                            "  cursor: pointer;\n",
                            "  display: block;\n",
                            "  width: 100%;\n",
                            "  margin-bottom: 0;\n",
                            "  padding: 0.5em;\n",
                            "  box-sizing: border-box;\n",
                            "  text-align: center;\n",
                            "}\n",
                            "\n",
                            "#sk-container-id-1 label.sk-toggleable__label-arrow:before {\n",
                            "  /* Arrow on the left of the label */\n",
                            "  content: \"\u25b8\";\n",
                            "  float: left;\n",
                            "  margin-right: 0.25em;\n",
                            "  color: var(--sklearn-color-icon);\n",
                            "}\n",
                            "\n",
                            "#sk-container-id-1 label.sk-toggleable__label-arrow:hover:before {\n",
                            "  color: var(--sklearn-color-text);\n",
                            "}\n",
                            "\n",
                            "/* Toggleable content - dropdown */\n",
                            "\n",
                            "#sk-container-id-1 div.sk-toggleable__content {\n",
                            "  max-height: 0;\n",
                            "  max-width: 0;\n",
                            "  overflow: hidden;\n",
                            "  text-align: left;\n",
                            "  /* unfitted */\n",
                            "  background-color: var(--sklearn-color-unfitted-level-0);\n",
                            "}\n",
                            "\n",
                            "#sk-container-id-1 div.sk-toggleable__content.fitted {\n",
                            "  /* fitted */\n",
                            "  background-color: var(--sklearn-color-fitted-level-0);\n",
                            "}\n",
                            "\n",
                            "#sk-container-id-1 div.sk-toggleable__content pre {\n",
                            "  margin: 0.2em;\n",
                            "  border-radius: 0.25em;\n",
                            "  color: var(--sklearn-color-text);\n",
                            "  /* unfitted */\n",
                            "  background-color: var(--sklearn-color-unfitted-level-0);\n",
                            "}\n",
                            "\n",
                            "#sk-container-id-1 div.sk-toggleable__content.fitted pre {\n",
                            "  /* unfitted */\n",
                            "  background-color: var(--sklearn-color-fitted-level-0);\n",
                            "}\n",
                            "\n",
                            "#sk-container-id-1 input.sk-toggleable__control:checked~div.sk-toggleable__content {\n",
                            "  /* Expand drop-down */\n",
                            "  max-height: 200px;\n",
                            "  max-width: 100%;\n",
                            "  overflow: auto;\n",
                            "}\n",
                            "\n",
                            "#sk-container-id-1 input.sk-toggleable__control:checked~label.sk-toggleable__label-arrow:before {\n",
                            "  content: \"\u25be\";\n",
                            "}\n",
                            "\n",
                            "/* Pipeline/ColumnTransformer-specific style */\n",
                            "\n",
                            "#sk-container-id-1 div.sk-label input.sk-toggleable__control:checked~label.sk-toggleable__label {\n",
                            "  color: var(--sklearn-color-text);\n",
                            "  background-color: var(--sklearn-color-unfitted-level-2);\n",
                            "}\n",
                            "\n",
                            "#sk-container-id-1 div.sk-label.fitted input.sk-toggleable__control:checked~label.sk-toggleable__label {\n",
                            "  background-color: var(--sklearn-color-fitted-level-2);\n",
                            "}\n",
                            "\n",
                            "/* Estimator-specific style */\n",
                            "\n",
                            "/* Colorize estimator box */\n",
                            "#sk-container-id-1 div.sk-estimator input.sk-toggleable__control:checked~label.sk-toggleable__label {\n",
                            "  /* unfitted */\n",
                            "  background-color: var(--sklearn-color-unfitted-level-2);\n",
                            "}\n",
                            "\n",
                            "#sk-container-id-1 div.sk-estimator.fitted input.sk-toggleable__control:checked~label.sk-toggleable__label {\n",
                            "  /* fitted */\n",
                            "  background-color: var(--sklearn-color-fitted-level-2);\n",
                            "}\n",
                            "\n",
                            "#sk-container-id-1 div.sk-label label.sk-toggleable__label,\n",
                            "#sk-container-id-1 div.sk-label label {\n",
                            "  /* The background is the default theme color */\n",
                            "  color: var(--sklearn-color-text-on-default-background);\n",
                            "}\n",
                            "\n",
                            "/* On hover, darken the color of the background */\n",
                            "#sk-container-id-1 div.sk-label:hover label.sk-toggleable__label {\n",
                            "  color: var(--sklearn-color-text);\n",
                            "  background-color: var(--sklearn-color-unfitted-level-2);\n",
                            "}\n",
                            "\n",
                            "/* Label box, darken color on hover, fitted */\n",
                            "#sk-container-id-1 div.sk-label.fitted:hover label.sk-toggleable__label.fitted {\n",
                            "  color: var(--sklearn-color-text);\n",
                            "  background-color: var(--sklearn-color-fitted-level-2);\n",
                            "}\n",
                            "\n",
                            "/* Estimator label */\n",
                            "\n",
                            "#sk-container-id-1 div.sk-label label {\n",
                            "  font-family: monospace;\n",
                            "  font-weight: bold;\n",
                            "  display: inline-block;\n",
                            "  line-height: 1.2em;\n",
                            "}\n",
                            "\n",
                            "#sk-container-id-1 div.sk-label-container {\n",
                            "  text-align: center;\n",
                            "}\n",
                            "\n",
                            "/* Estimator-specific */\n",
                            "#sk-container-id-1 div.sk-estimator {\n",
                            "  font-family: monospace;\n",
                            "  border: 1px dotted var(--sklearn-color-border-box);\n",
                            "  border-radius: 0.25em;\n",
                            "  box-sizing: border-box;\n",
                            "  margin-bottom: 0.5em;\n",
                            "  /* unfitted */\n",
                            "  background-color: var(--sklearn-color-unfitted-level-0);\n",
                            "}\n",
                            "\n",
                            "#sk-container-id-1 div.sk-estimator.fitted {\n",
                            "  /* fitted */\n",
                            "  background-color: var(--sklearn-color-fitted-level-0);\n",
                            "}\n",
                            "\n",
                            "/* on hover */\n",
                            "#sk-container-id-1 div.sk-estimator:hover {\n",
                            "  /* unfitted */\n",
                            "  background-color: var(--sklearn-color-unfitted-level-2);\n",
                            "}\n",
                            "\n",
                            "#sk-container-id-1 div.sk-estimator.fitted:hover {\n",
                            "  /* fitted */\n",
                            "  background-color: var(--sklearn-color-fitted-level-2);\n",
                            "}\n",
                            "\n",
                            "/* Specification for estimator info (e.g. \"i\" and \"?\") */\n",
                            "\n",
                            "/* Common style for \"i\" and \"?\" */\n",
                            "\n",
                            ".sk-estimator-doc-link,\n",
                            "a:link.sk-estimator-doc-link,\n",
                            "a:visited.sk-estimator-doc-link {\n",
                            "  float: right;\n",
                            "  font-size: smaller;\n",
                            "  line-height: 1em;\n",
                            "  font-family: monospace;\n",
                            "  background-color: var(--sklearn-color-background);\n",
                            "  border-radius: 1em;\n",
                            "  height: 1em;\n",
                            "  width: 1em;\n",
                            "  text-decoration: none !important;\n",
                            "  margin-left: 1ex;\n",
                            "  /* unfitted */\n",
                            "  border: var(--sklearn-color-unfitted-level-1) 1pt solid;\n",
                            "  color: var(--sklearn-color-unfitted-level-1);\n",
                            "}\n",
                            "\n",
                            ".sk-estimator-doc-link.fitted,\n",
                            "a:link.sk-estimator-doc-link.fitted,\n",
                            "a:visited.sk-estimator-doc-link.fitted {\n",
                            "  /* fitted */\n",
                            "  border: var(--sklearn-color-fitted-level-1) 1pt solid;\n",
                            "  color: var(--sklearn-color-fitted-level-1);\n",
                            "}\n",
                            "\n",
                            "/* On hover */\n",
                            "div.sk-estimator:hover .sk-estimator-doc-link:hover,\n",
                            ".sk-estimator-doc-link:hover,\n",
                            "div.sk-label-container:hover .sk-estimator-doc-link:hover,\n",
                            ".sk-estimator-doc-link:hover {\n",
                            "  /* unfitted */\n",
                            "  background-color: var(--sklearn-color-unfitted-level-3);\n",
                            "  color: var(--sklearn-color-background);\n",
                            "  text-decoration: none;\n",
                            "}\n",
                            "\n",
                            "div.sk-estimator.fitted:hover .sk-estimator-doc-link.fitted:hover,\n",
                            ".sk-estimator-doc-link.fitted:hover,\n",
                            "div.sk-label-container:hover .sk-estimator-doc-link.fitted:hover,\n",
                            ".sk-estimator-doc-link.fitted:hover {\n",
                            "  /* fitted */\n",
                            "  background-color: var(--sklearn-color-fitted-level-3);\n",
                            "  color: var(--sklearn-color-background);\n",
                            "  text-decoration: none;\n",
                            "}\n",
                            "\n",
                            "/* Span, style for the box shown on hovering the info icon */\n",
                            ".sk-estimator-doc-link span {\n",
                            "  display: none;\n",
                            "  z-index: 9999;\n",
                            "  position: relative;\n",
                            "  font-weight: normal;\n",
                            "  right: .2ex;\n",
                            "  padding: .5ex;\n",
                            "  margin: .5ex;\n",
                            "  width: min-content;\n",
                            "  min-width: 20ex;\n",
                            "  max-width: 50ex;\n",
                            "  color: var(--sklearn-color-text);\n",
                            "  box-shadow: 2pt 2pt 4pt #999;\n",
                            "  /* unfitted */\n",
                            "  background: var(--sklearn-color-unfitted-level-0);\n",
                            "  border: .5pt solid var(--sklearn-color-unfitted-level-3);\n",
                            "}\n",
                            "\n",
                            ".sk-estimator-doc-link.fitted span {\n",
                            "  /* fitted */\n",
                            "  background: var(--sklearn-color-fitted-level-0);\n",
                            "  border: var(--sklearn-color-fitted-level-3);\n",
                            "}\n",
                            "\n",
                            ".sk-estimator-doc-link:hover span {\n",
                            "  display: block;\n",
                            "}\n",
                            "\n",
                            "/* \"?\"-specific style due to the `<a>` HTML tag */\n",
                            "\n",
                            "#sk-container-id-1 a.estimator_doc_link {\n",
                            "  float: right;\n",
                            "  font-size: 1rem;\n",
                            "  line-height: 1em;\n",
                            "  font-family: monospace;\n",
                            "  background-color: var(--sklearn-color-background);\n",
                            "  border-radius: 1rem;\n",
                            "  height: 1rem;\n",
                            "  width: 1rem;\n",
                            "  text-decoration: none;\n",
                            "  /* unfitted */\n",
                            "  color: var(--sklearn-color-unfitted-level-1);\n",
                            "  border: var(--sklearn-color-unfitted-level-1) 1pt solid;\n",
                            "}\n",
                            "\n",
                            "#sk-container-id-1 a.estimator_doc_link.fitted {\n",
                            "  /* fitted */\n",
                            "  border: var(--sklearn-color-fitted-level-1) 1pt solid;\n",
                            "  color: var(--sklearn-color-fitted-level-1);\n",
                            "}\n",
                            "\n",
                            "/* On hover */\n",
                            "#sk-container-id-1 a.estimator_doc_link:hover {\n",
                            "  /* unfitted */\n",
                            "  background-color: var(--sklearn-color-unfitted-level-3);\n",
                            "  color: var(--sklearn-color-background);\n",
                            "  text-decoration: none;\n",
                            "}\n",
                            "\n",
                            "#sk-container-id-1 a.estimator_doc_link.fitted:hover {\n",
                            "  /* fitted */\n",
                            "  background-color: var(--sklearn-color-fitted-level-3);\n",
                            "}\n",
                            "</style><div id=\"sk-container-id-1\" class=\"sk-top-container\"><div class=\"sk-text-repr-fallback\"><pre>MultinomialNB()</pre><b>In a Jupyter environment, please rerun this cell to show the HTML representation or trust the notebook. <br />On GitHub, the HTML representation is unable to render, please try loading this page with nbviewer.org.</b></div><div class=\"sk-container\" hidden><div class=\"sk-item\"><div class=\"sk-estimator fitted sk-toggleable\"><input class=\"sk-toggleable__control sk-hidden--visually\" id=\"sk-estimator-id-1\" type=\"checkbox\" checked><label for=\"sk-estimator-id-1\" class=\"sk-toggleable__label fitted sk-toggleable__label-arrow fitted\">&nbsp;&nbsp;MultinomialNB<a class=\"sk-estimator-doc-link fitted\" rel=\"noreferrer\" target=\"_blank\" href=\"https://scikit-learn.org/1.5/modules/generated/sklearn.naive_bayes.MultinomialNB.html\">?<span>Documentation for MultinomialNB</span></a><span class=\"sk-estimator-doc-link fitted\">i<span>Fitted</span></span></label><div class=\"sk-toggleable__content fitted\"><pre>MultinomialNB()</pre></div> </div></div></div></div>"
                        ],
                        "text/plain": [
                            "MultinomialNB()"
                        ]
                    },
                    "execution_count": 19,
                    "metadata": {},
                    "output_type": "execute_result"
                }
            ],
            "source": [
                "from sklearn import naive_bayes\n",
                "model_naive = naive_bayes.MultinomialNB()\n",
                "model_naive.fit(X_train, y_train)"
            ]
        },
        {
            "cell_type": "markdown",
            "metadata": {},
            "source": [
                "The classifier is trained almost instantly and returns the scores for both the training and the\n",
                "test set:"
            ]
        },
        {
            "cell_type": "code",
            "execution_count": 20,
            "metadata": {
                "execution": {
                    "iopub.execute_input": "2024-08-11T01:36:28.941691Z",
                    "iopub.status.busy": "2024-08-11T01:36:28.941465Z",
                    "iopub.status.idle": "2024-08-11T01:36:28.989699Z",
                    "shell.execute_reply": "2024-08-11T01:36:28.989113Z"
                }
            },
            "outputs": [
                {
                    "data": {
                        "text/plain": [
                            "0.9504560729716754"
                        ]
                    },
                    "execution_count": 20,
                    "metadata": {},
                    "output_type": "execute_result"
                }
            ],
            "source": [
                "model_naive.score(X_train, y_train)"
            ]
        },
        {
            "cell_type": "code",
            "execution_count": 21,
            "metadata": {
                "execution": {
                    "iopub.execute_input": "2024-08-11T01:36:28.991762Z",
                    "iopub.status.busy": "2024-08-11T01:36:28.991548Z",
                    "iopub.status.idle": "2024-08-11T01:36:29.009533Z",
                    "shell.execute_reply": "2024-08-11T01:36:29.008905Z"
                }
            },
            "outputs": [
                {
                    "data": {
                        "text/plain": [
                            "0.945852534562212"
                        ]
                    },
                    "execution_count": 21,
                    "metadata": {},
                    "output_type": "execute_result"
                }
            ],
            "source": [
                "model_naive.score(X_test, y_test)"
            ]
        },
        {
            "cell_type": "markdown",
            "metadata": {},
            "source": [
                "And there we have it: 97.0% accuracy on the test set! Pretty good for not doing much other\n",
                "than using the default values, isn't it?\n",
                "\n",
                "However, what if we were super critical of our own work and wanted to improve the result\n",
                "even further? There are a couple of things we could do."
            ]
        },
        {
            "cell_type": "markdown",
            "metadata": {},
            "source": [
                "## Using n-grams to improve the result\n",
                "\n",
                "One thing to do is to use **$n$-gram counts** instead of plain word counts. So far, we have relied\n",
                "on what is known as a **bag of words**: We simply threw every word of an email into a bag\n",
                "and counted the number of its occurrences. However, in real emails, the **order** in which\n",
                "**words appear** can carry a great deal of information!\n",
                "\n",
                "This is exactly what $n$-gram counts are trying to convey. You can think of an $n$-gram as a\n",
                "phrase that is $n$ words long. For example, the phrase *Statistics has its moments* contains the\n",
                "following 1-grams: *Statistics*, *has*, *its*, and *moments*. It also has the following 2-grams:\n",
                "*Statistics has*, *has its*, and *its moments*. It also has two 3-grams (*Statistics has its* and *has its\n",
                "moments*), and only a single 4-gram.\n",
                "\n",
                "We can tell CountVectorizer to include any order of $n$-grams into the feature matrix by\n",
                "specifying a range for $n$:"
            ]
        },
        {
            "cell_type": "code",
            "execution_count": 22,
            "metadata": {
                "execution": {
                    "iopub.execute_input": "2024-08-11T01:36:29.011735Z",
                    "iopub.status.busy": "2024-08-11T01:36:29.011510Z",
                    "iopub.status.idle": "2024-08-11T01:37:03.739428Z",
                    "shell.execute_reply": "2024-08-11T01:37:03.738821Z"
                }
            },
            "outputs": [],
            "source": [
                "counts = feature_extraction.text.CountVectorizer(\n",
                "    ngram_range=(1, 2)\n",
                ")\n",
                "X = counts.fit_transform(data['text'].values)"
            ]
        },
        {
            "cell_type": "markdown",
            "metadata": {},
            "source": [
                "We then repeat the entire procedure of splitting the data and training the classifier:"
            ]
        },
        {
            "cell_type": "code",
            "execution_count": 23,
            "metadata": {
                "execution": {
                    "iopub.execute_input": "2024-08-11T01:37:03.742088Z",
                    "iopub.status.busy": "2024-08-11T01:37:03.741853Z",
                    "iopub.status.idle": "2024-08-11T01:37:03.817555Z",
                    "shell.execute_reply": "2024-08-11T01:37:03.817097Z"
                }
            },
            "outputs": [],
            "source": [
                "from sklearn import model_selection\n",
                "X_train, X_test, y_train, y_test = model_selection.train_test_split(\n",
                "    X, y, test_size=0.2, random_state=42\n",
                ")"
            ]
        },
        {
            "cell_type": "markdown",
            "metadata": {},
            "source": [
                "We have to convert y_train (why?)"
            ]
        },
        {
            "cell_type": "code",
            "execution_count": 24,
            "metadata": {
                "execution": {
                    "iopub.execute_input": "2024-08-11T01:37:03.819796Z",
                    "iopub.status.busy": "2024-08-11T01:37:03.819612Z",
                    "iopub.status.idle": "2024-08-11T01:37:03.823875Z",
                    "shell.execute_reply": "2024-08-11T01:37:03.823461Z"
                }
            },
            "outputs": [],
            "source": [
                "y_train = np.array(y_train).astype(int)\n",
                "y_test = np.array(y_test).astype(int)"
            ]
        },
        {
            "cell_type": "code",
            "execution_count": 25,
            "metadata": {
                "execution": {
                    "iopub.execute_input": "2024-08-11T01:37:03.826043Z",
                    "iopub.status.busy": "2024-08-11T01:37:03.825815Z",
                    "iopub.status.idle": "2024-08-11T01:37:04.155901Z",
                    "shell.execute_reply": "2024-08-11T01:37:04.155303Z"
                }
            },
            "outputs": [
                {
                    "data": {
                        "text/html": [
                            "<style>#sk-container-id-2 {\n",
                            "  /* Definition of color scheme common for light and dark mode */\n",
                            "  --sklearn-color-text: black;\n",
                            "  --sklearn-color-line: gray;\n",
                            "  /* Definition of color scheme for unfitted estimators */\n",
                            "  --sklearn-color-unfitted-level-0: #fff5e6;\n",
                            "  --sklearn-color-unfitted-level-1: #f6e4d2;\n",
                            "  --sklearn-color-unfitted-level-2: #ffe0b3;\n",
                            "  --sklearn-color-unfitted-level-3: chocolate;\n",
                            "  /* Definition of color scheme for fitted estimators */\n",
                            "  --sklearn-color-fitted-level-0: #f0f8ff;\n",
                            "  --sklearn-color-fitted-level-1: #d4ebff;\n",
                            "  --sklearn-color-fitted-level-2: #b3dbfd;\n",
                            "  --sklearn-color-fitted-level-3: cornflowerblue;\n",
                            "\n",
                            "  /* Specific color for light theme */\n",
                            "  --sklearn-color-text-on-default-background: var(--sg-text-color, var(--theme-code-foreground, var(--jp-content-font-color1, black)));\n",
                            "  --sklearn-color-background: var(--sg-background-color, var(--theme-background, var(--jp-layout-color0, white)));\n",
                            "  --sklearn-color-border-box: var(--sg-text-color, var(--theme-code-foreground, var(--jp-content-font-color1, black)));\n",
                            "  --sklearn-color-icon: #696969;\n",
                            "\n",
                            "  @media (prefers-color-scheme: dark) {\n",
                            "    /* Redefinition of color scheme for dark theme */\n",
                            "    --sklearn-color-text-on-default-background: var(--sg-text-color, var(--theme-code-foreground, var(--jp-content-font-color1, white)));\n",
                            "    --sklearn-color-background: var(--sg-background-color, var(--theme-background, var(--jp-layout-color0, #111)));\n",
                            "    --sklearn-color-border-box: var(--sg-text-color, var(--theme-code-foreground, var(--jp-content-font-color1, white)));\n",
                            "    --sklearn-color-icon: #878787;\n",
                            "  }\n",
                            "}\n",
                            "\n",
                            "#sk-container-id-2 {\n",
                            "  color: var(--sklearn-color-text);\n",
                            "}\n",
                            "\n",
                            "#sk-container-id-2 pre {\n",
                            "  padding: 0;\n",
                            "}\n",
                            "\n",
                            "#sk-container-id-2 input.sk-hidden--visually {\n",
                            "  border: 0;\n",
                            "  clip: rect(1px 1px 1px 1px);\n",
                            "  clip: rect(1px, 1px, 1px, 1px);\n",
                            "  height: 1px;\n",
                            "  margin: -1px;\n",
                            "  overflow: hidden;\n",
                            "  padding: 0;\n",
                            "  position: absolute;\n",
                            "  width: 1px;\n",
                            "}\n",
                            "\n",
                            "#sk-container-id-2 div.sk-dashed-wrapped {\n",
                            "  border: 1px dashed var(--sklearn-color-line);\n",
                            "  margin: 0 0.4em 0.5em 0.4em;\n",
                            "  box-sizing: border-box;\n",
                            "  padding-bottom: 0.4em;\n",
                            "  background-color: var(--sklearn-color-background);\n",
                            "}\n",
                            "\n",
                            "#sk-container-id-2 div.sk-container {\n",
                            "  /* jupyter's `normalize.less` sets `[hidden] { display: none; }`\n",
                            "     but bootstrap.min.css set `[hidden] { display: none !important; }`\n",
                            "     so we also need the `!important` here to be able to override the\n",
                            "     default hidden behavior on the sphinx rendered scikit-learn.org.\n",
                            "     See: https://github.com/scikit-learn/scikit-learn/issues/21755 */\n",
                            "  display: inline-block !important;\n",
                            "  position: relative;\n",
                            "}\n",
                            "\n",
                            "#sk-container-id-2 div.sk-text-repr-fallback {\n",
                            "  display: none;\n",
                            "}\n",
                            "\n",
                            "div.sk-parallel-item,\n",
                            "div.sk-serial,\n",
                            "div.sk-item {\n",
                            "  /* draw centered vertical line to link estimators */\n",
                            "  background-image: linear-gradient(var(--sklearn-color-text-on-default-background), var(--sklearn-color-text-on-default-background));\n",
                            "  background-size: 2px 100%;\n",
                            "  background-repeat: no-repeat;\n",
                            "  background-position: center center;\n",
                            "}\n",
                            "\n",
                            "/* Parallel-specific style estimator block */\n",
                            "\n",
                            "#sk-container-id-2 div.sk-parallel-item::after {\n",
                            "  content: \"\";\n",
                            "  width: 100%;\n",
                            "  border-bottom: 2px solid var(--sklearn-color-text-on-default-background);\n",
                            "  flex-grow: 1;\n",
                            "}\n",
                            "\n",
                            "#sk-container-id-2 div.sk-parallel {\n",
                            "  display: flex;\n",
                            "  align-items: stretch;\n",
                            "  justify-content: center;\n",
                            "  background-color: var(--sklearn-color-background);\n",
                            "  position: relative;\n",
                            "}\n",
                            "\n",
                            "#sk-container-id-2 div.sk-parallel-item {\n",
                            "  display: flex;\n",
                            "  flex-direction: column;\n",
                            "}\n",
                            "\n",
                            "#sk-container-id-2 div.sk-parallel-item:first-child::after {\n",
                            "  align-self: flex-end;\n",
                            "  width: 50%;\n",
                            "}\n",
                            "\n",
                            "#sk-container-id-2 div.sk-parallel-item:last-child::after {\n",
                            "  align-self: flex-start;\n",
                            "  width: 50%;\n",
                            "}\n",
                            "\n",
                            "#sk-container-id-2 div.sk-parallel-item:only-child::after {\n",
                            "  width: 0;\n",
                            "}\n",
                            "\n",
                            "/* Serial-specific style estimator block */\n",
                            "\n",
                            "#sk-container-id-2 div.sk-serial {\n",
                            "  display: flex;\n",
                            "  flex-direction: column;\n",
                            "  align-items: center;\n",
                            "  background-color: var(--sklearn-color-background);\n",
                            "  padding-right: 1em;\n",
                            "  padding-left: 1em;\n",
                            "}\n",
                            "\n",
                            "\n",
                            "/* Toggleable style: style used for estimator/Pipeline/ColumnTransformer box that is\n",
                            "clickable and can be expanded/collapsed.\n",
                            "- Pipeline and ColumnTransformer use this feature and define the default style\n",
                            "- Estimators will overwrite some part of the style using the `sk-estimator` class\n",
                            "*/\n",
                            "\n",
                            "/* Pipeline and ColumnTransformer style (default) */\n",
                            "\n",
                            "#sk-container-id-2 div.sk-toggleable {\n",
                            "  /* Default theme specific background. It is overwritten whether we have a\n",
                            "  specific estimator or a Pipeline/ColumnTransformer */\n",
                            "  background-color: var(--sklearn-color-background);\n",
                            "}\n",
                            "\n",
                            "/* Toggleable label */\n",
                            "#sk-container-id-2 label.sk-toggleable__label {\n",
                            "  cursor: pointer;\n",
                            "  display: block;\n",
                            "  width: 100%;\n",
                            "  margin-bottom: 0;\n",
                            "  padding: 0.5em;\n",
                            "  box-sizing: border-box;\n",
                            "  text-align: center;\n",
                            "}\n",
                            "\n",
                            "#sk-container-id-2 label.sk-toggleable__label-arrow:before {\n",
                            "  /* Arrow on the left of the label */\n",
                            "  content: \"\u25b8\";\n",
                            "  float: left;\n",
                            "  margin-right: 0.25em;\n",
                            "  color: var(--sklearn-color-icon);\n",
                            "}\n",
                            "\n",
                            "#sk-container-id-2 label.sk-toggleable__label-arrow:hover:before {\n",
                            "  color: var(--sklearn-color-text);\n",
                            "}\n",
                            "\n",
                            "/* Toggleable content - dropdown */\n",
                            "\n",
                            "#sk-container-id-2 div.sk-toggleable__content {\n",
                            "  max-height: 0;\n",
                            "  max-width: 0;\n",
                            "  overflow: hidden;\n",
                            "  text-align: left;\n",
                            "  /* unfitted */\n",
                            "  background-color: var(--sklearn-color-unfitted-level-0);\n",
                            "}\n",
                            "\n",
                            "#sk-container-id-2 div.sk-toggleable__content.fitted {\n",
                            "  /* fitted */\n",
                            "  background-color: var(--sklearn-color-fitted-level-0);\n",
                            "}\n",
                            "\n",
                            "#sk-container-id-2 div.sk-toggleable__content pre {\n",
                            "  margin: 0.2em;\n",
                            "  border-radius: 0.25em;\n",
                            "  color: var(--sklearn-color-text);\n",
                            "  /* unfitted */\n",
                            "  background-color: var(--sklearn-color-unfitted-level-0);\n",
                            "}\n",
                            "\n",
                            "#sk-container-id-2 div.sk-toggleable__content.fitted pre {\n",
                            "  /* unfitted */\n",
                            "  background-color: var(--sklearn-color-fitted-level-0);\n",
                            "}\n",
                            "\n",
                            "#sk-container-id-2 input.sk-toggleable__control:checked~div.sk-toggleable__content {\n",
                            "  /* Expand drop-down */\n",
                            "  max-height: 200px;\n",
                            "  max-width: 100%;\n",
                            "  overflow: auto;\n",
                            "}\n",
                            "\n",
                            "#sk-container-id-2 input.sk-toggleable__control:checked~label.sk-toggleable__label-arrow:before {\n",
                            "  content: \"\u25be\";\n",
                            "}\n",
                            "\n",
                            "/* Pipeline/ColumnTransformer-specific style */\n",
                            "\n",
                            "#sk-container-id-2 div.sk-label input.sk-toggleable__control:checked~label.sk-toggleable__label {\n",
                            "  color: var(--sklearn-color-text);\n",
                            "  background-color: var(--sklearn-color-unfitted-level-2);\n",
                            "}\n",
                            "\n",
                            "#sk-container-id-2 div.sk-label.fitted input.sk-toggleable__control:checked~label.sk-toggleable__label {\n",
                            "  background-color: var(--sklearn-color-fitted-level-2);\n",
                            "}\n",
                            "\n",
                            "/* Estimator-specific style */\n",
                            "\n",
                            "/* Colorize estimator box */\n",
                            "#sk-container-id-2 div.sk-estimator input.sk-toggleable__control:checked~label.sk-toggleable__label {\n",
                            "  /* unfitted */\n",
                            "  background-color: var(--sklearn-color-unfitted-level-2);\n",
                            "}\n",
                            "\n",
                            "#sk-container-id-2 div.sk-estimator.fitted input.sk-toggleable__control:checked~label.sk-toggleable__label {\n",
                            "  /* fitted */\n",
                            "  background-color: var(--sklearn-color-fitted-level-2);\n",
                            "}\n",
                            "\n",
                            "#sk-container-id-2 div.sk-label label.sk-toggleable__label,\n",
                            "#sk-container-id-2 div.sk-label label {\n",
                            "  /* The background is the default theme color */\n",
                            "  color: var(--sklearn-color-text-on-default-background);\n",
                            "}\n",
                            "\n",
                            "/* On hover, darken the color of the background */\n",
                            "#sk-container-id-2 div.sk-label:hover label.sk-toggleable__label {\n",
                            "  color: var(--sklearn-color-text);\n",
                            "  background-color: var(--sklearn-color-unfitted-level-2);\n",
                            "}\n",
                            "\n",
                            "/* Label box, darken color on hover, fitted */\n",
                            "#sk-container-id-2 div.sk-label.fitted:hover label.sk-toggleable__label.fitted {\n",
                            "  color: var(--sklearn-color-text);\n",
                            "  background-color: var(--sklearn-color-fitted-level-2);\n",
                            "}\n",
                            "\n",
                            "/* Estimator label */\n",
                            "\n",
                            "#sk-container-id-2 div.sk-label label {\n",
                            "  font-family: monospace;\n",
                            "  font-weight: bold;\n",
                            "  display: inline-block;\n",
                            "  line-height: 1.2em;\n",
                            "}\n",
                            "\n",
                            "#sk-container-id-2 div.sk-label-container {\n",
                            "  text-align: center;\n",
                            "}\n",
                            "\n",
                            "/* Estimator-specific */\n",
                            "#sk-container-id-2 div.sk-estimator {\n",
                            "  font-family: monospace;\n",
                            "  border: 1px dotted var(--sklearn-color-border-box);\n",
                            "  border-radius: 0.25em;\n",
                            "  box-sizing: border-box;\n",
                            "  margin-bottom: 0.5em;\n",
                            "  /* unfitted */\n",
                            "  background-color: var(--sklearn-color-unfitted-level-0);\n",
                            "}\n",
                            "\n",
                            "#sk-container-id-2 div.sk-estimator.fitted {\n",
                            "  /* fitted */\n",
                            "  background-color: var(--sklearn-color-fitted-level-0);\n",
                            "}\n",
                            "\n",
                            "/* on hover */\n",
                            "#sk-container-id-2 div.sk-estimator:hover {\n",
                            "  /* unfitted */\n",
                            "  background-color: var(--sklearn-color-unfitted-level-2);\n",
                            "}\n",
                            "\n",
                            "#sk-container-id-2 div.sk-estimator.fitted:hover {\n",
                            "  /* fitted */\n",
                            "  background-color: var(--sklearn-color-fitted-level-2);\n",
                            "}\n",
                            "\n",
                            "/* Specification for estimator info (e.g. \"i\" and \"?\") */\n",
                            "\n",
                            "/* Common style for \"i\" and \"?\" */\n",
                            "\n",
                            ".sk-estimator-doc-link,\n",
                            "a:link.sk-estimator-doc-link,\n",
                            "a:visited.sk-estimator-doc-link {\n",
                            "  float: right;\n",
                            "  font-size: smaller;\n",
                            "  line-height: 1em;\n",
                            "  font-family: monospace;\n",
                            "  background-color: var(--sklearn-color-background);\n",
                            "  border-radius: 1em;\n",
                            "  height: 1em;\n",
                            "  width: 1em;\n",
                            "  text-decoration: none !important;\n",
                            "  margin-left: 1ex;\n",
                            "  /* unfitted */\n",
                            "  border: var(--sklearn-color-unfitted-level-1) 1pt solid;\n",
                            "  color: var(--sklearn-color-unfitted-level-1);\n",
                            "}\n",
                            "\n",
                            ".sk-estimator-doc-link.fitted,\n",
                            "a:link.sk-estimator-doc-link.fitted,\n",
                            "a:visited.sk-estimator-doc-link.fitted {\n",
                            "  /* fitted */\n",
                            "  border: var(--sklearn-color-fitted-level-1) 1pt solid;\n",
                            "  color: var(--sklearn-color-fitted-level-1);\n",
                            "}\n",
                            "\n",
                            "/* On hover */\n",
                            "div.sk-estimator:hover .sk-estimator-doc-link:hover,\n",
                            ".sk-estimator-doc-link:hover,\n",
                            "div.sk-label-container:hover .sk-estimator-doc-link:hover,\n",
                            ".sk-estimator-doc-link:hover {\n",
                            "  /* unfitted */\n",
                            "  background-color: var(--sklearn-color-unfitted-level-3);\n",
                            "  color: var(--sklearn-color-background);\n",
                            "  text-decoration: none;\n",
                            "}\n",
                            "\n",
                            "div.sk-estimator.fitted:hover .sk-estimator-doc-link.fitted:hover,\n",
                            ".sk-estimator-doc-link.fitted:hover,\n",
                            "div.sk-label-container:hover .sk-estimator-doc-link.fitted:hover,\n",
                            ".sk-estimator-doc-link.fitted:hover {\n",
                            "  /* fitted */\n",
                            "  background-color: var(--sklearn-color-fitted-level-3);\n",
                            "  color: var(--sklearn-color-background);\n",
                            "  text-decoration: none;\n",
                            "}\n",
                            "\n",
                            "/* Span, style for the box shown on hovering the info icon */\n",
                            ".sk-estimator-doc-link span {\n",
                            "  display: none;\n",
                            "  z-index: 9999;\n",
                            "  position: relative;\n",
                            "  font-weight: normal;\n",
                            "  right: .2ex;\n",
                            "  padding: .5ex;\n",
                            "  margin: .5ex;\n",
                            "  width: min-content;\n",
                            "  min-width: 20ex;\n",
                            "  max-width: 50ex;\n",
                            "  color: var(--sklearn-color-text);\n",
                            "  box-shadow: 2pt 2pt 4pt #999;\n",
                            "  /* unfitted */\n",
                            "  background: var(--sklearn-color-unfitted-level-0);\n",
                            "  border: .5pt solid var(--sklearn-color-unfitted-level-3);\n",
                            "}\n",
                            "\n",
                            ".sk-estimator-doc-link.fitted span {\n",
                            "  /* fitted */\n",
                            "  background: var(--sklearn-color-fitted-level-0);\n",
                            "  border: var(--sklearn-color-fitted-level-3);\n",
                            "}\n",
                            "\n",
                            ".sk-estimator-doc-link:hover span {\n",
                            "  display: block;\n",
                            "}\n",
                            "\n",
                            "/* \"?\"-specific style due to the `<a>` HTML tag */\n",
                            "\n",
                            "#sk-container-id-2 a.estimator_doc_link {\n",
                            "  float: right;\n",
                            "  font-size: 1rem;\n",
                            "  line-height: 1em;\n",
                            "  font-family: monospace;\n",
                            "  background-color: var(--sklearn-color-background);\n",
                            "  border-radius: 1rem;\n",
                            "  height: 1rem;\n",
                            "  width: 1rem;\n",
                            "  text-decoration: none;\n",
                            "  /* unfitted */\n",
                            "  color: var(--sklearn-color-unfitted-level-1);\n",
                            "  border: var(--sklearn-color-unfitted-level-1) 1pt solid;\n",
                            "}\n",
                            "\n",
                            "#sk-container-id-2 a.estimator_doc_link.fitted {\n",
                            "  /* fitted */\n",
                            "  border: var(--sklearn-color-fitted-level-1) 1pt solid;\n",
                            "  color: var(--sklearn-color-fitted-level-1);\n",
                            "}\n",
                            "\n",
                            "/* On hover */\n",
                            "#sk-container-id-2 a.estimator_doc_link:hover {\n",
                            "  /* unfitted */\n",
                            "  background-color: var(--sklearn-color-unfitted-level-3);\n",
                            "  color: var(--sklearn-color-background);\n",
                            "  text-decoration: none;\n",
                            "}\n",
                            "\n",
                            "#sk-container-id-2 a.estimator_doc_link.fitted:hover {\n",
                            "  /* fitted */\n",
                            "  background-color: var(--sklearn-color-fitted-level-3);\n",
                            "}\n",
                            "</style><div id=\"sk-container-id-2\" class=\"sk-top-container\"><div class=\"sk-text-repr-fallback\"><pre>MultinomialNB()</pre><b>In a Jupyter environment, please rerun this cell to show the HTML representation or trust the notebook. <br />On GitHub, the HTML representation is unable to render, please try loading this page with nbviewer.org.</b></div><div class=\"sk-container\" hidden><div class=\"sk-item\"><div class=\"sk-estimator fitted sk-toggleable\"><input class=\"sk-toggleable__control sk-hidden--visually\" id=\"sk-estimator-id-2\" type=\"checkbox\" checked><label for=\"sk-estimator-id-2\" class=\"sk-toggleable__label fitted sk-toggleable__label-arrow fitted\">&nbsp;&nbsp;MultinomialNB<a class=\"sk-estimator-doc-link fitted\" rel=\"noreferrer\" target=\"_blank\" href=\"https://scikit-learn.org/1.5/modules/generated/sklearn.naive_bayes.MultinomialNB.html\">?<span>Documentation for MultinomialNB</span></a><span class=\"sk-estimator-doc-link fitted\">i<span>Fitted</span></span></label><div class=\"sk-toggleable__content fitted\"><pre>MultinomialNB()</pre></div> </div></div></div></div>"
                        ],
                        "text/plain": [
                            "MultinomialNB()"
                        ]
                    },
                    "execution_count": 25,
                    "metadata": {},
                    "output_type": "execute_result"
                }
            ],
            "source": [
                "model_naive = naive_bayes.MultinomialNB()\n",
                "model_naive.fit(X_train, y_train)"
            ]
        },
        {
            "cell_type": "markdown",
            "metadata": {},
            "source": [
                "You might have noticed that the training is taking much longer this time. To our delight, we\n",
                "find that the performance has significantly increased:"
            ]
        },
        {
            "cell_type": "code",
            "execution_count": 26,
            "metadata": {
                "execution": {
                    "iopub.execute_input": "2024-08-11T01:37:04.158197Z",
                    "iopub.status.busy": "2024-08-11T01:37:04.157966Z",
                    "iopub.status.idle": "2024-08-11T01:37:04.232389Z",
                    "shell.execute_reply": "2024-08-11T01:37:04.231948Z"
                }
            },
            "outputs": [
                {
                    "data": {
                        "text/plain": [
                            "0.9704301075268817"
                        ]
                    },
                    "execution_count": 26,
                    "metadata": {},
                    "output_type": "execute_result"
                }
            ],
            "source": [
                "model_naive.score(X_test, y_test)"
            ]
        },
        {
            "cell_type": "markdown",
            "metadata": {},
            "source": [
                "However, $n$-gram counts are not perfect. They have the disadvantage of unfairly weighting\n",
                "longer documents (because there are more possible combinations of forming $n$-grams). \n",
                "\n",
                "To\n",
                "avoid this problem, we can use relative frequencies instead of a simple number of\n",
                "occurrences. We have already encountered one way to do so, and it had a horribly\n",
                "complicated name. \n",
                "\n",
                "Do you remember what it was called?"
            ]
        },
        {
            "cell_type": "markdown",
            "metadata": {},
            "source": [
                "## Using tf-idf to improve the result\n",
                "\n",
                "It was called the **term\u2013inverse document frequency (tf\u2013idf)**, and we encountered it in\n",
                "[Chapter 4](04.00-Representing-Data-and-Engineering-Features.ipynb), *Representing Data and Engineering Features*. If you recall, what tf\u2013idf does is\n",
                "basically weigh the word count by a measure of how often they appear in the entire dataset.\n",
                "A useful side effect of this method is the idf part\u2014the inverse frequency of words. This\n",
                "makes sure that frequent words, such as and, the, and but, carry only a small weight in the\n",
                "classification.\n",
                "\n",
                "We apply tf\u2013idf to the feature matrix by calling fit_transform on our existing feature\n",
                "matrix `X`:"
            ]
        },
        {
            "cell_type": "code",
            "execution_count": 27,
            "metadata": {
                "execution": {
                    "iopub.execute_input": "2024-08-11T01:37:04.234700Z",
                    "iopub.status.busy": "2024-08-11T01:37:04.234477Z",
                    "iopub.status.idle": "2024-08-11T01:37:04.236941Z",
                    "shell.execute_reply": "2024-08-11T01:37:04.236572Z"
                }
            },
            "outputs": [],
            "source": [
                "tfidf = feature_extraction.text.TfidfTransformer()"
            ]
        },
        {
            "cell_type": "code",
            "execution_count": 28,
            "metadata": {
                "execution": {
                    "iopub.execute_input": "2024-08-11T01:37:04.238701Z",
                    "iopub.status.busy": "2024-08-11T01:37:04.238521Z",
                    "iopub.status.idle": "2024-08-11T01:37:05.658483Z",
                    "shell.execute_reply": "2024-08-11T01:37:05.657862Z"
                }
            },
            "outputs": [],
            "source": [
                "X_new = tfidf.fit_transform(X)"
            ]
        },
        {
            "cell_type": "markdown",
            "metadata": {},
            "source": [
                "Don't forget to split the data:"
            ]
        },
        {
            "cell_type": "code",
            "execution_count": 29,
            "metadata": {
                "execution": {
                    "iopub.execute_input": "2024-08-11T01:37:05.661046Z",
                    "iopub.status.busy": "2024-08-11T01:37:05.660789Z",
                    "iopub.status.idle": "2024-08-11T01:37:05.791437Z",
                    "shell.execute_reply": "2024-08-11T01:37:05.790959Z"
                }
            },
            "outputs": [],
            "source": [
                "X_train, X_test, y_train, y_test = ms.train_test_split(\n",
                "    X_new, y, test_size=0.2, random_state=42\n",
                ")\n",
                "y_train = np.array(y_train).astype(int)\n",
                "y_test = np.array(y_test).astype(int)"
            ]
        },
        {
            "cell_type": "markdown",
            "metadata": {},
            "source": [
                "Then, when we train and score the classifier again, we suddenly find a remarkable score of\n",
                "99% accuracy!"
            ]
        },
        {
            "cell_type": "code",
            "execution_count": 30,
            "metadata": {
                "execution": {
                    "iopub.execute_input": "2024-08-11T01:37:05.793927Z",
                    "iopub.status.busy": "2024-08-11T01:37:05.793668Z",
                    "iopub.status.idle": "2024-08-11T01:37:06.165507Z",
                    "shell.execute_reply": "2024-08-11T01:37:06.164898Z"
                }
            },
            "outputs": [
                {
                    "data": {
                        "text/plain": [
                            "0.9913594470046083"
                        ]
                    },
                    "execution_count": 30,
                    "metadata": {},
                    "output_type": "execute_result"
                }
            ],
            "source": [
                "model_naive = naive_bayes.MultinomialNB()\n",
                "model_naive.fit(X_train, y_train)\n",
                "model_naive.score(X_test, y_test)"
            ]
        },
        {
            "cell_type": "markdown",
            "metadata": {},
            "source": [
                "To convince us of the classifier's awesomeness, we can inspect the **confusion matrix**. This is\n",
                "a matrix that shows, for every class, how many data samples were misclassified as\n",
                "belonging to a different class.\n",
                "\n",
                "The diagonal elements in the matrix tell us how many\n",
                "samples of the class $i$ were correctly classified as belonging to the class $i$. The off-diagonal\n",
                "elements represent misclassifications:"
            ]
        },
        {
            "cell_type": "code",
            "execution_count": 31,
            "metadata": {
                "execution": {
                    "iopub.execute_input": "2024-08-11T01:37:06.167837Z",
                    "iopub.status.busy": "2024-08-11T01:37:06.167609Z",
                    "iopub.status.idle": "2024-08-11T01:37:06.170516Z",
                    "shell.execute_reply": "2024-08-11T01:37:06.170171Z"
                }
            },
            "outputs": [],
            "source": [
                "from sklearn import metrics"
            ]
        },
        {
            "cell_type": "code",
            "execution_count": 32,
            "metadata": {
                "execution": {
                    "iopub.execute_input": "2024-08-11T01:37:06.172443Z",
                    "iopub.status.busy": "2024-08-11T01:37:06.172150Z",
                    "iopub.status.idle": "2024-08-11T01:37:06.244960Z",
                    "shell.execute_reply": "2024-08-11T01:37:06.244370Z"
                }
            },
            "outputs": [
                {
                    "data": {
                        "text/plain": [
                            "array([[3747,   83],\n",
                            "       [   7, 6579]])"
                        ]
                    },
                    "execution_count": 32,
                    "metadata": {},
                    "output_type": "execute_result"
                }
            ],
            "source": [
                "metrics.confusion_matrix(y_test, model_naive.predict(X_test))"
            ]
        },
        {
            "cell_type": "markdown",
            "metadata": {
                "collapsed": true,
                "jupyter": {
                    "outputs_hidden": true
                }
            },
            "source": [
                "This tells us we got 3,746 class 0 classifications correct, and 6,575 class 1 classifications\n",
                "correct. We confused 84 samples of class 0 as belonging to class 1 and"
            ]
        }
    ],
    "metadata": {
        "kernelspec": {
            "display_name": "Python 3 (ipykernel)",
            "language": "python",
            "name": "python3"
        },
        "language_info": {
            "codemirror_mode": {
                "name": "ipython",
                "version": 3
            },
            "file_extension": ".py",
            "mimetype": "text/x-python",
            "name": "python",
            "nbconvert_exporter": "python",
            "pygments_lexer": "ipython3",
            "version": "3.11.9"
        }
    },
    "nbformat": 4,
    "nbformat_minor": 4
}