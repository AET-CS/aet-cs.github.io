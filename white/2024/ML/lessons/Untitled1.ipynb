{
 "cells": [
  {
   "cell_type": "markdown",
   "id": "171f16f1-58b2-4015-b7c4-50c409cb8210",
   "metadata": {},
   "source": [
    "# Bach Midi Helper Functions"
   ]
  },
  {
   "cell_type": "code",
   "execution_count": 2,
   "id": "4c0a1050-54f7-4aba-86da-c9c82100ba2d",
   "metadata": {},
   "outputs": [
    {
     "name": "stdout",
     "output_type": "stream",
     "text": [
      "Collecting mido\n",
      "  Downloading mido-1.3.3-py3-none-any.whl.metadata (6.4 kB)\n",
      "Requirement already satisfied: packaging in /home/pewhite/github/aet-cs/aet-cs.github.io/white/ML/tf-env/lib/python3.11/site-packages (from mido) (24.2)\n",
      "Downloading mido-1.3.3-py3-none-any.whl (54 kB)\n",
      "\u001b[2K   \u001b[38;2;114;156;31m━━━━━━━━━━━━━━━━━━━━━━━━━━━━━━━━━━━━━━━━\u001b[0m \u001b[32m54.6/54.6 kB\u001b[0m \u001b[31m380.9 kB/s\u001b[0m eta \u001b[36m0:00:00\u001b[0m1m336.5 kB/s\u001b[0m eta \u001b[36m0:00:01\u001b[0m\n",
      "Installing collected packages: mido\n",
      "Successfully installed mido-1.3.3\n",
      "\n",
      "\u001b[1m[\u001b[0m\u001b[34;49mnotice\u001b[0m\u001b[1;39;49m]\u001b[0m\u001b[39;49m A new release of pip is available: \u001b[0m\u001b[31;49m24.0\u001b[0m\u001b[39;49m -> \u001b[0m\u001b[32;49m25.0.1\u001b[0m\n",
      "\u001b[1m[\u001b[0m\u001b[34;49mnotice\u001b[0m\u001b[1;39;49m]\u001b[0m\u001b[39;49m To update, run: \u001b[0m\u001b[32;49mpip install --upgrade pip\u001b[0m\n"
     ]
    }
   ],
   "source": [
    "!pip install mido"
   ]
  },
  {
   "cell_type": "code",
   "execution_count": 4,
   "id": "97e521d8-f81c-468a-bf81-5646c7f48b19",
   "metadata": {},
   "outputs": [
    {
     "name": "stdout",
     "output_type": "stream",
     "text": [
      "Saved MIDI file: ../data/bach/chorale_000.midi\n"
     ]
    }
   ],
   "source": [
    "import csv\n",
    "import mido\n",
    "from mido import MidiFile, MidiTrack, Message\n",
    "\n",
    "def csv_to_midi(csv_path, midi_path, ticks_per_beat=240):\n",
    "    \"\"\"Converts a Bach Chorales CSV file into a MIDI file.\"\"\"\n",
    "    midi = MidiFile(ticks_per_beat=ticks_per_beat)\n",
    "    track = MidiTrack()\n",
    "    midi.tracks.append(track)\n",
    "\n",
    "    with open(csv_path, newline='') as csvfile:\n",
    "        reader = csv.reader(csvfile)\n",
    "        next(reader)  # Skip header if present\n",
    "\n",
    "        for row in reader:\n",
    "            notes = [int(n) for n in row if int(n) > 0]  # Ignore '0' values (no note)\n",
    "            for note in notes:\n",
    "                track.append(Message('note_on', note=note, velocity=64, time=0))\n",
    "            track.append(Message('note_off', note=note, velocity=64, time=ticks_per_beat))  \n",
    "\n",
    "    midi.save(midi_path)\n",
    "    print(f\"Saved MIDI file: {midi_path}\")\n",
    "\n",
    "# Example usage\n",
    "csv_to_midi(\"../data/bach/train/chorale_000.csv\", \"../data/bach/chorale_000.midi\")"
   ]
  },
  {
   "cell_type": "code",
   "execution_count": null,
   "id": "4788d83f-6742-4928-b9d6-72503920a092",
   "metadata": {},
   "outputs": [],
   "source": []
  }
 ],
 "metadata": {
  "kernelspec": {
   "display_name": "Python 3 (ipykernel)",
   "language": "python",
   "name": "python3"
  },
  "language_info": {
   "codemirror_mode": {
    "name": "ipython",
    "version": 3
   },
   "file_extension": ".py",
   "mimetype": "text/x-python",
   "name": "python",
   "nbconvert_exporter": "python",
   "pygments_lexer": "ipython3",
   "version": "3.11.9"
  }
 },
 "nbformat": 4,
 "nbformat_minor": 5
}
