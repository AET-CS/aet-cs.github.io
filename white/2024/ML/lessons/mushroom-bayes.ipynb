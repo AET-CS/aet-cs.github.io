{
 "cells": [
  {
   "cell_type": "markdown",
   "id": "ec6b5d5b-8692-4eee-963d-c7cab4ddf98d",
   "metadata": {},
   "source": [
    "# The Bayes Error Rate"
   ]
  },
  {
   "cell_type": "code",
   "execution_count": 10,
   "id": "6263beca-7476-4629-bf7a-b4c194684470",
   "metadata": {},
   "outputs": [],
   "source": [
    "import numpy as np\n",
    "import matplotlib.pyplot as plt\n",
    "from sklearn.datasets import make_classification\n",
    "from sklearn.model_selection import train_test_split\n",
    "from sklearn.neighbors import KNeighborsClassifier\n",
    "from sklearn.metrics import accuracy_score\n",
    "import pandas as pd"
   ]
  },
  {
   "cell_type": "code",
   "execution_count": 11,
   "id": "35902a96-d07a-4617-a169-e4b64834970c",
   "metadata": {},
   "outputs": [],
   "source": [
    "# We'll fetch it directly from the web\n",
    "data_url = \"https://aet-cs.github.io/white/ML/lessons/mushroom.csv\"\n",
    "df = pd.read_csv(data_url)\n",
    "\n",
    "# drop the useless feature\n",
    "df = df.drop('veil-type', axis=1)\n",
    "\n",
    "# drop the target from X -- and store it as y\n",
    "X = df.drop('class', axis = 1)\n",
    "y = df['class']\n",
    "\n",
    "# one-hot encode all columns at once\n",
    "X = pd.get_dummies(X)\n",
    "\n",
    "# Split the data into training and test sets\n",
    "X_train, X_test, y_train, y_test = train_test_split(X, y, test_size=0.3, random_state=42)"
   ]
  },
  {
   "cell_type": "code",
   "execution_count": 15,
   "id": "aba700e0-fc4b-4d97-b8c4-28aa53e14530",
   "metadata": {},
   "outputs": [
    {
     "name": "stdout",
     "output_type": "stream",
     "text": [
      "Estimated Bayes Error Rate: 0.272\n"
     ]
    }
   ],
   "source": [
    "# Use a large k in k-NN (e.g., k=50) to approximate the Bayes error rate\n",
    "knn = KNeighborsClassifier(n_neighbors=500)\n",
    "knn.fit(X_train, y_train)\n",
    "y_pred = knn.predict(X_test)\n",
    "\n",
    "# Calculate the error rate\n",
    "error_rate = 1 - accuracy_score(y_test, y_pred)\n",
    "print(f\"Estimated Bayes Error Rate: {error_rate:.3f}\")"
   ]
  },
  {
   "cell_type": "code",
   "execution_count": null,
   "id": "f39319fd-db73-48fb-861f-780e25284396",
   "metadata": {},
   "outputs": [],
   "source": []
  }
 ],
 "metadata": {
  "kernelspec": {
   "display_name": "ML Python",
   "language": "python",
   "name": "myenv"
  },
  "language_info": {
   "codemirror_mode": {
    "name": "ipython",
    "version": 3
   },
   "file_extension": ".py",
   "mimetype": "text/x-python",
   "name": "python",
   "nbconvert_exporter": "python",
   "pygments_lexer": "ipython3",
   "version": "3.11.9"
  }
 },
 "nbformat": 4,
 "nbformat_minor": 5
}
