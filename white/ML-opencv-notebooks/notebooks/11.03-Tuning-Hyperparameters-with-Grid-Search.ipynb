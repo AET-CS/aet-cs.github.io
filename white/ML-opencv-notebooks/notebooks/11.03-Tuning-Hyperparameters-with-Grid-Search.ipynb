{
    "cells": [
        {
            "cell_type": "markdown",
            "metadata": {},
            "source": [
                "# Tuning Hyperparameters with Grid Search\n",
                "\n",
                "The most commonly used tool for hyperparameter tuning is **grid search**, which is basically\n",
                "a fancy term for saying we will try all possible parameter combinations with a for loop.\n",
                "\n",
                "Let's have a look at how that is done in practice."
            ]
        },
        {
            "cell_type": "markdown",
            "metadata": {},
            "source": [
                "## Implementing a simple grid search\n",
                "\n",
                "Returning to our $k$-NN classifier, we find that we have only one hyperparameter to tune: $k$.\n",
                "Typically, you would have a much larger number of open parameters to mess with, but the\n",
                "$k$-NN algorithm is simple enough for us to manually implement grid search.\n",
                "\n",
                "Before we get started, we need to split the dataset as we have done before into training and\n",
                "test sets. Here we choose a 75-25 split:"
            ]
        },
        {
            "cell_type": "code",
            "execution_count": 1,
            "metadata": {
                "execution": {
                    "iopub.execute_input": "2024-08-11T01:38:28.039288Z",
                    "iopub.status.busy": "2024-08-11T01:38:28.039012Z",
                    "iopub.status.idle": "2024-08-11T01:38:28.648044Z",
                    "shell.execute_reply": "2024-08-11T01:38:28.647382Z"
                }
            },
            "outputs": [],
            "source": [
                "from sklearn.datasets import load_iris\n",
                "import numpy as np\n",
                "iris = load_iris()\n",
                "X = iris.data.astype(np.float32)\n",
                "y = iris.target"
            ]
        },
        {
            "cell_type": "code",
            "execution_count": 2,
            "metadata": {
                "collapsed": true,
                "execution": {
                    "iopub.execute_input": "2024-08-11T01:38:28.650972Z",
                    "iopub.status.busy": "2024-08-11T01:38:28.650523Z",
                    "iopub.status.idle": "2024-08-11T01:38:28.673788Z",
                    "shell.execute_reply": "2024-08-11T01:38:28.673149Z"
                },
                "jupyter": {
                    "outputs_hidden": true
                }
            },
            "outputs": [],
            "source": [
                "from sklearn.model_selection import train_test_split\n",
                "X_train, X_test, y_train, y_test = train_test_split(\n",
                "    X, y, random_state=37\n",
                ")"
            ]
        },
        {
            "cell_type": "markdown",
            "metadata": {},
            "source": [
                "Then the goal is to loop over all possible values of $k$. As we do this, we want to keep track of\n",
                "the best accuracy we observed as well as the value for $k$ that gave rise to this result:"
            ]
        },
        {
            "cell_type": "code",
            "execution_count": 3,
            "metadata": {
                "execution": {
                    "iopub.execute_input": "2024-08-11T01:38:28.676432Z",
                    "iopub.status.busy": "2024-08-11T01:38:28.676174Z",
                    "iopub.status.idle": "2024-08-11T01:38:28.679705Z",
                    "shell.execute_reply": "2024-08-11T01:38:28.679054Z"
                }
            },
            "outputs": [],
            "source": [
                "best_acc = 0\n",
                "best_k = 0"
            ]
        },
        {
            "cell_type": "markdown",
            "metadata": {},
            "source": [
                "Grid search then looks like an outer loop around the entire train and test procedure. After calculating the accuracy on the test set (`acc`), we compare it to the best accuracy found\n",
                "so far (`best_acc`). If the new value is better, we update our bookkeeping variables and\n",
                "move on to the next iteration:"
            ]
        },
        {
            "cell_type": "code",
            "execution_count": 4,
            "metadata": {
                "execution": {
                    "iopub.execute_input": "2024-08-11T01:38:28.688473Z",
                    "iopub.status.busy": "2024-08-11T01:38:28.687559Z",
                    "iopub.status.idle": "2024-08-11T01:38:28.722735Z",
                    "shell.execute_reply": "2024-08-11T01:38:28.722239Z"
                }
            },
            "outputs": [],
            "source": [
                "import cv2\n",
                "from sklearn.metrics import accuracy_score\n",
                "for k in range(1, 20):\n",
                "    knn = cv2.ml.KNearest_create()\n",
                "    knn.setDefaultK(k)\n",
                "    knn.train(X_train, cv2.ml.ROW_SAMPLE, y_train)\n",
                "    _, y_test_hat = knn.predict(X_test)\n",
                "    acc = accuracy_score(y_test, y_test_hat)\n",
                "    if acc > best_acc:\n",
                "        best_acc = acc\n",
                "        best_k = k"
            ]
        },
        {
            "cell_type": "markdown",
            "metadata": {},
            "source": [
                "When we are done, we can have a look at the best accuracy:"
            ]
        },
        {
            "cell_type": "code",
            "execution_count": 5,
            "metadata": {
                "execution": {
                    "iopub.execute_input": "2024-08-11T01:38:28.725682Z",
                    "iopub.status.busy": "2024-08-11T01:38:28.725450Z",
                    "iopub.status.idle": "2024-08-11T01:38:28.730394Z",
                    "shell.execute_reply": "2024-08-11T01:38:28.730007Z"
                }
            },
            "outputs": [
                {
                    "data": {
                        "text/plain": [
                            "(0.9736842105263158, 1)"
                        ]
                    },
                    "execution_count": 5,
                    "metadata": {},
                    "output_type": "execute_result"
                }
            ],
            "source": [
                "best_acc, best_k"
            ]
        },
        {
            "cell_type": "markdown",
            "metadata": {},
            "source": [
                "Turns out, we can get 97.4% accuracy using $k=1$.\n",
                "\n",
                "How would you do this when you have more than one hyperparameter? Refer to the book to find the answer to this one (p.318)."
            ]
        },
        {
            "cell_type": "markdown",
            "metadata": {},
            "source": [
                "## Understanding the value of a validation set\n",
                "\n",
                "Following our best practice of splitting the data into training and test sets, we might be\n",
                "tempted to tell people that we have found a model that performs with 97.4% accuracy on\n",
                "the dataset. However, our result might not necessarily generalize to new data. The\n",
                "argument is the same as earlier on in the book when we warranted the train-test split that\n",
                "we need an independent dataset for evaluation.\n",
                "\n",
                "However, when we implemented grid search in the last section, we used the test set to\n",
                "evaluate the outcome of the grid search and update the hyperparameter $k$. This means we\n",
                "can no longer use the test set to evaluate the final data! Any model choices made based on\n",
                "the test set accuracy would leak information from the test set into the model.\n",
                "\n",
                "One way to resolve this data is to split the data again and introduce what is known as a\n",
                "**validation set**. The validation set is different from the training and test set and is used\n",
                "exclusively for selecting the best parameters of the model. It is a good practice to do all\n",
                "exploratory analysis and model selection on this validation set and keep a separate test set,\n",
                "which is only used for the final evaluation.\n",
                "\n",
                "In other words, we should end up splitting the data into three different sets:\n",
                "- a training set, which is used to build the model\n",
                "- a validation set, which is used to select the parameters of the model\n",
                "- a test set, which is used to evaluate the performance of the final model\n",
                "\n",
                "In practice, the three-way split is achieved in two steps.\n",
                "\n",
                "First, split the data into two chunks: one that contains training and validation sets and another\n",
                "that contains the test set:"
            ]
        },
        {
            "cell_type": "code",
            "execution_count": 6,
            "metadata": {
                "collapsed": true,
                "execution": {
                    "iopub.execute_input": "2024-08-11T01:38:28.783292Z",
                    "iopub.status.busy": "2024-08-11T01:38:28.783003Z",
                    "iopub.status.idle": "2024-08-11T01:38:28.786356Z",
                    "shell.execute_reply": "2024-08-11T01:38:28.785948Z"
                },
                "jupyter": {
                    "outputs_hidden": true
                }
            },
            "outputs": [],
            "source": [
                "X_trainval, X_test, y_trainval, y_test = train_test_split(\n",
                "    X, y, random_state=37\n",
                ")"
            ]
        },
        {
            "cell_type": "code",
            "execution_count": 7,
            "metadata": {
                "execution": {
                    "iopub.execute_input": "2024-08-11T01:38:28.788143Z",
                    "iopub.status.busy": "2024-08-11T01:38:28.787933Z",
                    "iopub.status.idle": "2024-08-11T01:38:28.791021Z",
                    "shell.execute_reply": "2024-08-11T01:38:28.790646Z"
                }
            },
            "outputs": [
                {
                    "data": {
                        "text/plain": [
                            "(112, 4)"
                        ]
                    },
                    "execution_count": 7,
                    "metadata": {},
                    "output_type": "execute_result"
                }
            ],
            "source": [
                "X_trainval.shape"
            ]
        },
        {
            "cell_type": "markdown",
            "metadata": {},
            "source": [
                "Second, split `X_trainval` again into proper training and validation sets:"
            ]
        },
        {
            "cell_type": "code",
            "execution_count": 8,
            "metadata": {
                "collapsed": true,
                "execution": {
                    "iopub.execute_input": "2024-08-11T01:38:28.793024Z",
                    "iopub.status.busy": "2024-08-11T01:38:28.792790Z",
                    "iopub.status.idle": "2024-08-11T01:38:28.795969Z",
                    "shell.execute_reply": "2024-08-11T01:38:28.795556Z"
                },
                "jupyter": {
                    "outputs_hidden": true
                }
            },
            "outputs": [],
            "source": [
                "X_train, X_valid, y_train, y_valid = train_test_split(\n",
                "    X_trainval, y_trainval, random_state=37\n",
                ")"
            ]
        },
        {
            "cell_type": "code",
            "execution_count": 9,
            "metadata": {
                "execution": {
                    "iopub.execute_input": "2024-08-11T01:38:28.797854Z",
                    "iopub.status.busy": "2024-08-11T01:38:28.797646Z",
                    "iopub.status.idle": "2024-08-11T01:38:28.800758Z",
                    "shell.execute_reply": "2024-08-11T01:38:28.800362Z"
                }
            },
            "outputs": [
                {
                    "data": {
                        "text/plain": [
                            "(84, 4)"
                        ]
                    },
                    "execution_count": 9,
                    "metadata": {},
                    "output_type": "execute_result"
                }
            ],
            "source": [
                "X_train.shape"
            ]
        },
        {
            "cell_type": "markdown",
            "metadata": {},
            "source": [
                "Then we repeat the manual grid search from the preceding code, but this time, we will use\n",
                "the validation set to find the best $k$:"
            ]
        },
        {
            "cell_type": "code",
            "execution_count": 10,
            "metadata": {
                "execution": {
                    "iopub.execute_input": "2024-08-11T01:38:28.802906Z",
                    "iopub.status.busy": "2024-08-11T01:38:28.802682Z",
                    "iopub.status.idle": "2024-08-11T01:38:28.818227Z",
                    "shell.execute_reply": "2024-08-11T01:38:28.817596Z"
                }
            },
            "outputs": [
                {
                    "data": {
                        "text/plain": [
                            "(1.0, 7)"
                        ]
                    },
                    "execution_count": 10,
                    "metadata": {},
                    "output_type": "execute_result"
                }
            ],
            "source": [
                "best_acc = 0.0\n",
                "best_k = 0\n",
                "for k in range(1, 20):\n",
                "    knn = cv2.ml.KNearest_create()\n",
                "    knn.setDefaultK(k)\n",
                "    knn.train(X_train, cv2.ml.ROW_SAMPLE, y_train)\n",
                "    _, y_valid_hat = knn.predict(X_valid)\n",
                "    acc = accuracy_score(y_valid, y_valid_hat)\n",
                "    if acc >= best_acc:\n",
                "        best_acc = acc\n",
                "        best_k = k\n",
                "best_acc, best_k"
            ]
        },
        {
            "cell_type": "markdown",
            "metadata": {},
            "source": [
                "We now find that a 100% validation score (`best_acc`) can be achieved with $k=7$ (`best_k`)!\n",
                "However, recall that this score might be overly optimistic. To find out how well the model\n",
                "really performs, we need to test it on held-out data from the test set.\n",
                "\n",
                "In order to arrive at our final model, we can use the value for $k$ we found during grid search\n",
                "and re-train the model on both the training and validation data. This way, we used as much\n",
                "data as possible to build the model while still honoring the train-test split principle.\n",
                "\n",
                "This means we should retrain the model on `X_trainval`, which contains both the training\n",
                "and validation sets and score it on the test set:"
            ]
        },
        {
            "cell_type": "code",
            "execution_count": 11,
            "metadata": {
                "execution": {
                    "iopub.execute_input": "2024-08-11T01:38:28.820212Z",
                    "iopub.status.busy": "2024-08-11T01:38:28.820003Z",
                    "iopub.status.idle": "2024-08-11T01:38:28.825028Z",
                    "shell.execute_reply": "2024-08-11T01:38:28.824599Z"
                }
            },
            "outputs": [
                {
                    "data": {
                        "text/plain": [
                            "(0.9473684210526315, 7)"
                        ]
                    },
                    "execution_count": 11,
                    "metadata": {},
                    "output_type": "execute_result"
                }
            ],
            "source": [
                "knn = cv2.ml.KNearest_create()\n",
                "knn.setDefaultK(best_k)\n",
                "knn.train(X_trainval, cv2.ml.ROW_SAMPLE, y_trainval)\n",
                "_, y_test_hat = knn.predict(X_test)\n",
                "accuracy_score(y_test, y_test_hat), best_k"
            ]
        },
        {
            "cell_type": "markdown",
            "metadata": {},
            "source": [
                "With this procedure, we find a formidable score of 94.7% accuracy on the test set. Because\n",
                "we honored the train-test split principle, we can now be sure that this is the performance we\n",
                "can expect from the classifier when applied to novel data. It is not as high as the 100%\n",
                "accuracy reported during validation, but it is still a very good score!"
            ]
        },
        {
            "cell_type": "markdown",
            "metadata": {},
            "source": [
                "## Combining grid search with cross-validation\n",
                "\n",
                "One potential danger of the grid search we just implemented is that the outcome might be\n",
                "relatively sensitive to how exactly we split the data. After all, we might have accidentally\n",
                "chosen a split that put most of the easy-to-classify data points in the test set, resulting in an\n",
                "overly optimistic score. Although we would be happy at first, as soon as we tried the model\n",
                "on some new held-out data, we would find that the actual performance of the classifier is\n",
                "much lower than expected.\n",
                "\n",
                "Instead, we can combine grid search with cross-validation. This way, the data is split\n",
                "multiple times into training and validation sets, and cross-validation is performed at every\n",
                "step of the grid search to evaluate every parameter combination.\n",
                "\n",
                "Because grid search with cross-validation is such a commonly used method for\n",
                "hyperparameter tuning, scikit-learn provides the `GridSearchCV` class, which implements it\n",
                "in the form of an estimator.\n",
                "\n",
                "We can specify all the parameters we want `GridSearchCV` to search over by using a\n",
                "dictionary. Every entry of the dictionary should be of the form `{name: values}`, where\n",
                "`name` is a string that should be equivalent to the parameter name usually passed to the\n",
                "classifier, and `values` is a list of values to try.\n",
                "\n",
                "For example, in order to search for the best value of the parameter `n_neighbors` of the\n",
                "`KNeighborsClassifier` class, we would design the parameter dictionary as follows:"
            ]
        },
        {
            "cell_type": "code",
            "execution_count": 12,
            "metadata": {
                "collapsed": true,
                "execution": {
                    "iopub.execute_input": "2024-08-11T01:38:28.827015Z",
                    "iopub.status.busy": "2024-08-11T01:38:28.826851Z",
                    "iopub.status.idle": "2024-08-11T01:38:28.829549Z",
                    "shell.execute_reply": "2024-08-11T01:38:28.829132Z"
                },
                "jupyter": {
                    "outputs_hidden": true
                }
            },
            "outputs": [],
            "source": [
                "param_grid = {'n_neighbors': range(1, 20)}"
            ]
        },
        {
            "cell_type": "markdown",
            "metadata": {},
            "source": [
                "Here, we are searching for the best $k$ in the range [1, 19].\n",
                "We then need to pass the parameter grid as well as the classifier (`KNeighborsClassifier`)\n",
                "to the `GridSearchCV` object:"
            ]
        },
        {
            "cell_type": "code",
            "execution_count": 13,
            "metadata": {
                "collapsed": true,
                "execution": {
                    "iopub.execute_input": "2024-08-11T01:38:28.831596Z",
                    "iopub.status.busy": "2024-08-11T01:38:28.831372Z",
                    "iopub.status.idle": "2024-08-11T01:38:28.874645Z",
                    "shell.execute_reply": "2024-08-11T01:38:28.874160Z"
                },
                "jupyter": {
                    "outputs_hidden": true
                }
            },
            "outputs": [],
            "source": [
                "from sklearn.neighbors import KNeighborsClassifier\n",
                "from sklearn.model_selection import GridSearchCV\n",
                "grid_search = GridSearchCV(KNeighborsClassifier(), param_grid, cv=5)"
            ]
        },
        {
            "cell_type": "markdown",
            "metadata": {},
            "source": [
                "Then we can train the classifier using the `fit` method. In return, scikit-learn will inform us\n",
                "about all the parameters used in the grid search:"
            ]
        },
        {
            "cell_type": "code",
            "execution_count": 14,
            "metadata": {
                "execution": {
                    "iopub.execute_input": "2024-08-11T01:38:28.877017Z",
                    "iopub.status.busy": "2024-08-11T01:38:28.876789Z",
                    "iopub.status.idle": "2024-08-11T01:38:29.177885Z",
                    "shell.execute_reply": "2024-08-11T01:38:29.177239Z"
                }
            },
            "outputs": [
                {
                    "data": {
                        "text/html": [
                            "<style>#sk-container-id-1 {\n",
                            "  /* Definition of color scheme common for light and dark mode */\n",
                            "  --sklearn-color-text: black;\n",
                            "  --sklearn-color-line: gray;\n",
                            "  /* Definition of color scheme for unfitted estimators */\n",
                            "  --sklearn-color-unfitted-level-0: #fff5e6;\n",
                            "  --sklearn-color-unfitted-level-1: #f6e4d2;\n",
                            "  --sklearn-color-unfitted-level-2: #ffe0b3;\n",
                            "  --sklearn-color-unfitted-level-3: chocolate;\n",
                            "  /* Definition of color scheme for fitted estimators */\n",
                            "  --sklearn-color-fitted-level-0: #f0f8ff;\n",
                            "  --sklearn-color-fitted-level-1: #d4ebff;\n",
                            "  --sklearn-color-fitted-level-2: #b3dbfd;\n",
                            "  --sklearn-color-fitted-level-3: cornflowerblue;\n",
                            "\n",
                            "  /* Specific color for light theme */\n",
                            "  --sklearn-color-text-on-default-background: var(--sg-text-color, var(--theme-code-foreground, var(--jp-content-font-color1, black)));\n",
                            "  --sklearn-color-background: var(--sg-background-color, var(--theme-background, var(--jp-layout-color0, white)));\n",
                            "  --sklearn-color-border-box: var(--sg-text-color, var(--theme-code-foreground, var(--jp-content-font-color1, black)));\n",
                            "  --sklearn-color-icon: #696969;\n",
                            "\n",
                            "  @media (prefers-color-scheme: dark) {\n",
                            "    /* Redefinition of color scheme for dark theme */\n",
                            "    --sklearn-color-text-on-default-background: var(--sg-text-color, var(--theme-code-foreground, var(--jp-content-font-color1, white)));\n",
                            "    --sklearn-color-background: var(--sg-background-color, var(--theme-background, var(--jp-layout-color0, #111)));\n",
                            "    --sklearn-color-border-box: var(--sg-text-color, var(--theme-code-foreground, var(--jp-content-font-color1, white)));\n",
                            "    --sklearn-color-icon: #878787;\n",
                            "  }\n",
                            "}\n",
                            "\n",
                            "#sk-container-id-1 {\n",
                            "  color: var(--sklearn-color-text);\n",
                            "}\n",
                            "\n",
                            "#sk-container-id-1 pre {\n",
                            "  padding: 0;\n",
                            "}\n",
                            "\n",
                            "#sk-container-id-1 input.sk-hidden--visually {\n",
                            "  border: 0;\n",
                            "  clip: rect(1px 1px 1px 1px);\n",
                            "  clip: rect(1px, 1px, 1px, 1px);\n",
                            "  height: 1px;\n",
                            "  margin: -1px;\n",
                            "  overflow: hidden;\n",
                            "  padding: 0;\n",
                            "  position: absolute;\n",
                            "  width: 1px;\n",
                            "}\n",
                            "\n",
                            "#sk-container-id-1 div.sk-dashed-wrapped {\n",
                            "  border: 1px dashed var(--sklearn-color-line);\n",
                            "  margin: 0 0.4em 0.5em 0.4em;\n",
                            "  box-sizing: border-box;\n",
                            "  padding-bottom: 0.4em;\n",
                            "  background-color: var(--sklearn-color-background);\n",
                            "}\n",
                            "\n",
                            "#sk-container-id-1 div.sk-container {\n",
                            "  /* jupyter's `normalize.less` sets `[hidden] { display: none; }`\n",
                            "     but bootstrap.min.css set `[hidden] { display: none !important; }`\n",
                            "     so we also need the `!important` here to be able to override the\n",
                            "     default hidden behavior on the sphinx rendered scikit-learn.org.\n",
                            "     See: https://github.com/scikit-learn/scikit-learn/issues/21755 */\n",
                            "  display: inline-block !important;\n",
                            "  position: relative;\n",
                            "}\n",
                            "\n",
                            "#sk-container-id-1 div.sk-text-repr-fallback {\n",
                            "  display: none;\n",
                            "}\n",
                            "\n",
                            "div.sk-parallel-item,\n",
                            "div.sk-serial,\n",
                            "div.sk-item {\n",
                            "  /* draw centered vertical line to link estimators */\n",
                            "  background-image: linear-gradient(var(--sklearn-color-text-on-default-background), var(--sklearn-color-text-on-default-background));\n",
                            "  background-size: 2px 100%;\n",
                            "  background-repeat: no-repeat;\n",
                            "  background-position: center center;\n",
                            "}\n",
                            "\n",
                            "/* Parallel-specific style estimator block */\n",
                            "\n",
                            "#sk-container-id-1 div.sk-parallel-item::after {\n",
                            "  content: \"\";\n",
                            "  width: 100%;\n",
                            "  border-bottom: 2px solid var(--sklearn-color-text-on-default-background);\n",
                            "  flex-grow: 1;\n",
                            "}\n",
                            "\n",
                            "#sk-container-id-1 div.sk-parallel {\n",
                            "  display: flex;\n",
                            "  align-items: stretch;\n",
                            "  justify-content: center;\n",
                            "  background-color: var(--sklearn-color-background);\n",
                            "  position: relative;\n",
                            "}\n",
                            "\n",
                            "#sk-container-id-1 div.sk-parallel-item {\n",
                            "  display: flex;\n",
                            "  flex-direction: column;\n",
                            "}\n",
                            "\n",
                            "#sk-container-id-1 div.sk-parallel-item:first-child::after {\n",
                            "  align-self: flex-end;\n",
                            "  width: 50%;\n",
                            "}\n",
                            "\n",
                            "#sk-container-id-1 div.sk-parallel-item:last-child::after {\n",
                            "  align-self: flex-start;\n",
                            "  width: 50%;\n",
                            "}\n",
                            "\n",
                            "#sk-container-id-1 div.sk-parallel-item:only-child::after {\n",
                            "  width: 0;\n",
                            "}\n",
                            "\n",
                            "/* Serial-specific style estimator block */\n",
                            "\n",
                            "#sk-container-id-1 div.sk-serial {\n",
                            "  display: flex;\n",
                            "  flex-direction: column;\n",
                            "  align-items: center;\n",
                            "  background-color: var(--sklearn-color-background);\n",
                            "  padding-right: 1em;\n",
                            "  padding-left: 1em;\n",
                            "}\n",
                            "\n",
                            "\n",
                            "/* Toggleable style: style used for estimator/Pipeline/ColumnTransformer box that is\n",
                            "clickable and can be expanded/collapsed.\n",
                            "- Pipeline and ColumnTransformer use this feature and define the default style\n",
                            "- Estimators will overwrite some part of the style using the `sk-estimator` class\n",
                            "*/\n",
                            "\n",
                            "/* Pipeline and ColumnTransformer style (default) */\n",
                            "\n",
                            "#sk-container-id-1 div.sk-toggleable {\n",
                            "  /* Default theme specific background. It is overwritten whether we have a\n",
                            "  specific estimator or a Pipeline/ColumnTransformer */\n",
                            "  background-color: var(--sklearn-color-background);\n",
                            "}\n",
                            "\n",
                            "/* Toggleable label */\n",
                            "#sk-container-id-1 label.sk-toggleable__label {\n",
                            "  cursor: pointer;\n",
                            "  display: block;\n",
                            "  width: 100%;\n",
                            "  margin-bottom: 0;\n",
                            "  padding: 0.5em;\n",
                            "  box-sizing: border-box;\n",
                            "  text-align: center;\n",
                            "}\n",
                            "\n",
                            "#sk-container-id-1 label.sk-toggleable__label-arrow:before {\n",
                            "  /* Arrow on the left of the label */\n",
                            "  content: \"\u25b8\";\n",
                            "  float: left;\n",
                            "  margin-right: 0.25em;\n",
                            "  color: var(--sklearn-color-icon);\n",
                            "}\n",
                            "\n",
                            "#sk-container-id-1 label.sk-toggleable__label-arrow:hover:before {\n",
                            "  color: var(--sklearn-color-text);\n",
                            "}\n",
                            "\n",
                            "/* Toggleable content - dropdown */\n",
                            "\n",
                            "#sk-container-id-1 div.sk-toggleable__content {\n",
                            "  max-height: 0;\n",
                            "  max-width: 0;\n",
                            "  overflow: hidden;\n",
                            "  text-align: left;\n",
                            "  /* unfitted */\n",
                            "  background-color: var(--sklearn-color-unfitted-level-0);\n",
                            "}\n",
                            "\n",
                            "#sk-container-id-1 div.sk-toggleable__content.fitted {\n",
                            "  /* fitted */\n",
                            "  background-color: var(--sklearn-color-fitted-level-0);\n",
                            "}\n",
                            "\n",
                            "#sk-container-id-1 div.sk-toggleable__content pre {\n",
                            "  margin: 0.2em;\n",
                            "  border-radius: 0.25em;\n",
                            "  color: var(--sklearn-color-text);\n",
                            "  /* unfitted */\n",
                            "  background-color: var(--sklearn-color-unfitted-level-0);\n",
                            "}\n",
                            "\n",
                            "#sk-container-id-1 div.sk-toggleable__content.fitted pre {\n",
                            "  /* unfitted */\n",
                            "  background-color: var(--sklearn-color-fitted-level-0);\n",
                            "}\n",
                            "\n",
                            "#sk-container-id-1 input.sk-toggleable__control:checked~div.sk-toggleable__content {\n",
                            "  /* Expand drop-down */\n",
                            "  max-height: 200px;\n",
                            "  max-width: 100%;\n",
                            "  overflow: auto;\n",
                            "}\n",
                            "\n",
                            "#sk-container-id-1 input.sk-toggleable__control:checked~label.sk-toggleable__label-arrow:before {\n",
                            "  content: \"\u25be\";\n",
                            "}\n",
                            "\n",
                            "/* Pipeline/ColumnTransformer-specific style */\n",
                            "\n",
                            "#sk-container-id-1 div.sk-label input.sk-toggleable__control:checked~label.sk-toggleable__label {\n",
                            "  color: var(--sklearn-color-text);\n",
                            "  background-color: var(--sklearn-color-unfitted-level-2);\n",
                            "}\n",
                            "\n",
                            "#sk-container-id-1 div.sk-label.fitted input.sk-toggleable__control:checked~label.sk-toggleable__label {\n",
                            "  background-color: var(--sklearn-color-fitted-level-2);\n",
                            "}\n",
                            "\n",
                            "/* Estimator-specific style */\n",
                            "\n",
                            "/* Colorize estimator box */\n",
                            "#sk-container-id-1 div.sk-estimator input.sk-toggleable__control:checked~label.sk-toggleable__label {\n",
                            "  /* unfitted */\n",
                            "  background-color: var(--sklearn-color-unfitted-level-2);\n",
                            "}\n",
                            "\n",
                            "#sk-container-id-1 div.sk-estimator.fitted input.sk-toggleable__control:checked~label.sk-toggleable__label {\n",
                            "  /* fitted */\n",
                            "  background-color: var(--sklearn-color-fitted-level-2);\n",
                            "}\n",
                            "\n",
                            "#sk-container-id-1 div.sk-label label.sk-toggleable__label,\n",
                            "#sk-container-id-1 div.sk-label label {\n",
                            "  /* The background is the default theme color */\n",
                            "  color: var(--sklearn-color-text-on-default-background);\n",
                            "}\n",
                            "\n",
                            "/* On hover, darken the color of the background */\n",
                            "#sk-container-id-1 div.sk-label:hover label.sk-toggleable__label {\n",
                            "  color: var(--sklearn-color-text);\n",
                            "  background-color: var(--sklearn-color-unfitted-level-2);\n",
                            "}\n",
                            "\n",
                            "/* Label box, darken color on hover, fitted */\n",
                            "#sk-container-id-1 div.sk-label.fitted:hover label.sk-toggleable__label.fitted {\n",
                            "  color: var(--sklearn-color-text);\n",
                            "  background-color: var(--sklearn-color-fitted-level-2);\n",
                            "}\n",
                            "\n",
                            "/* Estimator label */\n",
                            "\n",
                            "#sk-container-id-1 div.sk-label label {\n",
                            "  font-family: monospace;\n",
                            "  font-weight: bold;\n",
                            "  display: inline-block;\n",
                            "  line-height: 1.2em;\n",
                            "}\n",
                            "\n",
                            "#sk-container-id-1 div.sk-label-container {\n",
                            "  text-align: center;\n",
                            "}\n",
                            "\n",
                            "/* Estimator-specific */\n",
                            "#sk-container-id-1 div.sk-estimator {\n",
                            "  font-family: monospace;\n",
                            "  border: 1px dotted var(--sklearn-color-border-box);\n",
                            "  border-radius: 0.25em;\n",
                            "  box-sizing: border-box;\n",
                            "  margin-bottom: 0.5em;\n",
                            "  /* unfitted */\n",
                            "  background-color: var(--sklearn-color-unfitted-level-0);\n",
                            "}\n",
                            "\n",
                            "#sk-container-id-1 div.sk-estimator.fitted {\n",
                            "  /* fitted */\n",
                            "  background-color: var(--sklearn-color-fitted-level-0);\n",
                            "}\n",
                            "\n",
                            "/* on hover */\n",
                            "#sk-container-id-1 div.sk-estimator:hover {\n",
                            "  /* unfitted */\n",
                            "  background-color: var(--sklearn-color-unfitted-level-2);\n",
                            "}\n",
                            "\n",
                            "#sk-container-id-1 div.sk-estimator.fitted:hover {\n",
                            "  /* fitted */\n",
                            "  background-color: var(--sklearn-color-fitted-level-2);\n",
                            "}\n",
                            "\n",
                            "/* Specification for estimator info (e.g. \"i\" and \"?\") */\n",
                            "\n",
                            "/* Common style for \"i\" and \"?\" */\n",
                            "\n",
                            ".sk-estimator-doc-link,\n",
                            "a:link.sk-estimator-doc-link,\n",
                            "a:visited.sk-estimator-doc-link {\n",
                            "  float: right;\n",
                            "  font-size: smaller;\n",
                            "  line-height: 1em;\n",
                            "  font-family: monospace;\n",
                            "  background-color: var(--sklearn-color-background);\n",
                            "  border-radius: 1em;\n",
                            "  height: 1em;\n",
                            "  width: 1em;\n",
                            "  text-decoration: none !important;\n",
                            "  margin-left: 1ex;\n",
                            "  /* unfitted */\n",
                            "  border: var(--sklearn-color-unfitted-level-1) 1pt solid;\n",
                            "  color: var(--sklearn-color-unfitted-level-1);\n",
                            "}\n",
                            "\n",
                            ".sk-estimator-doc-link.fitted,\n",
                            "a:link.sk-estimator-doc-link.fitted,\n",
                            "a:visited.sk-estimator-doc-link.fitted {\n",
                            "  /* fitted */\n",
                            "  border: var(--sklearn-color-fitted-level-1) 1pt solid;\n",
                            "  color: var(--sklearn-color-fitted-level-1);\n",
                            "}\n",
                            "\n",
                            "/* On hover */\n",
                            "div.sk-estimator:hover .sk-estimator-doc-link:hover,\n",
                            ".sk-estimator-doc-link:hover,\n",
                            "div.sk-label-container:hover .sk-estimator-doc-link:hover,\n",
                            ".sk-estimator-doc-link:hover {\n",
                            "  /* unfitted */\n",
                            "  background-color: var(--sklearn-color-unfitted-level-3);\n",
                            "  color: var(--sklearn-color-background);\n",
                            "  text-decoration: none;\n",
                            "}\n",
                            "\n",
                            "div.sk-estimator.fitted:hover .sk-estimator-doc-link.fitted:hover,\n",
                            ".sk-estimator-doc-link.fitted:hover,\n",
                            "div.sk-label-container:hover .sk-estimator-doc-link.fitted:hover,\n",
                            ".sk-estimator-doc-link.fitted:hover {\n",
                            "  /* fitted */\n",
                            "  background-color: var(--sklearn-color-fitted-level-3);\n",
                            "  color: var(--sklearn-color-background);\n",
                            "  text-decoration: none;\n",
                            "}\n",
                            "\n",
                            "/* Span, style for the box shown on hovering the info icon */\n",
                            ".sk-estimator-doc-link span {\n",
                            "  display: none;\n",
                            "  z-index: 9999;\n",
                            "  position: relative;\n",
                            "  font-weight: normal;\n",
                            "  right: .2ex;\n",
                            "  padding: .5ex;\n",
                            "  margin: .5ex;\n",
                            "  width: min-content;\n",
                            "  min-width: 20ex;\n",
                            "  max-width: 50ex;\n",
                            "  color: var(--sklearn-color-text);\n",
                            "  box-shadow: 2pt 2pt 4pt #999;\n",
                            "  /* unfitted */\n",
                            "  background: var(--sklearn-color-unfitted-level-0);\n",
                            "  border: .5pt solid var(--sklearn-color-unfitted-level-3);\n",
                            "}\n",
                            "\n",
                            ".sk-estimator-doc-link.fitted span {\n",
                            "  /* fitted */\n",
                            "  background: var(--sklearn-color-fitted-level-0);\n",
                            "  border: var(--sklearn-color-fitted-level-3);\n",
                            "}\n",
                            "\n",
                            ".sk-estimator-doc-link:hover span {\n",
                            "  display: block;\n",
                            "}\n",
                            "\n",
                            "/* \"?\"-specific style due to the `<a>` HTML tag */\n",
                            "\n",
                            "#sk-container-id-1 a.estimator_doc_link {\n",
                            "  float: right;\n",
                            "  font-size: 1rem;\n",
                            "  line-height: 1em;\n",
                            "  font-family: monospace;\n",
                            "  background-color: var(--sklearn-color-background);\n",
                            "  border-radius: 1rem;\n",
                            "  height: 1rem;\n",
                            "  width: 1rem;\n",
                            "  text-decoration: none;\n",
                            "  /* unfitted */\n",
                            "  color: var(--sklearn-color-unfitted-level-1);\n",
                            "  border: var(--sklearn-color-unfitted-level-1) 1pt solid;\n",
                            "}\n",
                            "\n",
                            "#sk-container-id-1 a.estimator_doc_link.fitted {\n",
                            "  /* fitted */\n",
                            "  border: var(--sklearn-color-fitted-level-1) 1pt solid;\n",
                            "  color: var(--sklearn-color-fitted-level-1);\n",
                            "}\n",
                            "\n",
                            "/* On hover */\n",
                            "#sk-container-id-1 a.estimator_doc_link:hover {\n",
                            "  /* unfitted */\n",
                            "  background-color: var(--sklearn-color-unfitted-level-3);\n",
                            "  color: var(--sklearn-color-background);\n",
                            "  text-decoration: none;\n",
                            "}\n",
                            "\n",
                            "#sk-container-id-1 a.estimator_doc_link.fitted:hover {\n",
                            "  /* fitted */\n",
                            "  background-color: var(--sklearn-color-fitted-level-3);\n",
                            "}\n",
                            "</style><div id=\"sk-container-id-1\" class=\"sk-top-container\"><div class=\"sk-text-repr-fallback\"><pre>GridSearchCV(cv=5, estimator=KNeighborsClassifier(),\n",
                            "             param_grid={&#x27;n_neighbors&#x27;: range(1, 20)})</pre><b>In a Jupyter environment, please rerun this cell to show the HTML representation or trust the notebook. <br />On GitHub, the HTML representation is unable to render, please try loading this page with nbviewer.org.</b></div><div class=\"sk-container\" hidden><div class=\"sk-item sk-dashed-wrapped\"><div class=\"sk-label-container\"><div class=\"sk-label fitted sk-toggleable\"><input class=\"sk-toggleable__control sk-hidden--visually\" id=\"sk-estimator-id-1\" type=\"checkbox\" ><label for=\"sk-estimator-id-1\" class=\"sk-toggleable__label fitted sk-toggleable__label-arrow fitted\">&nbsp;&nbsp;GridSearchCV<a class=\"sk-estimator-doc-link fitted\" rel=\"noreferrer\" target=\"_blank\" href=\"https://scikit-learn.org/1.5/modules/generated/sklearn.model_selection.GridSearchCV.html\">?<span>Documentation for GridSearchCV</span></a><span class=\"sk-estimator-doc-link fitted\">i<span>Fitted</span></span></label><div class=\"sk-toggleable__content fitted\"><pre>GridSearchCV(cv=5, estimator=KNeighborsClassifier(),\n",
                            "             param_grid={&#x27;n_neighbors&#x27;: range(1, 20)})</pre></div> </div></div><div class=\"sk-parallel\"><div class=\"sk-parallel-item\"><div class=\"sk-item\"><div class=\"sk-label-container\"><div class=\"sk-label fitted sk-toggleable\"><input class=\"sk-toggleable__control sk-hidden--visually\" id=\"sk-estimator-id-2\" type=\"checkbox\" ><label for=\"sk-estimator-id-2\" class=\"sk-toggleable__label fitted sk-toggleable__label-arrow fitted\">best_estimator_: KNeighborsClassifier</label><div class=\"sk-toggleable__content fitted\"><pre>KNeighborsClassifier(n_neighbors=3)</pre></div> </div></div><div class=\"sk-serial\"><div class=\"sk-item\"><div class=\"sk-estimator fitted sk-toggleable\"><input class=\"sk-toggleable__control sk-hidden--visually\" id=\"sk-estimator-id-3\" type=\"checkbox\" ><label for=\"sk-estimator-id-3\" class=\"sk-toggleable__label fitted sk-toggleable__label-arrow fitted\">&nbsp;KNeighborsClassifier<a class=\"sk-estimator-doc-link fitted\" rel=\"noreferrer\" target=\"_blank\" href=\"https://scikit-learn.org/1.5/modules/generated/sklearn.neighbors.KNeighborsClassifier.html\">?<span>Documentation for KNeighborsClassifier</span></a></label><div class=\"sk-toggleable__content fitted\"><pre>KNeighborsClassifier(n_neighbors=3)</pre></div> </div></div></div></div></div></div></div></div></div>"
                        ],
                        "text/plain": [
                            "GridSearchCV(cv=5, estimator=KNeighborsClassifier(),\n",
                            "             param_grid={'n_neighbors': range(1, 20)})"
                        ]
                    },
                    "execution_count": 14,
                    "metadata": {},
                    "output_type": "execute_result"
                }
            ],
            "source": [
                "grid_search.fit(X_trainval, y_trainval)"
            ]
        },
        {
            "cell_type": "markdown",
            "metadata": {},
            "source": [
                "This will allow us to find the best validation score and the corresponding value for $k$:"
            ]
        },
        {
            "cell_type": "code",
            "execution_count": 15,
            "metadata": {
                "execution": {
                    "iopub.execute_input": "2024-08-11T01:38:29.180248Z",
                    "iopub.status.busy": "2024-08-11T01:38:29.180018Z",
                    "iopub.status.idle": "2024-08-11T01:38:29.183844Z",
                    "shell.execute_reply": "2024-08-11T01:38:29.183336Z"
                }
            },
            "outputs": [
                {
                    "data": {
                        "text/plain": [
                            "(np.float64(0.9644268774703558), {'n_neighbors': 3})"
                        ]
                    },
                    "execution_count": 15,
                    "metadata": {},
                    "output_type": "execute_result"
                }
            ],
            "source": [
                "grid_search.best_score_, grid_search.best_params_"
            ]
        },
        {
            "cell_type": "markdown",
            "metadata": {},
            "source": [
                "We thus get a validation score of 96.4% for $k=3$. Since grid search with cross-validation is\n",
                "more robust than our earlier procedure, we would expect the validation scores to be more\n",
                "realistic than the 100% accuracy we found before.\n",
                "\n",
                "However, from the previous section, we know that this score might still be overly\n",
                "optimistic, so we need to score the classifier on the test set instead:"
            ]
        },
        {
            "cell_type": "code",
            "execution_count": 16,
            "metadata": {
                "execution": {
                    "iopub.execute_input": "2024-08-11T01:38:29.185960Z",
                    "iopub.status.busy": "2024-08-11T01:38:29.185786Z",
                    "iopub.status.idle": "2024-08-11T01:38:29.192620Z",
                    "shell.execute_reply": "2024-08-11T01:38:29.192167Z"
                }
            },
            "outputs": [
                {
                    "data": {
                        "text/plain": [
                            "0.9736842105263158"
                        ]
                    },
                    "execution_count": 16,
                    "metadata": {},
                    "output_type": "execute_result"
                }
            ],
            "source": [
                "grid_search.score(X_test, y_test)"
            ]
        }
    ],
    "metadata": {
        "kernelspec": {
            "display_name": "Python 3 (ipykernel)",
            "language": "python",
            "name": "python3"
        },
        "language_info": {
            "codemirror_mode": {
                "name": "ipython",
                "version": 3
            },
            "file_extension": ".py",
            "mimetype": "text/x-python",
            "name": "python",
            "nbconvert_exporter": "python",
            "pygments_lexer": "ipython3",
            "version": "3.11.9"
        }
    },
    "nbformat": 4,
    "nbformat_minor": 4
}