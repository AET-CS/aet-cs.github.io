{
    "cells": [
        {
            "cell_type": "markdown",
            "metadata": {
                "collapsed": true,
                "jupyter": {
                    "outputs_hidden": true
                }
            },
            "source": [
                "# Preprocessing Data\n",
                "\n",
                "The more disciplined we are in handling our data, the better results we are likely to achieve\n",
                "in the end. The first step in this procedure is known as **data preprocessing**."
            ]
        },
        {
            "cell_type": "markdown",
            "metadata": {},
            "source": [
                "## Standardizing features\n",
                "\n",
                "Standardization refers to the process of scaling the data to have zero mean and unit\n",
                "variance. This is a common requirement for a wide range of machine learning algorithms,\n",
                "which might behave badly if individual features do not fulfill this requirement. We could\n",
                "manually standardize our data by subtracting from every data point the mean value ($\\mu$) of\n",
                "all the data, and dividing that by the variance ($\\sigma$) of the data; that is, for every feature $x$, we\n",
                "would compute $(x - \\mu) / \\sigma$."
            ]
        },
        {
            "cell_type": "markdown",
            "metadata": {},
            "source": [
                "Alternatively, scikit-learn offers a straightforward implementation of this process in its\n",
                "preprocessing module. Let's consider a 3 x 3 data matrix `X`, standing for three data points\n",
                "(rows) with three arbitrarily chosen feature values each (columns):"
            ]
        },
        {
            "cell_type": "code",
            "execution_count": 1,
            "metadata": {
                "execution": {
                    "iopub.execute_input": "2024-08-11T01:35:17.381724Z",
                    "iopub.status.busy": "2024-08-11T01:35:17.380980Z",
                    "iopub.status.idle": "2024-08-11T01:35:17.889024Z",
                    "shell.execute_reply": "2024-08-11T01:35:17.888476Z"
                }
            },
            "outputs": [],
            "source": [
                "from sklearn import preprocessing\n",
                "import numpy as np\n",
                "X = np.array([[ 1., -2.,  2.],\n",
                "              [ 3.,  0.,  0.],\n",
                "              [ 0.,  1., -1.]])"
            ]
        },
        {
            "cell_type": "markdown",
            "metadata": {},
            "source": [
                "Then, standardizing the data matrix `X` can be achieved with the function `scale`:"
            ]
        },
        {
            "cell_type": "code",
            "execution_count": 2,
            "metadata": {
                "execution": {
                    "iopub.execute_input": "2024-08-11T01:35:17.891887Z",
                    "iopub.status.busy": "2024-08-11T01:35:17.891606Z",
                    "iopub.status.idle": "2024-08-11T01:35:17.897928Z",
                    "shell.execute_reply": "2024-08-11T01:35:17.897450Z"
                }
            },
            "outputs": [
                {
                    "data": {
                        "text/plain": [
                            "array([[-0.26726124, -1.33630621,  1.33630621],\n",
                            "       [ 1.33630621,  0.26726124, -0.26726124],\n",
                            "       [-1.06904497,  1.06904497, -1.06904497]])"
                        ]
                    },
                    "execution_count": 2,
                    "metadata": {},
                    "output_type": "execute_result"
                }
            ],
            "source": [
                "X_scaled = preprocessing.scale(X)\n",
                "X_scaled"
            ]
        },
        {
            "cell_type": "markdown",
            "metadata": {},
            "source": [
                "Let's make sure `X_scaled` is indeed standardized: zero mean, unit variance"
            ]
        },
        {
            "cell_type": "code",
            "execution_count": 3,
            "metadata": {
                "execution": {
                    "iopub.execute_input": "2024-08-11T01:35:17.927950Z",
                    "iopub.status.busy": "2024-08-11T01:35:17.927711Z",
                    "iopub.status.idle": "2024-08-11T01:35:17.933140Z",
                    "shell.execute_reply": "2024-08-11T01:35:17.932495Z"
                }
            },
            "outputs": [
                {
                    "data": {
                        "text/plain": [
                            "array([7.40148683e-17, 0.00000000e+00, 0.00000000e+00])"
                        ]
                    },
                    "execution_count": 3,
                    "metadata": {},
                    "output_type": "execute_result"
                }
            ],
            "source": [
                "X_scaled.mean(axis=0)"
            ]
        },
        {
            "cell_type": "markdown",
            "metadata": {},
            "source": [
                "In addition, every row of the standardized feature matrix should have variance of 1 (which\n",
                "is the same as checking for a standard deviation of 1 using `std`):"
            ]
        },
        {
            "cell_type": "code",
            "execution_count": 4,
            "metadata": {
                "execution": {
                    "iopub.execute_input": "2024-08-11T01:35:17.935359Z",
                    "iopub.status.busy": "2024-08-11T01:35:17.935142Z",
                    "iopub.status.idle": "2024-08-11T01:35:17.939331Z",
                    "shell.execute_reply": "2024-08-11T01:35:17.938823Z"
                }
            },
            "outputs": [
                {
                    "data": {
                        "text/plain": [
                            "array([1., 1., 1.])"
                        ]
                    },
                    "execution_count": 4,
                    "metadata": {},
                    "output_type": "execute_result"
                }
            ],
            "source": [
                "X_scaled.std(axis=0)"
            ]
        },
        {
            "cell_type": "markdown",
            "metadata": {},
            "source": [
                "## Normalizing features\n",
                "\n",
                "Similar to standardization, **normalization** is the process of scaling individual samples to\n",
                "have unit norm. I'm sure you know that the norm stands for the **length of a vector**, and can\n",
                "be defined in different ways. We discussed two of them in the previous chapter: the L1\n",
                "norm (or Manhattan distance) and the L2 norm (or Euclidean distance).\n",
                "\n",
                "`X` can be normalized using the `normalize` function, and the L1 norm is specified by the `norm` keyword:"
            ]
        },
        {
            "cell_type": "code",
            "execution_count": 5,
            "metadata": {
                "execution": {
                    "iopub.execute_input": "2024-08-11T01:35:17.941345Z",
                    "iopub.status.busy": "2024-08-11T01:35:17.941026Z",
                    "iopub.status.idle": "2024-08-11T01:35:17.944983Z",
                    "shell.execute_reply": "2024-08-11T01:35:17.944576Z"
                }
            },
            "outputs": [
                {
                    "data": {
                        "text/plain": [
                            "array([[ 0.2, -0.4,  0.4],\n",
                            "       [ 1. ,  0. ,  0. ],\n",
                            "       [ 0. ,  0.5, -0.5]])"
                        ]
                    },
                    "execution_count": 5,
                    "metadata": {},
                    "output_type": "execute_result"
                }
            ],
            "source": [
                "X_normalized_l1 = preprocessing.normalize(X, norm='l1')\n",
                "X_normalized_l1"
            ]
        },
        {
            "cell_type": "markdown",
            "metadata": {},
            "source": [
                "Similarly, the L2 norm can be computed by specifying `norm='l2'`:"
            ]
        },
        {
            "cell_type": "code",
            "execution_count": 6,
            "metadata": {
                "execution": {
                    "iopub.execute_input": "2024-08-11T01:35:17.946971Z",
                    "iopub.status.busy": "2024-08-11T01:35:17.946743Z",
                    "iopub.status.idle": "2024-08-11T01:35:17.950283Z",
                    "shell.execute_reply": "2024-08-11T01:35:17.949898Z"
                }
            },
            "outputs": [
                {
                    "data": {
                        "text/plain": [
                            "array([[ 0.33333333, -0.66666667,  0.66666667],\n",
                            "       [ 1.        ,  0.        ,  0.        ],\n",
                            "       [ 0.        ,  0.70710678, -0.70710678]])"
                        ]
                    },
                    "execution_count": 6,
                    "metadata": {},
                    "output_type": "execute_result"
                }
            ],
            "source": [
                "X_normalized_l2 = preprocessing.normalize(X, norm='l2')\n",
                "X_normalized_l2"
            ]
        },
        {
            "cell_type": "markdown",
            "metadata": {},
            "source": [
                "## Scaling features to a range\n",
                "\n",
                "An alternative to scaling features to zero mean and unit variance is to get features to lie\n",
                "between a given minimum and maximum value. Often these values are zero and one, so\n",
                "that the maximum absolute value of each feature is scaled to unit size. In scikit-learn, this\n",
                "can be achieved using `MinMaxScaler`:"
            ]
        },
        {
            "cell_type": "code",
            "execution_count": 7,
            "metadata": {
                "execution": {
                    "iopub.execute_input": "2024-08-11T01:35:17.952193Z",
                    "iopub.status.busy": "2024-08-11T01:35:17.951983Z",
                    "iopub.status.idle": "2024-08-11T01:35:17.955762Z",
                    "shell.execute_reply": "2024-08-11T01:35:17.955405Z"
                }
            },
            "outputs": [
                {
                    "data": {
                        "text/plain": [
                            "array([[0.33333333, 0.        , 1.        ],\n",
                            "       [1.        , 0.66666667, 0.33333333],\n",
                            "       [0.        , 1.        , 0.        ]])"
                        ]
                    },
                    "execution_count": 7,
                    "metadata": {},
                    "output_type": "execute_result"
                }
            ],
            "source": [
                "min_max_scaler = preprocessing.MinMaxScaler()\n",
                "X_min_max = min_max_scaler.fit_transform(X)\n",
                "X_min_max"
            ]
        },
        {
            "cell_type": "markdown",
            "metadata": {},
            "source": [
                "By default, the data will be scaled to fall within 0 and 1. We can specify different ranges by\n",
                "passing a keyword argument `feature_range` to the `MinMaxScaler` constructor:"
            ]
        },
        {
            "cell_type": "code",
            "execution_count": 8,
            "metadata": {
                "execution": {
                    "iopub.execute_input": "2024-08-11T01:35:17.957669Z",
                    "iopub.status.busy": "2024-08-11T01:35:17.957453Z",
                    "iopub.status.idle": "2024-08-11T01:35:17.961382Z",
                    "shell.execute_reply": "2024-08-11T01:35:17.961019Z"
                }
            },
            "outputs": [
                {
                    "data": {
                        "text/plain": [
                            "array([[ -3.33333333, -10.        ,  10.        ],\n",
                            "       [ 10.        ,   3.33333333,  -3.33333333],\n",
                            "       [-10.        ,  10.        , -10.        ]])"
                        ]
                    },
                    "execution_count": 8,
                    "metadata": {},
                    "output_type": "execute_result"
                }
            ],
            "source": [
                "min_max_scaler = preprocessing.MinMaxScaler(feature_range=(-10, 10))\n",
                "X_min_max2 = min_max_scaler.fit_transform(X)\n",
                "X_min_max2"
            ]
        },
        {
            "cell_type": "markdown",
            "metadata": {},
            "source": [
                "## Binarizing features\n",
                "\n",
                "Finally, we might find ourselves not caring too much about the exact feature values of the\n",
                "data. Instead, we might just want to know if a feature is present or absent. **Binarizing** the\n",
                "data can be achieved by **thresholding** the feature values. Let's quickly remind ourselves of\n",
                "our feature matrix, `X`:"
            ]
        },
        {
            "cell_type": "code",
            "execution_count": 9,
            "metadata": {
                "execution": {
                    "iopub.execute_input": "2024-08-11T01:35:17.963314Z",
                    "iopub.status.busy": "2024-08-11T01:35:17.963013Z",
                    "iopub.status.idle": "2024-08-11T01:35:17.966044Z",
                    "shell.execute_reply": "2024-08-11T01:35:17.965677Z"
                }
            },
            "outputs": [
                {
                    "data": {
                        "text/plain": [
                            "array([[ 1., -2.,  2.],\n",
                            "       [ 3.,  0.,  0.],\n",
                            "       [ 0.,  1., -1.]])"
                        ]
                    },
                    "execution_count": 9,
                    "metadata": {},
                    "output_type": "execute_result"
                }
            ],
            "source": [
                "X"
            ]
        },
        {
            "cell_type": "markdown",
            "metadata": {},
            "source": [
                "Let's assume that these numbers represent the thousands of dollars in our bank accounts. If\n",
                "there are more than 0.5 thousand dollars in the account, we consider the person rich, which\n",
                "we represent with a 1. Else we put a 0. This is akin to thresholding the data with\n",
                "`threshold=0.5`:"
            ]
        },
        {
            "cell_type": "code",
            "execution_count": 10,
            "metadata": {
                "execution": {
                    "iopub.execute_input": "2024-08-11T01:35:17.967969Z",
                    "iopub.status.busy": "2024-08-11T01:35:17.967647Z",
                    "iopub.status.idle": "2024-08-11T01:35:17.971332Z",
                    "shell.execute_reply": "2024-08-11T01:35:17.971001Z"
                }
            },
            "outputs": [
                {
                    "data": {
                        "text/plain": [
                            "array([[1., 0., 1.],\n",
                            "       [1., 0., 0.],\n",
                            "       [0., 1., 0.]])"
                        ]
                    },
                    "execution_count": 10,
                    "metadata": {},
                    "output_type": "execute_result"
                }
            ],
            "source": [
                "binarizer = preprocessing.Binarizer(threshold=0.5)\n",
                "X_binarized = binarizer.transform(X)\n",
                "X_binarized"
            ]
        },
        {
            "cell_type": "markdown",
            "metadata": {},
            "source": [
                "The result is a matrix made entirely of ones and zeros."
            ]
        },
        {
            "cell_type": "markdown",
            "metadata": {},
            "source": [
                "## Handling missing data\n",
                "\n",
                "Another common need in feature engineering is the handling of missing data. For example,\n",
                "we might have a dataset that looks like this:"
            ]
        },
        {
            "cell_type": "code",
            "execution_count": 11,
            "metadata": {
                "execution": {
                    "iopub.execute_input": "2024-08-11T01:35:17.973369Z",
                    "iopub.status.busy": "2024-08-11T01:35:17.973161Z",
                    "iopub.status.idle": "2024-08-11T01:35:17.975985Z",
                    "shell.execute_reply": "2024-08-11T01:35:17.975604Z"
                }
            },
            "outputs": [],
            "source": [
                "from numpy import nan\n",
                "X = np.array([[ nan, 0,   3  ],\n",
                "              [ 2,   9,  -8  ],\n",
                "              [ 1,   nan, 1  ],\n",
                "              [ 5,   2,   4  ],\n",
                "              [ 7,   6,  -3  ]])"
            ]
        },
        {
            "cell_type": "markdown",
            "metadata": {},
            "source": [
                "Most machine learning algorithms cannot handle the **Not a Number (NAN)** values (`nan` in\n",
                "Python). Instead, we first have to replace all the nan values with some appropriate fill\n",
                "values. This is known as **imputation** of missing values.\n",
                "\n",
                "Three different strategies to impute missing values are offered by scikit-learn:\n",
                "- `'mean'`: Replaces all nan values with the mean value along a specified axis of the\n",
                "  matrix (default: axis=0).\n",
                "- `'median'`: Replaces all nan values with median value along a specified axis of\n",
                "  the matrix (default: axis=0).\n",
                "- `'most_frequent'`: Replaces all nan values with the most frequent value along a\n",
                "  specified axis of the matrix (default: axis=0).\n",
                "  \n",
                "For example, the `'mean'` imputer can be called as follows:"
            ]
        },
        {
            "cell_type": "code",
            "execution_count": 12,
            "metadata": {
                "execution": {
                    "iopub.execute_input": "2024-08-11T01:35:17.977870Z",
                    "iopub.status.busy": "2024-08-11T01:35:17.977649Z",
                    "iopub.status.idle": "2024-08-11T01:35:18.243993Z",
                    "shell.execute_reply": "2024-08-11T01:35:18.243498Z"
                }
            },
            "outputs": [
                {
                    "name": "stdout",
                    "output_type": "stream",
                    "text": [
                        "[[ 3.75  0.    3.  ]\n",
                        " [ 2.    9.   -8.  ]\n",
                        " [ 1.    4.25  1.  ]\n",
                        " [ 5.    2.    4.  ]\n",
                        " [ 7.    6.   -3.  ]]\n"
                    ]
                }
            ],
            "source": [
                "from sklearn.impute import SimpleImputer\n",
                "\n",
                "# Create the imputer with the strategy 'mean'\n",
                "imp = SimpleImputer(strategy='mean')\n",
                "\n",
                "# Fit the imputer on the data and transform it\n",
                "X2 = imp.fit_transform(X)\n",
                "\n",
                "# X2 is now the imputed version of X\n",
                "print(X2)\n"
            ]
        },
        {
            "cell_type": "markdown",
            "metadata": {},
            "source": [
                "Let's verify the math by calculating the mean by hand, should evaluate to 3.75 (same as `X2[0, 0]`):"
            ]
        },
        {
            "cell_type": "code",
            "execution_count": 13,
            "metadata": {
                "execution": {
                    "iopub.execute_input": "2024-08-11T01:35:18.246075Z",
                    "iopub.status.busy": "2024-08-11T01:35:18.245812Z",
                    "iopub.status.idle": "2024-08-11T01:35:18.249729Z",
                    "shell.execute_reply": "2024-08-11T01:35:18.249207Z"
                }
            },
            "outputs": [
                {
                    "data": {
                        "text/plain": [
                            "(np.float64(3.75), np.float64(3.75))"
                        ]
                    },
                    "execution_count": 13,
                    "metadata": {},
                    "output_type": "execute_result"
                }
            ],
            "source": [
                "np.mean(X[1:, 0]), X2[0, 0]"
            ]
        },
        {
            "cell_type": "markdown",
            "metadata": {},
            "source": [
                "Similarly, the `'median'` strategy relies on the same code:"
            ]
        },
        {
            "cell_type": "code",
            "execution_count": 14,
            "metadata": {
                "execution": {
                    "iopub.execute_input": "2024-08-11T01:35:18.251671Z",
                    "iopub.status.busy": "2024-08-11T01:35:18.251527Z",
                    "iopub.status.idle": "2024-08-11T01:35:18.259150Z",
                    "shell.execute_reply": "2024-08-11T01:35:18.258772Z"
                }
            },
            "outputs": [
                {
                    "data": {
                        "text/plain": [
                            "array([[ 3.5,  0. ,  3. ],\n",
                            "       [ 2. ,  9. , -8. ],\n",
                            "       [ 1. ,  4. ,  1. ],\n",
                            "       [ 5. ,  2. ,  4. ],\n",
                            "       [ 7. ,  6. , -3. ]])"
                        ]
                    },
                    "execution_count": 14,
                    "metadata": {},
                    "output_type": "execute_result"
                }
            ],
            "source": [
                "imp = SimpleImputer(strategy='median')\n",
                "X3 = imp.fit_transform(X)\n",
                "X3"
            ]
        },
        {
            "cell_type": "markdown",
            "metadata": {},
            "source": [
                "Let's make sure the median of the column evaluates to 3.5 (same as `X3[0, 0]`):"
            ]
        },
        {
            "cell_type": "code",
            "execution_count": 15,
            "metadata": {
                "execution": {
                    "iopub.execute_input": "2024-08-11T01:35:18.261132Z",
                    "iopub.status.busy": "2024-08-11T01:35:18.260952Z",
                    "iopub.status.idle": "2024-08-11T01:35:18.264164Z",
                    "shell.execute_reply": "2024-08-11T01:35:18.263805Z"
                }
            },
            "outputs": [
                {
                    "data": {
                        "text/plain": [
                            "(np.float64(3.5), np.float64(3.5))"
                        ]
                    },
                    "execution_count": 15,
                    "metadata": {},
                    "output_type": "execute_result"
                }
            ],
            "source": [
                "np.median(X[1:, 0]), X3[0, 0]"
            ]
        }
    ],
    "metadata": {
        "kernelspec": {
            "display_name": "Python 3 (ipykernel)",
            "language": "python",
            "name": "python3"
        },
        "language_info": {
            "codemirror_mode": {
                "name": "ipython",
                "version": 3
            },
            "file_extension": ".py",
            "mimetype": "text/x-python",
            "name": "python",
            "nbconvert_exporter": "python",
            "pygments_lexer": "ipython3",
            "version": "3.11.9"
        }
    },
    "nbformat": 4,
    "nbformat_minor": 4
}