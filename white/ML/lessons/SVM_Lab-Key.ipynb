{
 "cells": [
  {
   "cell_type": "markdown",
   "id": "5035f0db-5d2d-402c-aa20-36467ebe243a",
   "metadata": {},
   "source": [
    "# SVM Lab"
   ]
  },
  {
   "cell_type": "code",
   "execution_count": 106,
   "id": "426773a3-7442-4e4c-a273-bc9c337f81e6",
   "metadata": {},
   "outputs": [],
   "source": [
    "import pandas as pd\n",
    "from sklearn.model_selection import train_test_split\n",
    "from sklearn.feature_extraction.text import TfidfVectorizer, CountVectorizer\n",
    "from sklearn.svm import SVC\n",
    "from sklearn.metrics import classification_report, accuracy_score\n",
    "from sklearn.preprocessing import OrdinalEncoder\n",
    "import numpy as np"
   ]
  },
  {
   "cell_type": "code",
   "execution_count": 91,
   "id": "e4578c77-c525-433b-8b6c-e4c3ebe6de18",
   "metadata": {},
   "outputs": [],
   "source": [
    "# Step 1: Load the dataset (replace with the path to your dataset)\n",
    "# The dataset should have two columns: 'label' (spam/ham) and 'message' (text)\n",
    "url = \"../data/Fake_News.csv\"\n",
    "data = pd.read_csv(url, sep=',')"
   ]
  },
  {
   "cell_type": "code",
   "execution_count": 92,
   "id": "dc49cdc0-d6dd-4dfe-a5ff-a48541e90e60",
   "metadata": {},
   "outputs": [],
   "source": [
    "data = data.dropna()"
   ]
  },
  {
   "cell_type": "code",
   "execution_count": 112,
   "id": "709107f7-26dc-41d3-9670-ba2e28a85a9d",
   "metadata": {},
   "outputs": [],
   "source": [
    "## EDA"
   ]
  },
  {
   "cell_type": "markdown",
   "id": "2ee1b471-e1f8-4a93-9871-bb026d38f124",
   "metadata": {},
   "source": [
    "Do some basic EDA here. How balanced is the data set? Data types? Etc."
   ]
  },
  {
   "cell_type": "markdown",
   "id": "4abbc3bf-507b-4437-b973-5df44854bb3d",
   "metadata": {},
   "source": [
    "We ill ordinal encode the target column"
   ]
  },
  {
   "cell_type": "code",
   "execution_count": 94,
   "id": "98036159-e837-4bf7-ae1b-2a029349f59b",
   "metadata": {},
   "outputs": [],
   "source": [
    "# Encode labels using OrdinalEncoder into 0,1\n",
    "encoder = OrdinalEncoder()\n",
    "data['label'] = encoder.fit_transform(data[['label']])"
   ]
  },
  {
   "cell_type": "code",
   "execution_count": 95,
   "id": "e861861e-e426-49ed-8b70-cedf9c5958b8",
   "metadata": {},
   "outputs": [
    {
     "name": "stdout",
     "output_type": "stream",
     "text": [
      "Label Encoding:\n",
      "'Fake' -> 0\n",
      "'True' -> 1\n"
     ]
    }
   ],
   "source": [
    "# Print the mapping from labels to numerical values\n",
    "label_mapping = {category: idx for idx, category in enumerate(encoder.categories_[0])}\n",
    "print(\"Label Encoding:\")\n",
    "for label, value in label_mapping.items():\n",
    "    print(f\"'{label}' -> {value}\")"
   ]
  },
  {
   "cell_type": "markdown",
   "id": "96863475-7908-42d6-89a7-19caacbb3a9e",
   "metadata": {},
   "source": [
    "Define X and y to the be title and label"
   ]
  },
  {
   "cell_type": "code",
   "execution_count": 102,
   "id": "82b1ed2f-e9a8-46c7-81b5-ce57f99f1602",
   "metadata": {},
   "outputs": [],
   "source": [
    "# define the data\n"
   ]
  },
  {
   "cell_type": "code",
   "execution_count": null,
   "id": "a342cc30-983e-4e1d-8c0a-ac3cf94aa958",
   "metadata": {},
   "outputs": [],
   "source": [
    "# Step 2: Split the dataset into training and testing sets\n",
    "# Make a train/test split"
   ]
  },
  {
   "cell_type": "code",
   "execution_count": 114,
   "id": "c44b16cd-b447-422a-8cb4-ab8b2de52775",
   "metadata": {},
   "outputs": [],
   "source": [
    "# Step 3: Text encoding using TF-IDF\n",
    "vectorizer = CountVectorizer(stop_words='english', max_features=1000)\n",
    "X_train_tfidf = vectorizer.fit_transform(X_train)\n",
    "X_test_tfidf = vectorizer.transform(X_test)"
   ]
  },
  {
   "cell_type": "markdown",
   "id": "d9c365aa-638b-4df9-be0f-6712389c97c8",
   "metadata": {},
   "source": [
    "Now train the SVM and print an accuract_score and classication_report"
   ]
  },
  {
   "cell_type": "code",
   "execution_count": 105,
   "id": "e70fff40-25b7-4b32-bbe8-073785c96c2b",
   "metadata": {},
   "outputs": [
    {
     "name": "stdout",
     "output_type": "stream",
     "text": [
      "Accuracy: 0.8710155670867309\n",
      "\n",
      "Classification Report:\n",
      "               precision    recall  f1-score   support\n",
      "\n",
      "         0.0       0.93      0.83      0.88       739\n",
      "         1.0       0.82      0.92      0.87       610\n",
      "\n",
      "    accuracy                           0.87      1349\n",
      "   macro avg       0.87      0.88      0.87      1349\n",
      "weighted avg       0.88      0.87      0.87      1349\n",
      "\n"
     ]
    }
   ],
   "source": [
    "# Step 4: Train the SVM\n",
    "model = SVC(kernel='linear', C=1.0)\n",
    "model.fit(X_train_tfidf, y_train)\n",
    "\n",
    "# Step 5: Make predictions and evaluate\n",
    "y_pred = model.predict(X_test_tfidf)\n",
    "\n",
    "print(\"Accuracy:\", accuracy_score(y_test, y_pred))\n",
    "print(\"\\nClassification Report:\\n\", classification_report(y_test, y_pred))"
   ]
  },
  {
   "cell_type": "markdown",
   "id": "c733fea2-e87d-4ede-9ddc-4c82c790d0e2",
   "metadata": {},
   "source": [
    "### Print Results"
   ]
  },
  {
   "cell_type": "code",
   "execution_count": 107,
   "id": "3f536e40-6201-48d0-beb8-ddc3ac7c0d46",
   "metadata": {},
   "outputs": [
    {
     "name": "stdout",
     "output_type": "stream",
     "text": [
      "\n",
      "Misclassified Examples:\n",
      "Message: Meet The CA Sheriff Who Won’t Be Bullied By Obama And Illegal Immigrant Activists Who Believe The Laws Don’t Apply To Lawbreakers\n",
      "True Label: Fake\n",
      "Predicted Label: True\n",
      "--------------------------------------------------\n",
      "Message: ALARMING: NSA Refuses to Release Clinton-Lynch Tarmac Transcript with Lame Excuse\n",
      "True Label: Fake\n",
      "Predicted Label: True\n",
      "--------------------------------------------------\n",
      "Message: Norway appoints its first female foreign minister\n",
      "True Label: True\n",
      "Predicted Label: Fake\n",
      "--------------------------------------------------\n",
      "Message:  Anti-Abortion Laws Collapse In Major Defeat For The Right\n",
      "True Label: Fake\n",
      "Predicted Label: True\n",
      "--------------------------------------------------\n",
      "Message: Shaquille O’Neal: “The Earth is flat. Yes, it is.”\n",
      "True Label: Fake\n",
      "Predicted Label: True\n",
      "--------------------------------------------------\n",
      "Message: THE LIST OF WHO’S WHO TAKING ADVANTAGE OF FAILED EU AUSTERITY EXPERIMENT IN GREECE\n",
      "True Label: Fake\n",
      "Predicted Label: True\n",
      "--------------------------------------------------\n",
      "Message: Obama to visit Hiroshima, will not apologize for World War Two bombing\n",
      "True Label: True\n",
      "Predicted Label: Fake\n",
      "--------------------------------------------------\n",
      "Message:  White House Staff Reportedly Went Behind Trump’s Back On HUGE Issue Because Trump Is Too Reckless\n",
      "True Label: Fake\n",
      "Predicted Label: True\n",
      "--------------------------------------------------\n",
      "Message: Tensions simmer below surface as Trump, Republicans map strategy\n",
      "True Label: True\n",
      "Predicted Label: Fake\n",
      "--------------------------------------------------\n",
      "Message:  Susan Collins Bucked Party, Voted To Protect Kids, Seniors, Women and Entitlements\n",
      "True Label: Fake\n",
      "Predicted Label: True\n",
      "--------------------------------------------------\n"
     ]
    }
   ],
   "source": [
    "# Find misclassified examples\n",
    "y_pred = np.array(y_pred)\n",
    "y_test = np.array(y_test)\n",
    "misclassified_indices = (y_pred != y_test).nonzero()[0]  # Indices where predictions differ from true labels\n",
    "\n",
    "# Print the first few misclassified examples\n",
    "print(\"\\nMisclassified Examples:\")\n",
    "for idx in misclassified_indices[10:20]:  # Limit to 5 examples\n",
    "    print(f\"Message: {X_test.iloc[idx]}\")\n",
    "    print(f\"True Label: {encoder.inverse_transform([[y_test[idx]]])[0][0]}\")\n",
    "    print(f\"Predicted Label: {encoder.inverse_transform([[y_pred[idx]]])[0][0]}\")\n",
    "    print(\"-\" * 50)"
   ]
  },
  {
   "cell_type": "markdown",
   "id": "c2fdb7b5-4f81-4e4a-9d5b-fc9e2448ece8",
   "metadata": {},
   "source": [
    "### Confusion Matrix"
   ]
  },
  {
   "cell_type": "code",
   "execution_count": 60,
   "id": "fb679128-2a9d-40ba-ad88-754d679819cb",
   "metadata": {},
   "outputs": [
    {
     "data": {
      "image/png": "[encoded data removed]",
      "text/plain": [
       "<Figure size 600x500 with 2 Axes>"
      ]
     },
     "metadata": {},
     "output_type": "display_data"
    }
   ],
   "source": [
    "import seaborn as sns\n",
    "import matplotlib.pyplot as plt\n",
    "from sklearn.metrics import confusion_matrix\n",
    "\n",
    "# Step 1: Compute the confusion matrix\n",
    "cm = confusion_matrix(y_test, y_pred)\n",
    "\n",
    "# Step 2: Plot the confusion matrix\n",
    "plt.figure(figsize=(6, 5))\n",
    "sns.heatmap(cm, annot=True, fmt='d', cmap='Blues', xticklabels=encoder.categories_[0], yticklabels=encoder.categories_[0])\n",
    "\n",
    "# Adding labels and title\n",
    "plt.title('Confusion Matrix')\n",
    "plt.xlabel('Predicted Label')\n",
    "plt.ylabel('True Label')\n",
    "\n",
    "# Show the plot\n",
    "plt.show()\n"
   ]
  },
  {
   "cell_type": "markdown",
   "id": "f2a9687f-4439-4c3a-9db0-347445d533ae",
   "metadata": {},
   "source": [
    "## TF-IDF"
   ]
  },
  {
   "cell_type": "markdown",
   "id": "5ef2ba30-d4bb-4de2-8091-bd891efc9bf8",
   "metadata": {},
   "source": [
    "Redo the above analysis with a TF-IDF encoding instead of a Counter (Bag of Words)"
   ]
  },
  {
   "cell_type": "code",
   "execution_count": null,
   "id": "54506353-d230-40be-9d68-538b07dfe9c3",
   "metadata": {},
   "outputs": [],
   "source": []
  },
  {
   "cell_type": "markdown",
   "id": "1cf8e9cc-24cd-4059-bddb-6e088d3c6dde",
   "metadata": {},
   "source": [
    "# Optimize"
   ]
  },
  {
   "cell_type": "markdown",
   "id": "ed853b55-1f38-4718-bf75-ca8dada01546",
   "metadata": {},
   "source": [
    "There are lots of parameters to SVM/SVC. Try them out and see how good you can do!"
   ]
  },
  {
   "cell_type": "code",
   "execution_count": null,
   "id": "c2d39556-a07f-4204-afe6-3cda45c615bb",
   "metadata": {},
   "outputs": [],
   "source": []
  }
 ],
 "metadata": {
  "kernelspec": {
   "display_name": "ML Python",
   "language": "python",
   "name": "myenv"
  },
  "language_info": {
   "codemirror_mode": {
    "name": "ipython",
    "version": 3
   },
   "file_extension": ".py",
   "mimetype": "text/x-python",
   "name": "python",
   "nbconvert_exporter": "python",
   "pygments_lexer": "ipython3",
   "version": "3.11.9"
  }
 },
 "nbformat": 4,
 "nbformat_minor": 5
}
