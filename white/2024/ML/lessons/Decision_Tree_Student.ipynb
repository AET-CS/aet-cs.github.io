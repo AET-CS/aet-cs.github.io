{
 "cells": [
  {
   "cell_type": "markdown",
   "id": "a372376a-fcd9-4517-8c17-b113540e30ba",
   "metadata": {},
   "source": [
    "# Decision Tree Income Data"
   ]
  },
  {
   "cell_type": "code",
   "execution_count": 2,
   "id": "bc4d5002-c166-4ae3-a522-13cac094b035",
   "metadata": {},
   "outputs": [],
   "source": [
    "import pandas as pd\n",
    "from sklearn.model_selection import train_test_split\n",
    "from sklearn.tree import DecisionTreeClassifier, plot_tree\n",
    "from sklearn.metrics import accuracy_score\n",
    "from sklearn.preprocessing import LabelEncoder\n",
    "import matplotlib.pyplot as plt"
   ]
  },
  {
   "cell_type": "markdown",
   "id": "d5109030-0b90-4c91-81c5-dcb5cb4f5868",
   "metadata": {},
   "source": [
    "Load the UCI Income Data set and make a test-split. We convert categorical data first and drop NA rows."
   ]
  },
  {
   "cell_type": "code",
   "execution_count": 3,
   "id": "99ae8cde-3aa8-44f7-9e31-ce0a3ce0f405",
   "metadata": {},
   "outputs": [],
   "source": [
    "# Step 1: Load the dataset\n",
    "url = \"https://archive.ics.uci.edu/ml/machine-learning-databases/adult/adult.data\"\n",
    "column_names = [\n",
    "    'age', 'workclass', 'fnlwgt', 'education', 'education-num', 'marital-status', \n",
    "    'occupation', 'relationship', 'race', 'sex', 'capital-gain', 'capital-loss', \n",
    "    'hours-per-week', 'native-country', 'income'\n",
    "]\n",
    "data = pd.read_csv(url, names=column_names, na_values=\" ?\", skipinitialspace=True)\n",
    "\n",
    "# Step 2: Preprocess the data\n",
    "# Handle missing values by dropping rows with NaN values (you can also fill them if needed)\n",
    "data.dropna(inplace=True)\n",
    "\n",
    "# Convert categorical columns to numeric using LabelEncoder\n",
    "label_encoder = LabelEncoder()\n",
    "categorical_columns = data.select_dtypes(include=['object']).columns\n",
    "\n",
    "for col in categorical_columns:\n",
    "    data[col] = label_encoder.fit_transform(data[col])\n",
    "\n",
    "# Split the dataset into features (X) and target (y)\n",
    "X = data.drop(columns=['income'])\n",
    "y = data['income']\n",
    "\n",
    "# Step 3: Split the data into training and testing sets\n",
    "X_train, X_test, y_train, y_test = train_test_split(X, y, test_size=0.3, random_state=42)"
   ]
  },
  {
   "cell_type": "markdown",
   "id": "2cea58a2-f78f-4094-b813-a015a94a555d",
   "metadata": {},
   "source": [
    "Make a vanilla sklearn DecisionTree model using entropy"
   ]
  },
  {
   "cell_type": "code",
   "execution_count": null,
   "id": "eed3da53-1302-4900-9fac-916a43884853",
   "metadata": {},
   "outputs": [],
   "source": [
    "# Step 4: Train a Decision Tree Classifier\n",
    "model = DecisionTreeClassifier(random_state=42, criterion='entropy')\n",
    "model.fit(X_train, y_train)\n",
    "\n",
    "# Step 5: Make predictions and evaluate the model\n",
    "y_pred = model.predict(X_test)\n",
    "\n",
    "# Print accuracy\n",
    "accuracy = accuracy_score(y_test, y_pred)\n",
    "print(f\"Accuracy: {accuracy:.4f}\")"
   ]
  },
  {
   "cell_type": "markdown",
   "id": "955fd0a1-54a8-444f-9cfa-c7b6891c2b5c",
   "metadata": {},
   "source": [
    "Plot the tree (this will take a while)"
   ]
  },
  {
   "cell_type": "code",
   "execution_count": null,
   "id": "e6776646-6462-4854-9fdc-f2f72a2bc148",
   "metadata": {},
   "outputs": [],
   "source": [
    "# Step 6: Visualize the Decision Tree\n",
    "plt.figure(figsize=(20,10))\n",
    "plot_tree(model, feature_names=X.columns, class_names=['<=50K', '>50K'], filled=True, rounded=True, fontsize=12)\n",
    "plt.title(\"Decision Tree Visualization\")\n",
    "plt.show()"
   ]
  },
  {
   "cell_type": "markdown",
   "id": "8c6e0719-3356-4b00-a7d7-0dffd2cad60e",
   "metadata": {},
   "source": [
    "## EDA"
   ]
  },
  {
   "cell_type": "markdown",
   "id": "358316bf-330b-4e26-b3ff-b89245d7da68",
   "metadata": {},
   "source": [
    "Do some standard EDA to learn about this dataset. How many features? How many rows? How many NA entries? How balanced is it? Are there correlations between features or between features and the target? Use previous labs for examples."
   ]
  },
  {
   "cell_type": "code",
   "execution_count": null,
   "id": "a8182487-1606-4cf6-81dd-a4bc43a68dc1",
   "metadata": {},
   "outputs": [],
   "source": []
  },
  {
   "cell_type": "markdown",
   "id": "8cf379aa-453b-400e-9514-a48dd3dbda3a",
   "metadata": {},
   "source": [
    "## Training Improvement"
   ]
  },
  {
   "cell_type": "markdown",
   "id": "06163030-678b-437a-b8ff-92447c081f69",
   "metadata": {},
   "source": [
    "Try to improve the accuracy of the model, but also explore the parameters available to you. For example\n",
    "\n",
    "* What happens if you fill in the NA rows rather than drop the?\n",
    "* What about different ways to fill in the NA rows?\n",
    "* What is the effect of max_depth on the accuracy?\n",
    "* Look at other parameters you can adjust in DecisionTreeClassifier and determine their effect"
   ]
  },
  {
   "cell_type": "code",
   "execution_count": null,
   "id": "5076600e-b59e-42fb-b42c-079953711db4",
   "metadata": {},
   "outputs": [],
   "source": []
  },
  {
   "cell_type": "markdown",
   "id": "0c4b78b3-047d-4191-9ff1-e1d1f5afa0a7",
   "metadata": {},
   "source": [
    "## Conclusion"
   ]
  },
  {
   "cell_type": "markdown",
   "id": "23b14e4d-858c-4460-bdb7-d8e211f205d2",
   "metadata": {},
   "source": [
    "Decide on your \"best fit\" model and describe it here"
   ]
  },
  {
   "cell_type": "code",
   "execution_count": null,
   "id": "6212a1d3-2a55-4327-80cf-2eabbe0449f7",
   "metadata": {},
   "outputs": [],
   "source": []
  }
 ],
 "metadata": {
  "kernelspec": {
   "display_name": "ML Python",
   "language": "python",
   "name": "myenv"
  },
  "language_info": {
   "codemirror_mode": {
    "name": "ipython",
    "version": 3
   },
   "file_extension": ".py",
   "mimetype": "text/x-python",
   "name": "python",
   "nbconvert_exporter": "python",
   "pygments_lexer": "ipython3",
   "version": "3.11.9"
  }
 },
 "nbformat": 4,
 "nbformat_minor": 5
}
