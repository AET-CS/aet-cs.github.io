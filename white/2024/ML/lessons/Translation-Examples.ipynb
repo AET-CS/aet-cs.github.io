{
 "cells": [
  {
   "cell_type": "markdown",
   "id": "2b1ddd12-cd11-4546-847f-8351bd8b3c5e",
   "metadata": {},
   "source": [
    "# Translation examples"
   ]
  },
  {
   "cell_type": "markdown",
   "id": "bef5f227-c504-4cab-b647-e524334b2cbd",
   "metadata": {},
   "source": [
    "\"Model C\" is a fairly large attention model with dropout, trained on an extended vocabulary size of 16,000."
   ]
  },
  {
   "cell_type": "code",
   "execution_count": 369,
   "id": "24dbbb5c-0ddf-45aa-b2a6-9375c6758803",
   "metadata": {},
   "outputs": [
    {
     "data": {
      "text/plain": [
       "'no puedo hacer la cena pero no quiero pizza'"
      ]
     },
     "execution_count": 369,
     "metadata": {},
     "output_type": "execute_result"
    }
   ],
   "source": [
    "translate(model_C, \"We can order dinner but I don't want pizza.\")"
   ]
  },
  {
   "cell_type": "code",
   "execution_count": 370,
   "id": "86347512-018a-4777-a804-bb6537c56bc2",
   "metadata": {},
   "outputs": [
    {
     "data": {
      "text/plain": [
       "'cuando me caí de el campo me me rompió la pierna'"
      ]
     },
     "execution_count": 370,
     "metadata": {},
     "output_type": "execute_result"
    }
   ],
   "source": [
    "translate(model_C, \"When I fell on the football field I broke my leg\")"
   ]
  },
  {
   "cell_type": "code",
   "execution_count": 371,
   "id": "e19cbf7b-8b01-4465-932f-b896c936958e",
   "metadata": {},
   "outputs": [
    {
     "name": "stdout",
     "output_type": "stream",
     "text": [
      "************** cuando me caí de el futbol me rompió la pierna\n"
     ]
    },
    {
     "data": {
      "text/plain": [
       "('When I fell out of football I broke my leg',\n",
       " 'cuando me caí de el futbol me rompió la pierna')"
      ]
     },
     "execution_count": 371,
     "metadata": {},
     "output_type": "execute_result"
    }
   ],
   "source": [
    "beam_search(model_C, \"When I fell on the football field I broke my leg\", beam_width=10)"
   ]
  },
  {
   "cell_type": "code",
   "execution_count": 372,
   "id": "a7b55829-3b75-4cb0-a1c2-0ad77d7e0b1d",
   "metadata": {},
   "outputs": [
    {
     "name": "stdout",
     "output_type": "stream",
     "text": [
      "************** no me gustan los huevos verdes y el jamón\n"
     ]
    },
    {
     "data": {
      "text/plain": [
       "(\"I don't like green eggs and ham\",\n",
       " 'no me gustan los huevos verdes y el jamón')"
      ]
     },
     "execution_count": 372,
     "metadata": {},
     "output_type": "execute_result"
    }
   ],
   "source": [
    "beam_search(model_C, \"I do not like green eggs and ham\", beam_width=10)"
   ]
  },
  {
   "cell_type": "code",
   "execution_count": 373,
   "id": "1acba710-6024-4ee3-9cc3-b8de2d96634d",
   "metadata": {},
   "outputs": [
    {
     "name": "stdout",
     "output_type": "stream",
     "text": [
      "************** [UNK] no son [UNK] en canadá\n"
     ]
    },
    {
     "data": {
      "text/plain": [
       "('[Unk] are not [unk] in Canada', '[UNK] no son [UNK] en canadá')"
      ]
     },
     "execution_count": 373,
     "metadata": {},
     "output_type": "execute_result"
    }
   ],
   "source": [
    "beam_search(model_C, \"Tariffs are not a tax on Canada\", beam_width=20)"
   ]
  },
  {
   "cell_type": "code",
   "execution_count": 374,
   "id": "02fba1f1-7004-47fe-a0e0-2f7f4ac14f5e",
   "metadata": {},
   "outputs": [
    {
     "name": "stdout",
     "output_type": "stream",
     "text": [
      "************** una casa vacío es como un perro [UNK] o un perro [UNK] o la vida\n"
     ]
    },
    {
     "data": {
      "text/plain": [
       "('An empty house is like a dog [unk] or a dog [unk] or life',\n",
       " 'una casa vacío es como un perro [UNK] o un perro [UNK] o la vida')"
      ]
     },
     "execution_count": 374,
     "metadata": {},
     "output_type": "execute_result"
    }
   ],
   "source": [
    "beam_search(model_C, \"An empty house is like a stray dog or a body from which life has departed.\", beam_width=10)"
   ]
  },
  {
   "cell_type": "code",
   "execution_count": 375,
   "id": "9fb93b2c-7ea9-4bd4-8c57-23b7ada4f3fc",
   "metadata": {},
   "outputs": [
    {
     "name": "stdout",
     "output_type": "stream",
     "text": [
      "************** la siguiente lo intentar ganar lo mejor está tratando\n"
     ]
    },
    {
     "data": {
      "text/plain": [
       "('The next try to win the best is trying',\n",
       " 'la siguiente lo intentar ganar lo mejor está tratando')"
      ]
     },
     "execution_count": 375,
     "metadata": {},
     "output_type": "execute_result"
    }
   ],
   "source": [
    "sentence = \"Next to trying and winning, the best thing is trying and failing.\" \n",
    "beam_search(model_C, sentence, beam_width=10)"
   ]
  },
  {
   "cell_type": "code",
   "execution_count": 376,
   "id": "f65bdfc5-6472-4ed6-b92e-562e06e9a5c8",
   "metadata": {},
   "outputs": [
    {
     "name": "stdout",
     "output_type": "stream",
     "text": [
      "************** el primero está tratando de intentar todo lo que quiere decir y más vale\n"
     ]
    },
    {
     "data": {
      "text/plain": [
       "('The first is trying to try everything that means and better',\n",
       " 'el primero está tratando de intentar todo lo que quiere decir y más vale')"
      ]
     },
     "execution_count": 376,
     "metadata": {},
     "output_type": "execute_result"
    }
   ],
   "source": [
    "sentence = \"Next to trying and winning, the best thing is trying and failing.\" \n",
    "beam_search(model_B, sentence, beam_width=10)"
   ]
  },
  {
   "cell_type": "code",
   "execution_count": 377,
   "id": "7ef70214-bd42-4e91-9053-5d222694325a",
   "metadata": {},
   "outputs": [
    {
     "name": "stdout",
     "output_type": "stream",
     "text": [
      "************** [UNK] por favor que te quedes en boston\n"
     ]
    },
    {
     "data": {
      "text/plain": [
       "('[UNK] Please stay in Boston', '[UNK] por favor que te quedes en boston')"
      ]
     },
     "execution_count": 377,
     "metadata": {},
     "output_type": "execute_result"
    }
   ],
   "source": [
    "sentence = \"Next to trying and winning, the best thing is trying and failing.\" \n",
    "beam_search(model_A, sentence, beam_width=10)"
   ]
  },
  {
   "cell_type": "code",
   "execution_count": 378,
   "id": "3561cb89-0cf1-477b-b8cb-04f32da19849",
   "metadata": {},
   "outputs": [
    {
     "name": "stdout",
     "output_type": "stream",
     "text": [
      "************** la única cosa que tenemos que temer es miedo\n"
     ]
    },
    {
     "data": {
      "text/plain": [
       "('The only thing we have to fear is fear',\n",
       " 'la única cosa que tenemos que temer es miedo')"
      ]
     },
     "execution_count": 378,
     "metadata": {},
     "output_type": "execute_result"
    }
   ],
   "source": [
    "sentence = \"The only thing we have to fear is fear itself\" \n",
    "beam_search(model_C, sentence, beam_width=30)"
   ]
  },
  {
   "cell_type": "code",
   "execution_count": 380,
   "id": "6dce9afb-c17d-4813-a82b-fb4dbe005101",
   "metadata": {},
   "outputs": [
    {
     "name": "stdout",
     "output_type": "stream",
     "text": [
      "************** ese es un pequeño paso para hombre y uno para la humanidad de la humanidad\n"
     ]
    },
    {
     "data": {
      "text/plain": [
       "('That is a small step for men and one for humanity of humanity',\n",
       " 'ese es un pequeño paso para hombre y uno para la humanidad de la humanidad')"
      ]
     },
     "execution_count": 380,
     "metadata": {},
     "output_type": "execute_result"
    }
   ],
   "source": [
    "sentence = \"That's one small step for man and one giant leap for mankind\" \n",
    "beam_search(model_C, sentence, beam_width=30)"
   ]
  },
  {
   "cell_type": "code",
   "execution_count": 381,
   "id": "9675f869-1202-47c7-a5c9-1cb840b902f8",
   "metadata": {},
   "outputs": [
    {
     "name": "stdout",
     "output_type": "stream",
     "text": [
      "************** cállate\n"
     ]
    },
    {
     "data": {
      "text/plain": [
       "('be quiet', 'cállate')"
      ]
     },
     "execution_count": 381,
     "metadata": {},
     "output_type": "execute_result"
    }
   ],
   "source": [
    "sentence = \"Shut up, he explained\" \n",
    "beam_search(model_C, sentence, beam_width=30)"
   ]
  },
  {
   "cell_type": "code",
   "execution_count": 382,
   "id": "8d4e2dd4-4ec5-43d6-84c2-f9c8642572f0",
   "metadata": {},
   "outputs": [
    {
     "name": "stdout",
     "output_type": "stream",
     "text": [
      "************** la belleza es sólo el piel sino que [UNK] para la hueso\n"
     ]
    },
    {
     "data": {
      "text/plain": [
       "('Beauty is only the skin but [one] for bone',\n",
       " 'la belleza es sólo el piel sino que [UNK] para la hueso')"
      ]
     },
     "execution_count": 382,
     "metadata": {},
     "output_type": "execute_result"
    }
   ],
   "source": [
    "sentence = \"Beauty is only skin deep, but ugly goes clean to the bone\" \n",
    "beam_search(model_C, sentence, beam_width=30)"
   ]
  }
 ],
 "metadata": {
  "kernelspec": {
   "display_name": "Python 3 (ipykernel)",
   "language": "python",
   "name": "python3"
  },
  "language_info": {
   "codemirror_mode": {
    "name": "ipython",
    "version": 3
   },
   "file_extension": ".py",
   "mimetype": "text/x-python",
   "name": "python",
   "nbconvert_exporter": "python",
   "pygments_lexer": "ipython3",
   "version": "3.12.6"
  }
 },
 "nbformat": 4,
 "nbformat_minor": 5
}
