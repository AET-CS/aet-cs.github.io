{
 "cells": [
  {
   "cell_type": "markdown",
   "id": "26d783f5-82da-4038-ad8d-0511640d0329",
   "metadata": {},
   "source": [
    "# Cancer Data Logistic Regression (Student)"
   ]
  },
  {
   "cell_type": "code",
   "execution_count": 42,
   "id": "cffd6946-2639-4aec-968a-bf3d93710881",
   "metadata": {},
   "outputs": [],
   "source": [
    "import pandas as pd\n",
    "import os\n",
    "from sklearn.linear_model import LinearRegression, Ridge, Lasso, LogisticRegression\n",
    "from sklearn.metrics import r2_score\n",
    "import numpy as np\n",
    "import matplotlib.pyplot as plt\n",
    "import seaborn as sns"
   ]
  },
  {
   "cell_type": "code",
   "execution_count": 43,
   "id": "651ccfe0-7b76-4d24-9677-cc617430f087",
   "metadata": {},
   "outputs": [],
   "source": [
    "import pandas as pd\n",
    "from sklearn.model_selection import train_test_split\n",
    "from sklearn import preprocessing\n",
    "from sklearn.preprocessing import LabelEncoder, StandardScaler\n",
    "from sklearn.metrics import accuracy_score, classification_report, confusion_matrix\n",
    "from sklearn.impute import SimpleImputer\n",
    "from sklearn.compose import ColumnTransformer\n",
    "from sklearn.impute import SimpleImputer\n",
    "from sklearn.preprocessing import OneHotEncoder\n",
    "from sklearn.pipeline import Pipeline\n",
    "from sklearn.preprocessing import OrdinalEncoder\n",
    "from scipy.stats import chi2_contingency\n"
   ]
  },
  {
   "cell_type": "markdown",
   "id": "8253a80b-53d5-4af4-98b8-660f5e6a9b0e",
   "metadata": {},
   "source": [
    "Uncomment if you need the data files"
   ]
  },
  {
   "cell_type": "code",
   "execution_count": 44,
   "id": "1338ce81-67f1-4f34-b5f8-49cdd60cae12",
   "metadata": {},
   "outputs": [],
   "source": [
    "# !wget https://aet-cs.github.io/white/ML/data/Cancer_Data.csv\n",
    "# !wget https://aet-cs.github.io/white/ML/data/Cancer_Data_Cleaned.csv"
   ]
  },
  {
   "cell_type": "code",
   "execution_count": 45,
   "id": "3974a2c0-3ecb-47a7-9171-5946e32e243a",
   "metadata": {},
   "outputs": [],
   "source": [
    "data_root = \"../data\"\n",
    "filename = \"Cancer_Data.csv\"\n",
    "filepath = os.path.join(data_root, filename)\n",
    "df = pd.read_csv(filepath)"
   ]
  },
  {
   "cell_type": "code",
   "execution_count": 46,
   "id": "2980e7b7-64d9-4d2a-9023-af2d40ea6c4d",
   "metadata": {},
   "outputs": [],
   "source": [
    "def get_data(filename):\n",
    "    df = pd.read_csv(filename)\n",
    "    df.drop(['radius_se', 'texture_se', 'perimeter_se', 'area_se', 'smoothness_se',\n",
    "       'compactness_se', 'concavity_se', 'concave points_se', 'symmetry_se',\n",
    "       'fractal_dimension_se', 'radius_worst', 'texture_worst',\n",
    "       'perimeter_worst', 'area_worst', 'smoothness_worst',\n",
    "       'compactness_worst', 'concavity_worst', 'concave points_worst',\n",
    "       'symmetry_worst', 'fractal_dimension_worst'], axis=1, inplace=True)\n",
    "    return df"
   ]
  },
  {
   "cell_type": "code",
   "execution_count": 47,
   "id": "e5bcef77-ddd8-4757-b388-d03b4a09a46d",
   "metadata": {},
   "outputs": [
    {
     "data": {
      "text/plain": [
       "Index(['id', 'diagnosis', 'radius_mean', 'texture_mean', 'perimeter_mean',\n",
       "       'area_mean', 'smoothness_mean', 'compactness_mean', 'concavity_mean',\n",
       "       'concave points_mean', 'symmetry_mean', 'fractal_dimension_mean',\n",
       "       'radius_se', 'texture_se', 'perimeter_se', 'area_se', 'smoothness_se',\n",
       "       'compactness_se', 'concavity_se', 'concave points_se', 'symmetry_se',\n",
       "       'fractal_dimension_se', 'radius_worst', 'texture_worst',\n",
       "       'perimeter_worst', 'area_worst', 'smoothness_worst',\n",
       "       'compactness_worst', 'concavity_worst', 'concave points_worst',\n",
       "       'symmetry_worst', 'fractal_dimension_worst', 'Unnamed: 32'],\n",
       "      dtype='object')"
      ]
     },
     "execution_count": 47,
     "metadata": {},
     "output_type": "execute_result"
    }
   ],
   "source": [
    "df.columns"
   ]
  },
  {
   "cell_type": "code",
   "execution_count": 48,
   "id": "66df47d5-ec4d-4fe2-aa96-a27827b9b435",
   "metadata": {},
   "outputs": [],
   "source": [
    "df.drop(['radius_se', 'texture_se', 'perimeter_se', 'area_se', 'smoothness_se',\n",
    "       'compactness_se', 'concavity_se', 'concave points_se', 'symmetry_se',\n",
    "       'fractal_dimension_se', 'radius_worst', 'texture_worst',\n",
    "       'perimeter_worst', 'area_worst', 'smoothness_worst',\n",
    "       'compactness_worst', 'concavity_worst', 'concave points_worst',\n",
    "       'symmetry_worst', 'fractal_dimension_worst'], axis=1, inplace=True)"
   ]
  },
  {
   "cell_type": "code",
   "execution_count": 49,
   "id": "0cabc98d-57b1-4de6-af0a-722c5f02b998",
   "metadata": {},
   "outputs": [
    {
     "data": {
      "application/vnd.microsoft.datawrangler.viewer.v0+json": {
       "columns": [
        {
         "name": "index",
         "rawType": "int64",
         "type": "integer"
        },
        {
         "name": "id",
         "rawType": "int64",
         "type": "integer"
        },
        {
         "name": "diagnosis",
         "rawType": "object",
         "type": "string"
        },
        {
         "name": "radius_mean",
         "rawType": "float64",
         "type": "float"
        },
        {
         "name": "texture_mean",
         "rawType": "float64",
         "type": "float"
        },
        {
         "name": "perimeter_mean",
         "rawType": "float64",
         "type": "float"
        },
        {
         "name": "area_mean",
         "rawType": "float64",
         "type": "float"
        },
        {
         "name": "smoothness_mean",
         "rawType": "float64",
         "type": "float"
        },
        {
         "name": "compactness_mean",
         "rawType": "float64",
         "type": "float"
        },
        {
         "name": "concavity_mean",
         "rawType": "float64",
         "type": "float"
        },
        {
         "name": "concave points_mean",
         "rawType": "float64",
         "type": "float"
        },
        {
         "name": "symmetry_mean",
         "rawType": "float64",
         "type": "float"
        },
        {
         "name": "fractal_dimension_mean",
         "rawType": "float64",
         "type": "float"
        },
        {
         "name": "Unnamed: 32",
         "rawType": "float64",
         "type": "float"
        }
       ],
       "ref": "922ec40d-219d-4509-affd-f37fa34ba8db",
       "rows": [
        [
         "0",
         "842302",
         "M",
         "17.99",
         "10.38",
         "122.8",
         "1001.0",
         "0.1184",
         "0.2776",
         "0.3001",
         "0.1471",
         "0.2419",
         "0.07871",
         null
        ],
        [
         "1",
         "842517",
         "M",
         "20.57",
         "17.77",
         "132.9",
         "1326.0",
         "0.08474",
         "0.07864",
         "0.0869",
         "0.07017",
         "0.1812",
         "0.05667",
         null
        ],
        [
         "2",
         "84300903",
         "M",
         "19.69",
         "21.25",
         "130.0",
         "1203.0",
         "0.1096",
         "0.1599",
         "0.1974",
         "0.1279",
         "0.2069",
         "0.05999",
         null
        ],
        [
         "3",
         "84348301",
         "M",
         "11.42",
         "20.38",
         "77.58",
         "386.1",
         "0.1425",
         "0.2839",
         "0.2414",
         "0.1052",
         "0.2597",
         "0.09744",
         null
        ],
        [
         "4",
         "84358402",
         "M",
         "20.29",
         "14.34",
         "135.1",
         "1297.0",
         "0.1003",
         "0.1328",
         "0.198",
         "0.1043",
         "0.1809",
         "0.05883",
         null
        ],
        [
         "5",
         "843786",
         "M",
         "12.45",
         "15.7",
         "82.57",
         "477.1",
         "0.1278",
         "0.17",
         "0.1578",
         "0.08089",
         "0.2087",
         "0.07613",
         null
        ],
        [
         "6",
         "844359",
         "M",
         "18.25",
         "19.98",
         "119.6",
         "1040.0",
         "0.09463",
         "0.109",
         "0.1127",
         "0.074",
         "0.1794",
         "0.05742",
         null
        ],
        [
         "7",
         "84458202",
         "M",
         "13.71",
         "20.83",
         "90.2",
         "577.9",
         "0.1189",
         "0.1645",
         "0.09366",
         "0.05985",
         "0.2196",
         "0.07451",
         null
        ],
        [
         "8",
         "844981",
         "M",
         "13.0",
         "21.82",
         "87.5",
         "519.8",
         "0.1273",
         "0.1932",
         "0.1859",
         "0.09353",
         "0.235",
         "0.07389",
         null
        ],
        [
         "9",
         "84501001",
         "M",
         "12.46",
         "24.04",
         "83.97",
         "475.9",
         "0.1186",
         "0.2396",
         "0.2273",
         "0.08543",
         "0.203",
         "0.08243",
         null
        ],
        [
         "10",
         "845636",
         "M",
         "16.02",
         "23.24",
         "102.7",
         "797.8",
         "0.08206",
         "0.06669",
         "0.03299",
         "0.03323",
         "0.1528",
         "0.05697",
         null
        ],
        [
         "11",
         "84610002",
         "M",
         "15.78",
         "17.89",
         "103.6",
         "781.0",
         "0.0971",
         "0.1292",
         "0.09954",
         "0.06606",
         "0.1842",
         "0.06082",
         null
        ],
        [
         "12",
         "846226",
         "M",
         "19.17",
         "24.8",
         "132.4",
         "1123.0",
         "0.0974",
         "0.2458",
         "0.2065",
         "0.1118",
         "0.2397",
         "0.078",
         null
        ],
        [
         "13",
         "846381",
         "M",
         "15.85",
         "23.95",
         "103.7",
         "782.7",
         "0.08401",
         "0.1002",
         "0.09938",
         "0.05364",
         "0.1847",
         "0.05338",
         null
        ],
        [
         "14",
         "84667401",
         "M",
         "13.73",
         "22.61",
         "93.6",
         "578.3",
         "0.1131",
         "0.2293",
         "0.2128",
         "0.08025",
         "0.2069",
         "0.07682",
         null
        ],
        [
         "15",
         "84799002",
         "M",
         "14.54",
         "27.54",
         "96.73",
         "658.8",
         "0.1139",
         "0.1595",
         "0.1639",
         "0.07364",
         "0.2303",
         "0.07077",
         null
        ],
        [
         "16",
         "848406",
         "M",
         "14.68",
         "20.13",
         "94.74",
         "684.5",
         "0.09867",
         "0.072",
         "0.07395",
         "0.05259",
         "0.1586",
         "0.05922",
         null
        ],
        [
         "17",
         "84862001",
         "M",
         "16.13",
         "20.68",
         "108.1",
         "798.8",
         "0.117",
         "0.2022",
         "0.1722",
         "0.1028",
         "0.2164",
         "0.07356",
         null
        ],
        [
         "18",
         "849014",
         "M",
         "19.81",
         "22.15",
         "130.0",
         "1260.0",
         "0.09831",
         "0.1027",
         "0.1479",
         "0.09498",
         "0.1582",
         "0.05395",
         null
        ],
        [
         "19",
         "8510426",
         "B",
         "13.54",
         "14.36",
         "87.46",
         "566.3",
         "0.09779",
         "0.08129",
         "0.06664",
         "0.04781",
         "0.1885",
         "0.05766",
         null
        ],
        [
         "20",
         "8510653",
         "B",
         "13.08",
         "15.71",
         "85.63",
         "520.0",
         "0.1075",
         "0.127",
         "0.04568",
         "0.0311",
         "0.1967",
         "0.06811",
         null
        ],
        [
         "21",
         "8510824",
         "B",
         "9.504",
         "12.44",
         "60.34",
         "273.9",
         "0.1024",
         "0.06492",
         "0.02956",
         "0.02076",
         "0.1815",
         "0.06905",
         null
        ],
        [
         "22",
         "8511133",
         "M",
         "15.34",
         "14.26",
         "102.5",
         "704.4",
         "0.1073",
         "0.2135",
         "0.2077",
         "0.09756",
         "0.2521",
         "0.07032",
         null
        ],
        [
         "23",
         "851509",
         "M",
         "21.16",
         "23.04",
         "137.2",
         "1404.0",
         "0.09428",
         "0.1022",
         "0.1097",
         "0.08632",
         "0.1769",
         "0.05278",
         null
        ],
        [
         "24",
         "852552",
         "M",
         "16.65",
         "21.38",
         "110.0",
         "904.6",
         "0.1121",
         "0.1457",
         "0.1525",
         "0.0917",
         "0.1995",
         "0.0633",
         null
        ],
        [
         "25",
         "852631",
         "M",
         "17.14",
         "16.4",
         "116.0",
         "912.7",
         "0.1186",
         "0.2276",
         "0.2229",
         "0.1401",
         "0.304",
         "0.07413",
         null
        ],
        [
         "26",
         "852763",
         "M",
         "14.58",
         "21.53",
         "97.41",
         "644.8",
         "0.1054",
         "0.1868",
         "0.1425",
         "0.08783",
         "0.2252",
         "0.06924",
         null
        ],
        [
         "27",
         "852781",
         "M",
         "18.61",
         "20.25",
         "122.1",
         "1094.0",
         "0.0944",
         "0.1066",
         "0.149",
         "0.07731",
         "0.1697",
         "0.05699",
         null
        ],
        [
         "28",
         "852973",
         "M",
         "15.3",
         "25.27",
         "102.4",
         "732.4",
         "0.1082",
         "0.1697",
         "0.1683",
         "0.08751",
         "0.1926",
         "0.0654",
         null
        ],
        [
         "29",
         "853201",
         "M",
         "17.57",
         "15.05",
         "115.0",
         "955.1",
         "0.09847",
         "0.1157",
         "0.09875",
         "0.07953",
         "0.1739",
         "0.06149",
         null
        ],
        [
         "30",
         "853401",
         "M",
         "18.63",
         "25.11",
         "124.8",
         "1088.0",
         "0.1064",
         "0.1887",
         "0.2319",
         "0.1244",
         "0.2183",
         "0.06197",
         null
        ],
        [
         "31",
         "853612",
         "M",
         "11.84",
         "18.7",
         "77.93",
         "440.6",
         "0.1109",
         "0.1516",
         "0.1218",
         "0.05182",
         "0.2301",
         "0.07799",
         null
        ],
        [
         "32",
         "85382601",
         "M",
         "17.02",
         "23.98",
         "112.8",
         "899.3",
         "0.1197",
         "0.1496",
         "0.2417",
         "0.1203",
         "0.2248",
         "0.06382",
         null
        ],
        [
         "33",
         "854002",
         "M",
         "19.27",
         "26.47",
         "127.9",
         "1162.0",
         "0.09401",
         "0.1719",
         "0.1657",
         "0.07593",
         "0.1853",
         "0.06261",
         null
        ],
        [
         "34",
         "854039",
         "M",
         "16.13",
         "17.88",
         "107.0",
         "807.2",
         "0.104",
         "0.1559",
         "0.1354",
         "0.07752",
         "0.1998",
         "0.06515",
         null
        ],
        [
         "35",
         "854253",
         "M",
         "16.74",
         "21.59",
         "110.1",
         "869.5",
         "0.0961",
         "0.1336",
         "0.1348",
         "0.06018",
         "0.1896",
         "0.05656",
         null
        ],
        [
         "36",
         "854268",
         "M",
         "14.25",
         "21.72",
         "93.63",
         "633.0",
         "0.09823",
         "0.1098",
         "0.1319",
         "0.05598",
         "0.1885",
         "0.06125",
         null
        ],
        [
         "37",
         "854941",
         "B",
         "13.03",
         "18.42",
         "82.61",
         "523.8",
         "0.08983",
         "0.03766",
         "0.02562",
         "0.02923",
         "0.1467",
         "0.05863",
         null
        ],
        [
         "38",
         "855133",
         "M",
         "14.99",
         "25.2",
         "95.54",
         "698.8",
         "0.09387",
         "0.05131",
         "0.02398",
         "0.02899",
         "0.1565",
         "0.05504",
         null
        ],
        [
         "39",
         "855138",
         "M",
         "13.48",
         "20.82",
         "88.4",
         "559.2",
         "0.1016",
         "0.1255",
         "0.1063",
         "0.05439",
         "0.172",
         "0.06419",
         null
        ],
        [
         "40",
         "855167",
         "M",
         "13.44",
         "21.58",
         "86.18",
         "563.0",
         "0.08162",
         "0.06031",
         "0.0311",
         "0.02031",
         "0.1784",
         "0.05587",
         null
        ],
        [
         "41",
         "855563",
         "M",
         "10.95",
         "21.35",
         "71.9",
         "371.1",
         "0.1227",
         "0.1218",
         "0.1044",
         "0.05669",
         "0.1895",
         "0.0687",
         null
        ],
        [
         "42",
         "855625",
         "M",
         "19.07",
         "24.81",
         "128.3",
         "1104.0",
         "0.09081",
         "0.219",
         "0.2107",
         "0.09961",
         "0.231",
         "0.06343",
         null
        ],
        [
         "43",
         "856106",
         "M",
         "13.28",
         "20.28",
         "87.32",
         "545.2",
         "0.1041",
         "0.1436",
         "0.09847",
         "0.06158",
         "0.1974",
         "0.06782",
         null
        ],
        [
         "44",
         "85638502",
         "M",
         "13.17",
         "21.81",
         "85.42",
         "531.5",
         "0.09714",
         "0.1047",
         "0.08259",
         "0.05252",
         "0.1746",
         "0.06177",
         null
        ],
        [
         "45",
         "857010",
         "M",
         "18.65",
         "17.6",
         "123.7",
         "1076.0",
         "0.1099",
         "0.1686",
         "0.1974",
         "0.1009",
         "0.1907",
         "0.06049",
         null
        ],
        [
         "46",
         "85713702",
         "B",
         "8.196",
         "16.84",
         "51.71",
         "201.9",
         "0.086",
         "0.05943",
         "0.01588",
         "0.005917",
         "0.1769",
         "0.06503",
         null
        ],
        [
         "47",
         "85715",
         "M",
         "13.17",
         "18.66",
         "85.98",
         "534.6",
         "0.1158",
         "0.1231",
         "0.1226",
         "0.0734",
         "0.2128",
         "0.06777",
         null
        ],
        [
         "48",
         "857155",
         "B",
         "12.05",
         "14.63",
         "78.04",
         "449.3",
         "0.1031",
         "0.09092",
         "0.06592",
         "0.02749",
         "0.1675",
         "0.06043",
         null
        ],
        [
         "49",
         "857156",
         "B",
         "13.49",
         "22.3",
         "86.91",
         "561.0",
         "0.08752",
         "0.07698",
         "0.04751",
         "0.03384",
         "0.1809",
         "0.05718",
         null
        ]
       ],
       "shape": {
        "columns": 13,
        "rows": 569
       }
      },
      "text/html": [
       "<div>\n",
       "<style scoped>\n",
       "    .dataframe tbody tr th:only-of-type {\n",
       "        vertical-align: middle;\n",
       "    }\n",
       "\n",
       "    .dataframe tbody tr th {\n",
       "        vertical-align: top;\n",
       "    }\n",
       "\n",
       "    .dataframe thead th {\n",
       "        text-align: right;\n",
       "    }\n",
       "</style>\n",
       "<table border=\"1\" class=\"dataframe\">\n",
       "  <thead>\n",
       "    <tr style=\"text-align: right;\">\n",
       "      <th></th>\n",
       "      <th>id</th>\n",
       "      <th>diagnosis</th>\n",
       "      <th>radius_mean</th>\n",
       "      <th>texture_mean</th>\n",
       "      <th>perimeter_mean</th>\n",
       "      <th>area_mean</th>\n",
       "      <th>smoothness_mean</th>\n",
       "      <th>compactness_mean</th>\n",
       "      <th>concavity_mean</th>\n",
       "      <th>concave points_mean</th>\n",
       "      <th>symmetry_mean</th>\n",
       "      <th>fractal_dimension_mean</th>\n",
       "      <th>Unnamed: 32</th>\n",
       "    </tr>\n",
       "  </thead>\n",
       "  <tbody>\n",
       "    <tr>\n",
       "      <th>0</th>\n",
       "      <td>842302</td>\n",
       "      <td>M</td>\n",
       "      <td>17.99</td>\n",
       "      <td>10.38</td>\n",
       "      <td>122.80</td>\n",
       "      <td>1001.0</td>\n",
       "      <td>0.11840</td>\n",
       "      <td>0.27760</td>\n",
       "      <td>0.30010</td>\n",
       "      <td>0.14710</td>\n",
       "      <td>0.2419</td>\n",
       "      <td>0.07871</td>\n",
       "      <td>NaN</td>\n",
       "    </tr>\n",
       "    <tr>\n",
       "      <th>1</th>\n",
       "      <td>842517</td>\n",
       "      <td>M</td>\n",
       "      <td>20.57</td>\n",
       "      <td>17.77</td>\n",
       "      <td>132.90</td>\n",
       "      <td>1326.0</td>\n",
       "      <td>0.08474</td>\n",
       "      <td>0.07864</td>\n",
       "      <td>0.08690</td>\n",
       "      <td>0.07017</td>\n",
       "      <td>0.1812</td>\n",
       "      <td>0.05667</td>\n",
       "      <td>NaN</td>\n",
       "    </tr>\n",
       "    <tr>\n",
       "      <th>2</th>\n",
       "      <td>84300903</td>\n",
       "      <td>M</td>\n",
       "      <td>19.69</td>\n",
       "      <td>21.25</td>\n",
       "      <td>130.00</td>\n",
       "      <td>1203.0</td>\n",
       "      <td>0.10960</td>\n",
       "      <td>0.15990</td>\n",
       "      <td>0.19740</td>\n",
       "      <td>0.12790</td>\n",
       "      <td>0.2069</td>\n",
       "      <td>0.05999</td>\n",
       "      <td>NaN</td>\n",
       "    </tr>\n",
       "    <tr>\n",
       "      <th>3</th>\n",
       "      <td>84348301</td>\n",
       "      <td>M</td>\n",
       "      <td>11.42</td>\n",
       "      <td>20.38</td>\n",
       "      <td>77.58</td>\n",
       "      <td>386.1</td>\n",
       "      <td>0.14250</td>\n",
       "      <td>0.28390</td>\n",
       "      <td>0.24140</td>\n",
       "      <td>0.10520</td>\n",
       "      <td>0.2597</td>\n",
       "      <td>0.09744</td>\n",
       "      <td>NaN</td>\n",
       "    </tr>\n",
       "    <tr>\n",
       "      <th>4</th>\n",
       "      <td>84358402</td>\n",
       "      <td>M</td>\n",
       "      <td>20.29</td>\n",
       "      <td>14.34</td>\n",
       "      <td>135.10</td>\n",
       "      <td>1297.0</td>\n",
       "      <td>0.10030</td>\n",
       "      <td>0.13280</td>\n",
       "      <td>0.19800</td>\n",
       "      <td>0.10430</td>\n",
       "      <td>0.1809</td>\n",
       "      <td>0.05883</td>\n",
       "      <td>NaN</td>\n",
       "    </tr>\n",
       "    <tr>\n",
       "      <th>...</th>\n",
       "      <td>...</td>\n",
       "      <td>...</td>\n",
       "      <td>...</td>\n",
       "      <td>...</td>\n",
       "      <td>...</td>\n",
       "      <td>...</td>\n",
       "      <td>...</td>\n",
       "      <td>...</td>\n",
       "      <td>...</td>\n",
       "      <td>...</td>\n",
       "      <td>...</td>\n",
       "      <td>...</td>\n",
       "      <td>...</td>\n",
       "    </tr>\n",
       "    <tr>\n",
       "      <th>564</th>\n",
       "      <td>926424</td>\n",
       "      <td>M</td>\n",
       "      <td>21.56</td>\n",
       "      <td>22.39</td>\n",
       "      <td>142.00</td>\n",
       "      <td>1479.0</td>\n",
       "      <td>0.11100</td>\n",
       "      <td>0.11590</td>\n",
       "      <td>0.24390</td>\n",
       "      <td>0.13890</td>\n",
       "      <td>0.1726</td>\n",
       "      <td>0.05623</td>\n",
       "      <td>NaN</td>\n",
       "    </tr>\n",
       "    <tr>\n",
       "      <th>565</th>\n",
       "      <td>926682</td>\n",
       "      <td>M</td>\n",
       "      <td>20.13</td>\n",
       "      <td>28.25</td>\n",
       "      <td>131.20</td>\n",
       "      <td>1261.0</td>\n",
       "      <td>0.09780</td>\n",
       "      <td>0.10340</td>\n",
       "      <td>0.14400</td>\n",
       "      <td>0.09791</td>\n",
       "      <td>0.1752</td>\n",
       "      <td>0.05533</td>\n",
       "      <td>NaN</td>\n",
       "    </tr>\n",
       "    <tr>\n",
       "      <th>566</th>\n",
       "      <td>926954</td>\n",
       "      <td>M</td>\n",
       "      <td>16.60</td>\n",
       "      <td>28.08</td>\n",
       "      <td>108.30</td>\n",
       "      <td>858.1</td>\n",
       "      <td>0.08455</td>\n",
       "      <td>0.10230</td>\n",
       "      <td>0.09251</td>\n",
       "      <td>0.05302</td>\n",
       "      <td>0.1590</td>\n",
       "      <td>0.05648</td>\n",
       "      <td>NaN</td>\n",
       "    </tr>\n",
       "    <tr>\n",
       "      <th>567</th>\n",
       "      <td>927241</td>\n",
       "      <td>M</td>\n",
       "      <td>20.60</td>\n",
       "      <td>29.33</td>\n",
       "      <td>140.10</td>\n",
       "      <td>1265.0</td>\n",
       "      <td>0.11780</td>\n",
       "      <td>0.27700</td>\n",
       "      <td>0.35140</td>\n",
       "      <td>0.15200</td>\n",
       "      <td>0.2397</td>\n",
       "      <td>0.07016</td>\n",
       "      <td>NaN</td>\n",
       "    </tr>\n",
       "    <tr>\n",
       "      <th>568</th>\n",
       "      <td>92751</td>\n",
       "      <td>B</td>\n",
       "      <td>7.76</td>\n",
       "      <td>24.54</td>\n",
       "      <td>47.92</td>\n",
       "      <td>181.0</td>\n",
       "      <td>0.05263</td>\n",
       "      <td>0.04362</td>\n",
       "      <td>0.00000</td>\n",
       "      <td>0.00000</td>\n",
       "      <td>0.1587</td>\n",
       "      <td>0.05884</td>\n",
       "      <td>NaN</td>\n",
       "    </tr>\n",
       "  </tbody>\n",
       "</table>\n",
       "<p>569 rows × 13 columns</p>\n",
       "</div>"
      ],
      "text/plain": [
       "           id diagnosis  radius_mean  texture_mean  perimeter_mean  area_mean  \\\n",
       "0      842302         M        17.99         10.38          122.80     1001.0   \n",
       "1      842517         M        20.57         17.77          132.90     1326.0   \n",
       "2    84300903         M        19.69         21.25          130.00     1203.0   \n",
       "3    84348301         M        11.42         20.38           77.58      386.1   \n",
       "4    84358402         M        20.29         14.34          135.10     1297.0   \n",
       "..        ...       ...          ...           ...             ...        ...   \n",
       "564    926424         M        21.56         22.39          142.00     1479.0   \n",
       "565    926682         M        20.13         28.25          131.20     1261.0   \n",
       "566    926954         M        16.60         28.08          108.30      858.1   \n",
       "567    927241         M        20.60         29.33          140.10     1265.0   \n",
       "568     92751         B         7.76         24.54           47.92      181.0   \n",
       "\n",
       "     smoothness_mean  compactness_mean  concavity_mean  concave points_mean  \\\n",
       "0            0.11840           0.27760         0.30010              0.14710   \n",
       "1            0.08474           0.07864         0.08690              0.07017   \n",
       "2            0.10960           0.15990         0.19740              0.12790   \n",
       "3            0.14250           0.28390         0.24140              0.10520   \n",
       "4            0.10030           0.13280         0.19800              0.10430   \n",
       "..               ...               ...             ...                  ...   \n",
       "564          0.11100           0.11590         0.24390              0.13890   \n",
       "565          0.09780           0.10340         0.14400              0.09791   \n",
       "566          0.08455           0.10230         0.09251              0.05302   \n",
       "567          0.11780           0.27700         0.35140              0.15200   \n",
       "568          0.05263           0.04362         0.00000              0.00000   \n",
       "\n",
       "     symmetry_mean  fractal_dimension_mean  Unnamed: 32  \n",
       "0           0.2419                 0.07871          NaN  \n",
       "1           0.1812                 0.05667          NaN  \n",
       "2           0.2069                 0.05999          NaN  \n",
       "3           0.2597                 0.09744          NaN  \n",
       "4           0.1809                 0.05883          NaN  \n",
       "..             ...                     ...          ...  \n",
       "564         0.1726                 0.05623          NaN  \n",
       "565         0.1752                 0.05533          NaN  \n",
       "566         0.1590                 0.05648          NaN  \n",
       "567         0.2397                 0.07016          NaN  \n",
       "568         0.1587                 0.05884          NaN  \n",
       "\n",
       "[569 rows x 13 columns]"
      ]
     },
     "execution_count": 49,
     "metadata": {},
     "output_type": "execute_result"
    }
   ],
   "source": [
    "df"
   ]
  },
  {
   "cell_type": "code",
   "execution_count": 50,
   "id": "4b8a69e8-01b3-4bb6-aace-a78c0c81af44",
   "metadata": {},
   "outputs": [],
   "source": [
    "def pre_process_data(df, one_hot_encode = False):\n",
    "    # Use sklearn Imputers to fill in the categorical and numerical columns\n",
    "    simple_median = SimpleImputer(strategy='median')\n",
    "    simple_most_freq = SimpleImputer(strategy='most_frequent')\n",
    "\n",
    "    num_cols = df.select_dtypes(include=np.number).columns # numerical data\n",
    "    cat_cols = df.select_dtypes(include=object).columns # categorical data\n",
    "\n",
    "    # Handle missing values\n",
    "    df[num_cols] = simple_median.fit_transform(df[num_cols])\n",
    "    df[cat_cols] = simple_most_freq.fit_transform(df[cat_cols])\n",
    "\n",
    "    # Replace infinite values with NaN and then impute\n",
    "    df = df.replace([np.inf, -np.inf], np.nan)\n",
    "    df[num_cols] = simple_median.fit_transform(df[num_cols])\n",
    "\n",
    "    if one_hot_encode:\n",
    "        O_encoder = OrdinalEncoder()\n",
    "        df[cat_cols]= O_encoder.fit_transform(df[cat_cols])\n",
    "\n",
    "    return df"
   ]
  },
  {
   "cell_type": "code",
   "execution_count": 51,
   "id": "ff47867d-159d-4c30-8bd2-13646c2b83b7",
   "metadata": {},
   "outputs": [],
   "source": [
    "def get_test_train(df, test_size = 0.2, random_state = True):\n",
    "    target = \"diagnosis\"\n",
    "    X = df.drop(target, axis=1)\n",
    "\n",
    "    # Robust scaling to handle outliers\n",
    "    scaler = preprocessing.RobustScaler().fit(X)\n",
    "    X = scaler.transform(X)\n",
    "\n",
    "    # Additional check for any remaining infinite values\n",
    "    X = np.nan_to_num(X, nan=0.0, posinf=0.0, neginf=0.0)\n",
    "\n",
    "    y = df[target]\n",
    "    if random_state is True:\n",
    "        X_train, X_test, y_train, y_test = train_test_split(X,y,test_size=test_size)\n",
    "    else:\n",
    "        X_train, X_test, y_train, y_test = train_test_split(X,y,test_size=test_size, random_state=42)\n",
    "    return X_train, X_test, y_train, y_test"
   ]
  },
  {
   "cell_type": "markdown",
   "id": "5a3c1c2a-a4d4-46af-8a92-3d0043a549ef",
   "metadata": {},
   "source": [
    "## Start Work Here"
   ]
  },
  {
   "cell_type": "markdown",
   "id": "1af1915f-5e44-438e-9cc1-b70da7029a64",
   "metadata": {},
   "source": [
    "Replace lreg with LogisticRegression"
   ]
  },
  {
   "cell_type": "code",
   "execution_count": 89,
   "id": "5dd4b5f4-62c6-4e00-a1ad-229c91c98777",
   "metadata": {},
   "outputs": [],
   "source": [
    "# These lines would load the data locally\n",
    "data_root = \"../data\"\n",
    "filename = \"cancer_data_cleaned.csv\"\n",
    "filepath = os.path.join(data_root, filename)\n",
    "\n",
    "# Perform a logistic regression\n",
    "df = get_data(filepath)\n",
    "df = pre_process_data(df, one_hot_encode = True)\n",
    "X_train, X_test, y_train, y_test = get_test_train(df, random_state = True)\n",
    "\n",
    "# Create logistic regression with liblinear solver\n",
    "lreg = LogisticRegression(\n",
    "    C=1.0,\n",
    "    solver='liblinear',  # Different solver that might be more stable\n",
    "    max_iter=10000,\n",
    "    tol=1e-4\n",
    ")\n",
    "model = lreg.fit(X_train, y_train)"
   ]
  },
  {
   "cell_type": "code",
   "execution_count": 90,
   "id": "ce1aee27",
   "metadata": {},
   "outputs": [
    {
     "data": {
      "text/plain": [
       "array([[ 1.01687947e-03, -5.14705882e-02,  3.01953819e-01, ...,\n",
       "        -3.90016763e-01, -2.33727811e-01, -3.15914489e-01],\n",
       "       [ 9.70058199e-01, -3.35784314e-01, -5.66607460e-01, ...,\n",
       "        -2.76960328e-01,  8.49112426e-01, -2.20902613e-01],\n",
       "       [-6.35216079e-03, -5.93137255e-01,  4.45825933e-01, ...,\n",
       "         4.31924008e-01,  3.04733728e-01,  8.50356295e-01],\n",
       "       ...,\n",
       "       [ 1.03314539e+00, -3.18627451e-02,  2.29129663e-01, ...,\n",
       "        -9.62935370e-02, -5.65088757e-01,  3.30166271e-01],\n",
       "       [-6.40566089e-03,  2.69607843e-02,  3.51687389e-01, ...,\n",
       "         3.89085491e-01, -2.13017751e-01,  3.14726841e-01],\n",
       "       [ 1.03318303e+00,  1.03676471e+00,  7.97513321e-01, ...,\n",
       "         1.24231701e+00, -2.84023669e-01,  1.44299287e+00]],\n",
       "      shape=(114, 11))"
      ]
     },
     "execution_count": 90,
     "metadata": {},
     "output_type": "execute_result"
    }
   ],
   "source": [
    "X_test"
   ]
  },
  {
   "cell_type": "markdown",
   "id": "181f83cd-8046-4280-83c5-fa0cbc232b87",
   "metadata": {},
   "source": [
    "Get the model score"
   ]
  },
  {
   "cell_type": "code",
   "execution_count": 98,
   "id": "9730f9d7-6805-4f7d-b2e8-0fe4b08ed0f1",
   "metadata": {},
   "outputs": [
    {
     "name": "stdout",
     "output_type": "stream",
     "text": [
      "Prediction for first sample: 0.0\n",
      "Train accuracy  = 0.954\n",
      "Test  accuracy  = 0.912\n"
     ]
    },
    {
     "name": "stderr",
     "output_type": "stream",
     "text": [
      "/Users/pewhite/miniconda3/envs/ml_course/lib/python3.11/site-packages/sklearn/utils/extmath.py:203: RuntimeWarning: divide by zero encountered in matmul\n",
      "  ret = a @ b\n",
      "/Users/pewhite/miniconda3/envs/ml_course/lib/python3.11/site-packages/sklearn/utils/extmath.py:203: RuntimeWarning: overflow encountered in matmul\n",
      "  ret = a @ b\n",
      "/Users/pewhite/miniconda3/envs/ml_course/lib/python3.11/site-packages/sklearn/utils/extmath.py:203: RuntimeWarning: invalid value encountered in matmul\n",
      "  ret = a @ b\n",
      "/Users/pewhite/miniconda3/envs/ml_course/lib/python3.11/site-packages/sklearn/utils/extmath.py:203: RuntimeWarning: divide by zero encountered in matmul\n",
      "  ret = a @ b\n",
      "/Users/pewhite/miniconda3/envs/ml_course/lib/python3.11/site-packages/sklearn/utils/extmath.py:203: RuntimeWarning: overflow encountered in matmul\n",
      "  ret = a @ b\n",
      "/Users/pewhite/miniconda3/envs/ml_course/lib/python3.11/site-packages/sklearn/utils/extmath.py:203: RuntimeWarning: invalid value encountered in matmul\n",
      "  ret = a @ b\n"
     ]
    }
   ],
   "source": [
    "pred = lreg.predict(X_test[0:1])\n",
    "print(\"Prediction for first sample:\", pred[0])\n",
    "print(f\"Train accuracy  = {model.score(X_train, y_train):.3}\")\n",
    "print(f\"Test  accuracy  = {model.score(X_test, y_test):.3}\")"
   ]
  },
  {
   "cell_type": "code",
   "execution_count": 99,
   "id": "31e12c72",
   "metadata": {},
   "outputs": [
    {
     "name": "stdout",
     "output_type": "stream",
     "text": [
      "Model Coefficients (sorted by absolute value):\n",
      "                   Feature  Coefficient  Abs_Coefficient\n",
      "2             texture_mean     1.636713         1.636713\n",
      "4                area_mean     1.572632         1.572632\n",
      "8      concave points_mean     1.327526         1.327526\n",
      "1              radius_mean     1.268614         1.268614\n",
      "5          smoothness_mean     1.183048         1.183048\n",
      "7           concavity_mean     1.172168         1.172168\n",
      "3           perimeter_mean     1.118497         1.118497\n",
      "9            symmetry_mean     0.756705         0.756705\n",
      "10  fractal_dimension_mean    -0.572531         0.572531\n",
      "6         compactness_mean     0.055425         0.055425\n",
      "0                       id    -0.020302         0.020302\n",
      "\n",
      "Intercept: -2.1773708072712448\n"
     ]
    }
   ],
   "source": [
    "# Get feature names from the original dataframe (excluding the target column)\n",
    "feature_names = df.drop('diagnosis', axis=1).columns\n",
    "\n",
    "# Create a DataFrame with feature names and their corresponding coefficients\n",
    "coef_df = pd.DataFrame({\n",
    "    'Feature': feature_names,\n",
    "    'Coefficient': lreg.coef_[0],\n",
    "    'Abs_Coefficient': abs(lreg.coef_[0])\n",
    "}).sort_values('Abs_Coefficient', ascending=False)\n",
    "\n",
    "print(\"Model Coefficients (sorted by absolute value):\")\n",
    "print(coef_df)\n",
    "\n",
    "print(\"\\nIntercept:\", lreg.intercept_[0])"
   ]
  },
  {
   "cell_type": "markdown",
   "id": "d6a42e13-5479-40af-ac2f-d20ada740acf",
   "metadata": {},
   "source": [
    "Quick snapshot of the confusion matrix (rows are truth  0/1 and cols are predictions 0/1). You can shift-tab on the parens the see the method signature)"
   ]
  },
  {
   "cell_type": "code",
   "execution_count": 93,
   "id": "1e090a27-f2ee-4bff-9e8b-585b596a6e63",
   "metadata": {},
   "outputs": [
    {
     "name": "stderr",
     "output_type": "stream",
     "text": [
      "/Users/pewhite/miniconda3/envs/ml_course/lib/python3.11/site-packages/sklearn/utils/extmath.py:203: RuntimeWarning: divide by zero encountered in matmul\n",
      "  ret = a @ b\n",
      "/Users/pewhite/miniconda3/envs/ml_course/lib/python3.11/site-packages/sklearn/utils/extmath.py:203: RuntimeWarning: overflow encountered in matmul\n",
      "  ret = a @ b\n",
      "/Users/pewhite/miniconda3/envs/ml_course/lib/python3.11/site-packages/sklearn/utils/extmath.py:203: RuntimeWarning: invalid value encountered in matmul\n",
      "  ret = a @ b\n"
     ]
    },
    {
     "data": {
      "text/plain": [
       "array([[65,  4],\n",
       "       [ 6, 39]])"
      ]
     },
     "execution_count": 93,
     "metadata": {},
     "output_type": "execute_result"
    }
   ],
   "source": [
    "confusion_matrix(y_pred = model.predict(X_test), y_true = y_test)"
   ]
  },
  {
   "cell_type": "markdown",
   "id": "2c8e10ab-5201-4902-94d8-cce010c2ff1a",
   "metadata": {},
   "source": [
    "We want to get the probabilites from X-test, NOT the classifications. So we want raw values in (0,1). Edit this cell"
   ]
  },
  {
   "cell_type": "code",
   "execution_count": 94,
   "id": "70d3d0ef-ed32-4760-ab88-2c08ad084104",
   "metadata": {},
   "outputs": [
    {
     "name": "stderr",
     "output_type": "stream",
     "text": [
      "/Users/pewhite/miniconda3/envs/ml_course/lib/python3.11/site-packages/sklearn/utils/extmath.py:203: RuntimeWarning: divide by zero encountered in matmul\n",
      "  ret = a @ b\n",
      "/Users/pewhite/miniconda3/envs/ml_course/lib/python3.11/site-packages/sklearn/utils/extmath.py:203: RuntimeWarning: overflow encountered in matmul\n",
      "  ret = a @ b\n",
      "/Users/pewhite/miniconda3/envs/ml_course/lib/python3.11/site-packages/sklearn/utils/extmath.py:203: RuntimeWarning: invalid value encountered in matmul\n",
      "  ret = a @ b\n"
     ]
    }
   ],
   "source": [
    "# Get predicted probabilities for the test data\n",
    "# You need to **CHANGE THIS CODE** and return only a vector of the probabilities for class = 1, which is the second column\n",
    "y_prob = model.predict_proba(X_test)[:,1]"
   ]
  },
  {
   "cell_type": "markdown",
   "id": "9b78110b-0b92-4f5f-8612-20492189843c",
   "metadata": {},
   "source": [
    "If we sort y_prob and y_test in the same order, then we can make a reasonable plot"
   ]
  },
  {
   "cell_type": "code",
   "execution_count": 95,
   "id": "e3fd248e-3fd1-4444-bf99-95f5854afb7f",
   "metadata": {},
   "outputs": [],
   "source": [
    "# Sort the data for plotting\n",
    "sorted_indices = np.argsort(y_prob)  ## argsort returns the indices ordered by the key values, so we can copy the sort order around\n",
    "sorted_y_prob = y_prob[sorted_indices]\n",
    "sorted_y_test = np.array(y_test)[sorted_indices]"
   ]
  },
  {
   "cell_type": "markdown",
   "id": "98f68329-3661-4ddf-9116-3dbdbc6df4cc",
   "metadata": {},
   "source": [
    "Print the vector of sorted_y_prob and of sorted_y_test to verify the are generally increasing from 0 to 1"
   ]
  },
  {
   "cell_type": "code",
   "execution_count": 96,
   "id": "06778ca8-1b1e-469d-8589-96a68d373cd6",
   "metadata": {},
   "outputs": [
    {
     "name": "stdout",
     "output_type": "stream",
     "text": [
      "[3.70049861e-05 1.13345780e-04 1.57821684e-04 1.99111694e-04\n",
      " 2.56142663e-04 5.09224856e-04 6.11149678e-04 6.44653274e-04\n",
      " 7.12425834e-04 1.52442583e-03 1.70695620e-03 1.74340598e-03\n",
      " 1.92272428e-03 2.15930014e-03 2.47002039e-03 2.74297407e-03\n",
      " 2.75913741e-03 4.21580908e-03 4.55374907e-03 4.77093781e-03\n",
      " 5.24762144e-03 5.43758287e-03 5.80929587e-03 6.23347850e-03\n",
      " 6.41023202e-03 8.24133406e-03 1.03131632e-02 1.14331798e-02\n",
      " 1.26875063e-02 1.27915913e-02 1.28280859e-02 1.36392840e-02\n",
      " 1.56584458e-02 1.60249062e-02 1.60430359e-02 1.66860012e-02\n",
      " 1.83633019e-02 1.96284860e-02 2.09126376e-02 2.20866381e-02\n",
      " 2.56793184e-02 2.57828382e-02 2.77986326e-02 2.86142357e-02\n",
      " 2.98775344e-02 3.22777504e-02 3.45093251e-02 3.51471996e-02\n",
      " 3.89416840e-02 4.20127110e-02 4.54293762e-02 4.78571743e-02\n",
      " 4.96738583e-02 5.22706260e-02 5.86722668e-02 5.89833552e-02\n",
      " 7.31814983e-02 8.62073124e-02 8.80361194e-02 1.83842632e-01\n",
      " 1.84088372e-01 1.87346214e-01 1.94667620e-01 2.47518259e-01\n",
      " 2.50740706e-01 2.52325861e-01 2.64983467e-01 4.08793671e-01\n",
      " 4.43869922e-01 4.72471896e-01 4.90673260e-01 5.44282425e-01\n",
      " 6.10677829e-01 6.79803661e-01 7.21455962e-01 7.26724514e-01\n",
      " 7.61254609e-01 8.90932373e-01 8.92090062e-01 9.05611815e-01\n",
      " 9.26088737e-01 9.41164773e-01 9.54116926e-01 9.63829833e-01\n",
      " 9.75559526e-01 9.79595183e-01 9.84862374e-01 9.92427362e-01\n",
      " 9.92595313e-01 9.93164789e-01 9.93850119e-01 9.94364240e-01\n",
      " 9.96142577e-01 9.97063453e-01 9.98675326e-01 9.98875976e-01\n",
      " 9.99263989e-01 9.99295629e-01 9.99317351e-01 9.99415377e-01\n",
      " 9.99589316e-01 9.99776980e-01 9.99900666e-01 9.99906960e-01\n",
      " 9.99914059e-01 9.99935809e-01 9.99938831e-01 9.99987283e-01\n",
      " 9.99990213e-01 9.99999592e-01 9.99999908e-01 9.99999954e-01\n",
      " 1.00000000e+00 1.00000000e+00]\n",
      "[0. 0. 0. 0. 0. 0. 0. 0. 0. 0. 0. 0. 0. 0. 0. 0. 0. 0. 0. 0. 0. 0. 0. 0.\n",
      " 0. 0. 0. 0. 0. 0. 0. 0. 0. 0. 0. 0. 0. 0. 0. 0. 0. 0. 0. 0. 0. 0. 0. 0.\n",
      " 0. 0. 0. 0. 0. 0. 0. 1. 1. 1. 0. 0. 0. 0. 0. 0. 0. 0. 1. 1. 0. 1. 0. 1.\n",
      " 0. 0. 1. 0. 1. 1. 0. 1. 1. 1. 1. 1. 1. 1. 1. 1. 1. 1. 1. 1. 1. 1. 1. 1.\n",
      " 1. 1. 1. 1. 1. 1. 1. 1. 1. 1. 1. 1. 1. 1. 1. 1. 1. 1.]\n"
     ]
    }
   ],
   "source": [
    "## Your code here\n",
    "print(sorted_y_prob)\n",
    "print(sorted_y_test)"
   ]
  },
  {
   "cell_type": "markdown",
   "id": "fe7de2d8-e1a6-485f-88a2-2082a59afebe",
   "metadata": {},
   "source": [
    "Now make a plot of a sigmoid curve against the 0/1 ground truth values. Fill in the code below as needed"
   ]
  },
  {
   "cell_type": "code",
   "execution_count": 97,
   "id": "db40cc3a-4ccc-43a5-a88a-9ab043b64347",
   "metadata": {},
   "outputs": [
    {
     "data": {
      "image/png": "[encoded data removed]",
      "text/plain": [
       "<Figure size 800x600 with 1 Axes>"
      ]
     },
     "metadata": {},
     "output_type": "display_data"
    }
   ],
   "source": [
    "# Plot the sigmoid curve (predicted probabilities)\n",
    "plt.figure(figsize=(8, 6))\n",
    "\n",
    "# Plot the sorted_y_prob vector as a line, labeled \"Predicted probability\" in blue\n",
    "plt.plot(sorted_y_prob)\n",
    "\n",
    "# Plot the sorted_y_test values as a scatter plot, labeled \"Actual Probability\" in red\n",
    "plt.scatter(range(len(sorted_y_test)), sorted_y_test)\n",
    "\n",
    "# Plot the cutoff line (decision boundary at 0.5)\n",
    "plt.axhline(0.5, color='red', linestyle='--', label='Decision boundary (0.5)')\n",
    "\n",
    "plt.title('Logistic Regression Sigmoid Curve')\n",
    "plt.xlabel('Feature value')\n",
    "plt.ylabel('Predicted probability')\n",
    "plt.legend()\n",
    "plt.show()"
   ]
  },
  {
   "cell_type": "markdown",
   "id": "74ed4b4d-5cfb-4619-aa77-90f8665a09c9",
   "metadata": {},
   "source": [
    "Binary classification for logistic regression relies on knowing where the 'split point' is. It default to alpha = 0.5, but this may not be optimal. You will define some helper functions to determine an optimal alpha."
   ]
  },
  {
   "cell_type": "code",
   "execution_count": null,
   "id": "14ca8c55-cb4e-476f-a050-ac7c1db6a254",
   "metadata": {},
   "outputs": [
    {
     "ename": "IndentationError",
     "evalue": "expected an indented block after function definition on line 1 (3234477519.py, line 4)",
     "output_type": "error",
     "traceback": [
      "\u001b[0;36m  Cell \u001b[0;32mIn[17], line 4\u001b[0;36m\u001b[0m\n\u001b[0;31m    def tp(true, observed):\u001b[0m\n\u001b[0m    ^\u001b[0m\n\u001b[0;31mIndentationError\u001b[0m\u001b[0;31m:\u001b[0m expected an indented block after function definition on line 1\n"
     ]
    }
   ],
   "source": [
    "def binary_classify(y_prob, alpha):\n",
    "    # return a vector where index i is 1 if y_prob[i] > alpha, else 0\n",
    "\n",
    "def tp(true, observed):\n",
    "    # return the number of true positives, e.g. indices i where true[i] = observed[i] = 1\n",
    "\n",
    "def tn(true, observed):\n",
    "    return 0\n",
    "\n",
    "def fp(true, observed):\n",
    "    return 0\n",
    "\n",
    "def fn(true, observed):\n",
    "    return 0\n",
    "\n",
    "def precision(true, observed):\n",
    "    return 0\n",
    "\n",
    "def recall(true, observed):\n",
    "    return 0\n",
    "\n",
    "def score(true, observed, weights):\n",
    "    # return a weighted score of tp, fp, tn fn according to the weights\n",
    "    tps, fps, tns, fns = weights\n",
    "    return 0"
   ]
  },
  {
   "cell_type": "markdown",
   "id": "6fd054f4-5ad3-4719-9e43-c83266bdb916",
   "metadata": {},
   "source": [
    "Test your code works and get a high precision"
   ]
  },
  {
   "cell_type": "code",
   "execution_count": 18,
   "id": "1c94d304-41b0-4635-8d07-4c180f832099",
   "metadata": {},
   "outputs": [
    {
     "ename": "NameError",
     "evalue": "name 'binary_classify' is not defined",
     "output_type": "error",
     "traceback": [
      "\u001b[0;31m---------------------------------------------------------------------------\u001b[0m",
      "\u001b[0;31mNameError\u001b[0m                                 Traceback (most recent call last)",
      "Cell \u001b[0;32mIn[18], line 1\u001b[0m\n\u001b[0;32m----> 1\u001b[0m observed \u001b[38;5;241m=\u001b[39m \u001b[43mbinary_classify\u001b[49m(sorted_y_prob, \u001b[38;5;241m0.5\u001b[39m)\n\u001b[1;32m      2\u001b[0m q \u001b[38;5;241m=\u001b[39m \u001b[38;5;28mzip\u001b[39m(observed, sorted_y_test)\n\u001b[1;32m      3\u001b[0m \u001b[38;5;28mprint\u001b[39m(precision(sorted_y_test, observed))\n",
      "\u001b[0;31mNameError\u001b[0m: name 'binary_classify' is not defined"
     ]
    }
   ],
   "source": [
    "observed = binary_classify(sorted_y_prob, 0.5)\n",
    "q = zip(observed, sorted_y_test)\n",
    "print(precision(sorted_y_test, observed))"
   ]
  },
  {
   "cell_type": "markdown",
   "id": "6038da2c-e752-43a8-99b6-8b0f668996fa",
   "metadata": {},
   "source": [
    "Create a plot of recall vs precision for various alpha. Let alpha from from 0 to 100 in steps of 0.01. Compute the new classification, then the precision and recall score. Then plot a scatter plot\n",
    "of (precision(alpha), recall(alpha)) points. Code is provided to plot the alphas along the graph."
   ]
  },
  {
   "cell_type": "code",
   "execution_count": null,
   "id": "d19deaa4-b34f-4b21-b2d4-90d07377400d",
   "metadata": {},
   "outputs": [
    {
     "ename": "IndexError",
     "evalue": "list index out of range",
     "output_type": "error",
     "traceback": [
      "\u001b[0;31m---------------------------------------------------------------------------\u001b[0m",
      "\u001b[0;31mIndexError\u001b[0m                                Traceback (most recent call last)",
      "Cell \u001b[0;32mIn[19], line 13\u001b[0m\n\u001b[1;32m     11\u001b[0m \u001b[38;5;28;01mfor\u001b[39;00m i \u001b[38;5;129;01min\u001b[39;00m \u001b[38;5;28mrange\u001b[39m(\u001b[38;5;241m0\u001b[39m, \u001b[38;5;241m100\u001b[39m, \u001b[38;5;241m10\u001b[39m):  \u001b[38;5;66;03m# You can change the step size (10) to select more/fewer points\u001b[39;00m\n\u001b[1;32m     12\u001b[0m     alpha \u001b[38;5;241m=\u001b[39m i \u001b[38;5;241m/\u001b[39m \u001b[38;5;241m100.0\u001b[39m\n\u001b[0;32m---> 13\u001b[0m     plt\u001b[38;5;241m.\u001b[39mannotate(\u001b[38;5;124mf\u001b[39m\u001b[38;5;124m'\u001b[39m\u001b[38;5;124mα=\u001b[39m\u001b[38;5;132;01m{\u001b[39;00malpha\u001b[38;5;132;01m:\u001b[39;00m\u001b[38;5;124m.2f\u001b[39m\u001b[38;5;132;01m}\u001b[39;00m\u001b[38;5;124m'\u001b[39m, (\u001b[43mps\u001b[49m\u001b[43m[\u001b[49m\u001b[43mi\u001b[49m\u001b[43m]\u001b[49m, rs[i]), \n\u001b[1;32m     14\u001b[0m                  textcoords\u001b[38;5;241m=\u001b[39m\u001b[38;5;124m\"\u001b[39m\u001b[38;5;124moffset points\u001b[39m\u001b[38;5;124m\"\u001b[39m, xytext\u001b[38;5;241m=\u001b[39m(\u001b[38;5;241m5\u001b[39m, \u001b[38;5;241m-\u001b[39m\u001b[38;5;241m5\u001b[39m), ha\u001b[38;5;241m=\u001b[39m\u001b[38;5;124m'\u001b[39m\u001b[38;5;124mcenter\u001b[39m\u001b[38;5;124m'\u001b[39m)\n\u001b[1;32m     15\u001b[0m plt\u001b[38;5;241m.\u001b[39mgrid()\n",
      "\u001b[0;31mIndexError\u001b[0m: list index out of range"
     ]
    },
    {
     "data": {
      "image/png": "[encoded data removed]",
      "text/plain": [
       "<Figure size 640x480 with 1 Axes>"
      ]
     },
     "metadata": {},
     "output_type": "display_data"
    }
   ],
   "source": [
    "ps = []\n",
    "rs = []\n",
    "for i in range(100):\n",
    "    alpha = i/100.0\n",
    "    # finish code\n",
    "\n",
    "plt.plot(ps, rs)\n",
    "\n",
    "# Don't edit the following, it makes labels. You can tweak it once you understand if you want\n",
    "# Annotate alpha values at selected points (for example, every 10th point)\n",
    "for i in range(0, 100, 10):  # You can change the step size (10) to select more/fewer points\n",
    "    alpha = i / 100.0\n",
    "    plt.annotate(f'α={alpha:.2f}', (ps[i], rs[i]),\n",
    "                 textcoords=\"offset points\", xytext=(5, -5), ha='center')\n",
    "plt.grid()"
   ]
  },
  {
   "cell_type": "markdown",
   "id": "dd260bc9-d6ce-4cf4-bcfe-bbe813a328e2",
   "metadata": {},
   "source": [
    "Now we want to see how weighted scores vary as a function of alpha. Start with a score vector of (0,1,0,3) (why?)"
   ]
  },
  {
   "cell_type": "code",
   "execution_count": 20,
   "id": "14ffc3bc-c95f-4880-b99d-da409041bfb3",
   "metadata": {},
   "outputs": [],
   "source": [
    "ps = []\n",
    "rs = []\n",
    "scores = []\n",
    "# code here"
   ]
  },
  {
   "cell_type": "markdown",
   "id": "5dbee8f3-8e47-4a0b-99ed-0b30ee7e8f4d",
   "metadata": {},
   "source": [
    "Now plot the scores and visually identify a minimum"
   ]
  },
  {
   "cell_type": "code",
   "execution_count": 21,
   "id": "bea9960b-bead-4996-88a8-606b5d3bf4c8",
   "metadata": {},
   "outputs": [],
   "source": [
    "## code here"
   ]
  },
  {
   "cell_type": "markdown",
   "id": "b5cdb74f-951c-442b-9854-8cdabf108f80",
   "metadata": {},
   "source": [
    "Get the index of the lowest score and the lowest score itself"
   ]
  },
  {
   "cell_type": "code",
   "execution_count": 21,
   "id": "e7b7c66d-5d09-45c6-bfde-7bc31e0c7378",
   "metadata": {},
   "outputs": [
    {
     "ename": "ValueError",
     "evalue": "attempt to get argmin of an empty sequence",
     "output_type": "error",
     "traceback": [
      "\u001b[0;31m---------------------------------------------------------------------------\u001b[0m",
      "\u001b[0;31mValueError\u001b[0m                                Traceback (most recent call last)",
      "Cell \u001b[0;32mIn[21], line 1\u001b[0m\n\u001b[0;32m----> 1\u001b[0m \u001b[43mnp\u001b[49m\u001b[38;5;241;43m.\u001b[39;49m\u001b[43margmin\u001b[49m\u001b[43m(\u001b[49m\u001b[43mscores\u001b[49m\u001b[43m)\u001b[49m, np\u001b[38;5;241m.\u001b[39mmin(scores)\n",
      "File \u001b[0;32m~/github/aet-cs/aet-cs.github.io/white/ML/env/lib/python3.11/site-packages/numpy/_core/fromnumeric.py:1395\u001b[0m, in \u001b[0;36margmin\u001b[0;34m(a, axis, out, keepdims)\u001b[0m\n\u001b[1;32m   1307\u001b[0m \u001b[38;5;250m\u001b[39m\u001b[38;5;124;03m\"\"\"\u001b[39;00m\n\u001b[1;32m   1308\u001b[0m \u001b[38;5;124;03mReturns the indices of the minimum values along an axis.\u001b[39;00m\n\u001b[1;32m   1309\u001b[0m \n\u001b[0;32m   (...)\u001b[0m\n\u001b[1;32m   1392\u001b[0m \u001b[38;5;124;03m(2, 1, 4)\u001b[39;00m\n\u001b[1;32m   1393\u001b[0m \u001b[38;5;124;03m\"\"\"\u001b[39;00m\n\u001b[1;32m   1394\u001b[0m kwds \u001b[38;5;241m=\u001b[39m {\u001b[38;5;124m'\u001b[39m\u001b[38;5;124mkeepdims\u001b[39m\u001b[38;5;124m'\u001b[39m: keepdims} \u001b[38;5;28;01mif\u001b[39;00m keepdims \u001b[38;5;129;01mis\u001b[39;00m \u001b[38;5;129;01mnot\u001b[39;00m np\u001b[38;5;241m.\u001b[39m_NoValue \u001b[38;5;28;01melse\u001b[39;00m {}\n\u001b[0;32m-> 1395\u001b[0m \u001b[38;5;28;01mreturn\u001b[39;00m \u001b[43m_wrapfunc\u001b[49m\u001b[43m(\u001b[49m\u001b[43ma\u001b[49m\u001b[43m,\u001b[49m\u001b[43m \u001b[49m\u001b[38;5;124;43m'\u001b[39;49m\u001b[38;5;124;43margmin\u001b[39;49m\u001b[38;5;124;43m'\u001b[39;49m\u001b[43m,\u001b[49m\u001b[43m \u001b[49m\u001b[43maxis\u001b[49m\u001b[38;5;241;43m=\u001b[39;49m\u001b[43maxis\u001b[49m\u001b[43m,\u001b[49m\u001b[43m \u001b[49m\u001b[43mout\u001b[49m\u001b[38;5;241;43m=\u001b[39;49m\u001b[43mout\u001b[49m\u001b[43m,\u001b[49m\u001b[43m \u001b[49m\u001b[38;5;241;43m*\u001b[39;49m\u001b[38;5;241;43m*\u001b[39;49m\u001b[43mkwds\u001b[49m\u001b[43m)\u001b[49m\n",
      "File \u001b[0;32m~/github/aet-cs/aet-cs.github.io/white/ML/env/lib/python3.11/site-packages/numpy/_core/fromnumeric.py:54\u001b[0m, in \u001b[0;36m_wrapfunc\u001b[0;34m(obj, method, *args, **kwds)\u001b[0m\n\u001b[1;32m     52\u001b[0m bound \u001b[38;5;241m=\u001b[39m \u001b[38;5;28mgetattr\u001b[39m(obj, method, \u001b[38;5;28;01mNone\u001b[39;00m)\n\u001b[1;32m     53\u001b[0m \u001b[38;5;28;01mif\u001b[39;00m bound \u001b[38;5;129;01mis\u001b[39;00m \u001b[38;5;28;01mNone\u001b[39;00m:\n\u001b[0;32m---> 54\u001b[0m     \u001b[38;5;28;01mreturn\u001b[39;00m \u001b[43m_wrapit\u001b[49m\u001b[43m(\u001b[49m\u001b[43mobj\u001b[49m\u001b[43m,\u001b[49m\u001b[43m \u001b[49m\u001b[43mmethod\u001b[49m\u001b[43m,\u001b[49m\u001b[43m \u001b[49m\u001b[38;5;241;43m*\u001b[39;49m\u001b[43margs\u001b[49m\u001b[43m,\u001b[49m\u001b[43m \u001b[49m\u001b[38;5;241;43m*\u001b[39;49m\u001b[38;5;241;43m*\u001b[39;49m\u001b[43mkwds\u001b[49m\u001b[43m)\u001b[49m\n\u001b[1;32m     56\u001b[0m \u001b[38;5;28;01mtry\u001b[39;00m:\n\u001b[1;32m     57\u001b[0m     \u001b[38;5;28;01mreturn\u001b[39;00m bound(\u001b[38;5;241m*\u001b[39margs, \u001b[38;5;241m*\u001b[39m\u001b[38;5;241m*\u001b[39mkwds)\n",
      "File \u001b[0;32m~/github/aet-cs/aet-cs.github.io/white/ML/env/lib/python3.11/site-packages/numpy/_core/fromnumeric.py:46\u001b[0m, in \u001b[0;36m_wrapit\u001b[0;34m(obj, method, *args, **kwds)\u001b[0m\n\u001b[1;32m     43\u001b[0m \u001b[38;5;66;03m# As this already tried the method, subok is maybe quite reasonable here\u001b[39;00m\n\u001b[1;32m     44\u001b[0m \u001b[38;5;66;03m# but this follows what was done before. TODO: revisit this.\u001b[39;00m\n\u001b[1;32m     45\u001b[0m arr, \u001b[38;5;241m=\u001b[39m conv\u001b[38;5;241m.\u001b[39mas_arrays(subok\u001b[38;5;241m=\u001b[39m\u001b[38;5;28;01mFalse\u001b[39;00m)\n\u001b[0;32m---> 46\u001b[0m result \u001b[38;5;241m=\u001b[39m \u001b[38;5;28;43mgetattr\u001b[39;49m\u001b[43m(\u001b[49m\u001b[43marr\u001b[49m\u001b[43m,\u001b[49m\u001b[43m \u001b[49m\u001b[43mmethod\u001b[49m\u001b[43m)\u001b[49m\u001b[43m(\u001b[49m\u001b[38;5;241;43m*\u001b[39;49m\u001b[43margs\u001b[49m\u001b[43m,\u001b[49m\u001b[43m \u001b[49m\u001b[38;5;241;43m*\u001b[39;49m\u001b[38;5;241;43m*\u001b[39;49m\u001b[43mkwds\u001b[49m\u001b[43m)\u001b[49m\n\u001b[1;32m     48\u001b[0m \u001b[38;5;28;01mreturn\u001b[39;00m conv\u001b[38;5;241m.\u001b[39mwrap(result, to_scalar\u001b[38;5;241m=\u001b[39m\u001b[38;5;28;01mFalse\u001b[39;00m)\n",
      "\u001b[0;31mValueError\u001b[0m: attempt to get argmin of an empty sequence"
     ]
    }
   ],
   "source": [
    "np.argmin(scores), np.min(scores)"
   ]
  },
  {
   "cell_type": "markdown",
   "id": "bedeeb2b-7a47-4ee4-a83d-58ae3d948113",
   "metadata": {},
   "source": [
    "Properly define opt_alpha based on the scores vector"
   ]
  },
  {
   "cell_type": "code",
   "execution_count": 22,
   "id": "4ea7e2d3-424b-428f-95a3-4bb168e4c850",
   "metadata": {},
   "outputs": [
    {
     "ename": "SyntaxError",
     "evalue": "invalid syntax (2845262698.py, line 1)",
     "output_type": "error",
     "traceback": [
      "\u001b[0;36m  Cell \u001b[0;32mIn[22], line 1\u001b[0;36m\u001b[0m\n\u001b[0;31m    opt_alpha = ????\u001b[0m\n\u001b[0m                ^\u001b[0m\n\u001b[0;31mSyntaxError\u001b[0m\u001b[0;31m:\u001b[0m invalid syntax\n"
     ]
    }
   ],
   "source": [
    "opt_alpha = ????\n",
    "observed = binary_classify(sorted_y_prob, opt_alpha)\n",
    "ps = precision(sorted_y_test, observed)\n",
    "rs = recall(sorted_y_test, observed)\n",
    "opt_tp = tp(sorted_y_test, observed)\n",
    "opt_tn = tn(sorted_y_test, observed)\n",
    "opt_fp = fp(sorted_y_test, observed)\n",
    "opt_fn = fn(sorted_y_test, observed)"
   ]
  },
  {
   "cell_type": "markdown",
   "id": "297924bc-c962-4f20-bf51-11bd57e522d3",
   "metadata": {},
   "source": [
    "Make the following line nicer -- what are you printing? Give labels"
   ]
  },
  {
   "cell_type": "code",
   "execution_count": 23,
   "id": "da9bdaec-6d2b-4c39-b877-103c56a07ce5",
   "metadata": {},
   "outputs": [
    {
     "ename": "NameError",
     "evalue": "name 'opt_tp' is not defined",
     "output_type": "error",
     "traceback": [
      "\u001b[0;31m---------------------------------------------------------------------------\u001b[0m",
      "\u001b[0;31mNameError\u001b[0m                                 Traceback (most recent call last)",
      "Cell \u001b[0;32mIn[23], line 1\u001b[0m\n\u001b[0;32m----> 1\u001b[0m \u001b[38;5;28mprint\u001b[39m(ps, rs, \u001b[43mopt_tp\u001b[49m, opt_tn, opt_tp, opt_fn)\n",
      "\u001b[0;31mNameError\u001b[0m: name 'opt_tp' is not defined"
     ]
    }
   ],
   "source": [
    "print(ps, rs, opt_tp, opt_tn, opt_tp, opt_fn)"
   ]
  },
  {
   "cell_type": "markdown",
   "id": "3169d43b-03fa-4d0d-9277-eef249c0246a",
   "metadata": {},
   "source": [
    "Now draw a nice confusion matrix. No need to edit the code. How do you interpret this? Change the weights above and redo a few times. What happens?"
   ]
  },
  {
   "cell_type": "code",
   "execution_count": 24,
   "id": "014a7943-4a63-4f62-8407-2cf73845414e",
   "metadata": {},
   "outputs": [
    {
     "ename": "NameError",
     "evalue": "name 'sorted_y_test' is not defined",
     "output_type": "error",
     "traceback": [
      "\u001b[0;31m---------------------------------------------------------------------------\u001b[0m",
      "\u001b[0;31mNameError\u001b[0m                                 Traceback (most recent call last)",
      "Cell \u001b[0;32mIn[24], line 3\u001b[0m\n\u001b[1;32m      1\u001b[0m \u001b[38;5;28;01mfrom\u001b[39;00m \u001b[38;5;21;01msklearn\u001b[39;00m\u001b[38;5;21;01m.\u001b[39;00m\u001b[38;5;21;01mmetrics\u001b[39;00m \u001b[38;5;28;01mimport\u001b[39;00m confusion_matrix, ConfusionMatrixDisplay\n\u001b[0;32m----> 3\u001b[0m cm \u001b[38;5;241m=\u001b[39m confusion_matrix(\u001b[43msorted_y_test\u001b[49m, observed, labels\u001b[38;5;241m=\u001b[39mlreg\u001b[38;5;241m.\u001b[39mclasses_)\n\u001b[1;32m      4\u001b[0m disp \u001b[38;5;241m=\u001b[39m ConfusionMatrixDisplay(confusion_matrix\u001b[38;5;241m=\u001b[39mcm,\n\u001b[1;32m      5\u001b[0m                               display_labels\u001b[38;5;241m=\u001b[39mlreg\u001b[38;5;241m.\u001b[39mclasses_)\n\u001b[1;32m      6\u001b[0m disp\u001b[38;5;241m.\u001b[39mplot()\n",
      "\u001b[0;31mNameError\u001b[0m: name 'sorted_y_test' is not defined"
     ]
    }
   ],
   "source": [
    "from sklearn.metrics import confusion_matrix, ConfusionMatrixDisplay\n",
    "\n",
    "cm = confusion_matrix(sorted_y_test, observed, labels=lreg.classes_)\n",
    "disp = ConfusionMatrixDisplay(confusion_matrix=cm,\n",
    "                              display_labels=lreg.classes_)\n",
    "disp.plot()\n",
    "plt.show()"
   ]
  },
  {
   "cell_type": "code",
   "execution_count": null,
   "id": "57116229-e9b4-449a-9446-c4e917765067",
   "metadata": {},
   "outputs": [],
   "source": []
  },
  {
   "cell_type": "code",
   "execution_count": 29,
   "id": "770ad02e",
   "metadata": {},
   "outputs": [
    {
     "name": "stdout",
     "output_type": "stream",
     "text": [
      "Data shape: (569, 12)\n",
      "\n",
      "Data info:\n",
      "<class 'pandas.core.frame.DataFrame'>\n",
      "RangeIndex: 569 entries, 0 to 568\n",
      "Data columns (total 12 columns):\n",
      " #   Column                  Non-Null Count  Dtype  \n",
      "---  ------                  --------------  -----  \n",
      " 0   id                      569 non-null    float64\n",
      " 1   diagnosis               569 non-null    object \n",
      " 2   radius_mean             569 non-null    float64\n",
      " 3   texture_mean            569 non-null    float64\n",
      " 4   perimeter_mean          569 non-null    float64\n",
      " 5   area_mean               569 non-null    float64\n",
      " 6   smoothness_mean         569 non-null    float64\n",
      " 7   compactness_mean        569 non-null    float64\n",
      " 8   concavity_mean          569 non-null    float64\n",
      " 9   concave points_mean     569 non-null    float64\n",
      " 10  symmetry_mean           569 non-null    float64\n",
      " 11  fractal_dimension_mean  569 non-null    float64\n",
      "dtypes: float64(11), object(1)\n",
      "memory usage: 53.5+ KB\n",
      "None\n",
      "\n",
      "Missing values:\n",
      "id                        0\n",
      "diagnosis                 0\n",
      "radius_mean               0\n",
      "texture_mean              0\n",
      "perimeter_mean            0\n",
      "area_mean                 0\n",
      "smoothness_mean           0\n",
      "compactness_mean          0\n",
      "concavity_mean            0\n",
      "concave points_mean       0\n",
      "symmetry_mean             0\n",
      "fractal_dimension_mean    0\n",
      "dtype: int64\n",
      "\n",
      "Data description:\n",
      "                 id  radius_mean  texture_mean  perimeter_mean    area_mean  \\\n",
      "count  5.690000e+02   569.000000    569.000000      569.000000   569.000000   \n",
      "mean   3.037183e+07    14.127292     19.289649       91.969033   654.889104   \n",
      "std    1.250206e+08     3.524049      4.301036       24.298981   351.914129   \n",
      "min    8.670000e+03     6.981000      9.710000       43.790000   143.500000   \n",
      "25%    8.692180e+05    11.700000     16.170000       75.170000   420.300000   \n",
      "50%    9.060240e+05    13.370000     18.840000       86.240000   551.100000   \n",
      "75%    8.813129e+06    15.780000     21.800000      104.100000   782.700000   \n",
      "max    9.113205e+08    28.110000     39.280000      188.500000  2501.000000   \n",
      "\n",
      "       smoothness_mean  compactness_mean  concavity_mean  concave points_mean  \\\n",
      "count       569.000000        569.000000      569.000000           569.000000   \n",
      "mean          0.096360          0.104341        0.088799             0.048919   \n",
      "std           0.014064          0.052813        0.079720             0.038803   \n",
      "min           0.052630          0.019380        0.000000             0.000000   \n",
      "25%           0.086370          0.064920        0.029560             0.020310   \n",
      "50%           0.095870          0.092630        0.061540             0.033500   \n",
      "75%           0.105300          0.130400        0.130700             0.074000   \n",
      "max           0.163400          0.345400        0.426800             0.201200   \n",
      "\n",
      "       symmetry_mean  fractal_dimension_mean  \n",
      "count     569.000000              569.000000  \n",
      "mean        0.181162                0.062798  \n",
      "std         0.027414                0.007060  \n",
      "min         0.106000                0.049960  \n",
      "25%         0.161900                0.057700  \n",
      "50%         0.179200                0.061540  \n",
      "75%         0.195700                0.066120  \n",
      "max         0.304000                0.097440  \n"
     ]
    }
   ],
   "source": [
    "print(\"Data shape:\", df.shape)\n",
    "print(\"\\nData info:\")\n",
    "print(df.info())\n",
    "print(\"\\nMissing values:\")\n",
    "print(df.isnull().sum())\n",
    "print(\"\\nData description:\")\n",
    "print(df.describe())"
   ]
  },
  {
   "cell_type": "code",
   "execution_count": 32,
   "id": "74e99d76",
   "metadata": {},
   "outputs": [
    {
     "name": "stdout",
     "output_type": "stream",
     "text": [
      "Checking X_train for issues:\n",
      "Infinites: 0\n",
      "NaNs: 0\n",
      "\n",
      "Value ranges:\n",
      "Min: -3.112084787919981\n",
      "Max: 7.052629038753288\n",
      "\n",
      "Feature means: [-0.01455546  0.00767167 -0.00343694  0.00658136  0.00556668 -0.0331878\n",
      " -0.00717481 -0.0108478   0.00041727 -0.03648918 -0.03166475]\n"
     ]
    }
   ],
   "source": [
    "# Check for any remaining problematic values\n",
    "print(\"Checking X_train for issues:\")\n",
    "print(\"Infinites:\", np.isinf(X_train).sum())\n",
    "print(\"NaNs:\", np.isnan(X_train).sum())\n",
    "print(\"\\nValue ranges:\")\n",
    "print(\"Min:\", X_train.min())\n",
    "print(\"Max:\", X_train.max())\n",
    "print(\"\\nFeature means:\", X_train.mean(axis=0))"
   ]
  }
 ],
 "metadata": {
  "kernelspec": {
   "display_name": "ml_course",
   "language": "python",
   "name": "python3"
  },
  "language_info": {
   "codemirror_mode": {
    "name": "ipython",
    "version": 3
   },
   "file_extension": ".py",
   "mimetype": "text/x-python",
   "name": "python",
   "nbconvert_exporter": "python",
   "pygments_lexer": "ipython3",
   "version": "3.11.13"
  }
 },
 "nbformat": 4,
 "nbformat_minor": 5
}
