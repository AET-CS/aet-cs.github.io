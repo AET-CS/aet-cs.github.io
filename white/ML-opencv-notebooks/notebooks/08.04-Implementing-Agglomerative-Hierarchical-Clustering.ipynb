{
    "cells": [
        {
            "cell_type": "markdown",
            "metadata": {},
            "source": [
                "# Implementing Agglomerative Hierarchical Clustering\n",
                "\n",
                "Although OpenCV does not provide an implementation of agglomerative hierarchical\n",
                "clustering, it is a popular algorithm that should, by all means, belong to our machine\n",
                "learning repertoire.\n",
                "\n",
                "We start out by generating 10 random data points, just like in the previous figure:"
            ]
        },
        {
            "cell_type": "code",
            "execution_count": 1,
            "metadata": {
                "collapsed": true,
                "deletable": true,
                "editable": true,
                "execution": {
                    "iopub.execute_input": "2024-08-11T01:37:22.486851Z",
                    "iopub.status.busy": "2024-08-11T01:37:22.486381Z",
                    "iopub.status.idle": "2024-08-11T01:37:23.040274Z",
                    "shell.execute_reply": "2024-08-11T01:37:23.039820Z"
                },
                "jupyter": {
                    "outputs_hidden": true
                }
            },
            "outputs": [],
            "source": [
                "from sklearn.datasets import make_blobs\n",
                "X, y = make_blobs(n_samples=10, random_state=100)"
            ]
        },
        {
            "cell_type": "markdown",
            "metadata": {},
            "source": [
                "Using the familiar statistical modeling API, we import the `AgglomerativeClustering`\n",
                "algorithm and specify the desired number of clusters:"
            ]
        },
        {
            "cell_type": "code",
            "execution_count": 2,
            "metadata": {
                "collapsed": false,
                "deletable": true,
                "editable": true,
                "execution": {
                    "iopub.execute_input": "2024-08-11T01:37:23.043165Z",
                    "iopub.status.busy": "2024-08-11T01:37:23.042752Z",
                    "iopub.status.idle": "2024-08-11T01:37:23.118676Z",
                    "shell.execute_reply": "2024-08-11T01:37:23.118029Z"
                },
                "jupyter": {
                    "outputs_hidden": false
                }
            },
            "outputs": [],
            "source": [
                "from sklearn import cluster\n",
                "agg = cluster.AgglomerativeClustering(n_clusters=3)"
            ]
        },
        {
            "cell_type": "markdown",
            "metadata": {},
            "source": [
                "Fitting the model to the data works, as usual, via the `fit_predict` method:"
            ]
        },
        {
            "cell_type": "code",
            "execution_count": 3,
            "metadata": {
                "collapsed": false,
                "deletable": true,
                "editable": true,
                "execution": {
                    "iopub.execute_input": "2024-08-11T01:37:23.121434Z",
                    "iopub.status.busy": "2024-08-11T01:37:23.121139Z",
                    "iopub.status.idle": "2024-08-11T01:37:23.131779Z",
                    "shell.execute_reply": "2024-08-11T01:37:23.131293Z"
                },
                "jupyter": {
                    "outputs_hidden": false
                }
            },
            "outputs": [],
            "source": [
                "labels = agg.fit_predict(X)"
            ]
        },
        {
            "cell_type": "markdown",
            "metadata": {},
            "source": [
                "We can generate a scatter plot where every data point is colored according to the predicted\n",
                "label:"
            ]
        },
        {
            "cell_type": "code",
            "execution_count": 4,
            "metadata": {
                "collapsed": false,
                "deletable": true,
                "editable": true,
                "execution": {
                    "iopub.execute_input": "2024-08-11T01:37:23.134405Z",
                    "iopub.status.busy": "2024-08-11T01:37:23.134043Z",
                    "iopub.status.idle": "2024-08-11T01:37:23.607759Z",
                    "shell.execute_reply": "2024-08-11T01:37:23.607190Z"
                },
                "jupyter": {
                    "outputs_hidden": false
                }
            },
            "outputs": [
                {
                    "data": {
                        "text/plain": [
                            "<matplotlib.collections.PathCollection at 0x7990ebd5b190>"
                        ]
                    },
                    "execution_count": 4,
                    "metadata": {},
                    "output_type": "execute_result"
                },
                {
                    "data": {
                        "image/png": "[encoded data removed]",
                        "text/plain": [
                            "<Figure size 1000x600 with 1 Axes>"
                        ]
                    },
                    "metadata": {},
                    "output_type": "display_data"
                }
            ],
            "source": [
                "import matplotlib.pyplot as plt\n",
                "%matplotlib inline\n",
                "plt.style.use('ggplot')\n",
                "plt.figure(figsize=(10, 6))\n",
                "plt.scatter(X[:, 0], X[:, 1], c=labels, s=100)"
            ]
        },
        {
            "cell_type": "markdown",
            "metadata": {},
            "source": [
                "That's it! This marks the end of another wonderful adventure."
            ]
        }
    ],
    "metadata": {
        "kernelspec": {
            "display_name": "Python 3 (ipykernel)",
            "language": "python",
            "name": "python3"
        },
        "language_info": {
            "codemirror_mode": {
                "name": "ipython",
                "version": 3
            },
            "file_extension": ".py",
            "mimetype": "text/x-python",
            "name": "python",
            "nbconvert_exporter": "python",
            "pygments_lexer": "ipython3",
            "version": "3.11.9"
        }
    },
    "nbformat": 4,
    "nbformat_minor": 4
}