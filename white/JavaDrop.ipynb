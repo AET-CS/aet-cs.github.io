{
 "cells": [
  {
   "cell_type": "markdown",
   "id": "f7d82a81-717e-4b3a-accb-157660ca5512",
   "metadata": {},
   "source": [
    "# JavaDrop Usage"
   ]
  },
  {
   "cell_type": "code",
   "execution_count": 12,
   "id": "173766d3-93c9-437c-ad58-29cdff23a234",
   "metadata": {},
   "outputs": [],
   "source": [
    "import pandas as pd\n",
    "import numpy as np\n",
    "import seaborn as sb\n",
    "import matplotlib.pyplot as plt\n",
    "import datetime, dateutil"
   ]
  },
  {
   "cell_type": "code",
   "execution_count": 10,
   "id": "00374900-0b16-426b-88c4-396bbef85bed",
   "metadata": {},
   "outputs": [],
   "source": [
    "i = pd.read_csv(\"javadrop.txt\", delimiter=\" \", header=None)"
   ]
  },
  {
   "cell_type": "code",
   "execution_count": 17,
   "id": "7ffa6d11-a7e0-48e8-82a2-f9ec0a5043d2",
   "metadata": {},
   "outputs": [],
   "source": [
    "t = datetime.datetime(hour = 10, minute = 00, second = 0, year = 2025, month = 5, day = 10)"
   ]
  },
  {
   "cell_type": "code",
   "execution_count": 18,
   "id": "3ca99a4c-2fd9-417f-821e-3fe8a542ea17",
   "metadata": {},
   "outputs": [
    {
     "data": {
      "text/plain": [
       "datetime.datetime(2025, 5, 10, 10, 0)"
      ]
     },
     "execution_count": 18,
     "metadata": {},
     "output_type": "execute_result"
    }
   ],
   "source": [
    "t"
   ]
  },
  {
   "cell_type": "code",
   "execution_count": 19,
   "id": "46468e81-3810-44e0-a348-fda5d57ce1b6",
   "metadata": {},
   "outputs": [
    {
     "name": "stdout",
     "output_type": "stream",
     "text": [
      "2025-05-10 10:00:00\n"
     ]
    }
   ],
   "source": [
    "print(t)"
   ]
  },
  {
   "cell_type": "code",
   "execution_count": 21,
   "id": "e4570fee-c5f6-4e03-b6b1-19733607a130",
   "metadata": {},
   "outputs": [],
   "source": [
    "d = datetime.timedelta(hours = 4)"
   ]
  },
  {
   "cell_type": "code",
   "execution_count": 22,
   "id": "0c3a3c42-8a84-4fa9-be4a-1116f8de13bf",
   "metadata": {},
   "outputs": [
    {
     "name": "stdout",
     "output_type": "stream",
     "text": [
      "2025-05-10 06:00:00\n"
     ]
    }
   ],
   "source": [
    "print(t-d)"
   ]
  },
  {
   "cell_type": "code",
   "execution_count": 36,
   "id": "aa3e650a-6fa6-4541-9bc4-a2154bf6af46",
   "metadata": {},
   "outputs": [
    {
     "name": "stdout",
     "output_type": "stream",
     "text": [
      "2025-05-02 20:00:00 6\n",
      "2025-05-03 00:00:00 0\n",
      "2025-05-03 04:00:00 0\n",
      "2025-05-03 08:00:00 6\n",
      "2025-05-03 12:00:00 31\n",
      "2025-05-03 16:00:00 26\n",
      "2025-05-03 20:00:00 0\n",
      "2025-05-04 00:00:00 0\n",
      "2025-05-04 04:00:00 0\n",
      "2025-05-04 08:00:00 0\n",
      "2025-05-04 12:00:00 0\n",
      "2025-05-04 16:00:00 0\n",
      "2025-05-04 20:00:00 4\n",
      "2025-05-05 00:00:00 25\n",
      "2025-05-05 04:00:00 0\n",
      "2025-05-05 08:00:00 1\n",
      "2025-05-05 12:00:00 1\n",
      "2025-05-05 16:00:00 18\n",
      "2025-05-05 20:00:00 85\n",
      "2025-05-06 00:00:00 41\n",
      "2025-05-06 04:00:00 20\n",
      "2025-05-06 08:00:00 102\n",
      "2025-05-06 12:00:00 330\n",
      "2025-05-06 16:00:00 200\n",
      "2025-05-06 20:00:00 346\n",
      "2025-05-07 00:00:00 137\n",
      "2025-05-07 04:00:00 28\n",
      "2025-05-07 08:00:00 10\n",
      "2025-05-07 12:00:00 0\n",
      "2025-05-07 16:00:00 0\n"
     ]
    }
   ],
   "source": [
    "for c in range(len(i)//2):\n",
    "    row = i.iloc[c]\n",
    "    date, hour, count = list(row)\n",
    "    t = datetime.datetime(hour = hour, minute = 0, second = 0, year = 2025, month = 5, day = date)\n",
    "    t = t - d\n",
    "    print(t,count)"
   ]
  },
  {
   "cell_type": "code",
   "execution_count": 27,
   "id": "42793fb8-54ef-4b72-a82f-af591312b979",
   "metadata": {},
   "outputs": [
    {
     "data": {
      "text/plain": [
       "[3, 0, 6]"
      ]
     },
     "execution_count": 27,
     "metadata": {},
     "output_type": "execute_result"
    }
   ],
   "source": [
    "        list(i.iloc[0])"
   ]
  },
  {
   "cell_type": "code",
   "execution_count": 46,
   "id": "176f786d-9a26-413b-8713-5023e95e5eb0",
   "metadata": {},
   "outputs": [
    {
     "data": {
      "image/png": "[encoded data removed]",
      "text/plain": [
       "<Figure size 640x480 with 1 Axes>"
      ]
     },
     "metadata": {},
     "output_type": "display_data"
    }
   ],
   "source": [
    "mcs = i.iloc[0:30,2]\n",
    "plt.bar(x = range(len(mcs)), height = mcs);"
   ]
  },
  {
   "cell_type": "code",
   "execution_count": null,
   "id": "bbe76abc-b84b-4b61-afc4-c5274d2403a5",
   "metadata": {},
   "outputs": [],
   "source": []
  },
  {
   "cell_type": "code",
   "execution_count": 48,
   "id": "4c43c460-050d-4ae0-8405-fb396657dc9b",
   "metadata": {},
   "outputs": [
    {
     "data": {
      "image/png": "[encoded data removed]",
      "text/plain": [
       "<Figure size 640x480 with 1 Axes>"
      ]
     },
     "metadata": {},
     "output_type": "display_data"
    }
   ],
   "source": [
    "frqs = i.iloc[30:,2]\n",
    "plt.bar(x = range(len(frqs)), height = frqs);"
   ]
  },
  {
   "cell_type": "code",
   "execution_count": 59,
   "id": "b6096f32-1d12-4e7d-829e-3b5f726c2b89",
   "metadata": {},
   "outputs": [
    {
     "data": {
      "text/html": [
       "<div>\n",
       "<style scoped>\n",
       "    .dataframe tbody tr th:only-of-type {\n",
       "        vertical-align: middle;\n",
       "    }\n",
       "\n",
       "    .dataframe tbody tr th {\n",
       "        vertical-align: top;\n",
       "    }\n",
       "\n",
       "    .dataframe thead th {\n",
       "        text-align: right;\n",
       "    }\n",
       "</style>\n",
       "<table border=\"1\" class=\"dataframe\">\n",
       "  <thead>\n",
       "    <tr style=\"text-align: right;\">\n",
       "      <th></th>\n",
       "      <th>student</th>\n",
       "      <th>frq</th>\n",
       "      <th>retries</th>\n",
       "      <th>max_score</th>\n",
       "    </tr>\n",
       "  </thead>\n",
       "  <tbody>\n",
       "    <tr>\n",
       "      <th>count</th>\n",
       "      <td>594.000000</td>\n",
       "      <td>594.000000</td>\n",
       "      <td>594.000000</td>\n",
       "      <td>594.000000</td>\n",
       "    </tr>\n",
       "    <tr>\n",
       "      <th>mean</th>\n",
       "      <td>96.092593</td>\n",
       "      <td>22.272727</td>\n",
       "      <td>2.318182</td>\n",
       "      <td>7.621212</td>\n",
       "    </tr>\n",
       "    <tr>\n",
       "      <th>std</th>\n",
       "      <td>64.281866</td>\n",
       "      <td>18.127793</td>\n",
       "      <td>1.795095</td>\n",
       "      <td>2.350334</td>\n",
       "    </tr>\n",
       "    <tr>\n",
       "      <th>min</th>\n",
       "      <td>35.000000</td>\n",
       "      <td>6.000000</td>\n",
       "      <td>1.000000</td>\n",
       "      <td>0.000000</td>\n",
       "    </tr>\n",
       "    <tr>\n",
       "      <th>25%</th>\n",
       "      <td>49.000000</td>\n",
       "      <td>9.000000</td>\n",
       "      <td>1.000000</td>\n",
       "      <td>7.000000</td>\n",
       "    </tr>\n",
       "    <tr>\n",
       "      <th>50%</th>\n",
       "      <td>67.000000</td>\n",
       "      <td>15.000000</td>\n",
       "      <td>2.000000</td>\n",
       "      <td>9.000000</td>\n",
       "    </tr>\n",
       "    <tr>\n",
       "      <th>75%</th>\n",
       "      <td>153.000000</td>\n",
       "      <td>51.000000</td>\n",
       "      <td>3.000000</td>\n",
       "      <td>9.000000</td>\n",
       "    </tr>\n",
       "    <tr>\n",
       "      <th>max</th>\n",
       "      <td>241.000000</td>\n",
       "      <td>54.000000</td>\n",
       "      <td>14.000000</td>\n",
       "      <td>9.000000</td>\n",
       "    </tr>\n",
       "  </tbody>\n",
       "</table>\n",
       "</div>"
      ],
      "text/plain": [
       "          student         frq     retries   max_score\n",
       "count  594.000000  594.000000  594.000000  594.000000\n",
       "mean    96.092593   22.272727    2.318182    7.621212\n",
       "std     64.281866   18.127793    1.795095    2.350334\n",
       "min     35.000000    6.000000    1.000000    0.000000\n",
       "25%     49.000000    9.000000    1.000000    7.000000\n",
       "50%     67.000000   15.000000    2.000000    9.000000\n",
       "75%    153.000000   51.000000    3.000000    9.000000\n",
       "max    241.000000   54.000000   14.000000    9.000000"
      ]
     },
     "execution_count": 59,
     "metadata": {},
     "output_type": "execute_result"
    }
   ],
   "source": [
    "frqs = pd.read_csv('frqs_attempts.csv')\n",
    "frqs.describe()"
   ]
  },
  {
   "cell_type": "code",
   "execution_count": 60,
   "id": "1e09f709-3cc1-4eab-875a-e90cacf4893f",
   "metadata": {},
   "outputs": [],
   "source": [
    "frqs = frqs[frqs['frq'] < 50]"
   ]
  },
  {
   "cell_type": "code",
   "execution_count": 61,
   "id": "d4d32b8c-c330-4495-ae1d-147d36b86a94",
   "metadata": {},
   "outputs": [
    {
     "data": {
      "text/html": [
       "<div>\n",
       "<style scoped>\n",
       "    .dataframe tbody tr th:only-of-type {\n",
       "        vertical-align: middle;\n",
       "    }\n",
       "\n",
       "    .dataframe tbody tr th {\n",
       "        vertical-align: top;\n",
       "    }\n",
       "\n",
       "    .dataframe thead th {\n",
       "        text-align: right;\n",
       "    }\n",
       "</style>\n",
       "<table border=\"1\" class=\"dataframe\">\n",
       "  <thead>\n",
       "    <tr style=\"text-align: right;\">\n",
       "      <th></th>\n",
       "      <th>student</th>\n",
       "      <th>frq</th>\n",
       "      <th>retries</th>\n",
       "      <th>max_score</th>\n",
       "    </tr>\n",
       "  </thead>\n",
       "  <tbody>\n",
       "    <tr>\n",
       "      <th>count</th>\n",
       "      <td>443.000000</td>\n",
       "      <td>443.000000</td>\n",
       "      <td>443.000000</td>\n",
       "      <td>443.000000</td>\n",
       "    </tr>\n",
       "    <tr>\n",
       "      <th>mean</th>\n",
       "      <td>109.437923</td>\n",
       "      <td>11.972912</td>\n",
       "      <td>2.753950</td>\n",
       "      <td>7.934537</td>\n",
       "    </tr>\n",
       "    <tr>\n",
       "      <th>std</th>\n",
       "      <td>69.121885</td>\n",
       "      <td>4.711033</td>\n",
       "      <td>1.887192</td>\n",
       "      <td>2.155232</td>\n",
       "    </tr>\n",
       "    <tr>\n",
       "      <th>min</th>\n",
       "      <td>35.000000</td>\n",
       "      <td>6.000000</td>\n",
       "      <td>1.000000</td>\n",
       "      <td>0.000000</td>\n",
       "    </tr>\n",
       "    <tr>\n",
       "      <th>25%</th>\n",
       "      <td>50.000000</td>\n",
       "      <td>8.000000</td>\n",
       "      <td>1.000000</td>\n",
       "      <td>8.000000</td>\n",
       "    </tr>\n",
       "    <tr>\n",
       "      <th>50%</th>\n",
       "      <td>74.000000</td>\n",
       "      <td>11.000000</td>\n",
       "      <td>2.000000</td>\n",
       "      <td>9.000000</td>\n",
       "    </tr>\n",
       "    <tr>\n",
       "      <th>75%</th>\n",
       "      <td>160.000000</td>\n",
       "      <td>16.000000</td>\n",
       "      <td>3.000000</td>\n",
       "      <td>9.000000</td>\n",
       "    </tr>\n",
       "    <tr>\n",
       "      <th>max</th>\n",
       "      <td>241.000000</td>\n",
       "      <td>21.000000</td>\n",
       "      <td>14.000000</td>\n",
       "      <td>9.000000</td>\n",
       "    </tr>\n",
       "  </tbody>\n",
       "</table>\n",
       "</div>"
      ],
      "text/plain": [
       "          student         frq     retries   max_score\n",
       "count  443.000000  443.000000  443.000000  443.000000\n",
       "mean   109.437923   11.972912    2.753950    7.934537\n",
       "std     69.121885    4.711033    1.887192    2.155232\n",
       "min     35.000000    6.000000    1.000000    0.000000\n",
       "25%     50.000000    8.000000    1.000000    8.000000\n",
       "50%     74.000000   11.000000    2.000000    9.000000\n",
       "75%    160.000000   16.000000    3.000000    9.000000\n",
       "max    241.000000   21.000000   14.000000    9.000000"
      ]
     },
     "execution_count": 61,
     "metadata": {},
     "output_type": "execute_result"
    }
   ],
   "source": [
    "frqs.describe()"
   ]
  },
  {
   "cell_type": "code",
   "execution_count": 62,
   "id": "f261be01-7358-4a0f-b6ea-1b39a83e3c12",
   "metadata": {},
   "outputs": [
    {
     "data": {
      "text/plain": [
       "<Axes: >"
      ]
     },
     "execution_count": 62,
     "metadata": {},
     "output_type": "execute_result"
    },
    {
     "data": {
      "image/png": "[encoded data removed]",
      "text/plain": [
       "<Figure size 640x480 with 1 Axes>"
      ]
     },
     "metadata": {},
     "output_type": "display_data"
    }
   ],
   "source": [
    "frqs['retries'].hist()"
   ]
  },
  {
   "cell_type": "code",
   "execution_count": 69,
   "id": "5a5c8356-a00a-41d8-8fb5-b339e008fdc9",
   "metadata": {},
   "outputs": [
    {
     "data": {
      "text/plain": [
       "count    443.000000\n",
       "mean       2.753950\n",
       "std        1.887192\n",
       "min        1.000000\n",
       "25%        1.000000\n",
       "50%        2.000000\n",
       "75%        3.000000\n",
       "max       14.000000\n",
       "Name: retries, dtype: float64"
      ]
     },
     "execution_count": 69,
     "metadata": {},
     "output_type": "execute_result"
    }
   ],
   "source": [
    "frqs.retries.describe()"
   ]
  },
  {
   "cell_type": "code",
   "execution_count": 65,
   "id": "9a638814-a4e6-4a6e-8925-9597274bb0eb",
   "metadata": {},
   "outputs": [],
   "source": [
    "imperfect = frqs[(frqs.retries > 1) | (frqs.max_score < 9.0)]"
   ]
  },
  {
   "cell_type": "code",
   "execution_count": 66,
   "id": "e15995c3-33dd-4836-b827-ab7f038a7a5a",
   "metadata": {},
   "outputs": [
    {
     "data": {
      "text/plain": [
       "<Axes: >"
      ]
     },
     "execution_count": 66,
     "metadata": {},
     "output_type": "execute_result"
    },
    {
     "data": {
      "image/png": "[encoded data removed]",
      "text/plain": [
       "<Figure size 640x480 with 1 Axes>"
      ]
     },
     "metadata": {},
     "output_type": "display_data"
    }
   ],
   "source": [
    "imperfect.retries.hist()"
   ]
  },
  {
   "cell_type": "code",
   "execution_count": 67,
   "id": "29fbb463-8692-4e2e-b1f1-bb221d12f231",
   "metadata": {},
   "outputs": [
    {
     "data": {
      "text/plain": [
       "count    380.000000\n",
       "mean       3.044737\n",
       "std        1.886097\n",
       "min        1.000000\n",
       "25%        2.000000\n",
       "50%        3.000000\n",
       "75%        4.000000\n",
       "max       14.000000\n",
       "Name: retries, dtype: float64"
      ]
     },
     "execution_count": 67,
     "metadata": {},
     "output_type": "execute_result"
    }
   ],
   "source": [
    "imperfect.retries.describe()"
   ]
  },
  {
   "cell_type": "code",
   "execution_count": null,
   "id": "8edbb16f-eda1-41fe-8700-5266b40dec18",
   "metadata": {},
   "outputs": [],
   "source": []
  }
 ],
 "metadata": {
  "kernelspec": {
   "display_name": "Python 3 (ipykernel)",
   "language": "python",
   "name": "python3"
  },
  "language_info": {
   "codemirror_mode": {
    "name": "ipython",
    "version": 3
   },
   "file_extension": ".py",
   "mimetype": "text/x-python",
   "name": "python",
   "nbconvert_exporter": "python",
   "pygments_lexer": "ipython3",
   "version": "3.10.12"
  }
 },
 "nbformat": 4,
 "nbformat_minor": 5
}
