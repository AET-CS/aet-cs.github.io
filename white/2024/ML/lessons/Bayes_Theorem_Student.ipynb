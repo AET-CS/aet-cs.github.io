{
 "cells": [
  {
   "cell_type": "markdown",
   "id": "9847ba1d-fd97-4d71-b4c8-a818e43d8bd1",
   "metadata": {},
   "source": [
    "# Bayes' Theorem"
   ]
  },
  {
   "cell_type": "markdown",
   "id": "869bb7bf-f459-460d-8467-9971eeb4f4c9",
   "metadata": {},
   "source": [
    "Bayes' Theorem gives us a way to *invert* conditional probabilities. The formula comes from the definition of conditional probability\n",
    "\n",
    "$$P(A|B) = \\dfrac{P(A \\cap B)}{P(B)}$$\n",
    "\n",
    "this implies the following\n",
    "\n",
    "$$P(A \\cap B) = P(A|B)P(B) = P(B|A)P(A)$$\n",
    "\n",
    "Solving for $P(A|B)$ we get\n",
    "\n",
    "$$P(A|B) = \\dfrac{P(B|A)P(A)}{P(B)}$$\n",
    "\n",
    "Though this is the final form, in practice you will need to compute $P(B)$ using the following\n",
    "\n",
    "$$P(B) = P(B|A)P(A) + P(B|\\overline{A})P(\\overline{A})$$\n",
    "\n",
    "which says the probability of $B$ is the sum of the probability of $B$ given $A$ and $B$ given not $A$. ($A$ is either true or false so these are the only two options)"
   ]
  },
  {
   "cell_type": "markdown",
   "id": "b6ab4822-dfe3-454e-b616-5a5206f3e1ad",
   "metadata": {},
   "source": [
    "## Exercise 1: Plot a Venn Diagram\n",
    "\n",
    "Using matplotlib, draw a simple Venn diagram representing two sets $A$, $B$ with a non-null intersection."
   ]
  },
  {
   "cell_type": "code",
   "execution_count": null,
   "id": "f974ea60-77e4-4e5a-a5fa-750c3ceacf10",
   "metadata": {},
   "outputs": [],
   "source": [
    "## Code here. Add cells as needed"
   ]
  },
  {
   "cell_type": "markdown",
   "id": "070788fd-658e-4e25-ad6a-e26811f69ebd",
   "metadata": {},
   "source": [
    "## Exercise 2: Compute Bayes' Probabilities\n",
    "\n",
    "We want to replicate the computation carried out in class. If a doctor performs a test that has a given accuracy, for a disease with a given incidence rate, determine the probability that a randomly selected person with a positive test result has the disease. You are given *accuracy* and *incidence* as input, both in the range $(0,1]$"
   ]
  },
  {
   "cell_type": "code",
   "execution_count": null,
   "id": "216e9624-c575-4e4d-980c-5946397dc5ed",
   "metadata": {},
   "outputs": [],
   "source": [
    "def get_bayes_probability(acc, inc):\n",
    "    ## code here\n",
    "    return bayes"
   ]
  },
  {
   "cell_type": "markdown",
   "id": "8b580df8-d228-4e0a-a5d3-5d1841492a84",
   "metadata": {},
   "source": [
    "Check some results below. The first one comes from class"
   ]
  },
  {
   "cell_type": "code",
   "execution_count": null,
   "id": "f5ff89fb-a27d-4f39-9600-258b21d02fd2",
   "metadata": {},
   "outputs": [],
   "source": [
    "get_bayes_probability(0.97,0.001)"
   ]
  },
  {
   "cell_type": "code",
   "execution_count": null,
   "id": "891faf16-367d-4769-8a2f-8f545276ac7e",
   "metadata": {},
   "outputs": [],
   "source": [
    "get_bayes_probability(0.97,0.01)"
   ]
  },
  {
   "cell_type": "code",
   "execution_count": null,
   "id": "b1835ee1-5650-421a-8483-31845c819604",
   "metadata": {},
   "outputs": [],
   "source": [
    "get_bayes_probability(0.97,0.1)"
   ]
  },
  {
   "cell_type": "code",
   "execution_count": null,
   "id": "56ea90c7-b0b9-4348-b00b-4b7412c0cb03",
   "metadata": {},
   "outputs": [],
   "source": [
    "get_bayes_probability(0.99,0.001)"
   ]
  },
  {
   "cell_type": "code",
   "execution_count": null,
   "id": "80e948e5-8c33-44a9-8fb6-c7766cc0cdfc",
   "metadata": {},
   "outputs": [],
   "source": [
    "get_bayes_probability(0.50,0.001)"
   ]
  },
  {
   "cell_type": "markdown",
   "id": "8fbe2e6b-ba5f-4e6f-a04b-3ec6627726ca",
   "metadata": {},
   "source": [
    "## Exercise 3: Plot"
   ]
  },
  {
   "cell_type": "markdown",
   "id": "fa98f336-8eb0-433c-8906-fdd9e1987aba",
   "metadata": {},
   "source": [
    "You will create two plots in the section. For a fixed incidence rate, plot the bayes probability as the accuracy of the test ranges from 0 to 100%.\n",
    "\n",
    "Then, for a fixed accuracy, plot the bayes probability as the incidence rate increases.\n",
    "\n",
    "**Note**, to avoid 1/0 errors you'll probably want to *not* go all the way to 0 or 1.\n",
    "\n",
    "State a conclusion about the results. What's the correlation? What do you observe? What do you think about accuracy measures for tests now?"
   ]
  },
  {
   "cell_type": "markdown",
   "id": "c309dd5f-85ec-4189-8942-7dd80ee45524",
   "metadata": {},
   "source": [
    "Hint: create two arrays `X,Y` (python lists) of the same length containing the X values in one array and the Y values in another. List comprehensions are the best way to do this in python, though a for loop is fine too (append to an initially empty list)\n",
    "\n",
    "then use `plt.plot(X,Y)`"
   ]
  },
  {
   "cell_type": "code",
   "execution_count": null,
   "id": "6cff0077-a48b-4222-8eff-f469eae56b04",
   "metadata": {},
   "outputs": [],
   "source": [
    "from matplotlib import pyplot as plt"
   ]
  },
  {
   "cell_type": "code",
   "execution_count": 1,
   "id": "ab6ab69d-701e-4618-a584-1460be259f3f",
   "metadata": {},
   "outputs": [],
   "source": [
    "# code here. add as needed"
   ]
  },
  {
   "cell_type": "markdown",
   "id": "0c44b7b8-1264-4b54-a65f-ed2744b56da6",
   "metadata": {},
   "source": [
    "## Exercise 4: Beautify plots"
   ]
  },
  {
   "cell_type": "markdown",
   "id": "158df79e-3b5b-462b-b87e-7fe167b1d763",
   "metadata": {},
   "source": [
    "Now go back and beautify your plots. Add a title and a legend. Some axis labels. Maybe read about matplotlib styles and change up the colors. Try a different type of  plot. Just experiment some. Results below."
   ]
  },
  {
   "cell_type": "code",
   "execution_count": null,
   "id": "89cb8589-d103-4979-a3e7-611ce1fbb297",
   "metadata": {},
   "outputs": [],
   "source": []
  }
 ],
 "metadata": {
  "kernelspec": {
   "display_name": "Python 3 (ipykernel)",
   "language": "python",
   "name": "python3"
  },
  "language_info": {
   "codemirror_mode": {
    "name": "ipython",
    "version": 3
   },
   "file_extension": ".py",
   "mimetype": "text/x-python",
   "name": "python",
   "nbconvert_exporter": "python",
   "pygments_lexer": "ipython3",
   "version": "3.11.9"
  }
 },
 "nbformat": 4,
 "nbformat_minor": 5
}
