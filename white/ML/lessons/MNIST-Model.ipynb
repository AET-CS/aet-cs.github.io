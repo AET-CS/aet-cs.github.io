{
 "cells": [
  {
   "cell_type": "markdown",
   "id": "dc9a1e37-0642-4f2c-8993-8d2f4f765a84",
   "metadata": {},
   "source": [
    "# Tensorflow 1"
   ]
  },
  {
   "cell_type": "markdown",
   "id": "0b25d89c-0452-4c0d-b45b-e44440a1ec87",
   "metadata": {},
   "source": [
    "## MNIST with one-hot encoding"
   ]
  },
  {
   "cell_type": "code",
   "execution_count": null,
   "id": "41b28ec1-6af2-4e14-87d6-8d046730bdba",
   "metadata": {},
   "outputs": [],
   "source": [
    "import tensorflow as tf\n",
    "from tensorflow import keras\n",
    "from keras.layers import Flatten, Dense\n",
    "from keras.models import Sequential\n",
    "import matplotlib.pyplot as plt\n",
    "import random\n",
    "import numpy as np"
   ]
  },
  {
   "cell_type": "code",
   "execution_count": null,
   "id": "eadc666c-8876-4217-b282-d5c06c7b843d",
   "metadata": {},
   "outputs": [],
   "source": [
    "# Load MNIST dataset\n",
    "mnist = tf.keras.datasets.mnist\n",
    "(x_train, y_train), (x_test, y_test) = mnist.load_data()"
   ]
  },
  {
   "cell_type": "code",
   "execution_count": null,
   "id": "7bd39c66-78d7-41bb-a37b-bcf5d5dc47f8",
   "metadata": {},
   "outputs": [],
   "source": [
    "x_train.shape"
   ]
  },
  {
   "cell_type": "code",
   "execution_count": null,
   "id": "93dea787-f3ce-4426-903b-7beb848e8082",
   "metadata": {},
   "outputs": [],
   "source": [
    "# Reshape and normalize data\n",
    "x_train = x_train.reshape(60000, 28, 28, 1).astype('float32') / 255.0\n",
    "x_test = x_test.reshape(10000, 28, 28, 1).astype('float32') / 255.0\n",
    "y_train = keras.utils.to_categorical(y_train,num_classes=10)\n",
    "y_test = keras.utils.to_categorical(y_test,num_classes=10)"
   ]
  },
  {
   "cell_type": "code",
   "execution_count": null,
   "id": "0b584e46-5a96-4449-8146-15fbed797b31",
   "metadata": {},
   "outputs": [],
   "source": [
    "y_train.shape"
   ]
  },
  {
   "cell_type": "code",
   "execution_count": null,
   "id": "6bc76ac6-3cae-4eb0-b9f9-2cb8ff68b51c",
   "metadata": {},
   "outputs": [],
   "source": [
    "y_train = y_train.reshape(-1,10,1)\n",
    "y_test = y_test.reshape(-1,10,1)"
   ]
  },
  {
   "cell_type": "code",
   "execution_count": null,
   "id": "5380e8b8-37a7-4aa5-b96e-b9c70fe5dce6",
   "metadata": {},
   "outputs": [],
   "source": [
    "# Create a simple model\n",
    "model = tf.keras.models.Sequential([\n",
    "  tf.keras.layers.Input(shape=(28,28,)),\n",
    "  tf.keras.layers.Flatten(),\n",
    "  tf.keras.layers.Dense(128, activation='relu'),\n",
    "  tf.keras.layers.Dense(10, activation='sigmoid')\n",
    "])\n",
    "model.predict(x_test[100:101])"
   ]
  },
  {
   "cell_type": "code",
   "execution_count": null,
   "id": "08ffeba9-6c36-49aa-958e-d404b7e00e43",
   "metadata": {},
   "outputs": [],
   "source": [
    "model.summary()"
   ]
  },
  {
   "cell_type": "code",
   "execution_count": null,
   "id": "25b29e2a-0fd4-402c-a684-49f58f0cab2a",
   "metadata": {},
   "outputs": [],
   "source": [
    "# Compile the model\n",
    "model.compile(optimizer='adam',\n",
    "              loss=tf.keras.losses.MSE)\n",
    "\n",
    "# Train the model\n",
    "history = model.fit(x_train, y_train, epochs=25, batch_size=512, validation_split=0.1)"
   ]
  },
  {
   "cell_type": "code",
   "execution_count": null,
   "id": "c11433cc-546b-4ffe-a1b7-c5d76803d0e8",
   "metadata": {},
   "outputs": [],
   "source": [
    "i = random.randint(0,x_test.shape[0])\n",
    "print(np.round(model.predict(x_test[i:i+1])), y_test[i].T)\n",
    "plt.imshow(x_test[i]);"
   ]
  },
  {
   "cell_type": "code",
   "execution_count": null,
   "id": "06fd1004-1e10-46ce-9d1d-2b80c9626f4d",
   "metadata": {},
   "outputs": [],
   "source": [
    "model.evaluate(x_test, y_test)"
   ]
  },
  {
   "cell_type": "code",
   "execution_count": null,
   "id": "9ef8df8c-55c2-4d28-99c1-741e10c84580",
   "metadata": {},
   "outputs": [],
   "source": [
    "y_prob = model.predict(x_test)\n",
    "y_pred = y_prob.argmax(axis=1)\n",
    "y_test_pred = y_test.argmax(axis=1)"
   ]
  },
  {
   "cell_type": "code",
   "execution_count": null,
   "id": "d1475841-104e-4aaa-9595-f9cf5590255f",
   "metadata": {},
   "outputs": [],
   "source": [
    "from sklearn.metrics import accuracy_score\n",
    "accuracy_score(y_test_pred,y_pred)"
   ]
  },
  {
   "cell_type": "code",
   "execution_count": null,
   "id": "4d58b6f2-b022-4975-bca2-5ce7b64232b3",
   "metadata": {},
   "outputs": [],
   "source": [
    "plt.plot(history.history['loss']);\n",
    "plt.plot(history.history['val_loss']);"
   ]
  },
  {
   "cell_type": "markdown",
   "id": "9a47d860-9fa2-4742-b190-31ecb81e3e60",
   "metadata": {},
   "source": [
    "## MNIST with sparse encoding"
   ]
  },
  {
   "cell_type": "code",
   "execution_count": 84,
   "id": "c327aa83-f25b-4a6a-b542-f69b7fba501d",
   "metadata": {},
   "outputs": [],
   "source": [
    "import tensorflow as tf\n",
    "from tensorflow import keras\n",
    "from keras.layers import Flatten, Dense\n",
    "from keras.models import Sequential\n",
    "import matplotlib.pyplot as plt\n",
    "import random\n",
    "import numpy as np"
   ]
  },
  {
   "cell_type": "code",
   "execution_count": 85,
   "id": "2a86e137-4a2d-414c-873c-c3c5f50efd8a",
   "metadata": {},
   "outputs": [],
   "source": [
    "# Load MNIST dataset\n",
    "mnist = tf.keras.datasets.mnist\n",
    "(x_train, y_train), (x_test, y_test) = mnist.load_data()"
   ]
  },
  {
   "cell_type": "code",
   "execution_count": 87,
   "id": "ed41a91e-ac07-44d3-b7cd-18f1e589b4af",
   "metadata": {},
   "outputs": [],
   "source": [
    "# Reshape and normalize data\n",
    "x_train = x_train.reshape(60000, 28, 28, 1).astype('float32') / 255.0\n",
    "x_test = x_test.reshape(10000, 28, 28, 1).astype('float32') / 255.0"
   ]
  },
  {
   "cell_type": "code",
   "execution_count": 91,
   "id": "57b184a3-8c39-4caa-8d4e-a1caace35a23",
   "metadata": {},
   "outputs": [
    {
     "data": {
      "text/plain": [
       "np.uint8(5)"
      ]
     },
     "execution_count": 91,
     "metadata": {},
     "output_type": "execute_result"
    }
   ],
   "source": [
    "y_train[100]"
   ]
  },
  {
   "cell_type": "code",
   "execution_count": 89,
   "id": "6f6f26da-b9d1-46b1-bb7b-e6ae8ef9d3d0",
   "metadata": {},
   "outputs": [
    {
     "name": "stdout",
     "output_type": "stream",
     "text": [
      "\u001b[1m1/1\u001b[0m \u001b[32m━━━━━━━━━━━━━━━━━━━━\u001b[0m\u001b[37m\u001b[0m \u001b[1m0s\u001b[0m 54ms/step\n"
     ]
    },
    {
     "data": {
      "text/plain": [
       "array([[0.49835962, 0.61073935, 0.5883535 , 0.42355967, 0.6177154 ,\n",
       "        0.35479707, 0.5545836 , 0.3928785 , 0.50490093, 0.6121017 ]],\n",
       "      dtype=float32)"
      ]
     },
     "execution_count": 89,
     "metadata": {},
     "output_type": "execute_result"
    }
   ],
   "source": [
    "# Create a simple model\n",
    "model = tf.keras.models.Sequential([\n",
    "  tf.keras.layers.Input(shape=(28,28,)),\n",
    "  tf.keras.layers.Flatten(),\n",
    "  tf.keras.layers.Dense(128, activation='relu'),\n",
    "  tf.keras.layers.Dense(10, activation='sigmoid')\n",
    "])\n",
    "model.predict(x_test[100:101])"
   ]
  },
  {
   "cell_type": "code",
   "execution_count": 93,
   "id": "9678a89c-c289-4d18-9b24-b56d007d84b6",
   "metadata": {},
   "outputs": [
    {
     "name": "stdout",
     "output_type": "stream",
     "text": [
      "Epoch 1/25\n",
      "\u001b[1m106/106\u001b[0m \u001b[32m━━━━━━━━━━━━━━━━━━━━\u001b[0m\u001b[37m\u001b[0m \u001b[1m1s\u001b[0m 4ms/step - loss: 1.0335 - val_loss: 0.2501\n",
      "Epoch 2/25\n",
      "\u001b[1m106/106\u001b[0m \u001b[32m━━━━━━━━━━━━━━━━━━━━\u001b[0m\u001b[37m\u001b[0m \u001b[1m0s\u001b[0m 4ms/step - loss: 0.2824 - val_loss: 0.1904\n",
      "Epoch 3/25\n",
      "\u001b[1m106/106\u001b[0m \u001b[32m━━━━━━━━━━━━━━━━━━━━\u001b[0m\u001b[37m\u001b[0m \u001b[1m0s\u001b[0m 4ms/step - loss: 0.2159 - val_loss: 0.1533\n",
      "Epoch 4/25\n",
      "\u001b[1m106/106\u001b[0m \u001b[32m━━━━━━━━━━━━━━━━━━━━\u001b[0m\u001b[37m\u001b[0m \u001b[1m0s\u001b[0m 3ms/step - loss: 0.1791 - val_loss: 0.1372\n",
      "Epoch 5/25\n",
      "\u001b[1m106/106\u001b[0m \u001b[32m━━━━━━━━━━━━━━━━━━━━\u001b[0m\u001b[37m\u001b[0m \u001b[1m0s\u001b[0m 3ms/step - loss: 0.1500 - val_loss: 0.1201\n",
      "Epoch 6/25\n",
      "\u001b[1m106/106\u001b[0m \u001b[32m━━━━━━━━━━━━━━━━━━━━\u001b[0m\u001b[37m\u001b[0m \u001b[1m0s\u001b[0m 3ms/step - loss: 0.1329 - val_loss: 0.1108\n",
      "Epoch 7/25\n",
      "\u001b[1m106/106\u001b[0m \u001b[32m━━━━━━━━━━━━━━━━━━━━\u001b[0m\u001b[37m\u001b[0m \u001b[1m0s\u001b[0m 3ms/step - loss: 0.1148 - val_loss: 0.1032\n",
      "Epoch 8/25\n",
      "\u001b[1m106/106\u001b[0m \u001b[32m━━━━━━━━━━━━━━━━━━━━\u001b[0m\u001b[37m\u001b[0m \u001b[1m0s\u001b[0m 3ms/step - loss: 0.0996 - val_loss: 0.0978\n",
      "Epoch 9/25\n",
      "\u001b[1m106/106\u001b[0m \u001b[32m━━━━━━━━━━━━━━━━━━━━\u001b[0m\u001b[37m\u001b[0m \u001b[1m0s\u001b[0m 3ms/step - loss: 0.0861 - val_loss: 0.0955\n",
      "Epoch 10/25\n",
      "\u001b[1m106/106\u001b[0m \u001b[32m━━━━━━━━━━━━━━━━━━━━\u001b[0m\u001b[37m\u001b[0m \u001b[1m0s\u001b[0m 3ms/step - loss: 0.0826 - val_loss: 0.0918\n",
      "Epoch 11/25\n",
      "\u001b[1m106/106\u001b[0m \u001b[32m━━━━━━━━━━━━━━━━━━━━\u001b[0m\u001b[37m\u001b[0m \u001b[1m0s\u001b[0m 3ms/step - loss: 0.0706 - val_loss: 0.0886\n",
      "Epoch 12/25\n",
      "\u001b[1m106/106\u001b[0m \u001b[32m━━━━━━━━━━━━━━━━━━━━\u001b[0m\u001b[37m\u001b[0m \u001b[1m0s\u001b[0m 3ms/step - loss: 0.0646 - val_loss: 0.0843\n",
      "Epoch 13/25\n",
      "\u001b[1m106/106\u001b[0m \u001b[32m━━━━━━━━━━━━━━━━━━━━\u001b[0m\u001b[37m\u001b[0m \u001b[1m0s\u001b[0m 3ms/step - loss: 0.0569 - val_loss: 0.0872\n",
      "Epoch 14/25\n",
      "\u001b[1m106/106\u001b[0m \u001b[32m━━━━━━━━━━━━━━━━━━━━\u001b[0m\u001b[37m\u001b[0m \u001b[1m0s\u001b[0m 3ms/step - loss: 0.0570 - val_loss: 0.0827\n",
      "Epoch 15/25\n",
      "\u001b[1m106/106\u001b[0m \u001b[32m━━━━━━━━━━━━━━━━━━━━\u001b[0m\u001b[37m\u001b[0m \u001b[1m0s\u001b[0m 4ms/step - loss: 0.0481 - val_loss: 0.0804\n",
      "Epoch 16/25\n",
      "\u001b[1m106/106\u001b[0m \u001b[32m━━━━━━━━━━━━━━━━━━━━\u001b[0m\u001b[37m\u001b[0m \u001b[1m0s\u001b[0m 3ms/step - loss: 0.0446 - val_loss: 0.0785\n",
      "Epoch 17/25\n",
      "\u001b[1m106/106\u001b[0m \u001b[32m━━━━━━━━━━━━━━━━━━━━\u001b[0m\u001b[37m\u001b[0m \u001b[1m0s\u001b[0m 4ms/step - loss: 0.0408 - val_loss: 0.0794\n",
      "Epoch 18/25\n",
      "\u001b[1m106/106\u001b[0m \u001b[32m━━━━━━━━━━━━━━━━━━━━\u001b[0m\u001b[37m\u001b[0m \u001b[1m0s\u001b[0m 4ms/step - loss: 0.0402 - val_loss: 0.0768\n",
      "Epoch 19/25\n",
      "\u001b[1m106/106\u001b[0m \u001b[32m━━━━━━━━━━━━━━━━━━━━\u001b[0m\u001b[37m\u001b[0m \u001b[1m0s\u001b[0m 3ms/step - loss: 0.0361 - val_loss: 0.0767\n",
      "Epoch 20/25\n",
      "\u001b[1m106/106\u001b[0m \u001b[32m━━━━━━━━━━━━━━━━━━━━\u001b[0m\u001b[37m\u001b[0m \u001b[1m0s\u001b[0m 4ms/step - loss: 0.0321 - val_loss: 0.0783\n",
      "Epoch 21/25\n",
      "\u001b[1m106/106\u001b[0m \u001b[32m━━━━━━━━━━━━━━━━━━━━\u001b[0m\u001b[37m\u001b[0m \u001b[1m0s\u001b[0m 3ms/step - loss: 0.0293 - val_loss: 0.0764\n",
      "Epoch 22/25\n",
      "\u001b[1m106/106\u001b[0m \u001b[32m━━━━━━━━━━━━━━━━━━━━\u001b[0m\u001b[37m\u001b[0m \u001b[1m0s\u001b[0m 3ms/step - loss: 0.0268 - val_loss: 0.0750\n",
      "Epoch 23/25\n",
      "\u001b[1m106/106\u001b[0m \u001b[32m━━━━━━━━━━━━━━━━━━━━\u001b[0m\u001b[37m\u001b[0m \u001b[1m0s\u001b[0m 3ms/step - loss: 0.0254 - val_loss: 0.0756\n",
      "Epoch 24/25\n",
      "\u001b[1m106/106\u001b[0m \u001b[32m━━━━━━━━━━━━━━━━━━━━\u001b[0m\u001b[37m\u001b[0m \u001b[1m0s\u001b[0m 4ms/step - loss: 0.0231 - val_loss: 0.0755\n",
      "Epoch 25/25\n",
      "\u001b[1m106/106\u001b[0m \u001b[32m━━━━━━━━━━━━━━━━━━━━\u001b[0m\u001b[37m\u001b[0m \u001b[1m0s\u001b[0m 3ms/step - loss: 0.0210 - val_loss: 0.0743\n"
     ]
    }
   ],
   "source": [
    "# Compile the model\n",
    "model.compile(optimizer='adam',\n",
    "              loss=tf.losses.SparseCategoricalCrossentropy)\n",
    "\n",
    "# Train the model\n",
    "history = model.fit(x_train, y_train, epochs=25, batch_size=512, validation_split=0.1)"
   ]
  },
  {
   "cell_type": "code",
   "execution_count": 95,
   "id": "71358a35-5b58-4e13-b9c9-f6a3d81c2687",
   "metadata": {},
   "outputs": [
    {
     "name": "stdout",
     "output_type": "stream",
     "text": [
      "\u001b[1m1/1\u001b[0m \u001b[32m━━━━━━━━━━━━━━━━━━━━\u001b[0m\u001b[37m\u001b[0m \u001b[1m0s\u001b[0m 38ms/step\n",
      "4 4\n"
     ]
    },
    {
     "data": {
      "image/png": "[encoded data removed]",
      "text/plain": [
       "<Figure size 640x480 with 1 Axes>"
      ]
     },
     "metadata": {},
     "output_type": "display_data"
    }
   ],
   "source": [
    "i = random.randint(0,x_test.shape[0])\n",
    "print(np.argmax(model.predict(x_test[i:i+1])), y_test[i].T)\n",
    "plt.imshow(x_test[i]);"
   ]
  },
  {
   "cell_type": "code",
   "execution_count": 96,
   "id": "c09791ac-02a6-4fa3-a085-cce9f3ee58ab",
   "metadata": {},
   "outputs": [
    {
     "name": "stdout",
     "output_type": "stream",
     "text": [
      "\u001b[1m313/313\u001b[0m \u001b[32m━━━━━━━━━━━━━━━━━━━━\u001b[0m\u001b[37m\u001b[0m \u001b[1m0s\u001b[0m 992us/step - loss: 0.0850\n"
     ]
    },
    {
     "data": {
      "text/plain": [
       "0.07495542615652084"
      ]
     },
     "execution_count": 96,
     "metadata": {},
     "output_type": "execute_result"
    }
   ],
   "source": [
    "model.evaluate(x_test, y_test)"
   ]
  },
  {
   "cell_type": "code",
   "execution_count": 104,
   "id": "a81e4645-0294-4350-b85d-46ca5f271a4f",
   "metadata": {},
   "outputs": [
    {
     "name": "stdout",
     "output_type": "stream",
     "text": [
      "\u001b[1m313/313\u001b[0m \u001b[32m━━━━━━━━━━━━━━━━━━━━\u001b[0m\u001b[37m\u001b[0m \u001b[1m0s\u001b[0m 760us/step\n"
     ]
    }
   ],
   "source": [
    "y_prob = model.predict(x_test)\n",
    "y_pred = np.argmax(y_prob, axis=1)"
   ]
  },
  {
   "cell_type": "code",
   "execution_count": 105,
   "id": "59c96397-1265-411a-aebc-7456d6800e3f",
   "metadata": {},
   "outputs": [
    {
     "data": {
      "text/plain": [
       "0.9788"
      ]
     },
     "execution_count": 105,
     "metadata": {},
     "output_type": "execute_result"
    }
   ],
   "source": [
    "from sklearn.metrics import accuracy_score\n",
    "accuracy_score(y_test,y_pred)"
   ]
  },
  {
   "cell_type": "code",
   "execution_count": 106,
   "id": "47301da2-0814-4e2b-ba6c-f8d747ea5af9",
   "metadata": {},
   "outputs": [
    {
     "data": {
      "image/png": "[encoded data removed]",
      "text/plain": [
       "<Figure size 640x480 with 1 Axes>"
      ]
     },
     "metadata": {},
     "output_type": "display_data"
    }
   ],
   "source": [
    "plt.plot(history.history['loss']);\n",
    "plt.plot(history.history['val_loss']);"
   ]
  }
 ],
 "metadata": {
  "kernelspec": {
   "display_name": "Python 3 (ipykernel)",
   "language": "python",
   "name": "python3"
  },
  "language_info": {
   "codemirror_mode": {
    "name": "ipython",
    "version": 3
   },
   "file_extension": ".py",
   "mimetype": "text/x-python",
   "name": "python",
   "nbconvert_exporter": "python",
   "pygments_lexer": "ipython3",
   "version": "3.11.9"
  }
 },
 "nbformat": 4,
 "nbformat_minor": 5
}
