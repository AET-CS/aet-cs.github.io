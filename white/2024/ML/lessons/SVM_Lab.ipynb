{
 "cells": [
  {
   "cell_type": "markdown",
   "id": "5035f0db-5d2d-402c-aa20-36467ebe243a",
   "metadata": {},
   "source": [
    "# SVM Lab"
   ]
  },
  {
   "cell_type": "code",
   "execution_count": 75,
   "id": "426773a3-7442-4e4c-a273-bc9c337f81e6",
   "metadata": {},
   "outputs": [],
   "source": [
    "import pandas as pd\n",
    "from sklearn.model_selection import train_test_split\n",
    "from sklearn.feature_extraction.text import TfidfVectorizer, CountVectorizer\n",
    "from sklearn.svm import SVC\n",
    "from sklearn.metrics import classification_report, accuracy_score\n",
    "from sklearn.preprocessing import OrdinalEncoder"
   ]
  },
  {
   "cell_type": "code",
   "execution_count": 81,
   "id": "e4578c77-c525-433b-8b6c-e4c3ebe6de18",
   "metadata": {},
   "outputs": [],
   "source": [
    "# Step 1: Load the dataset (replace with the path to your dataset)\n",
    "# The dataset should have two columns: 'label' (spam/ham) and 'message' (text)\n",
    "url = \"../data/spam.csv\"\n",
    "data = pd.read_csv(url, sep=',', header=None, names=['label', 'message','x1','x2','x3'])\n",
    "data = data.drop(['x1','x2','x3'], axis=1)"
   ]
  },
  {
   "cell_type": "code",
   "execution_count": 82,
   "id": "98036159-e837-4bf7-ae1b-2a029349f59b",
   "metadata": {},
   "outputs": [],
   "source": [
    "# Encode labels using OrdinalEncoder\n",
    "encoder = OrdinalEncoder()\n",
    "data['label'] = encoder.fit_transform(data[['label']])"
   ]
  },
  {
   "cell_type": "code",
   "execution_count": 83,
   "id": "e861861e-e426-49ed-8b70-cedf9c5958b8",
   "metadata": {},
   "outputs": [
    {
     "name": "stdout",
     "output_type": "stream",
     "text": [
      "Label Encoding:\n",
      "'ham' -> 0\n",
      "'spam' -> 1\n"
     ]
    }
   ],
   "source": [
    "# Print the mapping from labels to numerical values\n",
    "label_mapping = {category: idx for idx, category in enumerate(encoder.categories_[0])}\n",
    "print(\"Label Encoding:\")\n",
    "for label, value in label_mapping.items():\n",
    "    print(f\"'{label}' -> {value}\")"
   ]
  },
  {
   "cell_type": "code",
   "execution_count": 84,
   "id": "2f21e5af-8181-4fd0-af03-89ee58ac0438",
   "metadata": {},
   "outputs": [
    {
     "data": {
      "text/html": [
       "<div>\n",
       "<style scoped>\n",
       "    .dataframe tbody tr th:only-of-type {\n",
       "        vertical-align: middle;\n",
       "    }\n",
       "\n",
       "    .dataframe tbody tr th {\n",
       "        vertical-align: top;\n",
       "    }\n",
       "\n",
       "    .dataframe thead th {\n",
       "        text-align: right;\n",
       "    }\n",
       "</style>\n",
       "<table border=\"1\" class=\"dataframe\">\n",
       "  <thead>\n",
       "    <tr style=\"text-align: right;\">\n",
       "      <th></th>\n",
       "      <th>label</th>\n",
       "      <th>message</th>\n",
       "    </tr>\n",
       "  </thead>\n",
       "  <tbody>\n",
       "    <tr>\n",
       "      <th>0</th>\n",
       "      <td>0.00</td>\n",
       "      <td>Go until jurong point, crazy.. Available only ...</td>\n",
       "    </tr>\n",
       "    <tr>\n",
       "      <th>1</th>\n",
       "      <td>0.00</td>\n",
       "      <td>Ok lar... Joking wif u oni...</td>\n",
       "    </tr>\n",
       "    <tr>\n",
       "      <th>2</th>\n",
       "      <td>1.00</td>\n",
       "      <td>Free entry in 2 a wkly comp to win FA Cup fina...</td>\n",
       "    </tr>\n",
       "    <tr>\n",
       "      <th>3</th>\n",
       "      <td>0.00</td>\n",
       "      <td>U dun say so early hor... U c already then say...</td>\n",
       "    </tr>\n",
       "    <tr>\n",
       "      <th>4</th>\n",
       "      <td>0.00</td>\n",
       "      <td>Nah I don't think he goes to usf, he lives aro...</td>\n",
       "    </tr>\n",
       "    <tr>\n",
       "      <th>...</th>\n",
       "      <td>...</td>\n",
       "      <td>...</td>\n",
       "    </tr>\n",
       "    <tr>\n",
       "      <th>5567</th>\n",
       "      <td>1.00</td>\n",
       "      <td>This is the 2nd time we have tried 2 contact u...</td>\n",
       "    </tr>\n",
       "    <tr>\n",
       "      <th>5568</th>\n",
       "      <td>0.00</td>\n",
       "      <td>Will �_ b going to esplanade fr home?</td>\n",
       "    </tr>\n",
       "    <tr>\n",
       "      <th>5569</th>\n",
       "      <td>0.00</td>\n",
       "      <td>Pity, * was in mood for that. So...any other s...</td>\n",
       "    </tr>\n",
       "    <tr>\n",
       "      <th>5570</th>\n",
       "      <td>0.00</td>\n",
       "      <td>The guy did some bitching but I acted like i'd...</td>\n",
       "    </tr>\n",
       "    <tr>\n",
       "      <th>5571</th>\n",
       "      <td>0.00</td>\n",
       "      <td>Rofl. Its true to its name</td>\n",
       "    </tr>\n",
       "  </tbody>\n",
       "</table>\n",
       "<p>5572 rows × 2 columns</p>\n",
       "</div>"
      ],
      "text/plain": [
       "      label                                            message\n",
       "0      0.00  Go until jurong point, crazy.. Available only ...\n",
       "1      0.00                      Ok lar... Joking wif u oni...\n",
       "2      1.00  Free entry in 2 a wkly comp to win FA Cup fina...\n",
       "3      0.00  U dun say so early hor... U c already then say...\n",
       "4      0.00  Nah I don't think he goes to usf, he lives aro...\n",
       "...     ...                                                ...\n",
       "5567   1.00  This is the 2nd time we have tried 2 contact u...\n",
       "5568   0.00              Will �_ b going to esplanade fr home?\n",
       "5569   0.00  Pity, * was in mood for that. So...any other s...\n",
       "5570   0.00  The guy did some bitching but I acted like i'd...\n",
       "5571   0.00                         Rofl. Its true to its name\n",
       "\n",
       "[5572 rows x 2 columns]"
      ]
     },
     "execution_count": 84,
     "metadata": {},
     "output_type": "execute_result"
    }
   ],
   "source": [
    "df"
   ]
  },
  {
   "cell_type": "code",
   "execution_count": 85,
   "id": "a84d75b6-a863-4112-ab02-c6c54c9f6fa6",
   "metadata": {},
   "outputs": [],
   "source": [
    "# Step 2: Split the dataset into training and testing sets\n",
    "X_train, X_test, y_train, y_test = train_test_split(data['message'], data['label'], test_size=0.3, random_state=42)\n",
    "\n",
    "# Step 3: Text encoding using TF-IDF\n",
    "vectorizer = CountVectorizer(stop_words='english', max_features=1000)\n",
    "X_train_tfidf = vectorizer.fit_transform(X_train)\n",
    "X_test_tfidf = vectorizer.transform(X_test)"
   ]
  },
  {
   "cell_type": "code",
   "execution_count": 86,
   "id": "e70fff40-25b7-4b32-bbe8-073785c96c2b",
   "metadata": {},
   "outputs": [
    {
     "name": "stdout",
     "output_type": "stream",
     "text": [
      "Accuracy: 0.9778708133971292\n",
      "\n",
      "Classification Report:\n",
      "               precision    recall  f1-score   support\n",
      "\n",
      "         0.0       0.98      0.99      0.99      1453\n",
      "         1.0       0.96      0.87      0.91       219\n",
      "\n",
      "    accuracy                           0.98      1672\n",
      "   macro avg       0.97      0.93      0.95      1672\n",
      "weighted avg       0.98      0.98      0.98      1672\n",
      "\n"
     ]
    }
   ],
   "source": [
    "# Step 4: Train the SVM\n",
    "model = SVC(kernel='linear', C=1.0)\n",
    "model.fit(X_train_tfidf, y_train)\n",
    "\n",
    "# Step 5: Make predictions and evaluate\n",
    "y_pred = model.predict(X_test_tfidf)\n",
    "\n",
    "print(\"Accuracy:\", accuracy_score(y_test, y_pred))\n",
    "print(\"\\nClassification Report:\\n\", classification_report(y_test, y_pred))"
   ]
  },
  {
   "cell_type": "code",
   "execution_count": 45,
   "id": "845840ab-f99d-4aed-9b14-f71256a18622",
   "metadata": {},
   "outputs": [],
   "source": [
    "import numpy as np"
   ]
  },
  {
   "cell_type": "code",
   "execution_count": 46,
   "id": "8b3be4a3-95ca-4cf2-a2bb-20d29bccbe81",
   "metadata": {},
   "outputs": [
    {
     "name": "stdout",
     "output_type": "stream",
     "text": [
      "Decoded Predictions (First 10): ['ham' 'ham' 'ham' 'ham' 'spam' 'ham' 'ham' 'ham' 'ham' 'ham']\n",
      "Decoded Predictions (First 10): ['ham' 'ham' 'spam' 'ham' 'spam' 'ham' 'ham' 'ham' 'ham' 'ham']\n"
     ]
    }
   ],
   "source": [
    "# Decode predictions (optional)\n",
    "decoded_labels = encoder.inverse_transform(y_pred.reshape(-1, 1))\n",
    "print(\"Decoded Predictions (First 10):\", decoded_labels[:10].flatten())\n",
    "decoded_labels = encoder.inverse_transform(np.array(y_test).reshape(-1, 1))\n",
    "print(\"Decoded Predictions (First 10):\", decoded_labels[:10].flatten())"
   ]
  },
  {
   "cell_type": "code",
   "execution_count": 47,
   "id": "3f536e40-6201-48d0-beb8-ddc3ac7c0d46",
   "metadata": {},
   "outputs": [
    {
     "name": "stdout",
     "output_type": "stream",
     "text": [
      "\n",
      "Misclassified Examples:\n",
      "Message: Email AlertFrom: Jeri StewartSize: 2KBSubject: Low-cost prescripiton drvgsTo listen to email call 123\n",
      "True Label: spam\n",
      "Predicted Label: ham\n",
      "--------------------------------------------------\n",
      "Message: Hello darling how are you today? I would love to have a chat, why dont you tell me what you look like and what you are in to sexy?\n",
      "True Label: spam\n",
      "Predicted Label: ham\n",
      "--------------------------------------------------\n",
      "Message: LookAtMe!: Thanks for your purchase of a video clip from LookAtMe!, you've been charged 35p. Think you can do better? Why not send a video in a MMSto 32323.\n",
      "True Label: spam\n",
      "Predicted Label: ham\n",
      "--------------------------------------------------\n",
      "Message: Please call Amanda with regard to renewing or upgrading your current T-Mobile handset free of charge. Offer ends today. Tel 0845 021 3680 subject to T's and C's\n",
      "True Label: spam\n",
      "Predicted Label: ham\n",
      "--------------------------------------------------\n",
      "Message: As a registered optin subscriber ur draw 4 �100 gift voucher will be entered on receipt of a correct ans to 80062 Whats No1 in the BBC charts\n",
      "True Label: spam\n",
      "Predicted Label: ham\n",
      "--------------------------------------------------\n",
      "Message: Warner Village 83118 C Colin Farrell in SWAT this wkend @Warner Village & get 1 free med. Popcorn!Just show msg+ticket@kiosk.Valid 4-7/12. C t&c @kiosk. Reply SONY 4 mre film offers\n",
      "True Label: spam\n",
      "Predicted Label: ham\n",
      "--------------------------------------------------\n",
      "Message: Hi its LUCY Hubby at meetins all day Fri & I will B alone at hotel U fancy cumin over? Pls leave msg 2day 09099726395 Lucy x Calls�1/minMobsmoreLKPOBOX177HP51FL\n",
      "True Label: spam\n",
      "Predicted Label: ham\n",
      "--------------------------------------------------\n",
      "Message: Download as many ringtones as u like no restrictions, 1000s 2 choose. U can even send 2 yr buddys. Txt Sir to 80082 �3 \n",
      "True Label: spam\n",
      "Predicted Label: ham\n",
      "--------------------------------------------------\n",
      "Message: Ur balance is now �600. Next question: Complete the landmark, Big, A. Bob, B. Barry or C. Ben ?. Text A, B or C to 83738. Good luck!\n",
      "True Label: spam\n",
      "Predicted Label: ham\n",
      "--------------------------------------------------\n",
      "Message: Hi hope u get this txt~journey hasnt been gd,now about 50 mins late I think.\n",
      "True Label: ham\n",
      "Predicted Label: spam\n",
      "--------------------------------------------------\n"
     ]
    }
   ],
   "source": [
    "# Find misclassified examples\n",
    "y_pred = np.array(y_pred)\n",
    "y_test = np.array(y_test)\n",
    "misclassified_indices = (y_pred != y_test).nonzero()[0]  # Indices where predictions differ from true labels\n",
    "\n",
    "# Print the first few misclassified examples\n",
    "print(\"\\nMisclassified Examples:\")\n",
    "for idx in misclassified_indices[10:20]:  # Limit to 5 examples\n",
    "    print(f\"Message: {X_test.iloc[idx]}\")\n",
    "    print(f\"True Label: {encoder.inverse_transform([[y_test[idx]]])[0][0]}\")\n",
    "    print(f\"Predicted Label: {encoder.inverse_transform([[y_pred[idx]]])[0][0]}\")\n",
    "    print(\"-\" * 50)\n"
   ]
  },
  {
   "cell_type": "code",
   "execution_count": 12,
   "id": "fb679128-2a9d-40ba-ad88-754d679819cb",
   "metadata": {},
   "outputs": [
    {
     "data": {
      "image/png": "[encoded data removed]",
      "text/plain": [
       "<Figure size 600x500 with 2 Axes>"
      ]
     },
     "metadata": {},
     "output_type": "display_data"
    }
   ],
   "source": [
    "import seaborn as sns\n",
    "import matplotlib.pyplot as plt\n",
    "from sklearn.metrics import confusion_matrix\n",
    "\n",
    "# Step 1: Compute the confusion matrix\n",
    "cm = confusion_matrix(y_test, y_pred)\n",
    "\n",
    "# Step 2: Plot the confusion matrix\n",
    "plt.figure(figsize=(6, 5))\n",
    "sns.heatmap(cm, annot=True, fmt='d', cmap='Blues', xticklabels=encoder.categories_[0], yticklabels=encoder.categories_[0])\n",
    "\n",
    "# Adding labels and title\n",
    "plt.title('Confusion Matrix')\n",
    "plt.xlabel('Predicted Label')\n",
    "plt.ylabel('True Label')\n",
    "\n",
    "# Show the plot\n",
    "plt.show()\n"
   ]
  },
  {
   "cell_type": "code",
   "execution_count": 13,
   "id": "54a48b3c-84e3-44b9-a185-7e04aedacac2",
   "metadata": {},
   "outputs": [
    {
     "data": {
      "text/plain": [
       "<1x1000 sparse matrix of type '<class 'numpy.int64'>'\n",
       "\twith 9 stored elements in Compressed Sparse Row format>"
      ]
     },
     "execution_count": 13,
     "metadata": {},
     "output_type": "execute_result"
    }
   ],
   "source": [
    "X_train_tfidf[0][0]"
   ]
  },
  {
   "cell_type": "code",
   "execution_count": 14,
   "id": "f86c7bb3-5f0e-4b70-a893-439e4b4b4f61",
   "metadata": {},
   "outputs": [
    {
     "data": {
      "text/plain": [
       "708     To review and KEEP the fantastic Nokia N-Gage ...\n",
       "4338                   Just got outta class gonna go gym.\n",
       "5029    Is there coming friday is leave for pongal?do ...\n",
       "4921    Hi Dear Call me its urgnt. I don't know whats ...\n",
       "2592    My friend just got here and says he's upping h...\n",
       "                              ...                        \n",
       "3772    I came hostel. I m going to sleep. Plz call me...\n",
       "5191                               Sorry, I'll call later\n",
       "5226        Prabha..i'm soryda..realy..frm heart i'm sory\n",
       "5390                           Nt joking seriously i told\n",
       "860                   In work now. Going have in few min.\n",
       "Name: message, Length: 3900, dtype: object"
      ]
     },
     "execution_count": 14,
     "metadata": {},
     "output_type": "execute_result"
    }
   ],
   "source": [
    "X_train"
   ]
  },
  {
   "cell_type": "code",
   "execution_count": 15,
   "id": "4e43b3a5-4e40-4dc9-8653-5c75a253466a",
   "metadata": {},
   "outputs": [
    {
     "data": {
      "text/plain": [
       "708     1.0\n",
       "4338    0.0\n",
       "5029    0.0\n",
       "4921    0.0\n",
       "2592    0.0\n",
       "       ... \n",
       "3772    0.0\n",
       "5191    0.0\n",
       "5226    0.0\n",
       "5390    0.0\n",
       "860     0.0\n",
       "Name: label, Length: 3900, dtype: float64"
      ]
     },
     "execution_count": 15,
     "metadata": {},
     "output_type": "execute_result"
    }
   ],
   "source": [
    "y_train"
   ]
  },
  {
   "cell_type": "code",
   "execution_count": 16,
   "id": "8ac0faa4-d4a7-42b7-931a-737c69ce1ac6",
   "metadata": {},
   "outputs": [
    {
     "data": {
      "text/html": [
       "<div>\n",
       "<style scoped>\n",
       "    .dataframe tbody tr th:only-of-type {\n",
       "        vertical-align: middle;\n",
       "    }\n",
       "\n",
       "    .dataframe tbody tr th {\n",
       "        vertical-align: top;\n",
       "    }\n",
       "\n",
       "    .dataframe thead th {\n",
       "        text-align: right;\n",
       "    }\n",
       "</style>\n",
       "<table border=\"1\" class=\"dataframe\">\n",
       "  <thead>\n",
       "    <tr style=\"text-align: right;\">\n",
       "      <th></th>\n",
       "      <th>amazing</th>\n",
       "      <th>battery</th>\n",
       "      <th>better</th>\n",
       "      <th>broke</th>\n",
       "      <th>buy</th>\n",
       "      <th>highly</th>\n",
       "      <th>product</th>\n",
       "      <th>quality</th>\n",
       "      <th>recommend</th>\n",
       "      <th>service</th>\n",
       "    </tr>\n",
       "  </thead>\n",
       "  <tbody>\n",
       "    <tr>\n",
       "      <th>0</th>\n",
       "      <td>0.00</td>\n",
       "      <td>0.00</td>\n",
       "      <td>0.00</td>\n",
       "      <td>0.00</td>\n",
       "      <td>0.00</td>\n",
       "      <td>0.58</td>\n",
       "      <td>0.58</td>\n",
       "      <td>0.00</td>\n",
       "      <td>0.58</td>\n",
       "      <td>0.00</td>\n",
       "    </tr>\n",
       "    <tr>\n",
       "      <th>1</th>\n",
       "      <td>0.00</td>\n",
       "      <td>0.76</td>\n",
       "      <td>0.65</td>\n",
       "      <td>0.00</td>\n",
       "      <td>0.00</td>\n",
       "      <td>0.00</td>\n",
       "      <td>0.00</td>\n",
       "      <td>0.00</td>\n",
       "      <td>0.00</td>\n",
       "      <td>0.00</td>\n",
       "    </tr>\n",
       "    <tr>\n",
       "      <th>2</th>\n",
       "      <td>0.00</td>\n",
       "      <td>0.00</td>\n",
       "      <td>0.00</td>\n",
       "      <td>0.00</td>\n",
       "      <td>1.00</td>\n",
       "      <td>0.00</td>\n",
       "      <td>0.00</td>\n",
       "      <td>0.00</td>\n",
       "      <td>0.00</td>\n",
       "      <td>0.00</td>\n",
       "    </tr>\n",
       "    <tr>\n",
       "      <th>3</th>\n",
       "      <td>0.71</td>\n",
       "      <td>0.00</td>\n",
       "      <td>0.00</td>\n",
       "      <td>0.00</td>\n",
       "      <td>0.00</td>\n",
       "      <td>0.00</td>\n",
       "      <td>0.00</td>\n",
       "      <td>0.00</td>\n",
       "      <td>0.00</td>\n",
       "      <td>0.71</td>\n",
       "    </tr>\n",
       "    <tr>\n",
       "      <th>4</th>\n",
       "      <td>0.00</td>\n",
       "      <td>0.00</td>\n",
       "      <td>0.00</td>\n",
       "      <td>0.00</td>\n",
       "      <td>0.00</td>\n",
       "      <td>0.00</td>\n",
       "      <td>0.00</td>\n",
       "      <td>0.00</td>\n",
       "      <td>0.00</td>\n",
       "      <td>0.00</td>\n",
       "    </tr>\n",
       "    <tr>\n",
       "      <th>5</th>\n",
       "      <td>0.00</td>\n",
       "      <td>0.00</td>\n",
       "      <td>0.00</td>\n",
       "      <td>0.00</td>\n",
       "      <td>0.00</td>\n",
       "      <td>0.00</td>\n",
       "      <td>0.00</td>\n",
       "      <td>0.00</td>\n",
       "      <td>0.00</td>\n",
       "      <td>1.00</td>\n",
       "    </tr>\n",
       "    <tr>\n",
       "      <th>6</th>\n",
       "      <td>0.00</td>\n",
       "      <td>0.00</td>\n",
       "      <td>0.00</td>\n",
       "      <td>0.76</td>\n",
       "      <td>0.00</td>\n",
       "      <td>0.00</td>\n",
       "      <td>0.00</td>\n",
       "      <td>0.65</td>\n",
       "      <td>0.00</td>\n",
       "      <td>0.00</td>\n",
       "    </tr>\n",
       "    <tr>\n",
       "      <th>7</th>\n",
       "      <td>0.58</td>\n",
       "      <td>0.00</td>\n",
       "      <td>0.00</td>\n",
       "      <td>0.00</td>\n",
       "      <td>0.00</td>\n",
       "      <td>0.58</td>\n",
       "      <td>0.00</td>\n",
       "      <td>0.00</td>\n",
       "      <td>0.58</td>\n",
       "      <td>0.00</td>\n",
       "    </tr>\n",
       "    <tr>\n",
       "      <th>8</th>\n",
       "      <td>0.00</td>\n",
       "      <td>0.00</td>\n",
       "      <td>1.00</td>\n",
       "      <td>0.00</td>\n",
       "      <td>0.00</td>\n",
       "      <td>0.00</td>\n",
       "      <td>0.00</td>\n",
       "      <td>0.00</td>\n",
       "      <td>0.00</td>\n",
       "      <td>0.00</td>\n",
       "    </tr>\n",
       "    <tr>\n",
       "      <th>9</th>\n",
       "      <td>0.00</td>\n",
       "      <td>0.00</td>\n",
       "      <td>0.00</td>\n",
       "      <td>0.00</td>\n",
       "      <td>0.00</td>\n",
       "      <td>0.00</td>\n",
       "      <td>0.71</td>\n",
       "      <td>0.71</td>\n",
       "      <td>0.00</td>\n",
       "      <td>0.00</td>\n",
       "    </tr>\n",
       "  </tbody>\n",
       "</table>\n",
       "</div>"
      ],
      "text/plain": [
       "   amazing  battery  better  broke  buy  highly  product  quality  recommend  \\\n",
       "0     0.00     0.00    0.00   0.00 0.00    0.58     0.58     0.00       0.58   \n",
       "1     0.00     0.76    0.65   0.00 0.00    0.00     0.00     0.00       0.00   \n",
       "2     0.00     0.00    0.00   0.00 1.00    0.00     0.00     0.00       0.00   \n",
       "3     0.71     0.00    0.00   0.00 0.00    0.00     0.00     0.00       0.00   \n",
       "4     0.00     0.00    0.00   0.00 0.00    0.00     0.00     0.00       0.00   \n",
       "5     0.00     0.00    0.00   0.00 0.00    0.00     0.00     0.00       0.00   \n",
       "6     0.00     0.00    0.00   0.76 0.00    0.00     0.00     0.65       0.00   \n",
       "7     0.58     0.00    0.00   0.00 0.00    0.58     0.00     0.00       0.58   \n",
       "8     0.00     0.00    1.00   0.00 0.00    0.00     0.00     0.00       0.00   \n",
       "9     0.00     0.00    0.00   0.00 0.00    0.00     0.71     0.71       0.00   \n",
       "\n",
       "   service  \n",
       "0     0.00  \n",
       "1     0.00  \n",
       "2     0.00  \n",
       "3     0.71  \n",
       "4     0.00  \n",
       "5     1.00  \n",
       "6     0.00  \n",
       "7     0.00  \n",
       "8     0.00  \n",
       "9     0.00  "
      ]
     },
     "execution_count": 16,
     "metadata": {},
     "output_type": "execute_result"
    }
   ],
   "source": [
    "from sklearn.feature_extraction.text import TfidfVectorizer\n",
    "from tabulate import tabulate\n",
    "\n",
    "# Sample documents\n",
    "import pandas as pd\n",
    "from sklearn.feature_extraction.text import TfidfVectorizer\n",
    "\n",
    "# Example documents (larger and more varied)\n",
    "documents = [\n",
    "    \"I love this product! It's exactly what I was looking for. Highly recommend it to anyone.\",\n",
    "    \"The phone is great, but the battery life is a bit disappointing. It could be better.\",\n",
    "    \"Worst purchase ever! The screen cracked after a single drop. I will never buy from this brand again.\",\n",
    "    \"The service was excellent, and the food was amazing. Would definitely come back.\",\n",
    "    \"This is a fantastic book. The plot twists kept me on the edge of my seat. A must-read!\",\n",
    "    \"I received my order late, and it was missing an item. Very poor customer service.\",\n",
    "    \"Not as expected. The quality was cheap, and it broke within a few days of use.\",\n",
    "    \"Amazing experience! The staff was friendly, and the ambiance was perfect. Highly recommend this restaurant.\",\n",
    "    \"The movie was okay, but the pacing was slow. It could have been a lot better.\",\n",
    "    \"The product works well for the price. It’s not the best quality, but it gets the job done.\"\n",
    "]\n",
    "\n",
    "# Initialize the TfidfVectorizer\n",
    "vectorizer = TfidfVectorizer(stop_words='english', max_features = 10)\n",
    "\n",
    "# Fit and transform the documents into a TF-IDF matrix\n",
    "tfidf_matrix = vectorizer.fit_transform(documents)\n",
    "\n",
    "# Get the feature names (words)\n",
    "feature_names = vectorizer.get_feature_names_out()\n",
    "\n",
    "# Convert the matrix to a dense format and display\n",
    "dense_matrix = tfidf_matrix.todense()\n",
    "\n",
    "# Print the feature names and their corresponding TF-IDF values for each document\n",
    "df = pd.DataFrame(dense_matrix, columns=feature_names)\n",
    "pd.set_option('display.max_columns', None)\n",
    "pd.set_option('display.float_format', '{:.2f}'.format)\n",
    "df"
   ]
  },
  {
   "cell_type": "markdown",
   "id": "64cab6c5-7c2a-44d5-b61f-2b9cdc7620f8",
   "metadata": {},
   "source": [
    "## Count Vectorizer"
   ]
  },
  {
   "cell_type": "code",
   "execution_count": 27,
   "id": "1710a49d-a3d1-4514-9733-9c658ced8a8d",
   "metadata": {},
   "outputs": [
    {
     "name": "stdout",
     "output_type": "stream",
     "text": [
      "Accuracy: 97.97%\n"
     ]
    },
    {
     "data": {
      "image/png": "[encoded data removed]",
      "text/plain": [
       "<Figure size 640x480 with 2 Axes>"
      ]
     },
     "metadata": {},
     "output_type": "display_data"
    },
    {
     "name": "stdout",
     "output_type": "stream",
     "text": [
      "\n",
      "Label Encoding:\n",
      "ham = 0.0\n",
      "spam = 1.0\n"
     ]
    },
    {
     "name": "stderr",
     "output_type": "stream",
     "text": [
      "/home/pewhite/github/aet-cs/aet-cs.github.io/white/ML/env/lib/python3.11/site-packages/sklearn/base.py:493: UserWarning: X does not have valid feature names, but OrdinalEncoder was fitted with feature names\n",
      "  warnings.warn(\n"
     ]
    }
   ],
   "source": [
    "import pandas as pd\n",
    "from sklearn.model_selection import train_test_split\n",
    "from sklearn.svm import SVC\n",
    "from sklearn.metrics import accuracy_score, confusion_matrix\n",
    "from sklearn.feature_extraction.text import CountVectorizer\n",
    "import seaborn as sns\n",
    "import matplotlib.pyplot as plt\n",
    "\n",
    "url = \"../data/spam.csv\"\n",
    "data = pd.read_csv(url, sep=',', header=None, names=['label', 'message','x1','x2','x3'])\n",
    "data = data.drop(['x1','x2','x3'], axis=1)\n",
    "# Create DataFrame\n",
    "df = pd.DataFrame(data)\n",
    "\n",
    "# Encode labels using OrdinalEncoder\n",
    "from sklearn.preprocessing import OrdinalEncoder\n",
    "encoder = OrdinalEncoder()\n",
    "df['label'] = encoder.fit_transform(df[['label']])\n",
    "\n",
    "# Split data into features and target\n",
    "X = df['message']\n",
    "y = df['label']\n",
    "\n",
    "# Split into training and test sets\n",
    "X_train, X_test, y_train, y_test = train_test_split(X, y, test_size=0.3, random_state=42)\n",
    "\n",
    "# Use CountVectorizer for text encoding\n",
    "vectorizer = CountVectorizer(stop_words='english')\n",
    "X_train_vec = vectorizer.fit_transform(X_train)\n",
    "X_test_vec = vectorizer.transform(X_test)\n",
    "\n",
    "# Train an SVM classifier\n",
    "svm_classifier = SVC(kernel='linear')\n",
    "svm_classifier.fit(X_train_vec, y_train)\n",
    "\n",
    "# Make predictions\n",
    "y_pred = svm_classifier.predict(X_test_vec)\n",
    "\n",
    "# Evaluate accuracy\n",
    "accuracy = accuracy_score(y_test, y_pred)\n",
    "print(f\"Accuracy: {accuracy * 100:.2f}%\")\n",
    "\n",
    "# Confusion Matrix\n",
    "conf_matrix = confusion_matrix(y_test, y_pred)\n",
    "sns.heatmap(conf_matrix, annot=True, fmt=\"d\", cmap=\"Blues\", xticklabels=encoder.categories_[0], yticklabels=encoder.categories_[0])\n",
    "plt.xlabel('Predicted')\n",
    "plt.ylabel('Actual')\n",
    "plt.title('Confusion Matrix')\n",
    "plt.show()\n",
    "\n",
    "# Print encoding of labels\n",
    "print(\"\\nLabel Encoding:\")\n",
    "for label, encoded in zip(encoder.categories_[0], encoder.transform([[label] for label in encoder.categories_[0]])):\n",
    "    print(f\"{label} = {encoded[0]}\")\n"
   ]
  },
  {
   "cell_type": "markdown",
   "id": "72f6a463-5732-467d-a78d-eebf6258c3f8",
   "metadata": {},
   "source": [
    "## Word Embeddings"
   ]
  },
  {
   "cell_type": "code",
   "execution_count": 23,
   "id": "940963d1-78b9-45b7-8451-6e238dbb7174",
   "metadata": {},
   "outputs": [],
   "source": [
    "import gensim.downloader as api\n",
    "import numpy as np\n",
    "import pandas as pd\n",
    "from sklearn.model_selection import train_test_split\n",
    "from sklearn.svm import SVC\n",
    "from sklearn.metrics import accuracy_score, confusion_matrix\n",
    "import seaborn as sns\n",
    "import matplotlib.pyplot as plt\n",
    "\n",
    "# Load pre-trained Word2Vec model (Google's Word2Vec)\n",
    "word2vec = api.load(\"word2vec-google-news-300\")  # 300-dimensional vectors\n",
    "url = \"../data/spam.csv\"\n",
    "data = pd.read_csv(url, sep=',', header=None, names=['label', 'message','x1','x2','x3'])\n",
    "data = data.drop(['x1','x2','x3'], axis=1)\n",
    "# Create DataFrame\n",
    "df = pd.DataFrame(data)"
   ]
  },
  {
   "cell_type": "code",
   "execution_count": 38,
   "id": "2ab4bcb1-04cf-4732-b3cc-46c602dc5f98",
   "metadata": {},
   "outputs": [
    {
     "name": "stdout",
     "output_type": "stream",
     "text": [
      "Accuracy: 96.53%\n"
     ]
    },
    {
     "data": {
      "image/png": "[encoded data removed]",
      "text/plain": [
       "<Figure size 640x480 with 2 Axes>"
      ]
     },
     "metadata": {},
     "output_type": "display_data"
    },
    {
     "name": "stdout",
     "output_type": "stream",
     "text": [
      "\n",
      "Label Encoding:\n",
      "0.0 = 0.0\n",
      "1.0 = 1.0\n"
     ]
    },
    {
     "name": "stderr",
     "output_type": "stream",
     "text": [
      "/home/pewhite/github/aet-cs/aet-cs.github.io/white/ML/env/lib/python3.11/site-packages/sklearn/base.py:493: UserWarning: X does not have valid feature names, but OrdinalEncoder was fitted with feature names\n",
      "  warnings.warn(\n"
     ]
    }
   ],
   "source": [
    "# Encode labels using OrdinalEncoder\n",
    "from sklearn.preprocessing import OrdinalEncoder\n",
    "encoder = OrdinalEncoder()\n",
    "df['label'] = encoder.fit_transform(df[['label']])\n",
    "\n",
    "# Split data into features and target\n",
    "X = df['message']\n",
    "y = df['label']\n",
    "\n",
    "# Split into training and test sets\n",
    "X_train, X_test, y_train, y_test = train_test_split(X, y, test_size=0.3, random_state=42)\n",
    "\n",
    "# Function to average Word2Vec embeddings for each document\n",
    "def average_word2vec(doc):\n",
    "    word_vectors = [word2vec[word] for word in doc.split() if word in word2vec]\n",
    "    if word_vectors:\n",
    "        return np.mean(word_vectors, axis=0)\n",
    "    else:\n",
    "        return np.zeros(word2vec.vector_size)  # Return a vector of zeros if no words are found\n",
    "\n",
    "# Transform the text data into Word2Vec embeddings\n",
    "X_train_vec = np.array([average_word2vec(text) for text in X_train])\n",
    "X_test_vec = np.array([average_word2vec(text) for text in X_test])\n",
    "\n",
    "# Train an SVM classifier\n",
    "svm_classifier = SVC(kernel='poly', degree=2)\n",
    "svm_classifier.fit(X_train_vec, y_train)\n",
    "\n",
    "# Make predictions\n",
    "y_pred = svm_classifier.predict(X_test_vec)\n",
    "\n",
    "# Evaluate accuracy\n",
    "accuracy = accuracy_score(y_test, y_pred)\n",
    "print(f\"Accuracy: {accuracy * 100:.2f}%\")\n",
    "\n",
    "# Confusion Matrix\n",
    "conf_matrix = confusion_matrix(y_test, y_pred)\n",
    "sns.heatmap(conf_matrix, annot=True, fmt=\"d\", cmap=\"Blues\", xticklabels=encoder.categories_[0], yticklabels=encoder.categories_[0])\n",
    "plt.xlabel('Predicted')\n",
    "plt.ylabel('Actual')\n",
    "plt.title('Confusion Matrix')\n",
    "plt.show()\n",
    "\n",
    "# Print encoding of labels\n",
    "print(\"\\nLabel Encoding:\")\n",
    "for label, encoded in zip(encoder.categories_[0], encoder.transform([[label] for label in encoder.categories_[0]])):\n",
    "    print(f\"{label} = {encoded[0]}\")"
   ]
  },
  {
   "cell_type": "code",
   "execution_count": null,
   "id": "0ce1b4c6-726a-4cb2-acf5-d69fd384e4fd",
   "metadata": {},
   "outputs": [],
   "source": []
  }
 ],
 "metadata": {
  "kernelspec": {
   "display_name": "ML Python",
   "language": "python",
   "name": "myenv"
  },
  "language_info": {
   "codemirror_mode": {
    "name": "ipython",
    "version": 3
   },
   "file_extension": ".py",
   "mimetype": "text/x-python",
   "name": "python",
   "nbconvert_exporter": "python",
   "pygments_lexer": "ipython3",
   "version": "3.11.9"
  }
 },
 "nbformat": 4,
 "nbformat_minor": 5
}
