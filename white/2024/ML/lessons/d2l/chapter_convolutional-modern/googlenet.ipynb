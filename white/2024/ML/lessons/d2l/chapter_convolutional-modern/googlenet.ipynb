{
 "cells": [
  {
   "cell_type": "markdown",
   "id": "5e15c775",
   "metadata": {
    "origin_pos": 1
   },
   "source": [
    "# Multi-Branch Networks  (GoogLeNet)\n",
    ":label:`sec_googlenet`\n",
    "\n",
    "In 2014, *GoogLeNet*\n",
    "won the ImageNet Challenge :cite:`Szegedy.Liu.Jia.ea.2015`, using a structure\n",
    "that combined the strengths of NiN :cite:`Lin.Chen.Yan.2013`, repeated blocks :cite:`Simonyan.Zisserman.2014`,\n",
    "and a cocktail of convolution kernels. It was arguably also the first network that exhibited a clear distinction among the stem (data ingest), body (data processing), and head (prediction) in a CNN. This design pattern has persisted ever since in the design of deep networks: the *stem* is given by the first two or three convolutions that operate on the image. They extract low-level features from the underlying images. This is followed by a *body* of convolutional blocks. Finally, the *head* maps the features obtained so far to the required classification, segmentation, detection, or tracking problem at hand.\n",
    "\n",
    "The key contribution in GoogLeNet was the design of the network body. It solved the problem of selecting\n",
    "convolution kernels in an ingenious way. While other works tried to identify which convolution, ranging from $1 \\times 1$ to $11 \\times 11$ would be best, it simply *concatenated* multi-branch convolutions.\n",
    "In what follows we introduce a slightly simplified version of GoogLeNet: the original design included a number of tricks for stabilizing training through intermediate loss functions, applied to multiple layers of the network. \n",
    "They are no longer necessary due to the availability of improved training algorithms.\n"
   ]
  },
  {
   "cell_type": "code",
   "execution_count": 2,
   "id": "af344c32",
   "metadata": {
    "origin_pos": 4,
    "tab": [
     "tensorflow"
    ]
   },
   "outputs": [
    {
     "name": "stderr",
     "output_type": "stream",
     "text": [
      "2025-02-28 09:40:28.076866: I tensorflow/core/util/port.cc:153] oneDNN custom operations are on. You may see slightly different numerical results due to floating-point round-off errors from different computation orders. To turn them off, set the environment variable `TF_ENABLE_ONEDNN_OPTS=0`.\n",
      "2025-02-28 09:40:28.077388: I external/local_xla/xla/tsl/cuda/cudart_stub.cc:32] Could not find cuda drivers on your machine, GPU will not be used.\n",
      "2025-02-28 09:40:28.080176: I external/local_xla/xla/tsl/cuda/cudart_stub.cc:32] Could not find cuda drivers on your machine, GPU will not be used.\n",
      "2025-02-28 09:40:28.088196: E external/local_xla/xla/stream_executor/cuda/cuda_fft.cc:477] Unable to register cuFFT factory: Attempting to register factory for plugin cuFFT when one has already been registered\n",
      "WARNING: All log messages before absl::InitializeLog() is called are written to STDERR\n",
      "E0000 00:00:1740753628.102344  398519 cuda_dnn.cc:8310] Unable to register cuDNN factory: Attempting to register factory for plugin cuDNN when one has already been registered\n",
      "E0000 00:00:1740753628.106391  398519 cuda_blas.cc:1418] Unable to register cuBLAS factory: Attempting to register factory for plugin cuBLAS when one has already been registered\n",
      "2025-02-28 09:40:28.120814: I tensorflow/core/platform/cpu_feature_guard.cc:210] This TensorFlow binary is optimized to use available CPU instructions in performance-critical operations.\n",
      "To enable the following instructions: AVX2 AVX512F AVX512_VNNI FMA, in other operations, rebuild TensorFlow with the appropriate compiler flags.\n"
     ]
    }
   ],
   "source": [
    "import tensorflow as tf"
   ]
  },
  {
   "cell_type": "markdown",
   "id": "319aea37",
   "metadata": {
    "origin_pos": 6
   },
   "source": [
    "## (**Inception Blocks**)\n",
    "\n",
    "The basic convolutional block in GoogLeNet is called an *Inception block*,\n",
    "stemming from the meme \"we need to go deeper\" from the movie *Inception*.\n",
    "\n",
    "![Structure of the Inception block.](../img/inception.svg)\n",
    ":label:`fig_inception`\n",
    "\n",
    "As depicted in :numref:`fig_inception`,\n",
    "the inception block consists of four parallel branches.\n",
    "The first three branches use convolutional layers\n",
    "with window sizes of $1\\times 1$, $3\\times 3$, and $5\\times 5$\n",
    "to extract information from different spatial sizes.\n",
    "The middle two branches also add a $1\\times 1$ convolution of the input\n",
    "to reduce the number of channels, reducing the model's complexity.\n",
    "The fourth branch uses a $3\\times 3$ max-pooling layer,\n",
    "followed by a $1\\times 1$ convolutional layer\n",
    "to change the number of channels.\n",
    "The four branches all use appropriate padding to give the input and output the same height and width.\n",
    "Finally, the outputs along each branch are concatenated\n",
    "along the channel dimension and comprise the block's output.\n",
    "The commonly-tuned hyperparameters of the Inception block\n",
    "are the number of output channels per layer, i.e., how to allocate capacity among convolutions of different size.\n"
   ]
  },
  {
   "cell_type": "code",
   "execution_count": 3,
   "id": "26ad9e89",
   "metadata": {
    "origin_pos": 9,
    "tab": [
     "tensorflow"
    ]
   },
   "outputs": [],
   "source": [
    "class Inception(tf.keras.Model):\n",
    "    # c1--c4 are the number of output channels for each branch\n",
    "    def __init__(self, c1, c2, c3, c4):\n",
    "        super().__init__()\n",
    "        self.b1_1 = tf.keras.layers.Conv2D(c1, 1, activation='relu')\n",
    "        self.b2_1 = tf.keras.layers.Conv2D(c2[0], 1, activation='relu')\n",
    "        self.b2_2 = tf.keras.layers.Conv2D(c2[1], 3, padding='same',\n",
    "                                           activation='relu')\n",
    "        self.b3_1 = tf.keras.layers.Conv2D(c3[0], 1, activation='relu')\n",
    "        self.b3_2 = tf.keras.layers.Conv2D(c3[1], 5, padding='same',\n",
    "                                           activation='relu')\n",
    "        self.b4_1 = tf.keras.layers.MaxPool2D(3, 1, padding='same')\n",
    "        self.b4_2 = tf.keras.layers.Conv2D(c4, 1, activation='relu')\n",
    "\n",
    "    def call(self, x):\n",
    "        b1 = self.b1_1(x)\n",
    "        b2 = self.b2_2(self.b2_1(x))\n",
    "        b3 = self.b3_2(self.b3_1(x))\n",
    "        b4 = self.b4_2(self.b4_1(x))\n",
    "        return tf.keras.layers.Concatenate()([b1, b2, b3, b4])"
   ]
  },
  {
   "cell_type": "markdown",
   "id": "fe97c458",
   "metadata": {
    "origin_pos": 11
   },
   "source": [
    "To gain some intuition for why this network works so well,\n",
    "consider the combination of the filters.\n",
    "They explore the image in a variety of filter sizes.\n",
    "This means that details at different extents\n",
    "can be recognized efficiently by filters of different sizes.\n",
    "At the same time, we can allocate different amounts of parameters\n",
    "for different filters.\n",
    "\n",
    "\n",
    "## [**GoogLeNet Model**]\n",
    "\n",
    "As shown in :numref:`fig_inception_full`, GoogLeNet uses a stack of a total of 9 inception blocks, arranged into three groups with max-pooling in between,\n",
    "and global average pooling in its head to generate its estimates.\n",
    "Max-pooling between inception blocks reduces the dimensionality.\n",
    "At its stem, the first module is similar to AlexNet and LeNet.\n",
    "\n",
    "![The GoogLeNet architecture.](../img/inception-full-90.svg)\n",
    ":label:`fig_inception_full`\n",
    "\n",
    "We can now implement GoogLeNet piece by piece. Let's begin with the stem.\n",
    "The first module uses a 64-channel $7\\times 7$ convolutional layer.\n"
   ]
  },
  {
   "cell_type": "code",
   "execution_count": 21,
   "id": "993f7c21",
   "metadata": {
    "origin_pos": 12,
    "tab": [
     "tensorflow"
    ]
   },
   "outputs": [],
   "source": [
    "class GoogleNet:\n",
    "    def b1(self):\n",
    "        return tf.keras.models.Sequential([\n",
    "            tf.keras.layers.Input([96,96,1]),\n",
    "            tf.keras.layers.Conv2D(64, 7, strides=2, padding='same',\n",
    "                                   activation='relu'),\n",
    "            tf.keras.layers.MaxPool2D(pool_size=3, strides=2,\n",
    "                                      padding='same')])"
   ]
  },
  {
   "cell_type": "markdown",
   "id": "69e1f3e6",
   "metadata": {
    "origin_pos": 14
   },
   "source": [
    "The second module uses two convolutional layers:\n",
    "first, a 64-channel $1\\times 1$ convolutional layer,\n",
    "followed by a $3\\times 3$ convolutional layer that triples the number of channels. This corresponds to the second branch in the Inception block and concludes the design of the body. At this point we have 192 channels.\n"
   ]
  },
  {
   "cell_type": "code",
   "execution_count": 22,
   "id": "acd15f8b",
   "metadata": {
    "origin_pos": 15,
    "tab": [
     "tensorflow"
    ]
   },
   "outputs": [],
   "source": [
    "def b2(self):\n",
    "    return tf.keras.Sequential([\n",
    "        tf.keras.layers.Conv2D(64, 1, activation='relu'),\n",
    "        tf.keras.layers.Conv2D(192, 3, padding='same', activation='relu'),\n",
    "        tf.keras.layers.MaxPool2D(pool_size=3, strides=2, padding='same')])\n",
    "setattr(GoogleNet, \"b2\", b2)"
   ]
  },
  {
   "cell_type": "markdown",
   "id": "5ad0c69f",
   "metadata": {
    "origin_pos": 16
   },
   "source": [
    "The third module connects two complete Inception blocks in series.\n",
    "The number of output channels of the first Inception block is\n",
    "$64+128+32+32=256$. This amounts to \n",
    "a ratio of the number of output channels\n",
    "among the four branches of $2:4:1:1$. To achieve this, we first reduce the input\n",
    "dimensions by $\\frac{1}{2}$ and by $\\frac{1}{12}$ in the second and third branch respectively\n",
    "to arrive at $96 = 192/2$ and $16 = 192/12$ channels respectively.\n",
    "\n",
    "The number of output channels of the second Inception block\n",
    "is increased to $128+192+96+64=480$, yielding a ratio of $128:192:96:64 = 4:6:3:2$. As before,\n",
    "we need to reduce the number of intermediate dimensions in the second and third channel. A\n",
    "scale of $\\frac{1}{2}$ and $\\frac{1}{8}$ respectively suffices, yielding $128$ and $32$ channels\n",
    "respectively. This is captured by the arguments of the following `Inception` block constructors.\n"
   ]
  },
  {
   "cell_type": "code",
   "execution_count": 23,
   "id": "34e92e09",
   "metadata": {
    "origin_pos": 17,
    "tab": [
     "tensorflow"
    ]
   },
   "outputs": [],
   "source": [
    "def b3(self):\n",
    "    return tf.keras.models.Sequential([\n",
    "        Inception(64, (96, 128), (16, 32), 32),\n",
    "        Inception(128, (128, 192), (32, 96), 64),\n",
    "        tf.keras.layers.MaxPool2D(pool_size=3, strides=2, padding='same')])\n",
    "setattr(GoogleNet, \"b3\", b3)"
   ]
  },
  {
   "cell_type": "markdown",
   "id": "aa3630d6",
   "metadata": {
    "origin_pos": 18
   },
   "source": [
    "The fourth module is more complicated.\n",
    "It connects five Inception blocks in series,\n",
    "and they have $192+208+48+64=512$, $160+224+64+64=512$,\n",
    "$128+256+64+64=512$, $112+288+64+64=528$,\n",
    "and $256+320+128+128=832$ output channels, respectively.\n",
    "The number of channels assigned to these branches is similar\n",
    "to that in the third module:\n",
    "the second branch with the $3\\times 3$ convolutional layer\n",
    "outputs the largest number of channels,\n",
    "followed by the first branch with only the $1\\times 1$ convolutional layer,\n",
    "the third branch with the $5\\times 5$ convolutional layer,\n",
    "and the fourth branch with the $3\\times 3$ max-pooling layer.\n",
    "The second and third branches will first reduce\n",
    "the number of channels according to the ratio.\n",
    "These ratios are slightly different in different Inception blocks.\n"
   ]
  },
  {
   "cell_type": "code",
   "execution_count": 24,
   "id": "20cec9c7",
   "metadata": {
    "origin_pos": 19,
    "tab": [
     "tensorflow"
    ]
   },
   "outputs": [],
   "source": [
    "def b4(self):\n",
    "    return tf.keras.Sequential([\n",
    "        Inception(192, (96, 208), (16, 48), 64),\n",
    "        Inception(160, (112, 224), (24, 64), 64),\n",
    "        Inception(128, (128, 256), (24, 64), 64),\n",
    "        Inception(112, (144, 288), (32, 64), 64),\n",
    "        Inception(256, (160, 320), (32, 128), 128),\n",
    "        tf.keras.layers.MaxPool2D(pool_size=3, strides=2, padding='same')])\n",
    "setattr(GoogleNet, \"b4\", b4)"
   ]
  },
  {
   "cell_type": "markdown",
   "id": "ce8b0b6f",
   "metadata": {
    "origin_pos": 20
   },
   "source": [
    "The fifth module has two Inception blocks with $256+320+128+128=832$\n",
    "and $384+384+128+128=1024$ output channels.\n",
    "The number of channels assigned to each branch\n",
    "is the same as that in the third and fourth modules,\n",
    "but differs in specific values.\n",
    "It should be noted that the fifth block is followed by the output layer.\n",
    "This block uses the global average pooling layer\n",
    "to change the height and width of each channel to 1, just as in NiN.\n",
    "Finally, we turn the output into a two-dimensional array\n",
    "followed by a fully connected layer\n",
    "whose number of outputs is the number of label classes.\n"
   ]
  },
  {
   "cell_type": "code",
   "execution_count": 25,
   "id": "9f1c822e",
   "metadata": {
    "origin_pos": 21,
    "tab": [
     "tensorflow"
    ]
   },
   "outputs": [],
   "source": [
    "def b5(self):\n",
    "    return tf.keras.Sequential([\n",
    "        Inception(256, (160, 320), (32, 128), 128),\n",
    "        Inception(384, (192, 384), (48, 128), 128),\n",
    "        tf.keras.layers.GlobalAvgPool2D(),\n",
    "        tf.keras.layers.Flatten()])\n",
    "setattr(GoogleNet, \"b5\", b5)"
   ]
  },
  {
   "cell_type": "markdown",
   "id": "d3f89479",
   "metadata": {
    "origin_pos": 22
   },
   "source": [
    "Now that we defined all blocks `b1` through `b5`, it is just a matter of assembling them all into a full network.\n"
   ]
  },
  {
   "cell_type": "code",
   "execution_count": 26,
   "id": "4ee43d72",
   "metadata": {
    "origin_pos": 23,
    "tab": [
     "tensorflow"
    ]
   },
   "outputs": [],
   "source": [
    "def __init__(self, lr=0.1, num_classes=10):\n",
    "    super(GoogleNet, self).__init__()\n",
    "    self.net = tf.keras.Sequential([\n",
    "        self.b1(), self.b2(), self.b3(), self.b4(), self.b5(),\n",
    "        tf.keras.layers.Dense(num_classes)])\n",
    "setattr(GoogleNet, \"__init__\", __init__)"
   ]
  },
  {
   "cell_type": "markdown",
   "id": "394acb0d",
   "metadata": {
    "origin_pos": 24
   },
   "source": [
    "The GoogLeNet model is computationally complex. Note the large number of\n",
    "relatively arbitrary hyperparameters in terms of the number of channels chosen, the number of blocks prior to dimensionality reduction, the relative partitioning of capacity across channels, etc. Much of it is due to the \n",
    "fact that at the time when GoogLeNet was introduced, automatic tools for network definition or design exploration \n",
    "were not yet available. For instance, by now we take it for granted that a competent deep learning framework is capable of inferring dimensionalities of input tensors automatically. At the time, many such configurations had to be specified explicitly by the experimenter, thus often slowing down active experimentation. Moreover, the tools needed for automatic exploration were still in flux and initial experiments largely amounted to costly brute-force exploration, genetic algorithms, and similar strategies. \n",
    "\n",
    "For now the only modification we will carry out is to\n",
    "[**reduce the input height and width from 224 to 96\n",
    "to have a reasonable training time on Fashion-MNIST.**]\n",
    "This simplifies the computation. Let's have a look at the\n",
    "changes in the shape of the output between the various modules.\n"
   ]
  },
  {
   "cell_type": "code",
   "execution_count": 27,
   "id": "6daaea1a",
   "metadata": {
    "origin_pos": 26,
    "tab": [
     "tensorflow"
    ]
   },
   "outputs": [
    {
     "name": "stderr",
     "output_type": "stream",
     "text": [
      "2025-02-28 09:47:09.359295: E external/local_xla/xla/stream_executor/cuda/cuda_driver.cc:152] failed call to cuInit: INTERNAL: CUDA error: Failed call to cuInit: UNKNOWN ERROR (303)\n"
     ]
    },
    {
     "data": {
      "text/html": [
       "<pre style=\"white-space:pre;overflow-x:auto;line-height:normal;font-family:Menlo,'DejaVu Sans Mono',consolas,'Courier New',monospace\"><span style=\"font-weight: bold\">Model: \"sequential_27\"</span>\n",
       "</pre>\n"
      ],
      "text/plain": [
       "\u001b[1mModel: \"sequential_27\"\u001b[0m\n"
      ]
     },
     "metadata": {},
     "output_type": "display_data"
    },
    {
     "data": {
      "text/html": [
       "<pre style=\"white-space:pre;overflow-x:auto;line-height:normal;font-family:Menlo,'DejaVu Sans Mono',consolas,'Courier New',monospace\">┏━━━━━━━━━━━━━━━━━━━━━━━━━━━━━━━━━┳━━━━━━━━━━━━━━━━━━━━━━━━┳━━━━━━━━━━━━━━━┓\n",
       "┃<span style=\"font-weight: bold\"> Layer (type)                    </span>┃<span style=\"font-weight: bold\"> Output Shape           </span>┃<span style=\"font-weight: bold\">       Param # </span>┃\n",
       "┡━━━━━━━━━━━━━━━━━━━━━━━━━━━━━━━━━╇━━━━━━━━━━━━━━━━━━━━━━━━╇━━━━━━━━━━━━━━━┩\n",
       "│ sequential_22 (<span style=\"color: #0087ff; text-decoration-color: #0087ff\">Sequential</span>)      │ (<span style=\"color: #00d7ff; text-decoration-color: #00d7ff\">None</span>, <span style=\"color: #00af00; text-decoration-color: #00af00\">24</span>, <span style=\"color: #00af00; text-decoration-color: #00af00\">24</span>, <span style=\"color: #00af00; text-decoration-color: #00af00\">64</span>)     │         <span style=\"color: #00af00; text-decoration-color: #00af00\">3,200</span> │\n",
       "├─────────────────────────────────┼────────────────────────┼───────────────┤\n",
       "│ sequential_23 (<span style=\"color: #0087ff; text-decoration-color: #0087ff\">Sequential</span>)      │ (<span style=\"color: #00d7ff; text-decoration-color: #00d7ff\">None</span>, <span style=\"color: #00af00; text-decoration-color: #00af00\">12</span>, <span style=\"color: #00af00; text-decoration-color: #00af00\">12</span>, <span style=\"color: #00af00; text-decoration-color: #00af00\">192</span>)    │       <span style=\"color: #00af00; text-decoration-color: #00af00\">114,944</span> │\n",
       "├─────────────────────────────────┼────────────────────────┼───────────────┤\n",
       "│ sequential_24 (<span style=\"color: #0087ff; text-decoration-color: #0087ff\">Sequential</span>)      │ (<span style=\"color: #00d7ff; text-decoration-color: #00d7ff\">None</span>, <span style=\"color: #00af00; text-decoration-color: #00af00\">6</span>, <span style=\"color: #00af00; text-decoration-color: #00af00\">6</span>, <span style=\"color: #00af00; text-decoration-color: #00af00\">480</span>)      │       <span style=\"color: #00af00; text-decoration-color: #00af00\">552,432</span> │\n",
       "├─────────────────────────────────┼────────────────────────┼───────────────┤\n",
       "│ sequential_25 (<span style=\"color: #0087ff; text-decoration-color: #0087ff\">Sequential</span>)      │ (<span style=\"color: #00d7ff; text-decoration-color: #00d7ff\">None</span>, <span style=\"color: #00af00; text-decoration-color: #00af00\">3</span>, <span style=\"color: #00af00; text-decoration-color: #00af00\">3</span>, <span style=\"color: #00af00; text-decoration-color: #00af00\">832</span>)      │     <span style=\"color: #00af00; text-decoration-color: #00af00\">2,809,168</span> │\n",
       "├─────────────────────────────────┼────────────────────────┼───────────────┤\n",
       "│ sequential_26 (<span style=\"color: #0087ff; text-decoration-color: #0087ff\">Sequential</span>)      │ (<span style=\"color: #00d7ff; text-decoration-color: #00d7ff\">None</span>, <span style=\"color: #00af00; text-decoration-color: #00af00\">1024</span>)           │     <span style=\"color: #00af00; text-decoration-color: #00af00\">2,487,536</span> │\n",
       "├─────────────────────────────────┼────────────────────────┼───────────────┤\n",
       "│ dense_3 (<span style=\"color: #0087ff; text-decoration-color: #0087ff\">Dense</span>)                 │ (<span style=\"color: #00d7ff; text-decoration-color: #00d7ff\">None</span>, <span style=\"color: #00af00; text-decoration-color: #00af00\">10</span>)             │        <span style=\"color: #00af00; text-decoration-color: #00af00\">10,250</span> │\n",
       "└─────────────────────────────────┴────────────────────────┴───────────────┘\n",
       "</pre>\n"
      ],
      "text/plain": [
       "┏━━━━━━━━━━━━━━━━━━━━━━━━━━━━━━━━━┳━━━━━━━━━━━━━━━━━━━━━━━━┳━━━━━━━━━━━━━━━┓\n",
       "┃\u001b[1m \u001b[0m\u001b[1mLayer (type)                   \u001b[0m\u001b[1m \u001b[0m┃\u001b[1m \u001b[0m\u001b[1mOutput Shape          \u001b[0m\u001b[1m \u001b[0m┃\u001b[1m \u001b[0m\u001b[1m      Param #\u001b[0m\u001b[1m \u001b[0m┃\n",
       "┡━━━━━━━━━━━━━━━━━━━━━━━━━━━━━━━━━╇━━━━━━━━━━━━━━━━━━━━━━━━╇━━━━━━━━━━━━━━━┩\n",
       "│ sequential_22 (\u001b[38;5;33mSequential\u001b[0m)      │ (\u001b[38;5;45mNone\u001b[0m, \u001b[38;5;34m24\u001b[0m, \u001b[38;5;34m24\u001b[0m, \u001b[38;5;34m64\u001b[0m)     │         \u001b[38;5;34m3,200\u001b[0m │\n",
       "├─────────────────────────────────┼────────────────────────┼───────────────┤\n",
       "│ sequential_23 (\u001b[38;5;33mSequential\u001b[0m)      │ (\u001b[38;5;45mNone\u001b[0m, \u001b[38;5;34m12\u001b[0m, \u001b[38;5;34m12\u001b[0m, \u001b[38;5;34m192\u001b[0m)    │       \u001b[38;5;34m114,944\u001b[0m │\n",
       "├─────────────────────────────────┼────────────────────────┼───────────────┤\n",
       "│ sequential_24 (\u001b[38;5;33mSequential\u001b[0m)      │ (\u001b[38;5;45mNone\u001b[0m, \u001b[38;5;34m6\u001b[0m, \u001b[38;5;34m6\u001b[0m, \u001b[38;5;34m480\u001b[0m)      │       \u001b[38;5;34m552,432\u001b[0m │\n",
       "├─────────────────────────────────┼────────────────────────┼───────────────┤\n",
       "│ sequential_25 (\u001b[38;5;33mSequential\u001b[0m)      │ (\u001b[38;5;45mNone\u001b[0m, \u001b[38;5;34m3\u001b[0m, \u001b[38;5;34m3\u001b[0m, \u001b[38;5;34m832\u001b[0m)      │     \u001b[38;5;34m2,809,168\u001b[0m │\n",
       "├─────────────────────────────────┼────────────────────────┼───────────────┤\n",
       "│ sequential_26 (\u001b[38;5;33mSequential\u001b[0m)      │ (\u001b[38;5;45mNone\u001b[0m, \u001b[38;5;34m1024\u001b[0m)           │     \u001b[38;5;34m2,487,536\u001b[0m │\n",
       "├─────────────────────────────────┼────────────────────────┼───────────────┤\n",
       "│ dense_3 (\u001b[38;5;33mDense\u001b[0m)                 │ (\u001b[38;5;45mNone\u001b[0m, \u001b[38;5;34m10\u001b[0m)             │        \u001b[38;5;34m10,250\u001b[0m │\n",
       "└─────────────────────────────────┴────────────────────────┴───────────────┘\n"
      ]
     },
     "metadata": {},
     "output_type": "display_data"
    },
    {
     "data": {
      "text/html": [
       "<pre style=\"white-space:pre;overflow-x:auto;line-height:normal;font-family:Menlo,'DejaVu Sans Mono',consolas,'Courier New',monospace\"><span style=\"font-weight: bold\"> Total params: </span><span style=\"color: #00af00; text-decoration-color: #00af00\">5,977,530</span> (22.80 MB)\n",
       "</pre>\n"
      ],
      "text/plain": [
       "\u001b[1m Total params: \u001b[0m\u001b[38;5;34m5,977,530\u001b[0m (22.80 MB)\n"
      ]
     },
     "metadata": {},
     "output_type": "display_data"
    },
    {
     "data": {
      "text/html": [
       "<pre style=\"white-space:pre;overflow-x:auto;line-height:normal;font-family:Menlo,'DejaVu Sans Mono',consolas,'Courier New',monospace\"><span style=\"font-weight: bold\"> Trainable params: </span><span style=\"color: #00af00; text-decoration-color: #00af00\">5,977,530</span> (22.80 MB)\n",
       "</pre>\n"
      ],
      "text/plain": [
       "\u001b[1m Trainable params: \u001b[0m\u001b[38;5;34m5,977,530\u001b[0m (22.80 MB)\n"
      ]
     },
     "metadata": {},
     "output_type": "display_data"
    },
    {
     "data": {
      "text/html": [
       "<pre style=\"white-space:pre;overflow-x:auto;line-height:normal;font-family:Menlo,'DejaVu Sans Mono',consolas,'Courier New',monospace\"><span style=\"font-weight: bold\"> Non-trainable params: </span><span style=\"color: #00af00; text-decoration-color: #00af00\">0</span> (0.00 B)\n",
       "</pre>\n"
      ],
      "text/plain": [
       "\u001b[1m Non-trainable params: \u001b[0m\u001b[38;5;34m0\u001b[0m (0.00 B)\n"
      ]
     },
     "metadata": {},
     "output_type": "display_data"
    },
    {
     "name": "stdout",
     "output_type": "stream",
     "text": [
      "Sequential output shape:\t (1, 6, 6, 480)\n"
     ]
    },
    {
     "name": "stdout",
     "output_type": "stream",
     "text": [
      "Sequential output shape:\t (1, 3, 3, 832)\n"
     ]
    },
    {
     "name": "stdout",
     "output_type": "stream",
     "text": [
      "Sequential output shape:\t (1, 1024)\n",
      "Dense output shape:\t (1, 10)\n"
     ]
    }
   ],
   "source": [
    "model = GoogleNet()\n",
    "model.net.summary()"
   ]
  },
  {
   "cell_type": "markdown",
   "id": "a47dd9cb",
   "metadata": {
    "origin_pos": 27
   },
   "source": [
    "## [**Training**]\n",
    "\n",
    "As before, we train our model using the Fashion-MNIST dataset.\n",
    " We transform it to $96 \\times 96$ pixel resolution\n",
    " before invoking the training procedure.\n"
   ]
  },
  {
   "cell_type": "code",
   "execution_count": 29,
   "id": "3903182a",
   "metadata": {
    "origin_pos": 29,
    "tab": [
     "tensorflow"
    ]
   },
   "outputs": [],
   "source": [
    "model.net.compile(optimizer='adam', loss=tf.keras.losses.SparseCategoricalCrossentropy(from_logits=True), metrics=['accuracy'])"
   ]
  },
  {
   "cell_type": "code",
   "execution_count": 30,
   "id": "75753e00-4c8d-4f55-9cc3-7903cb857a2d",
   "metadata": {},
   "outputs": [],
   "source": [
    "((x_train, y_train), (x_test, y_test))=tf.keras.datasets.fashion_mnist.load_data()\n",
    "\n",
    "x_train = x_train[:1000]\n",
    "x_test = x_test[:200]\n",
    "x_train = x_train.reshape(-1,28,28,1)\n",
    "x_test = x_test.reshape(-1,28,28,1)\n",
    "\n",
    "x_train = tf.image.resize(x_train, [96,96])\n",
    "x_test = tf.image.resize(x_test, [96,96])"
   ]
  },
  {
   "cell_type": "code",
   "execution_count": 32,
   "id": "6c5d4d5b-199d-48a6-819c-b36ba5757f53",
   "metadata": {
    "origin_pos": 19,
    "tab": [
     "tensorflow"
    ]
   },
   "outputs": [
    {
     "name": "stdout",
     "output_type": "stream",
     "text": [
      "Epoch 1/10\n",
      "\u001b[1m15/15\u001b[0m \u001b[32m━━━━━━━━━━━━━━━━━━━━\u001b[0m\u001b[37m\u001b[0m \u001b[1m16s\u001b[0m 443ms/step - accuracy: 0.0943 - loss: 2.8201 - val_accuracy: 0.0700 - val_loss: 2.3056\n",
      "Epoch 2/10\n",
      "\u001b[1m15/15\u001b[0m \u001b[32m━━━━━━━━━━━━━━━━━━━━\u001b[0m\u001b[37m\u001b[0m \u001b[1m6s\u001b[0m 417ms/step - accuracy: 0.1177 - loss: 2.2891 - val_accuracy: 0.2900 - val_loss: 1.9616\n",
      "Epoch 3/10\n",
      "\u001b[1m15/15\u001b[0m \u001b[32m━━━━━━━━━━━━━━━━━━━━\u001b[0m\u001b[37m\u001b[0m \u001b[1m7s\u001b[0m 442ms/step - accuracy: 0.2138 - loss: 1.9274 - val_accuracy: 0.3100 - val_loss: 2.5969\n",
      "Epoch 4/10\n",
      "\u001b[1m15/15\u001b[0m \u001b[32m━━━━━━━━━━━━━━━━━━━━\u001b[0m\u001b[37m\u001b[0m \u001b[1m7s\u001b[0m 466ms/step - accuracy: 0.2710 - loss: 1.9551 - val_accuracy: 0.1300 - val_loss: 2.6529\n",
      "Epoch 5/10\n",
      "\u001b[1m15/15\u001b[0m \u001b[32m━━━━━━━━━━━━━━━━━━━━\u001b[0m\u001b[37m\u001b[0m \u001b[1m7s\u001b[0m 460ms/step - accuracy: 0.2995 - loss: 1.8792 - val_accuracy: 0.3100 - val_loss: 1.8100\n",
      "Epoch 6/10\n",
      "\u001b[1m15/15\u001b[0m \u001b[32m━━━━━━━━━━━━━━━━━━━━\u001b[0m\u001b[37m\u001b[0m \u001b[1m10s\u001b[0m 431ms/step - accuracy: 0.3840 - loss: 1.5775 - val_accuracy: 0.3900 - val_loss: 1.3365\n",
      "Epoch 7/10\n",
      "\u001b[1m15/15\u001b[0m \u001b[32m━━━━━━━━━━━━━━━━━━━━\u001b[0m\u001b[37m\u001b[0m \u001b[1m7s\u001b[0m 440ms/step - accuracy: 0.3990 - loss: 1.4027 - val_accuracy: 0.4600 - val_loss: 1.3663\n",
      "Epoch 8/10\n",
      "\u001b[1m15/15\u001b[0m \u001b[32m━━━━━━━━━━━━━━━━━━━━\u001b[0m\u001b[37m\u001b[0m \u001b[1m7s\u001b[0m 444ms/step - accuracy: 0.5044 - loss: 1.2609 - val_accuracy: 0.4700 - val_loss: 1.5750\n",
      "Epoch 9/10\n",
      "\u001b[1m15/15\u001b[0m \u001b[32m━━━━━━━━━━━━━━━━━━━━\u001b[0m\u001b[37m\u001b[0m \u001b[1m7s\u001b[0m 449ms/step - accuracy: 0.5306 - loss: 1.2027 - val_accuracy: 0.4800 - val_loss: 1.2929\n",
      "Epoch 10/10\n",
      "\u001b[1m15/15\u001b[0m \u001b[32m━━━━━━━━━━━━━━━━━━━━\u001b[0m\u001b[37m\u001b[0m \u001b[1m7s\u001b[0m 445ms/step - accuracy: 0.4758 - loss: 1.3109 - val_accuracy: 0.4700 - val_loss: 1.1658\n"
     ]
    }
   ],
   "source": [
    "history = model.net.fit(x_train, y_train, validation_split=0.1, batch_size=64, epochs=10)"
   ]
  },
  {
   "cell_type": "markdown",
   "id": "f4b933ff",
   "metadata": {
    "origin_pos": 30
   },
   "source": [
    "## Discussion\n",
    "\n",
    "A key feature of GoogLeNet is that it is actually *cheaper* to compute than its predecessors\n",
    "while simultaneously providing improved accuracy. This marks the beginning of a much more deliberate\n",
    "network design that trades off the cost of evaluating a network with a reduction in errors. It also marks the beginning of experimentation at a block level with network design hyperparameters, even though it was entirely manual at the time. We will revisit this topic in :numref:`sec_cnn-design` when discussing strategies for network structure exploration. \n",
    "\n",
    "Over the following sections we will encounter a number of design choices (e.g., batch normalization, residual connections, and channel grouping) that allow us to improve networks significantly. For now, you can be proud to have implemented what is arguably the first truly modern CNN.\n",
    "\n",
    "## Exercises\n",
    "\n",
    "1. GoogLeNet was so successful that it went through a number of iterations, progressively improving speed and accuracy. Try to implement and run some of them. They include the following:\n",
    "    1. Add a batch normalization layer :cite:`Ioffe.Szegedy.2015`, as described later in :numref:`sec_batch_norm`.\n",
    "    1. Make adjustments to the Inception block (width, choice and order of convolutions), as described in :citet:`Szegedy.Vanhoucke.Ioffe.ea.2016`.\n",
    "    1. Use label smoothing for model regularization, as described in :citet:`Szegedy.Vanhoucke.Ioffe.ea.2016`.\n",
    "    1. Make further adjustments to the Inception block by adding residual connection :cite:`Szegedy.Ioffe.Vanhoucke.ea.2017`, as described later in :numref:`sec_resnet`.\n",
    "1. What is the minimum image size needed for GoogLeNet to work?\n",
    "1. Can you design a variant of GoogLeNet that works on Fashion-MNIST's native resolution of $28 \\times 28$ pixels? How would you need to change the stem, the body, and the head of the network, if anything at all?\n",
    "1. Compare the model parameter sizes of AlexNet, VGG, NiN, and GoogLeNet. How do the latter two network\n",
    "   architectures significantly reduce the model parameter size?\n",
    "1. Compare the amount of computation needed in GoogLeNet and AlexNet. How does this affect the design of an accelerator chip, e.g., in terms of memory size, memory bandwidth, cache size, the amount of computation, and the benefit of specialized operations?\n"
   ]
  },
  {
   "cell_type": "markdown",
   "id": "0fac5b78",
   "metadata": {
    "origin_pos": 33,
    "tab": [
     "tensorflow"
    ]
   },
   "source": [
    "[Discussions](https://discuss.d2l.ai/t/316)\n"
   ]
  },
  {
   "cell_type": "code",
   "execution_count": null,
   "id": "e8603293-9e27-47d4-b93d-5132da6ea055",
   "metadata": {},
   "outputs": [],
   "source": []
  }
 ],
 "metadata": {
  "kernelspec": {
   "display_name": "Python 3 (ipykernel)",
   "language": "python",
   "name": "python3"
  },
  "language_info": {
   "codemirror_mode": {
    "name": "ipython",
    "version": 3
   },
   "file_extension": ".py",
   "mimetype": "text/x-python",
   "name": "python",
   "nbconvert_exporter": "python",
   "pygments_lexer": "ipython3",
   "version": "3.11.9"
  },
  "required_libs": []
 },
 "nbformat": 4,
 "nbformat_minor": 5
}
