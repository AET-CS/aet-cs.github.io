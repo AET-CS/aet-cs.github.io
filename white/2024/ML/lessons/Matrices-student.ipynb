{
 "cells": [
  {
   "cell_type": "markdown",
   "id": "544d63ef-89e5-4aee-9ba2-0cfd9a11e4a7",
   "metadata": {
    "editable": true,
    "slideshow": {
     "slide_type": ""
    },
    "tags": []
   },
   "source": [
    "# Linear Algebra and Python Lists"
   ]
  },
  {
   "cell_type": "markdown",
   "id": "d95be665-c98a-4c30-a2f1-27686f7f0749",
   "metadata": {
    "editable": true,
    "slideshow": {
     "slide_type": ""
    },
    "tags": []
   },
   "source": [
    "This notebook will review some important concepts in linear algebra while helping you practice working with lists and nested lists in Python. You will provide code cells as needed to complete the sections below. Testing code is provided for you to help check that your methods perform as expected."
   ]
  },
  {
   "cell_type": "code",
   "execution_count": null,
   "id": "a84aec88-c2f5-4796-a9b5-e218171f8ae4",
   "metadata": {
    "editable": true,
    "slideshow": {
     "slide_type": ""
    },
    "tags": []
   },
   "outputs": [],
   "source": [
    "import numpy as np\n",
    "from matplotlib import pyplot as plt\n",
    "import math"
   ]
  },
  {
   "cell_type": "markdown",
   "id": "d4784f2c-4be2-4939-8499-4f4c7abc8fd6",
   "metadata": {
    "editable": true,
    "slideshow": {
     "slide_type": ""
    },
    "tags": []
   },
   "source": [
    "## Dot product of two vectors\n",
    "\n",
    "$\\vec{a} \\cdot \\vec{b} = \\sum_i a_ib_i$ is the dot product (or inner product) between $\\vec{a}$ and $\\vec{b}$. Write a python function `dot_product(a,b)` that returns a dot product of two input python lists (do not use numpy arrays yet). If the input types do not match, raise a ValueError."
   ]
  },
  {
   "cell_type": "code",
   "execution_count": null,
   "id": "1c536f1a-3a54-4f18-b902-06109297fce5",
   "metadata": {
    "editable": true,
    "slideshow": {
     "slide_type": ""
    },
    "tags": [
     "solution"
    ]
   },
   "outputs": [],
   "source": [
    "## Your code goes here. Insert cells as needed."
   ]
  },
  {
   "cell_type": "markdown",
   "id": "86d1fb60-0925-4ed6-a048-7be58da0c09d",
   "metadata": {
    "editable": true,
    "slideshow": {
     "slide_type": ""
    },
    "tags": []
   },
   "source": [
    "The following cells will check your dot_product method for correctness and for catching errors."
   ]
  },
  {
   "cell_type": "code",
   "execution_count": null,
   "id": "fcd5cea4-3359-4060-86ad-fd73c4197c4f",
   "metadata": {
    "editable": true,
    "slideshow": {
     "slide_type": ""
    },
    "tags": []
   },
   "outputs": [],
   "source": [
    "assert(dot_product([1,3],[2,6])==20)"
   ]
  },
  {
   "cell_type": "code",
   "execution_count": null,
   "id": "702138f6-ebac-4d8c-9417-77245b1f9cb3",
   "metadata": {
    "editable": true,
    "slideshow": {
     "slide_type": ""
    },
    "tags": []
   },
   "outputs": [],
   "source": [
    "try:\n",
    "    dot_product([1,2,3],[4,5])\n",
    "    print(\"Shouldn't get here\")\n",
    "except ValueError:\n",
    "    print(\"Size mismatched caught\")"
   ]
  },
  {
   "cell_type": "markdown",
   "id": "898d1dd0-7a51-4f84-9f0e-c080cab6b050",
   "metadata": {
    "editable": true,
    "slideshow": {
     "slide_type": ""
    },
    "tags": []
   },
   "source": [
    "## Cross Product of two vectors\n",
    "\n",
    "Given two real 3-vectors **a** and **b**:\n",
    "\n",
    "$$\n",
    "\\mathbf{A} = \\begin{pmatrix} a_1 \\\\ a_2 \\\\ a_3 \\end{pmatrix}, \\quad\n",
    "\\mathbf{B} = \\begin{pmatrix} b_1 \\\\ b_2 \\\\ b_3 \\end{pmatrix}\n",
    "$$\n",
    "\n",
    "The cross product of **a** and **b** is a new vector **C** defined as:\n",
    "\n",
    "$$\n",
    "\\mathbf{C} = \\mathbf{A} \\times \\mathbf{B} = \\begin{pmatrix}\n",
    "a_2 b_3 - a_3 b_2 \\\\\n",
    "a_3 b_1 - a_1 b_3 \\\\\n",
    "a_1 b_2 - a_2 b_1\n",
    "\\end{pmatrix}\n",
    "$$\n",
    "\n",
    "This resulting vector **C** is orthogonal (perpendicular) to both **a** and **b**, and its magnitude is equal to the area of the parallelogram formed by **a** and **b**.\n",
    "\n",
    "The direction of **C** is determined by the right-hand rule.\n"
   ]
  },
  {
   "cell_type": "markdown",
   "id": "6bd171ea-2dd4-4a94-a07f-59430498cd5f",
   "metadata": {
    "editable": true,
    "slideshow": {
     "slide_type": ""
    },
    "tags": []
   },
   "source": [
    "\n",
    "The cross product of **a** and **b** can be expressed as the determinant of a 3x3 matrix:\n",
    "\n",
    "$$\n",
    "\\mathbf{a} \\times \\mathbf{b} = \\begin{vmatrix}\n",
    "\\mathbf{i} & \\mathbf{j} & \\mathbf{k} \\\\\n",
    "a_1 & a_2 & a_3 \\\\\n",
    "b_1 & b_2 & b_3\n",
    "\\end{vmatrix}\n",
    "$$\n",
    "\n",
    "Where **i**, **j**, and **k** are the unit vectors along the x, y, and z axes, respectively.\n",
    "\n",
    "To compute the determinant, expand along the first row (using cofactor expansion):\n",
    "\n",
    "$$\n",
    "\\mathbf{a} \\times \\mathbf{b} =\n",
    "\\mathbf{i} \\begin{vmatrix} a_2 & a_3 \\\\ b_2 & b_3 \\end{vmatrix} -\n",
    "\\mathbf{j} \\begin{vmatrix} a_1 & a_3 \\\\ b_1 & b_3 \\end{vmatrix} +\n",
    "\\mathbf{k} \\begin{vmatrix} a_1 & a_2 \\\\ b_1 & b_2 \\end{vmatrix}\n",
    "$$\n",
    "\n",
    "Each of these 2x2 determinants is computed as follows:\n",
    "\n",
    "- For the **i** component:\n",
    "  $$\n",
    "  \\mathbf{i} \\cdot \\left( a_2 b_3 - a_3 b_2 \\right)\n",
    "  $$\n",
    "\n",
    "- For the **j** component (note the negative sign):\n",
    "  $$ \n",
    "  -\\mathbf{j} \\cdot \\left( a_1 b_3 - a_3 b_1 \\right)\n",
    "  $$\n",
    "\n",
    "- For the **k** component:\n",
    "  $$\n",
    "  \\mathbf{k} \\cdot \\left( a_1 b_2 - a_2 b_1 \\right)\n",
    "  $$\n",
    "\n",
    "Thus, the cross product is:\n",
    "\n",
    "$$\n",
    "\\mathbf{a} \\times \\mathbf{b} = \\left( a_2 b_3 - a_3 b_2 \\right) \\mathbf{i} - \\left( a_1 b_3 - a_3 b_1 \\right) \\mathbf{j} + \\left( a_1 b_2 - a_2 b_1 \\right) \\mathbf{k}\n",
    "$$\n",
    "\n",
    "Or, written in vector form:\n",
    "\n",
    "$$\n",
    "\\mathbf{a} \\times \\mathbf{b} = \\begin{pmatrix}\n",
    "a_2 b_3 - a_3 b_2 \\\\\n",
    "a_3 b_1 - a_1 b_3 \\\\\n",
    "a_1 b_2 - a_2 b_1\n",
    "\\end{pmatrix}\n",
    "$$\n",
    "\n",
    "This is the cross product of the vectors **a** and **b**, derived from the determinant of a 3x3 matrix."
   ]
  },
  {
   "cell_type": "markdown",
   "id": "52065f17-ec50-4394-9a3e-5e733b408ac9",
   "metadata": {
    "editable": true,
    "slideshow": {
     "slide_type": ""
    },
    "tags": []
   },
   "source": [
    "Write a python method which returns the cross product of 2 3D vectors, and throws an error in case of invalid input"
   ]
  },
  {
   "cell_type": "code",
   "execution_count": null,
   "id": "bfc77e27-efd0-4cca-8add-114016cc9bc9",
   "metadata": {
    "editable": true,
    "slideshow": {
     "slide_type": ""
    },
    "tags": [
     "solution"
    ]
   },
   "outputs": [],
   "source": [
    "## Your code goes here. Insert cells as needed."
   ]
  },
  {
   "cell_type": "markdown",
   "id": "bafdc39e-a357-4643-acdb-cd2b3782019c",
   "metadata": {
    "editable": true,
    "slideshow": {
     "slide_type": ""
    },
    "tags": []
   },
   "source": [
    "These cells will check your method"
   ]
  },
  {
   "cell_type": "code",
   "execution_count": null,
   "id": "9a3c77a0-5c79-494c-ac3f-ca524aec00a8",
   "metadata": {
    "editable": true,
    "slideshow": {
     "slide_type": ""
    },
    "tags": []
   },
   "outputs": [],
   "source": [
    "assert(cross_product([1,3,2],[5,7,2])==[-8,8,-8])"
   ]
  },
  {
   "cell_type": "code",
   "execution_count": null,
   "id": "cd17e066-7af8-45ae-88d4-c5ef4377d328",
   "metadata": {
    "editable": true,
    "slideshow": {
     "slide_type": ""
    },
    "tags": []
   },
   "outputs": [],
   "source": [
    "try:\n",
    "    cross_product([1,2,3],[4,5])\n",
    "    print(\"Shouldn't get here\")\n",
    "except ValueError:\n",
    "    print(\"Size mismatched caught\")"
   ]
  },
  {
   "cell_type": "markdown",
   "id": "57bc2c98-cc06-4f35-86fd-2d18bd1cde56",
   "metadata": {
    "editable": true,
    "slideshow": {
     "slide_type": ""
    },
    "tags": []
   },
   "source": [
    "## Vector magnitude"
   ]
  },
  {
   "cell_type": "markdown",
   "id": "e78fc27a-e1f8-44c2-bb37-7b60954f8fed",
   "metadata": {
    "editable": true,
    "slideshow": {
     "slide_type": ""
    },
    "tags": []
   },
   "source": [
    "The magnitude, or length, of a vector is defined as\n",
    "\n",
    "$||\\vec{x} || = \\sqrt{\\vec{x} \\cdot \\vec{x}} = \\sqrt{x_0^2 + x_1^2 + \\cdots + x_{n-1}^2}$. Notice the exponent on each element is $2$ and the radical exponent is $\\frac12$. This is an $L_2$ norm. If we compute the value $\\sqrt[3]{x_0^3 + x_1^3 + \\cdots + x_{n-1}^3}$, this is an $L_3$ norm. The sum of absolute values $|x_1| + |x_2| + \\cdots + |x_n|$ is called the $L_1$ norm. All of these are $p$-norms, with the $p=2$ being the most familiar, and the $p=1$ norm being useful in several settings."
   ]
  },
  {
   "cell_type": "markdown",
   "id": "5de98aa5-4b20-462b-b8e4-1e51edbdf501",
   "metadata": {
    "editable": true,
    "slideshow": {
     "slide_type": ""
    },
    "tags": []
   },
   "source": [
    "Write a python method `norm(a)` which returns the 2-norm (length) of a vector, by calling `dot_product`. Then write `p_norm(a,p)` which evaluates the $p$-norm for any integer $p \\geq 1$ and throws an error if needed."
   ]
  },
  {
   "cell_type": "code",
   "execution_count": null,
   "id": "24980d3e-a935-458e-ad79-f8540b29e671",
   "metadata": {
    "editable": true,
    "slideshow": {
     "slide_type": ""
    },
    "tags": [
     "solution"
    ]
   },
   "outputs": [],
   "source": [
    "## Your code goes here. Insert cells as needed."
   ]
  },
  {
   "cell_type": "markdown",
   "id": "c7ae4b4c-be71-4092-af04-fe28954a726c",
   "metadata": {
    "editable": true,
    "slideshow": {
     "slide_type": ""
    },
    "tags": []
   },
   "source": [
    "This cell will check your method"
   ]
  },
  {
   "cell_type": "code",
   "execution_count": null,
   "id": "c9874ec6-f722-4a31-84d8-0e84be680f79",
   "metadata": {
    "editable": true,
    "slideshow": {
     "slide_type": ""
    },
    "tags": []
   },
   "outputs": [],
   "source": [
    "assert(norm([1,-1,1,-1])==2)\n",
    "assert(norm([0])==0)\n",
    "assert(norm([30,40,50])==np.sqrt(5000))"
   ]
  },
  {
   "cell_type": "code",
   "execution_count": null,
   "id": "f173a494-f9ec-4aa2-8f5c-4e02a54ddc29",
   "metadata": {
    "editable": true,
    "slideshow": {
     "slide_type": ""
    },
    "tags": [
     "solution"
    ]
   },
   "outputs": [],
   "source": [
    "## Your code goes here. Insert cells as needed."
   ]
  },
  {
   "cell_type": "markdown",
   "id": "41e33ee8-d640-490a-b829-3b6103889e43",
   "metadata": {
    "editable": true,
    "slideshow": {
     "slide_type": ""
    },
    "tags": []
   },
   "source": [
    "These cells will check your `p_norm`"
   ]
  },
  {
   "cell_type": "code",
   "execution_count": null,
   "id": "ee260bc9-021e-4e9a-a08c-1c7cb13ddba7",
   "metadata": {
    "editable": true,
    "slideshow": {
     "slide_type": ""
    },
    "tags": []
   },
   "outputs": [],
   "source": [
    "assert(p_norm([1,-1,0],1)==2)\n",
    "assert(p_norm([1,-1,1,-1],2)==2)\n",
    "assert(p_norm([2,-2,4,-4],3)==0)"
   ]
  },
  {
   "cell_type": "code",
   "execution_count": null,
   "id": "ffb5665d-4963-4414-9d78-cf4da7596500",
   "metadata": {
    "editable": true,
    "slideshow": {
     "slide_type": ""
    },
    "tags": []
   },
   "outputs": [],
   "source": [
    "try:\n",
    "    p_norm([1,2,3],0.5)\n",
    "    print(\"Shouldn't get here\")\n",
    "except ValueError:\n",
    "    print(\"Invalid p caught\")"
   ]
  },
  {
   "cell_type": "markdown",
   "id": "20637805-bf18-4d34-9b2f-6cc42b72a887",
   "metadata": {
    "editable": true,
    "slideshow": {
     "slide_type": ""
    },
    "tags": []
   },
   "source": [
    "## Angle between vectors"
   ]
  },
  {
   "cell_type": "markdown",
   "id": "77a31b36-4369-47c2-aa43-f983291aed41",
   "metadata": {
    "editable": true,
    "slideshow": {
     "slide_type": ""
    },
    "tags": []
   },
   "source": [
    "A very important result from linear algebra used in machine learning relates the angle between two vectors. You will derive this yourself. Given **a** and **b**, you can form a triangle where the vectors share the same tail. The vector forming the third side is the vector **a-b**. Find the length of this third side in terms of **a** and **b**. Hint: use the law of cosines. Hint: dot product distributes like 'times'"
   ]
  },
  {
   "cell_type": "markdown",
   "id": "42c04be5-7498-4aec-b6e4-cb527409a3a7",
   "metadata": {
    "editable": true,
    "slideshow": {
     "slide_type": ""
    },
    "tags": []
   },
   "source": [
    "Using your result write a function `angle_between` that returns the smallest angle between two vectors **a** and **b**. Make sure your result is in the range $[0,\\pi]$"
   ]
  },
  {
   "cell_type": "code",
   "execution_count": null,
   "id": "49dc1cf3-9414-48cb-bd16-321af5d6ca4e",
   "metadata": {
    "editable": true,
    "slideshow": {
     "slide_type": ""
    },
    "tags": [
     "solution"
    ]
   },
   "outputs": [],
   "source": [
    "## Your code goes here. Insert cells as needed."
   ]
  },
  {
   "cell_type": "code",
   "execution_count": null,
   "id": "5c5bb929-e8df-4ee2-a638-3f9d6af69369",
   "metadata": {
    "editable": true,
    "slideshow": {
     "slide_type": ""
    },
    "tags": []
   },
   "outputs": [],
   "source": [
    "assert(abs(angle_between([1,1],[1,0])-math.pi/4)<1e-9)\n",
    "assert(abs(angle_between([1,0],[1,0]))<1e-9)\n",
    "assert(abs(angle_between([1,0],[0,1])-math.pi/2)<1e-9)\n",
    "assert(abs(angle_between([1,2,3,4],[-4,-3,-2,-1])-2.300523983021863)<1e-9)"
   ]
  },
  {
   "cell_type": "code",
   "execution_count": null,
   "id": "ea039d8f-a1f5-44c6-94c3-704a0c953e71",
   "metadata": {
    "editable": true,
    "slideshow": {
     "slide_type": ""
    },
    "tags": []
   },
   "outputs": [],
   "source": [
    "try:\n",
    "    angle_between([1,2,3],[4,5])\n",
    "    print(\"Shouldn't get here\")\n",
    "except ValueError:\n",
    "    print(\"Size mismatch caught\")"
   ]
  },
  {
   "cell_type": "markdown",
   "id": "ab7623e6-4a32-48b0-b55e-c480d4cd5624",
   "metadata": {
    "editable": true,
    "slideshow": {
     "slide_type": ""
    },
    "tags": []
   },
   "source": [
    "## Matrix Operations\n",
    "\n",
    "Matrix addition and subtraction are componentwise and require matrices of the same size: $m_{ij} = a_{ij} + b_{ij}$ or  $m_{ij} = a_{ij} - b_{ij}$\n",
    "\n",
    "Matrix multiplication involves one entire row and one entire column of each matrix to determine an entry in the product. It can be written as\n",
    "\n",
    "$$m_{ij} = a_{ik}b^{kj}$$\n",
    "\n",
    "Where we are using *Einstein notation*. Each repeated index (here $k$) is an index of summation. Thus\n",
    "\n",
    "$$a_{ik}b^{kj} = \\sum_{k=1}^m a_{ik}b_{kj}$$\n",
    "\n",
    "Matrix multiplication requires an $(m_1 \\times n_1)$ matrix multiplied on the right by an $(m_2 \\times n_2)$ matrix where $n_1 = m_2$. The result is an $(m_1 \\times n_2)$ matrix."
   ]
  },
  {
   "cell_type": "markdown",
   "id": "a769b0d2-a20f-4692-b87e-cf1095676578",
   "metadata": {
    "editable": true,
    "slideshow": {
     "slide_type": ""
    },
    "tags": []
   },
   "source": [
    "Write three methods: `mat_add`, `mat_sub`, `mat_mul`. You should throw an error\n",
    "if dimensions do not match. You should store all matrices as 2D lists in python, i.e. lists of lists. The $i,j$ element is referenced by `M[i][j]`, both starting at 0."
   ]
  },
  {
   "cell_type": "code",
   "execution_count": null,
   "id": "03191d88-ad29-404f-9498-287b46a7da5c",
   "metadata": {
    "editable": true,
    "slideshow": {
     "slide_type": ""
    },
    "tags": [
     "solution"
    ]
   },
   "outputs": [],
   "source": [
    "## Your code goes here. Insert cells as needed."
   ]
  },
  {
   "cell_type": "code",
   "execution_count": null,
   "id": "f781cf3e-b647-4dc3-a45e-c18006334bf3",
   "metadata": {
    "editable": true,
    "slideshow": {
     "slide_type": ""
    },
    "tags": []
   },
   "outputs": [],
   "source": [
    "A=[[1]]\n",
    "B=[[2]]\n",
    "assert(mat_add(A,B)==[[3]])\n",
    "\n",
    "A=[[-4,3],[1,-10]]\n",
    "B=[[2,-5],[-9,1]]\n",
    "assert(mat_add(A,B)==[[-2,-2], [-8,-9]])\n",
    "assert(mat_add(B,A)==[[-2,-2],[-8,-9]])\n",
    "\n",
    "A = [[1,2,3],[5,3,-1],[6,5,2]]\n",
    "B = [[4,-2,2],[2,4,3],[6,2,2]]\n",
    "assert(mat_add(A,B)==[[5,0,5],[7,7,2],[12,7,4]])"
   ]
  },
  {
   "cell_type": "code",
   "execution_count": null,
   "id": "a13e5312-6a5a-4a13-9ff2-442793f52210",
   "metadata": {
    "editable": true,
    "slideshow": {
     "slide_type": ""
    },
    "tags": []
   },
   "outputs": [],
   "source": [
    "try:\n",
    "    mat_add([[1,2,3],[4,5,6]],[[1,2],[3,4]])\n",
    "    print(\"Shouldn't get here\")\n",
    "except ValueError:\n",
    "    print(\"Size mismatch caught\")"
   ]
  },
  {
   "cell_type": "code",
   "execution_count": null,
   "id": "f5cdd076-9df8-4978-8bd5-d728421c9ebc",
   "metadata": {
    "editable": true,
    "slideshow": {
     "slide_type": ""
    },
    "tags": [
     "solution"
    ]
   },
   "outputs": [],
   "source": [
    "## Your code goes here. Insert cells as needed."
   ]
  },
  {
   "cell_type": "code",
   "execution_count": null,
   "id": "4a700b85-eb40-4add-8ee6-cb210a021cfb",
   "metadata": {
    "editable": true,
    "slideshow": {
     "slide_type": ""
    },
    "tags": []
   },
   "outputs": [],
   "source": [
    "A=[[1]]\n",
    "B=[[2]]\n",
    "assert(mat_transpose(mat_transpose(A))==A)\n",
    "assert(mat_transpose(mat_transpose(B))==B)\n",
    "\n",
    "A=[[-4,3],[1,-10]]\n",
    "B=[[2,-5],[-9,1]]\n",
    "assert(mat_transpose(mat_transpose(A))==A)\n",
    "assert(mat_transpose(mat_transpose(B))==B)\n",
    "\n",
    "A = [[1,2,3],[5,3,-1],[6,5,2]]\n",
    "B = [[4,-2,2],[2,4,3],[6,2,2]]\n",
    "assert(mat_transpose(mat_transpose(A))==A)\n",
    "assert(mat_transpose(mat_transpose(B))==B)"
   ]
  },
  {
   "cell_type": "code",
   "execution_count": null,
   "id": "52a76f53-e6c6-4763-b867-2b1dab639431",
   "metadata": {
    "editable": true,
    "slideshow": {
     "slide_type": ""
    },
    "tags": [
     "solution"
    ]
   },
   "outputs": [],
   "source": [
    "## Your code goes here. Insert cells as needed."
   ]
  },
  {
   "cell_type": "code",
   "execution_count": null,
   "id": "994b9d3a-2cfa-41c1-808b-e0ae6cd2ce55",
   "metadata": {
    "editable": true,
    "slideshow": {
     "slide_type": ""
    },
    "tags": []
   },
   "outputs": [],
   "source": [
    "A=[[1]]\n",
    "B=[[2]]\n",
    "assert(mat_mul(A,B)==[[2]])\n",
    "\n",
    "A=[[-4,3],[1,-10]]\n",
    "B=[[2,-5],[-9,1]]\n",
    "assert(mat_mul(A,B)==[[-35, 23], [92, -15]])\n",
    "assert(mat_mul(B,A)==[[-13, 56], [37, -37]])\n",
    "\n",
    "A = [[1,2,3],[5,3,-1],[6,5,2],[-10,2,3]]\n",
    "B = [[4,-2,3,2],[2,4,3,-1],[6,3,2,2]]\n",
    "C = [[2,-1,-3,4],[3,0,0,-2],[2,-3,7,-9]]\n",
    "\n",
    "assert(mat_mul(A,B)==[[26, 15, 15, 6], [20, -1, 22, 5], [46, 14, 37, 11], [-18, 37, -18, -16]])\n",
    "\n",
    "assert(mat_transpose(mat_mul(A,B)) == mat_mul(mat_transpose(B),mat_transpose(A)))\n",
    "assert(mat_add(mat_mul(A,B),mat_mul(A,C)) == mat_mul(A, mat_add(B,C)))"
   ]
  },
  {
   "cell_type": "code",
   "execution_count": null,
   "id": "b8602bb8-2808-481e-bb13-5fc25eb47027",
   "metadata": {
    "editable": true,
    "slideshow": {
     "slide_type": ""
    },
    "tags": []
   },
   "outputs": [],
   "source": [
    "try:\n",
    "    mat_mul(mat_transpose(C),A)\n",
    "    print(\"Shouldn't get here\")\n",
    "except ValueError:\n",
    "    print(\"Matrix incompatibility caught\")"
   ]
  }
 ],
 "metadata": {
  "kernelspec": {
   "display_name": "Python 3 (ipykernel)",
   "language": "python",
   "name": "python3"
  },
  "language_info": {
   "codemirror_mode": {
    "name": "ipython",
    "version": 3
   },
   "file_extension": ".py",
   "mimetype": "text/x-python",
   "name": "python",
   "nbconvert_exporter": "python",
   "pygments_lexer": "ipython3",
   "version": "3.11.9"
  }
 },
 "nbformat": 4,
 "nbformat_minor": 5
}
