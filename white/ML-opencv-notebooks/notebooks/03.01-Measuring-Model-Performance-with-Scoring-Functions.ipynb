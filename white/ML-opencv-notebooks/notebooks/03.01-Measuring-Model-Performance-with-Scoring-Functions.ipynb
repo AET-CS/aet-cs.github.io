{
    "cells": [
        {
            "cell_type": "markdown",
            "metadata": {
                "collapsed": true,
                "deletable": true,
                "editable": true,
                "jupyter": {
                    "outputs_hidden": true
                }
            },
            "source": [
                "# Measuring-Model-Performance-with-Scoring-Functions\n",
                "\n",
                "One of the most important parts of building a machine learning system is to find a way to\n",
                "measure the quality of the model predictions. In real-life scenarios, a model will rarely get\n",
                "everything right. From earlier chapters, we know that we are supposed to use data from the\n",
                "test set to evaluate our model. But how exactly does that work?\n",
                "\n",
                "The short, but not very helpful, answer is that it depends on the model. People have come\n",
                "up with all sorts of **scoring functions** that can be used to evaluate our model in all possible\n",
                "scenarios. The good news is that a lot of them are actually part of scikit-learn's `metrics`\n",
                "module.\n",
                "\n",
                "Let's have a quick look at some of the most important scoring functions."
            ]
        },
        {
            "cell_type": "markdown",
            "metadata": {
                "deletable": true,
                "editable": true
            },
            "source": [
                "## Scoring classifiers using accuracy, precision, and recall\n",
                "\n",
                "In a binary classification task, where there are only two different class labels, there are a number of different ways to measure classification performance. Some common metrics are:\n",
                "\n",
                "- `accuracy_score`: *Accuracy* counts the number of data points in the test set that have been predicted correctly, and returns that number as a fraction of the test set size. Sticking to the example of classifying pictures as cats or dogs, accuracy indicates the fraction of pictures that have been correctly classified as containing either a cat or a dog. This is the most basic scoring function for classifiers.\n",
                "- `precision_score`: *Precision* describes the ability of a classifier not to label as \"cat\" a picture that contains a dog. In other words, out of all the pictures in the test set that the classifier thinks contain a cat, precision is the fraction of pictures that actually contain a cat.\n",
                "- `recall_score`: *Recall* (or *sensitivity*) describes the ability of a classifier to retrieve all the pictures that contain a cat. In other words, out of all the pictures of cats in the test set, recall is the fraction of pictures that have been correctly identified as pictures of cats."
            ]
        },
        {
            "cell_type": "markdown",
            "metadata": {
                "deletable": true,
                "editable": true
            },
            "source": [
                "Let's say, we have some ground truth class labels that are either zeros or ones. We can\n",
                "generate them at random using NumPy's **random number generator**. Obviously, this\n",
                "means that whenever we rerun our code, new data points will be generated at random.\n",
                "\n",
                "However, for the purpose of this book, this is not very helpful, as I want you to be able to\n",
                "run the code and always get the same result as me. A nice trick to get that is to fix the seed\n",
                "of the random number generator. This will make sure the generator is initialized the same\n",
                "way every time you run the script.\n",
                "\n",
                "We can fix the seed of the random number generator using the following code:"
            ]
        },
        {
            "cell_type": "code",
            "execution_count": 1,
            "metadata": {
                "deletable": true,
                "editable": true,
                "execution": {
                    "iopub.execute_input": "2024-08-11T01:34:57.149595Z",
                    "iopub.status.busy": "2024-08-11T01:34:57.149152Z",
                    "iopub.status.idle": "2024-08-11T01:34:57.226211Z",
                    "shell.execute_reply": "2024-08-11T01:34:57.225610Z"
                }
            },
            "outputs": [],
            "source": [
                "import numpy as np"
            ]
        },
        {
            "cell_type": "code",
            "execution_count": 2,
            "metadata": {
                "deletable": true,
                "editable": true,
                "execution": {
                    "iopub.execute_input": "2024-08-11T01:34:57.229697Z",
                    "iopub.status.busy": "2024-08-11T01:34:57.229353Z",
                    "iopub.status.idle": "2024-08-11T01:34:57.238664Z",
                    "shell.execute_reply": "2024-08-11T01:34:57.238037Z"
                }
            },
            "outputs": [],
            "source": [
                "np.random.seed(42)"
            ]
        },
        {
            "cell_type": "markdown",
            "metadata": {
                "deletable": true,
                "editable": true
            },
            "source": [
                "Then we can generate five random labels that are either zeros or ones by picking random\n",
                "integers in the range (0, 2):"
            ]
        },
        {
            "cell_type": "code",
            "execution_count": 3,
            "metadata": {
                "collapsed": false,
                "deletable": true,
                "editable": true,
                "execution": {
                    "iopub.execute_input": "2024-08-11T01:34:57.242010Z",
                    "iopub.status.busy": "2024-08-11T01:34:57.241546Z",
                    "iopub.status.idle": "2024-08-11T01:34:57.248882Z",
                    "shell.execute_reply": "2024-08-11T01:34:57.248389Z"
                },
                "jupyter": {
                    "outputs_hidden": false
                }
            },
            "outputs": [
                {
                    "data": {
                        "text/plain": [
                            "array([0, 1, 0, 0, 0])"
                        ]
                    },
                    "execution_count": 3,
                    "metadata": {},
                    "output_type": "execute_result"
                }
            ],
            "source": [
                "y_true = np.random.randint(0, 2, size=5)\n",
                "y_true"
            ]
        },
        {
            "cell_type": "markdown",
            "metadata": {
                "deletable": true,
                "editable": true
            },
            "source": [
                "Let's assume we have a classifier that tries to predict the class labels mentioned earlier. For\n",
                "the sake of argument, let's say the classifier is not very smart, and always predicts label 1.\n",
                "We can mock this behavior by hard-coding the prediction labels:"
            ]
        },
        {
            "cell_type": "code",
            "execution_count": 4,
            "metadata": {
                "collapsed": false,
                "deletable": true,
                "editable": true,
                "execution": {
                    "iopub.execute_input": "2024-08-11T01:34:57.301601Z",
                    "iopub.status.busy": "2024-08-11T01:34:57.301364Z",
                    "iopub.status.idle": "2024-08-11T01:34:57.306394Z",
                    "shell.execute_reply": "2024-08-11T01:34:57.305863Z"
                },
                "jupyter": {
                    "outputs_hidden": false
                }
            },
            "outputs": [
                {
                    "data": {
                        "text/plain": [
                            "array([1, 1, 1, 1, 1], dtype=int32)"
                        ]
                    },
                    "execution_count": 4,
                    "metadata": {},
                    "output_type": "execute_result"
                }
            ],
            "source": [
                "y_pred = np.ones(5, dtype=np.int32)\n",
                "y_pred"
            ]
        },
        {
            "cell_type": "markdown",
            "metadata": {
                "deletable": true,
                "editable": true
            },
            "source": [
                "What is the accuracy of our prediction?\n",
                "\n",
                "As mentioned earlier, accuracy counts the number of data points in the test set that have\n",
                "been predicted correctly, and returns that number as a fraction of the test set size. We\n",
                "correctly predicted only the second data point (where the true label is 1). In all other cases,\n",
                "the true label was a 0, yet we predicted 1. Hence, our accuracy should be 1/5 or 0.2.\n",
                "\n",
                "A naive implementation of an accuracy metric might sum up all occurrences where the\n",
                "predicted class label matched the true class label:"
            ]
        },
        {
            "cell_type": "code",
            "execution_count": 5,
            "metadata": {
                "collapsed": false,
                "deletable": true,
                "editable": true,
                "execution": {
                    "iopub.execute_input": "2024-08-11T01:34:57.310715Z",
                    "iopub.status.busy": "2024-08-11T01:34:57.310502Z",
                    "iopub.status.idle": "2024-08-11T01:34:57.314895Z",
                    "shell.execute_reply": "2024-08-11T01:34:57.314394Z"
                },
                "jupyter": {
                    "outputs_hidden": false
                }
            },
            "outputs": [
                {
                    "data": {
                        "text/plain": [
                            "np.float64(0.2)"
                        ]
                    },
                    "execution_count": 5,
                    "metadata": {},
                    "output_type": "execute_result"
                }
            ],
            "source": [
                "np.sum(y_true == y_pred) / len(y_true)"
            ]
        },
        {
            "cell_type": "markdown",
            "metadata": {
                "deletable": true,
                "editable": true
            },
            "source": [
                "Close enough, Python.\n",
                "\n",
                "A smarter, and more convenient, implementation is provided by scikit-learn's `metrics`\n",
                "module:"
            ]
        },
        {
            "cell_type": "code",
            "execution_count": 6,
            "metadata": {
                "deletable": true,
                "editable": true,
                "execution": {
                    "iopub.execute_input": "2024-08-11T01:34:57.318871Z",
                    "iopub.status.busy": "2024-08-11T01:34:57.318682Z",
                    "iopub.status.idle": "2024-08-11T01:34:57.717293Z",
                    "shell.execute_reply": "2024-08-11T01:34:57.716675Z"
                }
            },
            "outputs": [],
            "source": [
                "from sklearn import metrics"
            ]
        },
        {
            "cell_type": "code",
            "execution_count": 7,
            "metadata": {
                "collapsed": false,
                "deletable": true,
                "editable": true,
                "execution": {
                    "iopub.execute_input": "2024-08-11T01:34:57.719987Z",
                    "iopub.status.busy": "2024-08-11T01:34:57.719737Z",
                    "iopub.status.idle": "2024-08-11T01:34:57.724265Z",
                    "shell.execute_reply": "2024-08-11T01:34:57.723854Z"
                },
                "jupyter": {
                    "outputs_hidden": false
                }
            },
            "outputs": [
                {
                    "data": {
                        "text/plain": [
                            "0.2"
                        ]
                    },
                    "execution_count": 7,
                    "metadata": {},
                    "output_type": "execute_result"
                }
            ],
            "source": [
                "metrics.accuracy_score(y_true, y_pred)"
            ]
        },
        {
            "cell_type": "markdown",
            "metadata": {
                "deletable": true,
                "editable": true
            },
            "source": [
                "That wasn't too hard, was it? However, in order to understand precision and recall, we need\n",
                "a general understanding of **type I** and **type II** errors. Refer to the book for a detailed explanation.\n",
                "\n",
                "In short:\n",
                "If a data point was truly a positive, and we predicted a positive, we\n",
                "got it all right! In this case, the outcome is called a **true positive**. If we thought the data\n",
                "point was a positive, but it was really a negative, we falsely predicted a positive (hence the\n",
                "term, **false positive**). Analogously, if we thought the data point was a negative, but it was\n",
                "really a positive, we falsely predicted a negative (**false negative**). Finally, if we predicted a\n",
                "negative and the data point was truly a negative, we found a **true negative**.\n",
                "\n",
                "Let's quickly calculate these four metrics on our mock-up data. We have a true positive,\n",
                "where the true label is a 1 and we also predicted a 1:"
            ]
        },
        {
            "cell_type": "code",
            "execution_count": 8,
            "metadata": {
                "deletable": true,
                "editable": true,
                "execution": {
                    "iopub.execute_input": "2024-08-11T01:34:57.726270Z",
                    "iopub.status.busy": "2024-08-11T01:34:57.726038Z",
                    "iopub.status.idle": "2024-08-11T01:34:57.728499Z",
                    "shell.execute_reply": "2024-08-11T01:34:57.728110Z"
                }
            },
            "outputs": [],
            "source": [
                "truly_a_positive = (y_true == 1)"
            ]
        },
        {
            "cell_type": "code",
            "execution_count": 9,
            "metadata": {
                "deletable": true,
                "editable": true,
                "execution": {
                    "iopub.execute_input": "2024-08-11T01:34:57.730221Z",
                    "iopub.status.busy": "2024-08-11T01:34:57.730034Z",
                    "iopub.status.idle": "2024-08-11T01:34:57.732268Z",
                    "shell.execute_reply": "2024-08-11T01:34:57.731890Z"
                }
            },
            "outputs": [],
            "source": [
                "predicted_a_positive = (y_pred == 1)"
            ]
        },
        {
            "cell_type": "code",
            "execution_count": 10,
            "metadata": {
                "collapsed": false,
                "deletable": true,
                "editable": true,
                "execution": {
                    "iopub.execute_input": "2024-08-11T01:34:57.734158Z",
                    "iopub.status.busy": "2024-08-11T01:34:57.733866Z",
                    "iopub.status.idle": "2024-08-11T01:34:57.736935Z",
                    "shell.execute_reply": "2024-08-11T01:34:57.736597Z"
                },
                "jupyter": {
                    "outputs_hidden": false
                }
            },
            "outputs": [
                {
                    "data": {
                        "text/plain": [
                            "np.int64(1)"
                        ]
                    },
                    "execution_count": 10,
                    "metadata": {},
                    "output_type": "execute_result"
                }
            ],
            "source": [
                "# You thought it was a 1, and it actually was a 1\n",
                "true_positive = np.sum(predicted_a_positive * truly_a_positive)\n",
                "true_positive"
            ]
        },
        {
            "cell_type": "markdown",
            "metadata": {
                "deletable": true,
                "editable": true
            },
            "source": [
                "Similarly, a false positive is where we predicted a 1 but the **ground truth** was really a 0:"
            ]
        },
        {
            "cell_type": "code",
            "execution_count": 11,
            "metadata": {
                "collapsed": false,
                "deletable": true,
                "editable": true,
                "execution": {
                    "iopub.execute_input": "2024-08-11T01:34:57.738679Z",
                    "iopub.status.busy": "2024-08-11T01:34:57.738494Z",
                    "iopub.status.idle": "2024-08-11T01:34:57.741827Z",
                    "shell.execute_reply": "2024-08-11T01:34:57.741326Z"
                },
                "jupyter": {
                    "outputs_hidden": false
                }
            },
            "outputs": [
                {
                    "data": {
                        "text/plain": [
                            "np.int64(4)"
                        ]
                    },
                    "execution_count": 11,
                    "metadata": {},
                    "output_type": "execute_result"
                }
            ],
            "source": [
                "# You thought it was a 1, but it was actually a 0\n",
                "false_positive = np.sum((y_pred == 1) * (y_true == 0))\n",
                "false_positive"
            ]
        },
        {
            "cell_type": "markdown",
            "metadata": {
                "deletable": true,
                "editable": true
            },
            "source": [
                "I'm sure by now you've got the hang of it. But do we even have to do math in order to know\n",
                "about predicted negatives? Our not-so-smart classifier never predicted 0, so (`y_pred == 0`) should never be true:"
            ]
        },
        {
            "cell_type": "code",
            "execution_count": 12,
            "metadata": {
                "collapsed": false,
                "deletable": true,
                "editable": true,
                "execution": {
                    "iopub.execute_input": "2024-08-11T01:34:57.743812Z",
                    "iopub.status.busy": "2024-08-11T01:34:57.743512Z",
                    "iopub.status.idle": "2024-08-11T01:34:57.746710Z",
                    "shell.execute_reply": "2024-08-11T01:34:57.746353Z"
                },
                "jupyter": {
                    "outputs_hidden": false
                }
            },
            "outputs": [
                {
                    "data": {
                        "text/plain": [
                            "np.int64(0)"
                        ]
                    },
                    "execution_count": 12,
                    "metadata": {},
                    "output_type": "execute_result"
                }
            ],
            "source": [
                "# You thought it was a 0, but it actually was a 1\n",
                "false_negative = np.sum((y_pred == 0) * (y_true == 1))\n",
                "false_negative"
            ]
        },
        {
            "cell_type": "code",
            "execution_count": 13,
            "metadata": {
                "collapsed": false,
                "deletable": true,
                "editable": true,
                "execution": {
                    "iopub.execute_input": "2024-08-11T01:34:57.748522Z",
                    "iopub.status.busy": "2024-08-11T01:34:57.748237Z",
                    "iopub.status.idle": "2024-08-11T01:34:57.751344Z",
                    "shell.execute_reply": "2024-08-11T01:34:57.750987Z"
                },
                "jupyter": {
                    "outputs_hidden": false
                }
            },
            "outputs": [
                {
                    "data": {
                        "text/plain": [
                            "np.int64(0)"
                        ]
                    },
                    "execution_count": 13,
                    "metadata": {},
                    "output_type": "execute_result"
                }
            ],
            "source": [
                "# You thought it was a 0, and it actually was a 0\n",
                "true_negative = np.sum((y_pred == 0) * (y_true == 0))\n",
                "true_negative"
            ]
        },
        {
            "cell_type": "markdown",
            "metadata": {
                "deletable": true,
                "editable": true
            },
            "source": [
                "To make sure we did everything right, let's calculate accuracy one more time. Accuracy\n",
                "should be the number of true positives plus the number of true negatives (that is,\n",
                "everything we got right) divided by the total number of data points:"
            ]
        },
        {
            "cell_type": "code",
            "execution_count": 14,
            "metadata": {
                "collapsed": false,
                "deletable": true,
                "editable": true,
                "execution": {
                    "iopub.execute_input": "2024-08-11T01:34:57.753140Z",
                    "iopub.status.busy": "2024-08-11T01:34:57.752853Z",
                    "iopub.status.idle": "2024-08-11T01:34:57.755846Z",
                    "shell.execute_reply": "2024-08-11T01:34:57.755488Z"
                },
                "jupyter": {
                    "outputs_hidden": false
                }
            },
            "outputs": [
                {
                    "data": {
                        "text/plain": [
                            "np.float64(0.2)"
                        ]
                    },
                    "execution_count": 14,
                    "metadata": {},
                    "output_type": "execute_result"
                }
            ],
            "source": [
                "accuracy = np.sum(true_positive + true_negative) / len(y_true)\n",
                "accuracy"
            ]
        },
        {
            "cell_type": "markdown",
            "metadata": {
                "deletable": true,
                "editable": true
            },
            "source": [
                "Success! Precision is then given as the number of true positives divided by the number of all\n",
                "true predictions:"
            ]
        },
        {
            "cell_type": "code",
            "execution_count": 15,
            "metadata": {
                "collapsed": false,
                "deletable": true,
                "editable": true,
                "execution": {
                    "iopub.execute_input": "2024-08-11T01:34:57.757760Z",
                    "iopub.status.busy": "2024-08-11T01:34:57.757468Z",
                    "iopub.status.idle": "2024-08-11T01:34:57.760560Z",
                    "shell.execute_reply": "2024-08-11T01:34:57.760206Z"
                },
                "jupyter": {
                    "outputs_hidden": false
                }
            },
            "outputs": [
                {
                    "data": {
                        "text/plain": [
                            "np.float64(0.2)"
                        ]
                    },
                    "execution_count": 15,
                    "metadata": {},
                    "output_type": "execute_result"
                }
            ],
            "source": [
                "precision = np.sum(true_positive) / np.sum(true_positive + false_positive)\n",
                "precision"
            ]
        },
        {
            "cell_type": "markdown",
            "metadata": {
                "deletable": true,
                "editable": true
            },
            "source": [
                "Turns out that precision isn't better than accuracy in our case. Let's check our math with\n",
                "scikit-learn:"
            ]
        },
        {
            "cell_type": "code",
            "execution_count": 16,
            "metadata": {
                "collapsed": false,
                "deletable": true,
                "editable": true,
                "execution": {
                    "iopub.execute_input": "2024-08-11T01:34:57.762437Z",
                    "iopub.status.busy": "2024-08-11T01:34:57.762121Z",
                    "iopub.status.idle": "2024-08-11T01:34:57.766730Z",
                    "shell.execute_reply": "2024-08-11T01:34:57.766363Z"
                },
                "jupyter": {
                    "outputs_hidden": false
                }
            },
            "outputs": [
                {
                    "data": {
                        "text/plain": [
                            "np.float64(0.2)"
                        ]
                    },
                    "execution_count": 16,
                    "metadata": {},
                    "output_type": "execute_result"
                }
            ],
            "source": [
                "metrics.precision_score(y_true, y_pred)"
            ]
        },
        {
            "cell_type": "markdown",
            "metadata": {
                "deletable": true,
                "editable": true
            },
            "source": [
                "Finally, recall is given as the fraction of all positives that we correctly classified as\n",
                "positives:"
            ]
        },
        {
            "cell_type": "code",
            "execution_count": 17,
            "metadata": {
                "collapsed": false,
                "deletable": true,
                "editable": true,
                "execution": {
                    "iopub.execute_input": "2024-08-11T01:34:57.768524Z",
                    "iopub.status.busy": "2024-08-11T01:34:57.768371Z",
                    "iopub.status.idle": "2024-08-11T01:34:57.771274Z",
                    "shell.execute_reply": "2024-08-11T01:34:57.770930Z"
                },
                "jupyter": {
                    "outputs_hidden": false
                }
            },
            "outputs": [
                {
                    "data": {
                        "text/plain": [
                            "np.float64(1.0)"
                        ]
                    },
                    "execution_count": 17,
                    "metadata": {},
                    "output_type": "execute_result"
                }
            ],
            "source": [
                "recall = true_positive / (true_positive + false_negative)\n",
                "recall"
            ]
        },
        {
            "cell_type": "code",
            "execution_count": 18,
            "metadata": {
                "collapsed": false,
                "deletable": true,
                "editable": true,
                "execution": {
                    "iopub.execute_input": "2024-08-11T01:34:57.773102Z",
                    "iopub.status.busy": "2024-08-11T01:34:57.772821Z",
                    "iopub.status.idle": "2024-08-11T01:34:57.777109Z",
                    "shell.execute_reply": "2024-08-11T01:34:57.776748Z"
                },
                "jupyter": {
                    "outputs_hidden": false
                }
            },
            "outputs": [
                {
                    "data": {
                        "text/plain": [
                            "np.float64(1.0)"
                        ]
                    },
                    "execution_count": 18,
                    "metadata": {},
                    "output_type": "execute_result"
                }
            ],
            "source": [
                "metrics.recall_score(y_true, y_pred)"
            ]
        },
        {
            "cell_type": "markdown",
            "metadata": {
                "deletable": true,
                "editable": true
            },
            "source": [
                "Perfect recall! But, going back to our mock-up data, it should be clear that this excellent\n",
                "recall score was mere luck. Since there was only a single 1 in our mock-up dataset, and we\n",
                "happened to correctly classify it, we got a perfect recall score.\n",
                "\n",
                "Does that mean our classifier\n",
                "is perfect? Not really! But we have found three useful metrics that seem to measure\n",
                "complementary aspects of our classification performance."
            ]
        },
        {
            "cell_type": "markdown",
            "metadata": {
                "deletable": true,
                "editable": true
            },
            "source": [
                "## Scoring regressors using mean squared error, explained variance, and R squared\n",
                "\n",
                "When it comes to regression models, our metrics above don't work anymore. After all, we are now predicting continuous output values, not distinct classification labels. Fortunately, Scikit-Learn provides some other useful scoring functions:\n",
                "\n",
                "- `mean_squared_error`: The most commonly used error metric for regression problems is simply to measure the *squared error* between predicted and true target value for every data point in the training set, averaged across all data points.\n",
                "- `explained_variance_score`: A more sophisticated metric is to measure to what degree a model can explain the variation or dispersion of the test data. Often, the amount of *explained variance* is measured using the *correlation coefficient*.\n",
                "- `r2_score`: The R2 score (pronounced *R squared*) is closely related to the explained variance score, but uses an unbiased variance estimation. It is also known as the *coefficient of determination*.\n",
                "\n",
                "Let's create another mock-up dataset. Let's say we are observing data that looks like a sin as\n",
                "a function of x values. We start by generating 100 equally spaced x values between 0 and\n",
                "10:"
            ]
        },
        {
            "cell_type": "code",
            "execution_count": 19,
            "metadata": {
                "deletable": true,
                "editable": true,
                "execution": {
                    "iopub.execute_input": "2024-08-11T01:34:57.779002Z",
                    "iopub.status.busy": "2024-08-11T01:34:57.778761Z",
                    "iopub.status.idle": "2024-08-11T01:34:57.780980Z",
                    "shell.execute_reply": "2024-08-11T01:34:57.780628Z"
                }
            },
            "outputs": [],
            "source": [
                "x = np.linspace(0, 10, 100)"
            ]
        },
        {
            "cell_type": "markdown",
            "metadata": {
                "deletable": true,
                "editable": true
            },
            "source": [
                "However, real data is always noisy. To honor this fact, we want the target values `y_true` to\n",
                "be noisy, too. We do this by adding noise to the `sin` function:"
            ]
        },
        {
            "cell_type": "code",
            "execution_count": 20,
            "metadata": {
                "deletable": true,
                "editable": true,
                "execution": {
                    "iopub.execute_input": "2024-08-11T01:34:57.782685Z",
                    "iopub.status.busy": "2024-08-11T01:34:57.782494Z",
                    "iopub.status.idle": "2024-08-11T01:34:57.784826Z",
                    "shell.execute_reply": "2024-08-11T01:34:57.784469Z"
                }
            },
            "outputs": [],
            "source": [
                "y_true = np.sin(x) + np.random.rand(x.size) - 0.5"
            ]
        },
        {
            "cell_type": "markdown",
            "metadata": {
                "deletable": true,
                "editable": true
            },
            "source": [
                "Here, we use NumPy's `rand` function to add noise in the range [0, 1], but then center the\n",
                "noise around 0 by subtracting 0.5. Hence, we effectively jitter every data point either up or\n",
                "down by a maximum of 0.5.\n",
                "\n",
                "Let's assume our model was smart enough to figure out the `sin(x)` relationship. Hence, the\n",
                "predicted `y` values are given as follows:"
            ]
        },
        {
            "cell_type": "code",
            "execution_count": 21,
            "metadata": {
                "deletable": true,
                "editable": true,
                "execution": {
                    "iopub.execute_input": "2024-08-11T01:34:57.786540Z",
                    "iopub.status.busy": "2024-08-11T01:34:57.786281Z",
                    "iopub.status.idle": "2024-08-11T01:34:57.788562Z",
                    "shell.execute_reply": "2024-08-11T01:34:57.788181Z"
                }
            },
            "outputs": [],
            "source": [
                "y_pred = np.sin(x)"
            ]
        },
        {
            "cell_type": "markdown",
            "metadata": {
                "deletable": true,
                "editable": true
            },
            "source": [
                "What does this data look like? We can use Matplotlib to visualize them:"
            ]
        },
        {
            "cell_type": "code",
            "execution_count": 22,
            "metadata": {
                "deletable": true,
                "editable": true,
                "execution": {
                    "iopub.execute_input": "2024-08-11T01:34:57.790179Z",
                    "iopub.status.busy": "2024-08-11T01:34:57.790036Z",
                    "iopub.status.idle": "2024-08-11T01:34:58.080022Z",
                    "shell.execute_reply": "2024-08-11T01:34:58.079545Z"
                }
            },
            "outputs": [],
            "source": [
                "import matplotlib.pyplot as plt\n",
                "plt.style.use('ggplot')\n",
                "%matplotlib inline"
            ]
        },
        {
            "cell_type": "code",
            "execution_count": 23,
            "metadata": {
                "collapsed": false,
                "deletable": true,
                "editable": true,
                "execution": {
                    "iopub.execute_input": "2024-08-11T01:34:58.082353Z",
                    "iopub.status.busy": "2024-08-11T01:34:58.082069Z",
                    "iopub.status.idle": "2024-08-11T01:34:58.208939Z",
                    "shell.execute_reply": "2024-08-11T01:34:58.208530Z"
                },
                "jupyter": {
                    "outputs_hidden": false
                }
            },
            "outputs": [
                {
                    "data": {
                        "text/plain": [
                            "<matplotlib.legend.Legend at 0x7515b7680d90>"
                        ]
                    },
                    "execution_count": 23,
                    "metadata": {},
                    "output_type": "execute_result"
                },
                {
                    "data": {
                        "image/png": "[encoded data removed]",
                        "text/plain": [
                            "<Figure size 1000x600 with 1 Axes>"
                        ]
                    },
                    "metadata": {},
                    "output_type": "display_data"
                }
            ],
            "source": [
                "plt.figure(figsize=(10, 6))\n",
                "plt.plot(x, y_pred, linewidth=4, label='model')\n",
                "plt.plot(x, y_true, 'o', label='data')\n",
                "plt.xlabel('x')\n",
                "plt.ylabel('y')\n",
                "plt.legend(loc='lower left')"
            ]
        },
        {
            "cell_type": "markdown",
            "metadata": {
                "deletable": true,
                "editable": true
            },
            "source": [
                "The most straightforward metric to determine how good our model predictions are is the\n",
                "mean squared error. For each data point, we look at the difference between the predicted\n",
                "and the actual `y` value, and then square it. We then compute the average of this squared\n",
                "error over all the data points:"
            ]
        },
        {
            "cell_type": "code",
            "execution_count": 24,
            "metadata": {
                "collapsed": false,
                "deletable": true,
                "editable": true,
                "execution": {
                    "iopub.execute_input": "2024-08-11T01:34:58.210855Z",
                    "iopub.status.busy": "2024-08-11T01:34:58.210703Z",
                    "iopub.status.idle": "2024-08-11T01:34:58.213978Z",
                    "shell.execute_reply": "2024-08-11T01:34:58.213616Z"
                },
                "jupyter": {
                    "outputs_hidden": false
                }
            },
            "outputs": [
                {
                    "data": {
                        "text/plain": [
                            "np.float64(0.08531839480842378)"
                        ]
                    },
                    "execution_count": 24,
                    "metadata": {},
                    "output_type": "execute_result"
                }
            ],
            "source": [
                "mse = np.mean((y_true - y_pred) ** 2)\n",
                "mse"
            ]
        },
        {
            "cell_type": "markdown",
            "metadata": {
                "deletable": true,
                "editable": true
            },
            "source": [
                "For our convenience, scikit-learn provides its own implementation of the mean squared\n",
                "error:"
            ]
        },
        {
            "cell_type": "code",
            "execution_count": 25,
            "metadata": {
                "collapsed": false,
                "deletable": true,
                "editable": true,
                "execution": {
                    "iopub.execute_input": "2024-08-11T01:34:58.215759Z",
                    "iopub.status.busy": "2024-08-11T01:34:58.215609Z",
                    "iopub.status.idle": "2024-08-11T01:34:58.219364Z",
                    "shell.execute_reply": "2024-08-11T01:34:58.219002Z"
                },
                "jupyter": {
                    "outputs_hidden": false
                }
            },
            "outputs": [
                {
                    "data": {
                        "text/plain": [
                            "np.float64(0.08531839480842378)"
                        ]
                    },
                    "execution_count": 25,
                    "metadata": {},
                    "output_type": "execute_result"
                }
            ],
            "source": [
                "metrics.mean_squared_error(y_true, y_pred)"
            ]
        },
        {
            "cell_type": "markdown",
            "metadata": {
                "deletable": true,
                "editable": true
            },
            "source": [
                "Another common metric is to measure the scatter or variation in the data: if every data\n",
                "point was equal to the mean of all the data points, we would have no scatter or variation in\n",
                "the data, and we could predict all future data points with a single data value. This would be\n",
                "the world's most boring machine learning problem. Instead, we find that the data points\n",
                "often follow some unknown, hidden relationship, that we would like to uncover. In the\n",
                "previous example, this would be the $y=sin(x)$ relationship, which causes the data to be\n",
                "scattered.\n",
                "\n",
                "We can measure how much of that scatter in the data (or **variance**) we can explain. We do\n",
                "this by calculating the variance that still exists between the predicted and the actual labels;\n",
                "this is all the variance our predictions could not explain. If we normalize this value by the\n",
                "total variance in the data, we get what is known as the **fraction of variance unexplained**:"
            ]
        },
        {
            "cell_type": "code",
            "execution_count": 26,
            "metadata": {
                "collapsed": false,
                "deletable": true,
                "editable": true,
                "execution": {
                    "iopub.execute_input": "2024-08-11T01:34:58.221097Z",
                    "iopub.status.busy": "2024-08-11T01:34:58.220947Z",
                    "iopub.status.idle": "2024-08-11T01:34:58.224151Z",
                    "shell.execute_reply": "2024-08-11T01:34:58.223791Z"
                },
                "jupyter": {
                    "outputs_hidden": false
                }
            },
            "outputs": [
                {
                    "data": {
                        "text/plain": [
                            "np.float64(0.163970326266295)"
                        ]
                    },
                    "execution_count": 26,
                    "metadata": {},
                    "output_type": "execute_result"
                }
            ],
            "source": [
                "fvu = np.var(y_true - y_pred) / np.var(y_true)\n",
                "fvu"
            ]
        },
        {
            "cell_type": "markdown",
            "metadata": {
                "deletable": true,
                "editable": true
            },
            "source": [
                "Because this metric is a fraction, its values must lie between 0 and 1. We can subtract this\n",
                "fraction from 1 to get the fraction of variance explained:"
            ]
        },
        {
            "cell_type": "code",
            "execution_count": 27,
            "metadata": {
                "collapsed": false,
                "deletable": true,
                "editable": true,
                "execution": {
                    "iopub.execute_input": "2024-08-11T01:34:58.226049Z",
                    "iopub.status.busy": "2024-08-11T01:34:58.225754Z",
                    "iopub.status.idle": "2024-08-11T01:34:58.228782Z",
                    "shell.execute_reply": "2024-08-11T01:34:58.228356Z"
                },
                "jupyter": {
                    "outputs_hidden": false
                }
            },
            "outputs": [
                {
                    "data": {
                        "text/plain": [
                            "np.float64(0.836029673733705)"
                        ]
                    },
                    "execution_count": 27,
                    "metadata": {},
                    "output_type": "execute_result"
                }
            ],
            "source": [
                "fve = 1.0 - fvu\n",
                "fve"
            ]
        },
        {
            "cell_type": "markdown",
            "metadata": {
                "deletable": true,
                "editable": true
            },
            "source": [
                "Let's verify our math with scikit-learn:"
            ]
        },
        {
            "cell_type": "code",
            "execution_count": 28,
            "metadata": {
                "collapsed": false,
                "deletable": true,
                "editable": true,
                "execution": {
                    "iopub.execute_input": "2024-08-11T01:34:58.230678Z",
                    "iopub.status.busy": "2024-08-11T01:34:58.230386Z",
                    "iopub.status.idle": "2024-08-11T01:34:58.233941Z",
                    "shell.execute_reply": "2024-08-11T01:34:58.233574Z"
                },
                "jupyter": {
                    "outputs_hidden": false
                }
            },
            "outputs": [
                {
                    "data": {
                        "text/plain": [
                            "0.836029673733705"
                        ]
                    },
                    "execution_count": 28,
                    "metadata": {},
                    "output_type": "execute_result"
                }
            ],
            "source": [
                "metrics.explained_variance_score(y_true, y_pred)"
            ]
        },
        {
            "cell_type": "markdown",
            "metadata": {
                "deletable": true,
                "editable": true
            },
            "source": [
                "Spot on! Finally, we can calculate what is known as the coefficient of determination, or $R^2$\n",
                "(pronounced R squared). $R^2$ is closely related to the fraction of variance explained, and\n",
                "compares the mean squared error calculated earlier to the actual variance in the data:"
            ]
        },
        {
            "cell_type": "code",
            "execution_count": 29,
            "metadata": {
                "collapsed": false,
                "deletable": true,
                "editable": true,
                "execution": {
                    "iopub.execute_input": "2024-08-11T01:34:58.235782Z",
                    "iopub.status.busy": "2024-08-11T01:34:58.235576Z",
                    "iopub.status.idle": "2024-08-11T01:34:58.238701Z",
                    "shell.execute_reply": "2024-08-11T01:34:58.238287Z"
                },
                "jupyter": {
                    "outputs_hidden": false
                }
            },
            "outputs": [
                {
                    "data": {
                        "text/plain": [
                            "np.float64(0.8358169419264746)"
                        ]
                    },
                    "execution_count": 29,
                    "metadata": {},
                    "output_type": "execute_result"
                }
            ],
            "source": [
                "r2 = 1.0 - mse / np.var(y_true)\n",
                "r2"
            ]
        },
        {
            "cell_type": "markdown",
            "metadata": {
                "deletable": true,
                "editable": true
            },
            "source": [
                "The same value can be obtained with scikit-learn:"
            ]
        },
        {
            "cell_type": "code",
            "execution_count": 30,
            "metadata": {
                "collapsed": false,
                "deletable": true,
                "editable": true,
                "execution": {
                    "iopub.execute_input": "2024-08-11T01:34:58.240585Z",
                    "iopub.status.busy": "2024-08-11T01:34:58.240284Z",
                    "iopub.status.idle": "2024-08-11T01:34:58.243754Z",
                    "shell.execute_reply": "2024-08-11T01:34:58.243395Z"
                },
                "jupyter": {
                    "outputs_hidden": false
                }
            },
            "outputs": [
                {
                    "data": {
                        "text/plain": [
                            "0.8358169419264746"
                        ]
                    },
                    "execution_count": 30,
                    "metadata": {},
                    "output_type": "execute_result"
                }
            ],
            "source": [
                "metrics.r2_score(y_true, y_pred)"
            ]
        },
        {
            "cell_type": "markdown",
            "metadata": {
                "deletable": true,
                "editable": true
            },
            "source": [
                "The better our predictions fit the data, in comparison to taking the simple average, the\n",
                "closer the value of the $R^2$ score will be to 1. The $R^2$ score can take on negative values, as\n",
                "model predictions can be arbitrarily worse than 1. A constant model that always predicts\n",
                "the expected value of `y`, independent of the input `x`, would get a $R^2$ score of 0:"
            ]
        },
        {
            "cell_type": "code",
            "execution_count": 31,
            "metadata": {
                "collapsed": false,
                "deletable": true,
                "editable": true,
                "execution": {
                    "iopub.execute_input": "2024-08-11T01:34:58.245486Z",
                    "iopub.status.busy": "2024-08-11T01:34:58.245286Z",
                    "iopub.status.idle": "2024-08-11T01:34:58.248799Z",
                    "shell.execute_reply": "2024-08-11T01:34:58.248441Z"
                },
                "jupyter": {
                    "outputs_hidden": false
                }
            },
            "outputs": [
                {
                    "data": {
                        "text/plain": [
                            "0.0"
                        ]
                    },
                    "execution_count": 31,
                    "metadata": {},
                    "output_type": "execute_result"
                }
            ],
            "source": [
                "metrics.r2_score(y_true, np.mean(y_true) * np.ones_like(y_true))"
            ]
        }
    ],
    "metadata": {
        "kernelspec": {
            "display_name": "Python 3 (ipykernel)",
            "language": "python",
            "name": "python3"
        },
        "language_info": {
            "codemirror_mode": {
                "name": "ipython",
                "version": 3
            },
            "file_extension": ".py",
            "mimetype": "text/x-python",
            "name": "python",
            "nbconvert_exporter": "python",
            "pygments_lexer": "ipython3",
            "version": "3.11.9"
        }
    },
    "nbformat": 4,
    "nbformat_minor": 4
}