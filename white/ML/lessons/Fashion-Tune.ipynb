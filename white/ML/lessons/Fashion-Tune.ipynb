{
 "cells": [
  {
   "cell_type": "markdown",
   "id": "9a47d860-9fa2-4742-b190-31ecb81e3e60",
   "metadata": {},
   "source": [
    "# Tuning Fashion MNIST"
   ]
  },
  {
   "cell_type": "code",
   "execution_count": null,
   "id": "c327aa83-f25b-4a6a-b542-f69b7fba501d",
   "metadata": {},
   "outputs": [],
   "source": [
    "import tensorflow as tf\n",
    "from tensorflow import keras\n",
    "from keras.layers import Flatten, Dense\n",
    "from keras.models import Sequential\n",
    "from tensorflow.keras import regularizers\n",
    "import matplotlib.pyplot as plt\n",
    "import random\n",
    "import numpy as np\n",
    "from tensorflow.keras.preprocessing.image import ImageDataGenerator\n"
   ]
  },
  {
   "cell_type": "code",
   "execution_count": null,
   "id": "2a86e137-4a2d-414c-873c-c3c5f50efd8a",
   "metadata": {},
   "outputs": [],
   "source": [
    "# Load MNIST dataset\n",
    "mnist = tf.keras.datasets.fashion_mnist\n",
    "(x_train, y_train), (x_test, y_test) = mnist.load_data()\n",
    "x_train = x_train.reshape(60000, 28, 28, 1).astype('float32') / 255.0\n",
    "x_test = x_test.reshape(10000, 28, 28, 1).astype('float32') / 255.0"
   ]
  },
  {
   "cell_type": "markdown",
   "id": "49327558-dfe4-4684-b427-3dec43b4b2f9",
   "metadata": {},
   "source": [
    "Here are the names of the 10 classes"
   ]
  },
  {
   "cell_type": "code",
   "execution_count": null,
   "id": "8c0d2fa0-3fdc-4c83-9af5-54593b566b83",
   "metadata": {},
   "outputs": [],
   "source": [
    "class_names = [\"T-shirt/top\", \"Trouser\", \"Pullover\", \"Dress\", \"Coat\",\n",
    "               \"Sandal\", \"Shirt\", \"Sneaker\", \"Bag\", \"Ankle boot\"]"
   ]
  },
  {
   "cell_type": "markdown",
   "id": "d8775f1a-7f6c-4f51-838f-cfe8788d4261",
   "metadata": {},
   "source": [
    "Things to do:\n",
    "*  Plot a histogram of the class labels to determine balance\n",
    "*  Plot some random entries from the dataset and their class name\n",
    "*  Create a DNN based on the MNIST one we made. Use any topology and activation functions you want.\n",
    "*  When you 'compile' the model, include `metrics=['accuracy']`\n",
    "*  Train the model\n",
    "*  Plot the accuracies using the plot code below\n",
    "*  Evaluate the model on the **test** set and report the result\n",
    "*  Repeat the last 5 steps -- try to get the best test accuracy\n",
    "*  Print a confusion matrix (10x10) for the test set\n",
    "*  Make a grid showing a selection of the misclassified samples, along with their label (probably need to google this)"
   ]
  },
  {
   "cell_type": "markdown",
   "id": "60a1374d-0526-4975-b8ec-444a64af8498",
   "metadata": {},
   "source": [
    "## Fine Tuning"
   ]
  },
  {
   "cell_type": "code",
   "execution_count": null,
   "id": "3b23d74a-1132-4313-b35a-1472da2ba64d",
   "metadata": {},
   "outputs": [],
   "source": [
    "import keras_tuner as kt"
   ]
  },
  {
   "cell_type": "code",
   "execution_count": null,
   "id": "b4878bdd-0414-4baa-93a8-af1af53f4d5f",
   "metadata": {},
   "outputs": [],
   "source": [
    "def build_model(hp):\n",
    "    n_hidden = hp.Int(\"n_hidden\", min_value = 2, max_value = 8, default = 3)\n",
    "    n_neurons = hp.Int(\"n_neurons\", min_value = 32, max_value = 192)\n",
    "    n_dropouts = hp.Int(\"n_dropouts\", min_value = 2, max_value = 15)\n",
    "    model = tf.keras.Sequential()\n",
    "    model.add(tf.keras.layers.Input([28,28]))\n",
    "    model.add(tf.keras.layers.Flatten())\n",
    "    for _ in range(n_hidden):\n",
    "        model.add(tf.keras.layers.Dense(n_neurons, activation=\"selu\"))\n",
    "        model.add(tf.keras.layers.Dropout(n_dropouts/100))\n",
    "    model.add(tf.keras.layers.Dense(10, activation=\"softmax\"))\n",
    "    model.compile(loss=\"sparse_categorical_crossentropy\", optimizer='adam', metrics=[\"accuracy\"])\n",
    "    return model"
   ]
  },
  {
   "cell_type": "code",
   "execution_count": null,
   "id": "976eef2f-b139-47c6-9855-f5fae302ff2f",
   "metadata": {},
   "outputs": [],
   "source": [
    "random_search_tuner = kt.RandomSearch(\n",
    "    build_model, objective='val_accuracy', max_trials=50, overwrite=True,\n",
    "    directory=\"fashion_mnist\", project_name=\"search\", seed=42)"
   ]
  },
  {
   "cell_type": "code",
   "execution_count": null,
   "id": "c0a4fe80-2f75-42ce-8db8-d5a7f9e6911b",
   "metadata": {},
   "outputs": [],
   "source": [
    "random_search_tuner.search(x_train, y_train, epochs=15, validation_split=0.1, batch_size=1024)"
   ]
  },
  {
   "cell_type": "code",
   "execution_count": null,
   "id": "22b671de-aae6-425c-929f-ac97bb06e6fc",
   "metadata": {},
   "outputs": [],
   "source": [
    "random_search_tuner.get_best_hyperparameters()"
   ]
  },
  {
   "cell_type": "code",
   "execution_count": null,
   "id": "afba961f-8407-49ba-be0f-f2f763d9301d",
   "metadata": {},
   "outputs": [],
   "source": []
  }
 ],
 "metadata": {
  "kernelspec": {
   "display_name": "Python 3 (ipykernel)",
   "language": "python",
   "name": "python3"
  },
  "language_info": {
   "codemirror_mode": {
    "name": "ipython",
    "version": 3
   },
   "file_extension": ".py",
   "mimetype": "text/x-python",
   "name": "python",
   "nbconvert_exporter": "python",
   "pygments_lexer": "ipython3",
   "version": "3.11.0rc1"
  }
 },
 "nbformat": 4,
 "nbformat_minor": 5
}
