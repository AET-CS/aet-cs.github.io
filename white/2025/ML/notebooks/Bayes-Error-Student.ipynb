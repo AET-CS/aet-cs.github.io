{
 "cells": [
  {
   "cell_type": "markdown",
   "id": "f85d2265-fef1-458f-beb7-64ec118e6b43",
   "metadata": {},
   "source": [
    "# Bayes Error: The Quest for the 0% Error Rate"
   ]
  },
  {
   "cell_type": "markdown",
   "id": "42d960ed-7210-4736-b394-f309521beeea",
   "metadata": {},
   "source": [
    "This lab introduces the concept of \"irreducible error\", which is also known as the \"Bayes Error Rate\". Run the cells below and fill in \"your code\" where indicated. This notebook introduces a number of new tools in numpy that we will use in this course. Be sure to read the code carefully."
   ]
  },
  {
   "cell_type": "code",
   "execution_count": null,
   "id": "634dfd3c",
   "metadata": {},
   "outputs": [],
   "source": [
    "import numpy as np\n",
    "import matplotlib.pyplot as plt\n",
    "from scipy.stats import multivariate_normal\n",
    "\n",
    "# Set random seed for reproducible results\n",
    "np.random.seed(42)"
   ]
  },
  {
   "cell_type": "markdown",
   "id": "52d22500-977d-4f7e-9312-d225ac1d41b4",
   "metadata": {},
   "source": [
    "## Part 1: Well Separated Groups"
   ]
  },
  {
   "cell_type": "code",
   "execution_count": null,
   "id": "477e28b9",
   "metadata": {},
   "outputs": [],
   "source": [
    "# Create two 2D normal distributions that are far apart\n",
    "mean_A = [-3, 0]  # Center of group A\n",
    "mean_B = [3, 0]   # Center of group B\n",
    "cov = [[1, 0], [0, 1]]  # Same circular variance for both\n",
    "\n",
    "# Generate labeled data\n",
    "n_samples = 500\n",
    "X_A = np.random.multivariate_normal(mean_A, cov, n_samples)\n",
    "X_B = np.random.multivariate_normal(mean_B, cov, n_samples)\n",
    "\n",
    "# Combine data and create labels\n",
    "X_combined = np.vstack([X_A, X_B])\n",
    "y_combined = np.hstack([np.zeros(n_samples), np.ones(n_samples)])  # 0=A, 1=B"
   ]
  },
  {
   "cell_type": "markdown",
   "id": "003883b8-30bf-4d0b-937a-9b001a60dc59",
   "metadata": {},
   "source": [
    "Define a decision boundary -- an $x$ coordinate that separates the 'blue' from the 'red' points"
   ]
  },
  {
   "cell_type": "code",
   "execution_count": null,
   "id": "7f168b09-2952-4958-a19c-fdc3c4853c9d",
   "metadata": {},
   "outputs": [],
   "source": [
    "split_point = ##your number here"
   ]
  },
  {
   "cell_type": "code",
   "execution_count": null,
   "id": "96cca0b3",
   "metadata": {},
   "outputs": [],
   "source": [
    "# Visualize the data\n",
    "\n",
    "plt.figure(figsize=(10, 6))\n",
    "plt.scatter(X_A[:, 0], X_A[:, 1], c='blue', alpha=0.6, label='Group A', s=20)\n",
    "plt.scatter(X_B[:, 0], X_B[:, 1], c='red', alpha=0.6, label='Group B', s=20)\n",
    "plt.xlabel('X-coordinate')\n",
    "plt.ylabel('Y-coordinate')\n",
    "plt.title('Part 1: Well-Separated Distributions')\n",
    "plt.legend()\n",
    "plt.grid(True, alpha=0.3)"
   ]
  },
  {
   "cell_type": "code",
   "execution_count": null,
   "id": "ea42acd8-f881-4def-a4fd-4b80cd81172c",
   "metadata": {},
   "outputs": [],
   "source": [
    "# Visualize the data\n",
    "\n",
    "plt.figure(figsize=(10, 6))\n",
    "plt.scatter(X_A[:, 0], X_A[:, 1], c='blue', alpha=0.6, label='Group A', s=20)\n",
    "plt.scatter(X_B[:, 0], X_B[:, 1], c='red', alpha=0.6, label='Group B', s=20)\n",
    "plt.xlabel('X-coordinate')\n",
    "plt.ylabel('Y-coordinate')\n",
    "plt.title('Part 1: Well-Separated Distributions')\n",
    "plt.legend()\n",
    "plt.grid(True, alpha=0.3)\n",
    "\n",
    "# Draw a decision boundary at x = 0\n",
    "plt.axvline(x=split_point, color='black', linestyle='--', linewidth=2, label='Decision Boundary (x=0)')\n",
    "plt.legend()\n",
    "plt.show()"
   ]
  },
  {
   "cell_type": "code",
   "execution_count": null,
   "id": "fde1427b",
   "metadata": {},
   "outputs": [],
   "source": [
    "# Count classification errors with decision boundary at x = 0\n",
    "\n",
    "predictions = (X_combined[:, 0] > 0)\n",
    "errors = np.sum(predictions != y_combined)\n",
    "error_rate = errors / len(y_combined)\n",
    "\n",
    "print(f\"Decision rule: If x > 0, predict Group B; else predict Group A\")\n",
    "print(f\"Number of errors: {errors} out of {len(y_combined)} samples\")\n",
    "print(f\"Error rate: {error_rate:.3f} ({error_rate*100:.1f}%)\")\n",
    "print()"
   ]
  },
  {
   "cell_type": "markdown",
   "id": "597be47a-ce2f-4016-8111-dcb58f7bd5aa",
   "metadata": {},
   "source": [
    "**ToDo:** Try different split points above and observe how the error rate changes."
   ]
  },
  {
   "cell_type": "markdown",
   "id": "530cb212-209d-445f-bb8f-e1a8fff0dc10",
   "metadata": {},
   "source": [
    "## Part 2: Overlapping distributions"
   ]
  },
  {
   "cell_type": "code",
   "execution_count": null,
   "id": "36ee297d",
   "metadata": {},
   "outputs": [],
   "source": [
    "# Create distributions that are closer together\n",
    "mean_A_close = [-1, 0]  # Closer to center\n",
    "mean_B_close = [1, 0]   # Closer to center\n",
    "split_point_close = 0.5  # change this\n",
    "\n",
    "# Generate new data\n",
    "X_A_close = np.random.multivariate_normal(mean_A_close, cov, n_samples)\n",
    "X_B_close = np.random.multivariate_normal(mean_B_close, cov, n_samples)\n",
    "\n",
    "X_combined_close = np.vstack([X_A_close, X_B_close])\n",
    "y_combined_close = np.hstack([np.zeros(n_samples), np.ones(n_samples)])\n",
    "\n",
    "# %%# Visualize\n",
    "\n",
    "## Make a scatter plot like above, with a decision boundary using split_point_close"
   ]
  },
  {
   "cell_type": "code",
   "execution_count": null,
   "id": "ca9f6e32",
   "metadata": {},
   "outputs": [],
   "source": [
    "# Count errors with a decision boundary\n",
    "\n",
    "# YOUR CODE HERE:\n",
    "# count the errors (see sample above)\n",
    "\n",
    "print(f\"Same decision rule on closer distributions:\")\n",
    "print(f\"Number of errors: {errors_close} out of {len(y_combined_close)} samples\")\n",
    "print(f\"Error rate: {error_rate_close:.3f} ({error_rate_close*100:.1f}%)\")\n",
    "print(f\"Error increased by: {error_rate_close - error_rate:.3f}\")\n",
    "print()"
   ]
  },
  {
   "cell_type": "markdown",
   "id": "4b6011b3-b4c6-43f9-b8d8-1371d097c1e9",
   "metadata": {},
   "source": [
    "## Part 3: Finding the Optimal Split Point"
   ]
  },
  {
   "cell_type": "code",
   "execution_count": null,
   "id": "081037a4-e1f1-4250-8f9b-ffa9d23ac0eb",
   "metadata": {},
   "outputs": [],
   "source": [
    "# TODO 3: Try different split points and find the best one\n",
    "# INSTRUCTIONS: Test split points from -2 to 2 and find the one with lowest error\n",
    "\n",
    "split_points = np.linspace(-2, 2, 41)  # Test 41 different points\n",
    "error_rates = []\n",
    "\n",
    "for split in split_points:\n",
    "    # YOUR CODE HERE: \n",
    "    # 1. Make predictions using this split point\n",
    "    # 2. Calculate error rate\n",
    "    # 3. Store in error_rates list\n",
    "    \n",
    "\n",
    "# Find the best split point\n",
    "best_idx = np.argmin(error_rates)\n",
    "best_split = split_points[best_idx]\n",
    "best_error_rate = error_rates[best_idx]\n",
    "\n",
    "print(f\"Best split point: x = {best_split:.2f}\")\n",
    "print(f\"Best error rate: {best_error_rate:.3f} ({best_error_rate*100:.1f}%)\")\n",
    "print()"
   ]
  },
  {
   "cell_type": "code",
   "execution_count": null,
   "id": "0acdb0f1-be02-4683-885c-61c3c0279870",
   "metadata": {},
   "outputs": [],
   "source": [
    "# %%# Plot error rates vs split points\n",
    "# Your code here\n",
    "# Make a plot and add a vertical dashed line at the minimum\n"
   ]
  },
  {
   "cell_type": "code",
   "execution_count": null,
   "id": "e0385b52",
   "metadata": {},
   "outputs": [],
   "source": [
    "# Visualize the optimal boundary\n",
    "# Your code here\n",
    "# use example above"
   ]
  },
  {
   "cell_type": "markdown",
   "id": "8579340e-8be1-4302-b42b-8243b87e3b84",
   "metadata": {},
   "source": [
    "## Part 4: Different Variances"
   ]
  },
  {
   "cell_type": "code",
   "execution_count": null,
   "id": "2a64ea43",
   "metadata": {},
   "outputs": [],
   "source": [
    "# TODO 4: Create distributions with different variances\n",
    "# Group A: more concentrated, Group B: more spread out\n",
    "cov_A = [[0.05, 0], [0, 0.05]]  # Smaller variance\n",
    "cov_B = [[2.0, 0], [0, 2.0]]  # Larger variance\n",
    "\n",
    "# YOUR CODE HERE:\n",
    "# 1. Generate new data with these different covariances\n",
    "# 2. Find the optimal split point\n",
    "# 3. Compare error rates\n",
    "# 4. Make graphs as before"
   ]
  },
  {
   "cell_type": "markdown",
   "id": "6f095876-004e-426e-a3aa-f479367cfdfc",
   "metadata": {},
   "source": [
    "## Part 5: Conclusions"
   ]
  },
  {
   "cell_type": "markdown",
   "id": "9ae5e3ca-e9e5-4f66-8d3a-078e05c5b812",
   "metadata": {},
   "source": [
    "What formula defines the optmal boundary between two distributions with equal variances and distinct means $\\mu_1$ and $\\mu_2$"
   ]
  },
  {
   "cell_type": "code",
   "execution_count": null,
   "id": "b6f92c0a-1bd5-45c0-bfbe-8d6dbc171f59",
   "metadata": {},
   "outputs": [],
   "source": []
  },
  {
   "cell_type": "markdown",
   "id": "1c907d58-9f3b-4e4c-93bc-0ebfaf244e04",
   "metadata": {},
   "source": [
    "What formula defines the optimal boundary when the means and variances are distinct? (This may be more of an educated guess...)"
   ]
  },
  {
   "cell_type": "code",
   "execution_count": null,
   "id": "013f88d9-b629-4a4f-8cc1-a63bdb67e0f3",
   "metadata": {},
   "outputs": [],
   "source": []
  },
  {
   "cell_type": "code",
   "execution_count": null,
   "id": "c8df5a77-2a38-4117-9375-7167cb6f375b",
   "metadata": {},
   "outputs": [],
   "source": []
  }
 ],
 "metadata": {
  "jupytext": {
   "cell_metadata_filter": "-all",
   "main_language": "python",
   "notebook_metadata_filter": "-all"
  },
  "kernelspec": {
   "display_name": "Python 3 (ipykernel)",
   "language": "python",
   "name": "python3"
  },
  "language_info": {
   "codemirror_mode": {
    "name": "ipython",
    "version": 3
   },
   "file_extension": ".py",
   "mimetype": "text/x-python",
   "name": "python",
   "nbconvert_exporter": "python",
   "pygments_lexer": "ipython3",
   "version": "3.11.13"
  }
 },
 "nbformat": 4,
 "nbformat_minor": 5
}
