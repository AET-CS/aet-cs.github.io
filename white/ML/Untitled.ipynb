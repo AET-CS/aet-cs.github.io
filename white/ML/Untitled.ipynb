{
 "cells": [
  {
   "cell_type": "code",
   "execution_count": 1,
   "id": "22bf6bfd-8fa0-4b8b-8b1c-a96ca3363c20",
   "metadata": {},
   "outputs": [],
   "source": [
    "import numpy as np"
   ]
  },
  {
   "cell_type": "code",
   "execution_count": 2,
   "id": "5fd2ef54-7355-42f9-9a15-f9e3ae9f0164",
   "metadata": {},
   "outputs": [
    {
     "data": {
      "text/plain": [
       "array([[0.30555448, 0.85822465, 0.22935112, 0.55874619, 0.2702047 ,\n",
       "        0.5831292 , 0.94538233, 0.28687075, 0.44261827, 0.81391971]])"
      ]
     },
     "execution_count": 2,
     "metadata": {},
     "output_type": "execute_result"
    }
   ],
   "source": [
    "np.random.rand(1,10)"
   ]
  },
  {
   "cell_type": "code",
   "execution_count": 11,
   "id": "8157ed41-4e3c-4238-9185-2c499fbdb5ba",
   "metadata": {},
   "outputs": [
    {
     "data": {
      "text/plain": [
       "(np.float64(3333.673354765676), np.float64(40.82745925031578))"
      ]
     },
     "execution_count": 11,
     "metadata": {},
     "output_type": "execute_result"
    }
   ],
   "source": [
    "results1 = []\n",
    "results2 = []\n",
    "dim = 10000\n",
    "for i in range(10000):\n",
    "    x = np.random.rand(1,dim)\n",
    "    y = np.random.rand(1,dim)\n",
    "    d2 = np.sqrt(np.dot((x-y),(x-y).T))\n",
    "    d1 = np.sum(np.abs(x-y))\n",
    "    results1 += [d1]\n",
    "    results2 += [d2]\n",
    "np.mean(results1), np.mean(results2)"
   ]
  },
  {
   "cell_type": "code",
   "execution_count": 4,
   "id": "6b40c61d-8627-47bd-88bc-b638bd928d14",
   "metadata": {},
   "outputs": [],
   "source": [
    "x = np.random.rand(1,dim)\n",
    "y = np.random.rand(1,dim)\n",
    "d = np.linalg.norm(x-y,1)"
   ]
  },
  {
   "cell_type": "code",
   "execution_count": 5,
   "id": "4cae5d6b-7382-4fca-a070-a46c791b9f71",
   "metadata": {},
   "outputs": [
    {
     "data": {
      "text/plain": [
       "array([[0.94753918, 0.45917957, 0.39130243, ..., 0.66794609, 0.97551016,\n",
       "        0.58267442]])"
      ]
     },
     "execution_count": 5,
     "metadata": {},
     "output_type": "execute_result"
    }
   ],
   "source": [
    "x"
   ]
  },
  {
   "cell_type": "code",
   "execution_count": 6,
   "id": "81a62650-2aa1-4a25-ab45-352cf363dc46",
   "metadata": {},
   "outputs": [
    {
     "data": {
      "text/plain": [
       "array([[0.4510633 , 0.3172191 , 0.97534958, ..., 0.09476196, 0.39179538,\n",
       "        0.62071422]])"
      ]
     },
     "execution_count": 6,
     "metadata": {},
     "output_type": "execute_result"
    }
   ],
   "source": [
    "y"
   ]
  },
  {
   "cell_type": "code",
   "execution_count": 7,
   "id": "a2f642c0-5b87-45f2-ad21-7e6d13e383d6",
   "metadata": {},
   "outputs": [
    {
     "data": {
      "text/plain": [
       "np.float64(0.9901930862525526)"
      ]
     },
     "execution_count": 7,
     "metadata": {},
     "output_type": "execute_result"
    }
   ],
   "source": [
    "d"
   ]
  },
  {
   "cell_type": "code",
   "execution_count": 8,
   "id": "a5f59e7d-f785-4584-97af-1df861db1f4c",
   "metadata": {},
   "outputs": [
    {
     "data": {
      "text/plain": [
       "array([[ 0.49647588,  0.14196047, -0.58404715, ...,  0.57318414,\n",
       "         0.58371478, -0.0380398 ]])"
      ]
     },
     "execution_count": 8,
     "metadata": {},
     "output_type": "execute_result"
    }
   ],
   "source": [
    "x-y"
   ]
  },
  {
   "cell_type": "code",
   "execution_count": null,
   "id": "a59d1a6f-3d5b-4be7-a6bf-b1dd6fc597d5",
   "metadata": {},
   "outputs": [],
   "source": []
  }
 ],
 "metadata": {
  "kernelspec": {
   "display_name": "Python 3 (ipykernel)",
   "language": "python",
   "name": "python3"
  },
  "language_info": {
   "codemirror_mode": {
    "name": "ipython",
    "version": 3
   },
   "file_extension": ".py",
   "mimetype": "text/x-python",
   "name": "python",
   "nbconvert_exporter": "python",
   "pygments_lexer": "ipython3",
   "version": "3.11.9"
  }
 },
 "nbformat": 4,
 "nbformat_minor": 5
}
