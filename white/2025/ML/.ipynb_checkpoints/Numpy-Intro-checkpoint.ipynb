{
 "cells": [
  {
   "cell_type": "markdown",
   "id": "39a23ae9",
   "metadata": {},
   "source": [
    "# Interactive Introduction to NumPy\n",
    "## A hands-on tutorial with examples and exercises"
   ]
  },
  {
   "cell_type": "markdown",
   "id": "25ff6530",
   "metadata": {},
   "source": [
    "### 1. GETTING STARTED WITH NUMPY"
   ]
  },
  {
   "cell_type": "code",
   "execution_count": null,
   "id": "bd819a44",
   "metadata": {},
   "outputs": [],
   "source": [
    "# First, let's import NumPy (the standard convention is to use 'np')\n",
    "import numpy as np"
   ]
  },
  {
   "cell_type": "code",
   "execution_count": null,
   "id": "8c70ade5",
   "metadata": {},
   "outputs": [],
   "source": [
    "# Let's check the version\n",
    "print(\"NumPy version:\", np.__version__)"
   ]
  },
  {
   "cell_type": "markdown",
   "id": "f623ac5d",
   "metadata": {},
   "source": [
    "### 2. CREATING ARRAYS\n"
   ]
  },
  {
   "cell_type": "code",
   "execution_count": null,
   "id": "881aa3fc",
   "metadata": {},
   "outputs": [],
   "source": [
    "# Example: Creating arrays from lists\n",
    "arr1 = np.array([1, 2, 3, 4, 5])\n",
    "print(\"1D array:\", arr1)"
   ]
  },
  {
   "cell_type": "code",
   "execution_count": null,
   "id": "ff6e45bd",
   "metadata": {},
   "outputs": [],
   "source": [
    "arr2 = np.array([[1, 2, 3], [4, 5, 6]])\n",
    "print(\"2D array:\\n\", arr2)"
   ]
  },
  {
   "cell_type": "code",
   "execution_count": null,
   "id": "8977ec1c",
   "metadata": {},
   "outputs": [],
   "source": [
    "# Example: Creating arrays with built-in functions\n",
    "zeros = np.zeros(5)\n",
    "print(\"Zeros:\", zeros)"
   ]
  },
  {
   "cell_type": "code",
   "execution_count": null,
   "id": "59650a36",
   "metadata": {},
   "outputs": [],
   "source": [
    "ones = np.ones((2, 3))\n",
    "print(\"Ones:\\n\", ones)"
   ]
  },
  {
   "cell_type": "code",
   "execution_count": null,
   "id": "9f33d874",
   "metadata": {},
   "outputs": [],
   "source": [
    "range_arr = np.arange(0, 10, 2)\n",
    "print(\"Range array:\", range_arr)"
   ]
  },
  {
   "cell_type": "code",
   "execution_count": null,
   "id": "28bc3122",
   "metadata": {},
   "outputs": [],
   "source": [
    "linspace_arr = np.linspace(0, 1, 5)\n",
    "print(\"Linspace array:\", linspace_arr)"
   ]
  },
  {
   "cell_type": "code",
   "execution_count": null,
   "id": "ae8ddea0",
   "metadata": {},
   "outputs": [],
   "source": [
    "# EXERCISE 1: Your turn!\n",
    "# Create the following arrays:\n",
    "# 1. A 1D array with numbers [10, 20, 30, 40, 50]\n",
    "exercise1_1 = # Your code here"
   ]
  },
  {
   "cell_type": "code",
   "execution_count": null,
   "id": "e6efdd4c",
   "metadata": {},
   "outputs": [],
   "source": [
    "# 2. A 2D array filled with zeros, shape (3, 4)\n",
    "exercise1_2 = # Your code here"
   ]
  },
  {
   "cell_type": "code",
   "execution_count": null,
   "id": "0ee1a9b2",
   "metadata": {},
   "outputs": [],
   "source": [
    "# 3. An array with numbers from 5 to 15 (exclusive), step 2\n",
    "exercise1_3 = # Your code here"
   ]
  },
  {
   "cell_type": "markdown",
   "id": "804bfb59",
   "metadata": {},
   "source": [
    "### 3. ARRAY ATTRIBUTES"
   ]
  },
  {
   "cell_type": "code",
   "execution_count": null,
   "id": "78926aa3",
   "metadata": {},
   "outputs": [],
   "source": [
    "# Example: Exploring array properties\n",
    "example_arr = np.array([[1, 2, 3, 4], [5, 6, 7, 8], [9, 10, 11, 12]])"
   ]
  },
  {
   "cell_type": "code",
   "execution_count": null,
   "id": "945c7ced",
   "metadata": {},
   "outputs": [],
   "source": [
    "print(\"Array:\\n\", example_arr)\n",
    "print(\"Shape:\", example_arr.shape)        # Dimensions\n",
    "print(\"Size:\", example_arr.size)          # Total number of elements\n",
    "print(\"Data type:\", example_arr.dtype)    # Data type\n",
    "print(\"Number of dimensions:\", example_arr.ndim)"
   ]
  },
  {
   "cell_type": "code",
   "execution_count": null,
   "id": "db49bbd1",
   "metadata": {},
   "outputs": [],
   "source": [
    "# EXERCISE 2: Your turn!\n",
    "# Create a 3D array with shape (2, 3, 4) filled with ones\n",
    "exercise2_arr = # Your code here"
   ]
  },
  {
   "cell_type": "markdown",
   "id": "fa45415f",
   "metadata": {},
   "source": [
    "Print its shape, size, and number of dimensions\n",
    "Your code here"
   ]
  },
  {
   "cell_type": "markdown",
   "id": "cfd83e6c",
   "metadata": {},
   "source": [
    "### 4. INDEXING AND SLICING"
   ]
  },
  {
   "cell_type": "code",
   "execution_count": null,
   "id": "d42c2e07",
   "metadata": {},
   "outputs": [],
   "source": [
    "# Example: Accessing elements\n",
    "arr = np.array([10, 20, 30, 40, 50])"
   ]
  },
  {
   "cell_type": "code",
   "execution_count": null,
   "id": "35fd3020",
   "metadata": {},
   "outputs": [],
   "source": [
    "print(\"Original array:\", arr)\n",
    "print(\"First element:\", arr[0])\n",
    "print(\"Last element:\", arr[-1])\n",
    "print(\"Elements 1 to 3:\", arr[1:4])"
   ]
  },
  {
   "cell_type": "code",
   "execution_count": null,
   "id": "9042b6b8",
   "metadata": {},
   "outputs": [],
   "source": [
    "# Example: 2D array indexing\n",
    "arr_2d = np.array([[1, 2, 3], [4, 5, 6], [7, 8, 9]])"
   ]
  },
  {
   "cell_type": "code",
   "execution_count": null,
   "id": "419426ef",
   "metadata": {},
   "outputs": [],
   "source": [
    "print(\"2D array:\\n\", arr_2d)\n",
    "print(\"Element at row 1, col 2:\", arr_2d[1, 2])\n",
    "print(\"First row:\", arr_2d[0, :])\n",
    "print(\"Last column:\", arr_2d[:, -1])"
   ]
  },
  {
   "cell_type": "code",
   "execution_count": null,
   "id": "bce0e6e4",
   "metadata": {},
   "outputs": [],
   "source": [
    "# EXERCISE 3: Your turn!\n",
    "test_arr = np.array([[10, 20, 30, 40], [50, 60, 70, 80], [90, 100, 110, 120]])"
   ]
  },
  {
   "cell_type": "code",
   "execution_count": null,
   "id": "3be726a1",
   "metadata": {},
   "outputs": [],
   "source": [
    "# 1. Get the element in the middle row, middle column\n",
    "exercise3_1 = # Your code here"
   ]
  },
  {
   "cell_type": "code",
   "execution_count": null,
   "id": "dbb77947",
   "metadata": {},
   "outputs": [],
   "source": [
    "# 2. Get the last row\n",
    "exercise3_2 = # Your code here"
   ]
  },
  {
   "cell_type": "code",
   "execution_count": null,
   "id": "ece14f97",
   "metadata": {},
   "outputs": [],
   "source": [
    "# 3. Get the first two columns of all rows\n",
    "exercise3_3 = # Your code here"
   ]
  },
  {
   "cell_type": "markdown",
   "id": "8fd8c67a",
   "metadata": {},
   "source": [
    "### 5. ARRAY OPERATIONS"
   ]
  },
  {
   "cell_type": "code",
   "execution_count": null,
   "id": "0f330e2d",
   "metadata": {},
   "outputs": [],
   "source": [
    "# Example: Element-wise operations\n",
    "a = np.array([1, 2, 3, 4])\n",
    "b = np.array([5, 6, 7, 8])"
   ]
  },
  {
   "cell_type": "code",
   "execution_count": null,
   "id": "18ace00d",
   "metadata": {},
   "outputs": [],
   "source": [
    "print(\"Array a:\", a)\n",
    "print(\"Array b:\", b)\n",
    "print(\"Addition:\", a + b)\n",
    "print(\"Multiplication:\", a * b)\n",
    "print(\"Power:\", a ** 2)\n",
    "print(\"Square root:\", np.sqrt(a))"
   ]
  },
  {
   "cell_type": "code",
   "execution_count": null,
   "id": "e09e3721",
   "metadata": {},
   "outputs": [],
   "source": [
    "# Example: Operations with scalars\n",
    "print(\"a + 10:\", a + 10)\n",
    "print(\"a * 3:\", a * 3)"
   ]
  },
  {
   "cell_type": "code",
   "execution_count": null,
   "id": "6905977d",
   "metadata": {},
   "outputs": [],
   "source": [
    "# EXERCISE 4: Your turn!\n",
    "x = np.array([2, 4, 6, 8])\n",
    "y = np.array([1, 3, 5, 7])"
   ]
  },
  {
   "cell_type": "code",
   "execution_count": null,
   "id": "4bdbef1e",
   "metadata": {},
   "outputs": [],
   "source": [
    "# 1. Calculate x - y\n",
    "exercise4_1 = # Your code here"
   ]
  },
  {
   "cell_type": "code",
   "execution_count": null,
   "id": "83ef2cd8",
   "metadata": {},
   "outputs": [],
   "source": [
    "# 2. Calculate x divided by 2\n",
    "exercise4_2 = # Your code here"
   ]
  },
  {
   "cell_type": "code",
   "execution_count": null,
   "id": "f2dffaed",
   "metadata": {},
   "outputs": [],
   "source": [
    "# 3. Calculate the square of y\n",
    "exercise4_3 = # Your code here"
   ]
  },
  {
   "cell_type": "markdown",
   "id": "babafdc5",
   "metadata": {},
   "source": [
    "### 6. USEFUL FUNCTIONS"
   ]
  },
  {
   "cell_type": "code",
   "execution_count": null,
   "id": "333eb48c",
   "metadata": {},
   "outputs": [],
   "source": [
    "# Example: Statistical functions\n",
    "data = np.array([1, 5, 3, 9, 2, 8, 4, 7, 6])"
   ]
  },
  {
   "cell_type": "code",
   "execution_count": null,
   "id": "2562f05e",
   "metadata": {},
   "outputs": [],
   "source": [
    "print(\"Data:\", data)\n",
    "print(\"Mean:\", np.mean(data))\n",
    "print(\"Median:\", np.median(data))\n",
    "print(\"Standard deviation:\", np.std(data))\n",
    "print(\"Min:\", np.min(data))\n",
    "print(\"Max:\", np.max(data))\n",
    "print(\"Sum:\", np.sum(data))"
   ]
  },
  {
   "cell_type": "code",
   "execution_count": null,
   "id": "d0fac461",
   "metadata": {},
   "outputs": [],
   "source": [
    "# Example: Finding indices\n",
    "print(\"Index of max value:\", np.argmax(data))\n",
    "print(\"Index of min value:\", np.argmin(data))"
   ]
  },
  {
   "cell_type": "code",
   "execution_count": null,
   "id": "3464e791",
   "metadata": {},
   "outputs": [],
   "source": [
    "# EXERCISE 5: Your turn!\n",
    "scores = np.array([85, 92, 78, 96, 88, 79, 91, 84])"
   ]
  },
  {
   "cell_type": "code",
   "execution_count": null,
   "id": "6302740c",
   "metadata": {},
   "outputs": [],
   "source": [
    "# 1. Calculate the average score\n",
    "exercise5_1 = # Your code here"
   ]
  },
  {
   "cell_type": "code",
   "execution_count": null,
   "id": "9ce309d8",
   "metadata": {},
   "outputs": [],
   "source": [
    "# 2. Find the highest score\n",
    "exercise5_2 = # Your code here"
   ]
  },
  {
   "cell_type": "code",
   "execution_count": null,
   "id": "5af91776",
   "metadata": {},
   "outputs": [],
   "source": [
    "# 3. Find how many scores are above 85\n",
    "exercise5_3 = # Your code here (Hint: use np.sum() with a condition)"
   ]
  },
  {
   "cell_type": "markdown",
   "id": "a451f231",
   "metadata": {},
   "source": [
    "### 7. RESHAPING ARRAYS"
   ]
  },
  {
   "cell_type": "code",
   "execution_count": null,
   "id": "7188e739",
   "metadata": {},
   "outputs": [],
   "source": [
    "# Example: Changing array shape\n",
    "original = np.arange(12)\n",
    "print(\"Original array:\", original)"
   ]
  },
  {
   "cell_type": "code",
   "execution_count": null,
   "id": "a4f4b7c0",
   "metadata": {},
   "outputs": [],
   "source": [
    "reshaped = original.reshape(3, 4)\n",
    "print(\"Reshaped to 3x4:\\n\", reshaped)"
   ]
  },
  {
   "cell_type": "code",
   "execution_count": null,
   "id": "8d5badb1",
   "metadata": {},
   "outputs": [],
   "source": [
    "flattened = reshaped.flatten()\n",
    "print(\"Flattened:\", flattened)"
   ]
  },
  {
   "cell_type": "code",
   "execution_count": null,
   "id": "98234518",
   "metadata": {},
   "outputs": [],
   "source": [
    "# Example: Adding dimensions\n",
    "arr_1d = np.array([1, 2, 3])\n",
    "arr_2d = arr_1d.reshape(-1, 1)  # -1 means \"figure out this dimension\"\n",
    "print(\"1D to column vector:\\n\", arr_2d)"
   ]
  },
  {
   "cell_type": "code",
   "execution_count": null,
   "id": "27e51d59",
   "metadata": {},
   "outputs": [],
   "source": [
    "# EXERCISE 6: Your turn!\n",
    "numbers = np.arange(24)"
   ]
  },
  {
   "cell_type": "code",
   "execution_count": null,
   "id": "dec9a862",
   "metadata": {},
   "outputs": [],
   "source": [
    "# 1. Reshape to a 4x6 array\n",
    "exercise6_1 = # Your code here"
   ]
  },
  {
   "cell_type": "code",
   "execution_count": null,
   "id": "3a4aa58e",
   "metadata": {},
   "outputs": [],
   "source": [
    "# 2. Reshape to a 2x3x4 array\n",
    "exercise6_2 = # Your code here"
   ]
  },
  {
   "cell_type": "markdown",
   "id": "302614f5",
   "metadata": {},
   "source": [
    "### 8. BOOLEAN INDEXING"
   ]
  },
  {
   "cell_type": "code",
   "execution_count": null,
   "id": "762b68b9",
   "metadata": {},
   "outputs": [],
   "source": [
    "# Example: Filtering with conditions\n",
    "arr = np.array([1, 5, 3, 8, 2, 9, 4])"
   ]
  },
  {
   "cell_type": "code",
   "execution_count": null,
   "id": "c013c27a",
   "metadata": {},
   "outputs": [],
   "source": [
    "print(\"Original array:\", arr)"
   ]
  },
  {
   "cell_type": "code",
   "execution_count": null,
   "id": "5bb4610e",
   "metadata": {},
   "outputs": [],
   "source": [
    "# Create boolean mask\n",
    "mask = arr > 4\n",
    "print(\"Mask (elements > 4):\", mask)"
   ]
  },
  {
   "cell_type": "code",
   "execution_count": null,
   "id": "d5810ae9",
   "metadata": {},
   "outputs": [],
   "source": [
    "# Apply mask\n",
    "filtered = arr[mask]\n",
    "print(\"Filtered array:\", filtered)"
   ]
  },
  {
   "cell_type": "code",
   "execution_count": null,
   "id": "dbdc19ac",
   "metadata": {},
   "outputs": [],
   "source": [
    "# One-liner\n",
    "big_numbers = arr[arr > 4]\n",
    "print(\"Numbers > 4:\", big_numbers)"
   ]
  },
  {
   "cell_type": "code",
   "execution_count": null,
   "id": "a62b66b1",
   "metadata": {},
   "outputs": [],
   "source": [
    "# EXERCISE 7: Your turn!\n",
    "temperatures = np.array([20, 25, 18, 30, 22, 35, 28, 15])"
   ]
  },
  {
   "cell_type": "code",
   "execution_count": null,
   "id": "7c9864f5",
   "metadata": {},
   "outputs": [],
   "source": [
    "# 1. Find temperatures above 25\n",
    "exercise7_1 = # Your code here"
   ]
  },
  {
   "cell_type": "code",
   "execution_count": null,
   "id": "b3a92cec",
   "metadata": {},
   "outputs": [],
   "source": [
    "# 2. Count how many temperatures are below 20\n",
    "exercise7_2 = # Your code here"
   ]
  },
  {
   "cell_type": "markdown",
   "id": "985a9e23",
   "metadata": {},
   "source": [
    "### 9. PUTTING IT ALL TOGETHER"
   ]
  },
  {
   "cell_type": "code",
   "execution_count": null,
   "id": "ce206950",
   "metadata": {},
   "outputs": [],
   "source": [
    "# Example: A mini data analysis\n",
    "# Let's analyze some fake test scores\n",
    "np.random.seed(42)  # For reproducible results\n",
    "class_scores = np.random.normal(78, 12, 30)  # 30 students, mean=78, std=12"
   ]
  },
  {
   "cell_type": "code",
   "execution_count": null,
   "id": "70021666",
   "metadata": {},
   "outputs": [],
   "source": [
    "print(\"Class scores (first 10):\", class_scores[:10])\n",
    "print(f\"Class average: {np.mean(class_scores):.2f}\")\n",
    "print(f\"Number of students who passed (≥70): {np.sum(class_scores >= 70)}\")\n",
    "print(f\"Highest score: {np.max(class_scores):.2f}\")\n",
    "print(f\"Lowest score: {np.min(class_scores):.2f}\")"
   ]
  },
  {
   "cell_type": "code",
   "execution_count": null,
   "id": "9e904f2e",
   "metadata": {},
   "outputs": [],
   "source": [
    "# FINAL EXERCISE: Your turn!\n",
    "# Create your own mini analysis\n",
    "np.random.seed(123)\n",
    "sales_data = np.random.randint(100, 1000, 20)  # 20 days of sales"
   ]
  },
  {
   "cell_type": "code",
   "execution_count": null,
   "id": "f8380eba",
   "metadata": {},
   "outputs": [],
   "source": [
    "print(\"Daily sales:\", sales_data)"
   ]
  },
  {
   "cell_type": "code",
   "execution_count": null,
   "id": "44a0782d",
   "metadata": {},
   "outputs": [],
   "source": [
    "# 1. Calculate total sales for the 20 days\n",
    "total_sales = # Your code here"
   ]
  },
  {
   "cell_type": "code",
   "execution_count": null,
   "id": "9ab79496",
   "metadata": {},
   "outputs": [],
   "source": [
    "# 2. Find the average daily sales\n",
    "avg_sales = # Your code here"
   ]
  },
  {
   "cell_type": "code",
   "execution_count": null,
   "id": "c15e2c83",
   "metadata": {},
   "outputs": [],
   "source": [
    "# 3. Find days with sales above average\n",
    "above_avg_days = # Your code here"
   ]
  },
  {
   "cell_type": "code",
   "execution_count": null,
   "id": "110d097b",
   "metadata": {},
   "outputs": [],
   "source": [
    "# 4. What's the best sales day?\n",
    "best_day = # Your code here (hint: use np.argmax() + 1 for day number)"
   ]
  },
  {
   "cell_type": "code",
   "execution_count": null,
   "id": "b79f1967",
   "metadata": {},
   "outputs": [],
   "source": [
    "print(f\"Analysis Results:\")\n",
    "print(f\"Total sales: ${total_sales}\")\n",
    "print(f\"Average daily sales: ${avg_sales:.2f}\")\n",
    "print(f\"Days with above-average sales: {len(above_avg_days)}\")\n",
    "print(f\"Best sales day: Day {best_day}\")"
   ]
  },
  {
   "cell_type": "markdown",
   "id": "9253ecfb",
   "metadata": {},
   "source": [
    "### BONUS: Quick Reference"
   ]
  },
  {
   "cell_type": "raw",
   "id": "74a5f0e8-77c8-4116-ba8d-eaf713ffa854",
   "metadata": {},
   "source": [
    "NUMPY QUICK REFERENCE:\n",
    "\n",
    "Creating Arrays:\n",
    "- np.array([1,2,3])          # From list\n",
    "- np.zeros(5)                # Array of zeros\n",
    "- np.ones((2,3))             # Array of ones\n",
    "- np.arange(0,10,2)          # Range with step\n",
    "- np.linspace(0,1,5)         # Evenly spaced\n",
    "\n",
    "Array Info:\n",
    "- arr.shape                  # Dimensions\n",
    "- arr.size                   # Total elements\n",
    "- arr.dtype                  # Data type\n",
    "- arr.ndim                   # Number of dimensions\n",
    "\n",
    "Indexing:\n",
    "- arr[0]                     # First element\n",
    "- arr[-1]                    # Last element\n",
    "- arr[1:4]                   # Slice\n",
    "- arr[row, col]              # 2D indexing\n",
    "\n",
    "Operations:\n",
    "- arr1 + arr2                # Element-wise addition\n",
    "- arr * 3                    # Scalar multiplication\n",
    "- arr ** 2                   # Element-wise power\n",
    "- np.sqrt(arr)               # Square root\n",
    "\n",
    "Statistics:\n",
    "- np.mean(arr)               # Average\n",
    "- np.max(arr)                # Maximum\n",
    "- np.min(arr)                # Minimum\n",
    "- np.sum(arr)                # Sum\n",
    "- np.std(arr)                # Standard deviation\n",
    "\n",
    "Reshaping:\n",
    "- arr.reshape(3,4)           # Change shape\n",
    "- arr.flatten()              # Make 1D\n",
    "\n",
    "Filtering:\n",
    "- arr[arr > 5]               # Boolean indexing\n",
    "- np.sum(arr > 5)            # Count elements\n"
   ]
  }
 ],
 "metadata": {
  "jupytext": {
   "cell_metadata_filter": "-all",
   "main_language": "python",
   "notebook_metadata_filter": "-all"
  },
  "kernelspec": {
   "display_name": "Python 3 (ipykernel)",
   "language": "python",
   "name": "python3"
  },
  "language_info": {
   "codemirror_mode": {
    "name": "ipython",
    "version": 3
   },
   "file_extension": ".py",
   "mimetype": "text/x-python",
   "name": "python",
   "nbconvert_exporter": "python",
   "pygments_lexer": "ipython3",
   "version": "3.12.1"
  }
 },
 "nbformat": 4,
 "nbformat_minor": 5
}
