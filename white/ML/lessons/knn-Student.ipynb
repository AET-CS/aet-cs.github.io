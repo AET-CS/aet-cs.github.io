{
 "cells": [
  {
   "cell_type": "markdown",
   "id": "ada952b4-9e79-4a5f-b314-9513896fa9f2",
   "metadata": {},
   "source": [
    "# k-NN"
   ]
  },
  {
   "cell_type": "markdown",
   "id": "312596ed-e4b6-45f9-9e0e-51ed7dbd1880",
   "metadata": {},
   "source": [
    "Here's some code to generate a mixture of gaussians. Each point is associated with one 2D gaussian distribution with fixed center and dispersion matrix. The label of the point corresponds to the center of its distribution. A plot is made showing the 3 categories"
   ]
  },
  {
   "cell_type": "code",
   "execution_count": null,
   "id": "614aec93-6a9f-40e0-8254-54e7853be94e",
   "metadata": {},
   "outputs": [],
   "source": [
    "import numpy as np\n",
    "import matplotlib.pyplot as plt\n",
    "import sklearn.model_selection as sms\n",
    "\n",
    "# Set the parameters for each Gaussian\n",
    "means = [\n",
    "    [2, 2],   # Mean of the first Gaussian\n",
    "    [-1, -1], # Mean of the second Gaussian\n",
    "    [3, -3]   # Mean of the third Gaussian\n",
    "]\n",
    "covariances = [\n",
    "    [[1, 0.5], [0.5, 1]],  # Covariance of the first Gaussian\n",
    "    [[1, -0.3], [-0.3, 1]], # Covariance of the second Gaussian\n",
    "    [[1, 0.2], [0.2, 1]]   # Covariance of the third Gaussian\n",
    "]\n",
    "n_samples = 300  # Samples per Gaussian\n",
    "\n",
    "# Generate data\n",
    "data = []\n",
    "labels = []\n",
    "for i, (mean, cov) in enumerate(zip(means, covariances)):\n",
    "    points = np.random.multivariate_normal(mean, cov, n_samples)\n",
    "    data.append(points)\n",
    "    labels += [i] * n_samples  # Label each Gaussian with a different number\n",
    "\n",
    "# Combine all the data\n",
    "data = np.vstack(data)\n",
    "labels = np.array(labels)\n"
   ]
  },
  {
   "cell_type": "markdown",
   "id": "ab55db71-c9c3-4b9d-8059-50b6c47877b3",
   "metadata": {},
   "source": [
    "# Make a Train Test Split"
   ]
  },
  {
   "cell_type": "code",
   "execution_count": null,
   "id": "a13cd7a3-5dea-46c3-8a96-c905fc2b8e4f",
   "metadata": {},
   "outputs": [],
   "source": [
    "# your code here"
   ]
  },
  {
   "cell_type": "markdown",
   "id": "1f15fbef-b6a6-42ce-95cc-283ea3f48e07",
   "metadata": {},
   "source": [
    "## Plot the train data"
   ]
  },
  {
   "cell_type": "code",
   "execution_count": null,
   "id": "1a64645c-79bc-4056-87f9-7df146a3f0ad",
   "metadata": {},
   "outputs": [],
   "source": [
    "\n",
    "# Visualize the data\n",
    "plt.figure(figsize=(8, 6))\n",
    "for i in range(len(means)):\n",
    "    plt.scatter(X_train[y_train == i, 0], X_train[y_train == i, 1], label=f'Class {i}')\n",
    "#for i in range(len(means)):\n",
    "#    plt.scatter(X_test[y_test == i, 0], X_test[y_test == i, 1], label=f'Class ?')\n",
    "\n",
    "plt.legend()\n",
    "plt.xlabel('Feature 1')\n",
    "plt.ylabel('Feature 2')\n",
    "plt.title('Synthetic Dataset with Gaussian Clusters')\n",
    "plt.show()"
   ]
  },
  {
   "cell_type": "markdown",
   "id": "1326bf80-0860-4aba-b7cb-82ebfbd0cc30",
   "metadata": {},
   "source": [
    "## Implement k-NN with k=1"
   ]
  },
  {
   "cell_type": "markdown",
   "id": "99d25f16-f048-4911-bbdd-16ae0defad9f",
   "metadata": {},
   "source": [
    "Write a knn_label method. Input\n",
    "\n",
    "* X_train\n",
    "* y_train\n",
    "* X\n",
    "* y\n",
    "\n",
    "It finds and returns the label yhat by finding the 1 nearest neighbor to X in X_train and assigning the label of X_train[best] to yhat."
   ]
  },
  {
   "cell_type": "code",
   "execution_count": 2,
   "id": "91795db8-0a85-4890-9fe5-57eab3ed8987",
   "metadata": {},
   "outputs": [],
   "source": [
    "def knn_label(X_train, y_train, X, y):\n",
    "    # your code\n",
    "    pass"
   ]
  },
  {
   "cell_type": "markdown",
   "id": "d76d323c-7e46-4054-b183-8ad9a2f73fab",
   "metadata": {},
   "source": [
    "Print out rows for each test data point in the format\n",
    "\n",
    "`T/F, X1, X2, y, yhat`\n",
    "\n",
    "where T/F is true if y==yhat"
   ]
  },
  {
   "cell_type": "code",
   "execution_count": 3,
   "id": "43e816f0-f0c6-4379-ad74-dc65e14bfc52",
   "metadata": {},
   "outputs": [],
   "source": [
    "# your code"
   ]
  },
  {
   "cell_type": "markdown",
   "id": "4d885984-70b2-421f-be40-66c58a305bd7",
   "metadata": {},
   "source": [
    "Come up with a nice way to visualize the location of the test points. Mislabeled points should be clearly visible by some graphic attribute."
   ]
  },
  {
   "cell_type": "code",
   "execution_count": 4,
   "id": "f9cbcf1a-c53d-4388-8b18-7351621200fc",
   "metadata": {},
   "outputs": [],
   "source": [
    "# Visualize the data"
   ]
  },
  {
   "cell_type": "markdown",
   "id": "85770672-6d0d-4239-99d2-5b04febeac89",
   "metadata": {},
   "source": [
    "## Extension"
   ]
  },
  {
   "cell_type": "markdown",
   "id": "8dc9eeb6-1122-431b-a4d6-d32e3668b9e8",
   "metadata": {},
   "source": [
    "Expand this technique. You could \n",
    "\n",
    "* compute k-nn with k>1 and analyze the error rate as a function of k\n",
    "* create d-dimensional datasets and analyze the error rate as a function of d (in this case your number of point should also scale appropriately to acheive a similar density)\n",
    "* Vary the centers or dispersions of the distributions and analyze the error\n",
    "* Vary the number of distributions AND also k. Is there a relation?\n",
    "* Devise an algorithm for quickly solving k-nearest neighbors. Or quicker than what you probably did above. This is not an easy problem (implementing is optional)"
   ]
  },
  {
   "cell_type": "code",
   "execution_count": 5,
   "id": "cad4596e-efd1-492a-b275-d5cea4bbafcc",
   "metadata": {},
   "outputs": [],
   "source": [
    "# stuff here! and below"
   ]
  },
  {
   "cell_type": "code",
   "execution_count": null,
   "id": "0fb10db2-e33b-4b8b-a66b-486eff82dcca",
   "metadata": {},
   "outputs": [],
   "source": []
  }
 ],
 "metadata": {
  "kernelspec": {
   "display_name": "ML Python",
   "language": "python",
   "name": "myenv"
  },
  "language_info": {
   "codemirror_mode": {
    "name": "ipython",
    "version": 3
   },
   "file_extension": ".py",
   "mimetype": "text/x-python",
   "name": "python",
   "nbconvert_exporter": "python",
   "pygments_lexer": "ipython3",
   "version": "3.11.9"
  }
 },
 "nbformat": 4,
 "nbformat_minor": 5
}
