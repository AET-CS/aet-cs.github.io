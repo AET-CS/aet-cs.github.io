{
 "cells": [
  {
   "cell_type": "markdown",
   "id": "94676617-fb42-4ebd-bc9e-a6cb978f8a10",
   "metadata": {},
   "source": [
    "# Correlation Coefficient"
   ]
  },
  {
   "cell_type": "markdown",
   "id": "e81181f9-504e-48b1-badd-36e6dbbe3fad",
   "metadata": {},
   "source": [
    "First let's start with a straightforward single-variable linear regression in numpy"
   ]
  },
  {
   "cell_type": "code",
   "execution_count": 14,
   "id": "50c0ee90-848b-4a3f-8f14-ee8f29bbbf33",
   "metadata": {},
   "outputs": [
    {
     "name": "stdout",
     "output_type": "stream",
     "text": [
      "Equation: y = 2.09x + -0.35\n",
      "R² = 0.9688 or 0.9688\n"
     ]
    },
    {
     "data": {
      "image/png": "[encoded data removed]",
      "text/plain": [
       "<Figure size 640x480 with 1 Axes>"
      ]
     },
     "metadata": {},
     "output_type": "display_data"
    }
   ],
   "source": [
    "import numpy as np\n",
    "from matplotlib import pyplot as plt\n",
    "\n",
    "# Data\n",
    "x = np.array([1, 2, 3, 4, 5])\n",
    "y = np.array([2.1, 2.9, 6.5, 8.2, 9.9])\n",
    "\n",
    "# Fit\n",
    "slope, intercept = np.polyfit(x, y, 1)\n",
    "\n",
    "# Predict\n",
    "y_pred = slope * x + intercept\n",
    "\n",
    "# Calculate R²\n",
    "ss_res = np.sum((y - y_pred)**2)\n",
    "ss_reg = np.sum((y_pred - np.mean(y))**2)\n",
    "ss_tot = np.sum((y - np.mean(y))**2)\n",
    "\n",
    "r2 = 1 - (ss_res / ss_tot)\n",
    "r2o = ss_reg/ss_tot\n",
    "\n",
    "print(f\"Equation: y = {slope:.2f}x + {intercept:.2f}\")\n",
    "print(f\"R² = {r2:.4f} or {r2o:.4f}\")\n",
    "plt.scatter(x,y);\n",
    "plt.plot(x,y_pred);"
   ]
  },
  {
   "cell_type": "markdown",
   "id": "d3c6a156-22f4-4f84-8cf7-fb76f4155250",
   "metadata": {},
   "source": [
    "You can also get $R^2$ from scikit-learn"
   ]
  },
  {
   "cell_type": "code",
   "execution_count": 17,
   "id": "aaee7577-0dff-4fed-8643-343c4b8bbc2f",
   "metadata": {},
   "outputs": [
    {
     "name": "stdout",
     "output_type": "stream",
     "text": [
      "R² = 0.9688\n"
     ]
    }
   ],
   "source": [
    "from sklearn.metrics import r2_score\n",
    "\n",
    "r2 = r2_score(y,y_pred)\n",
    "print(f\"R² = {r2:.4f}\")"
   ]
  },
  {
   "cell_type": "markdown",
   "id": "e377b872-330a-4343-b98a-07325abd111d",
   "metadata": {},
   "source": [
    "## Part 1: $R^2$ (Coefficient of Determination)"
   ]
  },
  {
   "cell_type": "markdown",
   "id": "0ef5caf6-fb46-498a-8888-8a8d52e3f7fe",
   "metadata": {},
   "source": [
    "You should create 4 datasets (Y1 and Y2 vectors) where the $R^2$ Coefficients are (close to) 1, 0, -1, -10, -100. This is part trial-and-error and part computation (if you want it to be)"
   ]
  },
  {
   "cell_type": "code",
   "execution_count": null,
   "id": "c8422840-604a-4630-80db-ec1cd7a7421a",
   "metadata": {},
   "outputs": [],
   "source": []
  },
  {
   "cell_type": "code",
   "execution_count": null,
   "id": "6075dc9e-4a76-4f86-ad7e-2ecb9a231ee4",
   "metadata": {},
   "outputs": [],
   "source": []
  },
  {
   "cell_type": "markdown",
   "id": "107b4b39-ce31-47d1-a086-f3668b01eec4",
   "metadata": {},
   "source": [
    "## Part 2: $r^2$ (Pearson)"
   ]
  },
  {
   "cell_type": "markdown",
   "id": "357a9256-d328-4e61-a925-fb7979386289",
   "metadata": {},
   "source": [
    "Read about Anscombe's quartet on Wikipedia. Save the data to a text file and read it into a pandas dataframe. Extract the rows and columns and verify the descriptive statistics listed on Wikipedia, using numpy (and scikit-learn) as needed. You may need to figure out how to read a 'csv' file separated by spaces or tabs. And learn, happily, that a pandas dataframe can be a numpy array! "
   ]
  },
  {
   "cell_type": "code",
   "execution_count": null,
   "id": "a5339f5c-c0f9-42f6-a39f-ec2037986699",
   "metadata": {},
   "outputs": [],
   "source": []
  },
  {
   "cell_type": "code",
   "execution_count": null,
   "id": "8289d522-4acd-458a-bab4-ed9a7b778638",
   "metadata": {},
   "outputs": [],
   "source": []
  },
  {
   "cell_type": "code",
   "execution_count": null,
   "id": "18da63cf-5efe-4780-9288-199dd3d08763",
   "metadata": {},
   "outputs": [],
   "source": []
  }
 ],
 "metadata": {
  "kernelspec": {
   "display_name": "Python 3 (ipykernel)",
   "language": "python",
   "name": "python3"
  },
  "language_info": {
   "codemirror_mode": {
    "name": "ipython",
    "version": 3
   },
   "file_extension": ".py",
   "mimetype": "text/x-python",
   "name": "python",
   "nbconvert_exporter": "python",
   "pygments_lexer": "ipython3",
   "version": "3.12.1"
  }
 },
 "nbformat": 4,
 "nbformat_minor": 5
}
