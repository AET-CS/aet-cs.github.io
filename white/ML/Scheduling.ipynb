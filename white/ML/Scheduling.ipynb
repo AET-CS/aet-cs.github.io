{
 "cells": [
  {
   "cell_type": "markdown",
   "id": "76b47ada-480b-4289-a974-11be66f725dc",
   "metadata": {},
   "source": [
    "# Auto Scheduling Engineering Week"
   ]
  },
  {
   "cell_type": "markdown",
   "id": "5594eaad-f2db-4e4d-ac63-89408f78c5f4",
   "metadata": {
    "jp-MarkdownHeadingCollapsed": true
   },
   "source": [
    "## Computations"
   ]
  },
  {
   "cell_type": "code",
   "execution_count": 1,
   "id": "fce19276-e434-46cc-9185-3b7cf06310c2",
   "metadata": {},
   "outputs": [],
   "source": [
    "import numpy as np\n",
    "from ortools.linear_solver import pywraplp\n",
    "\n",
    "sessions = ['saic', 'iridium', 'mantech', 'xelevate', 'lcps', 'bwxt', \n",
    "            'salesforce', 'mpr', 'dss', 'new ag', 'usgs', 'terracon']\n",
    "\n",
    "preferences = np.array([3.0,2,8,7,1,2,4,3,2,1,3,2])\n",
    "preferences /= np.sum(preferences)\n",
    "def generate_affinity_matrix(I, J, A):\n",
    "    \"\"\"Generate a binary matrix G[I, J] where each row has exactly A ones.\"\"\"\n",
    "    G = np.zeros((I, J), dtype=int)\n",
    "    for i in range(I):\n",
    "        ones_positions = np.random.choice(J, A, replace=False, p = preferences)  # Pick A unique columns\n",
    "        G[i, ones_positions] = 1  # Set selected columns to 1\n",
    "    return G\n"
   ]
  },
  {
   "cell_type": "code",
   "execution_count": 6,
   "id": "d170d74e-e8bd-4fb8-94fc-f6f1f58baf3b",
   "metadata": {},
   "outputs": [
    {
     "name": "stdout",
     "output_type": "stream",
     "text": [
      "Room Size =  22\n",
      "Sign ups =  [183 139 338 292  77 118 219 201 137  61 192 123]\n"
     ]
    }
   ],
   "source": [
    "solver = pywraplp.Solver.CreateSolver('CBC')\n",
    "\n",
    "# Define indices\n",
    "I, J, K = 416, 12, 3  # Example sizes\n",
    "\n",
    "G = generate_affinity_matrix(I,J,5)\n",
    "\n",
    "RoomSize = 22\n",
    "Auditorium_Size = 200\n",
    "\n",
    "# Define binary variables X[i][j][k]\n",
    "X = [[[solver.BoolVar(f'X_{i}_{j}_{k}') for k in range(K)] for j in range(J)] for i in range(I)]\n",
    "print(\"Room Size = \", RoomSize)\n",
    "print(\"Sign ups = \", np.sum(G, axis=0))"
   ]
  },
  {
   "cell_type": "code",
   "execution_count": 7,
   "id": "8eb8ff05-2e04-4aee-8a20-b46fc25a96a4",
   "metadata": {},
   "outputs": [],
   "source": [
    "# Add constraint: for every i, sum over all j, k must equal 3\n",
    "for i in range(I):\n",
    "    solver.Add(sum(G[i,j] * X[i][j][k] for j in range(J) for k in range(K)) == 3)\n",
    "\n",
    "# 1 session for every student-block\n",
    "for i in range(I):\n",
    "    for k in range(K):\n",
    "        solver.Add(sum(X[i][j][k] for j in range(J)) == 1)\n",
    "\n",
    "# <= 1 block for every student-session\n",
    "for i in range(I):\n",
    "    for j in range(J):\n",
    "        solver.Add(sum(X[i][j][k] for k in range(K)) <= 1)\n",
    "\n",
    "Small_Rooms = [0,1,4,5,6,7,8,9,10,11]\n",
    "Big_Rooms = [2,3]\n",
    "\n",
    "# No room overfill\n",
    "for j in Small_Rooms:\n",
    "    for k in range(K):\n",
    "        solver.Add(sum(X[i][j][k] for i in range(I)) <= RoomSize)\n",
    "for j in Big_Rooms:\n",
    "    for k in range(K):\n",
    "        solver.Add(sum(X[i][j][k] for i in range(I)) <= Auditorium_Size)\n",
    "\n",
    "# Every student is in a session each block\n",
    "for k in range(K):\n",
    "    solver.Add(sum(X[i][j][k] for i in range(I) for j in range(J)) == I)"
   ]
  },
  {
   "cell_type": "code",
   "execution_count": 8,
   "id": "81562c44-5afc-4a4d-a66f-6279b1b1ed87",
   "metadata": {},
   "outputs": [
    {
     "name": "stdout",
     "output_type": "stream",
     "text": [
      "Solution found!\n",
      "\n",
      "Table for i = 0:\n",
      "    k=0   k=1   k=2\n",
      "  ---------------\n",
      "j=0 | 0   0   0\n",
      "j=1 | 0   0   0\n",
      "j=2 | 1   0   0\n",
      "j=3 | 0   0   1\n",
      "j=4 | 0   1   0\n",
      "j=5 | 0   0   0\n",
      "j=6 | 0   0   0\n",
      "j=7 | 0   0   0\n",
      "j=8 | 0   0   0\n",
      "j=9 | 0   0   0\n",
      "j=10 | 0   0   0\n",
      "j=11 | 0   0   0\n",
      "\n",
      "\n"
     ]
    }
   ],
   "source": [
    "\n",
    "# Example objective (can be anything)\n",
    "solver.Maximize(sum(X[i][j][k] for i in range(I) for j in range(J) for k in range(K)))\n",
    "\n",
    "# Solve\n",
    "status = solver.Solve()\n",
    "\n",
    "# Output results\n",
    "if status == solver.OPTIMAL or status == solver.FEASIBLE:\n",
    "    print(\"Solution found!\\n\")\n",
    "    for i in range(1):\n",
    "        print(f\"Table for i = {i}:\")\n",
    "        print(\"    \" + \"   \".join(f\"k={k}\" for k in range(K)))  # Header row\n",
    "        print(\"  \" + \"-\" * (5 * K))  # Formatting line\n",
    "        for j in range(J):\n",
    "            row_values = \"   \".join(str(int(X[i][j][k].solution_value())) for k in range(K))\n",
    "            print(f\"j={j} | {row_values}\")  # Print row\n",
    "        print(\"\\n\")  # Space between tables"
   ]
  },
  {
   "cell_type": "code",
   "execution_count": 9,
   "id": "4cc77b9f-6efd-44c7-9fed-33286af3d735",
   "metadata": {},
   "outputs": [
    {
     "name": "stdout",
     "output_type": "stream",
     "text": [
      "Optimal solution found!\n"
     ]
    }
   ],
   "source": [
    "if status == solver.OPTIMAL:\n",
    "    print(\"Optimal solution found!\")\n",
    "elif status == solver.FEASIBLE:\n",
    "    print(\"Feasible solution found (not necessarily optimal).\")\n",
    "elif status == solver.INFEASIBLE:\n",
    "    print(\"No feasible solution exists.\")\n",
    "elif status == solver.UNBOUNDED:\n",
    "    print(\"The problem is unbounded.\")\n",
    "elif status == solver.ABNORMAL:\n",
    "    print(\"An abnormal error occurred.\")\n",
    "elif status == solver.NOT_SOLVED:\n",
    "    print(\"Solver was not executed.\")\n",
    "else:\n",
    "    print(\"Unknown status.\")\n"
   ]
  },
  {
   "cell_type": "code",
   "execution_count": 32,
   "id": "7eb15f9c-91da-4ac0-8c8d-08139b3edbd6",
   "metadata": {},
   "outputs": [],
   "source": [
    "if status == solver.OPTIMAL or status == solver.FEASIBLE:\n",
    "    X_solution = np.zeros((I, J, K), dtype=int)  # Initialize empty numpy array\n",
    "    \n",
    "    for i in range(I):\n",
    "        for j in range(J):\n",
    "            for k in range(K):\n",
    "                X_solution[i, j, k] = int(X[i][j][k].solution_value())  # Store solution"
   ]
  },
  {
   "cell_type": "markdown",
   "id": "183fe4e3-1693-4fcf-99e9-8c8cbc5d014b",
   "metadata": {},
   "source": [
    "## Results"
   ]
  },
  {
   "cell_type": "markdown",
   "id": "6212b0e6-8a83-41aa-bb56-d0e885388e69",
   "metadata": {},
   "source": [
    "413 students randomly selected 5 sessions from a list of 12. Sessions were not uniformly seeded -- some were more popular, others less."
   ]
  },
  {
   "cell_type": "code",
   "execution_count": 40,
   "id": "fc16453f-25e8-4b8a-b3ce-293d90eb8b5e",
   "metadata": {},
   "outputs": [
    {
     "name": "stdout",
     "output_type": "stream",
     "text": [
      "Sessions offered:  ['saic', 'iridium', 'mantech', 'xelevate', 'lcps', 'bwxt', 'salesforce', 'mpr', 'dss', 'new ag', 'usgs', 'terracon']\n"
     ]
    }
   ],
   "source": [
    "print(\"Sessions offered: \", sessions)"
   ]
  },
  {
   "cell_type": "code",
   "execution_count": 42,
   "id": "eb250331-cace-4b08-b697-d7d1a307220c",
   "metadata": {},
   "outputs": [
    {
     "name": "stdout",
     "output_type": "stream",
     "text": [
      "Sign ups per session =  [183 139 338 292  77 118 219 201 137  61 192 123]\n"
     ]
    }
   ],
   "source": [
    "print(\"Sign ups per session = \", np.sum(G, axis=0))"
   ]
  },
  {
   "cell_type": "markdown",
   "id": "d1ccda64-f7e8-4913-b746-e80618699e52",
   "metadata": {},
   "source": [
    "Room size set at 22 per room, 200 per auditorium"
   ]
  },
  {
   "cell_type": "markdown",
   "id": "99f10fd8-5fd1-4490-9d5b-21bd936ff3a5",
   "metadata": {},
   "source": [
    "An optimal solution was found assigning every student to a selected session and honoring room capacities. First we see the enrollment per session"
   ]
  },
  {
   "cell_type": "code",
   "execution_count": 33,
   "id": "eca53c09-eb05-40c4-97b0-140e292005ef",
   "metadata": {},
   "outputs": [
    {
     "name": "stdout",
     "output_type": "stream",
     "text": [
      "Session saic            block 0   has 22 attendees\n",
      "Session saic            block 1   has 22 attendees\n",
      "Session saic            block 2   has 22 attendees\n",
      "Session iridium         block 0   has 22 attendees\n",
      "Session iridium         block 1   has 22 attendees\n",
      "Session iridium         block 2   has 22 attendees\n",
      "Session mantech         block 0   has 102 attendees\n",
      "Session mantech         block 1   has 124 attendees\n",
      "Session mantech         block 2   has 105 attendees\n",
      "Session xelevate        block 0   has 96 attendees\n",
      "Session xelevate        block 1   has 80 attendees\n",
      "Session xelevate        block 2   has 97 attendees\n",
      "Session lcps            block 0   has 20 attendees\n",
      "Session lcps            block 1   has 22 attendees\n",
      "Session lcps            block 2   has 22 attendees\n",
      "Session bwxt            block 0   has 22 attendees\n",
      "Session bwxt            block 1   has 22 attendees\n",
      "Session bwxt            block 2   has 22 attendees\n",
      "Session salesforce      block 0   has 22 attendees\n",
      "Session salesforce      block 1   has 22 attendees\n",
      "Session salesforce      block 2   has 22 attendees\n",
      "Session mpr             block 0   has 22 attendees\n",
      "Session mpr             block 1   has 22 attendees\n",
      "Session mpr             block 2   has 22 attendees\n",
      "Session dss             block 0   has 22 attendees\n",
      "Session dss             block 1   has 22 attendees\n",
      "Session dss             block 2   has 22 attendees\n",
      "Session new ag          block 0   has 22 attendees\n",
      "Session new ag          block 1   has 14 attendees\n",
      "Session new ag          block 2   has 16 attendees\n",
      "Session usgs            block 0   has 22 attendees\n",
      "Session usgs            block 1   has 22 attendees\n",
      "Session usgs            block 2   has 22 attendees\n",
      "Session terracon        block 0   has 22 attendees\n",
      "Session terracon        block 1   has 22 attendees\n",
      "Session terracon        block 2   has 22 attendees\n"
     ]
    }
   ],
   "source": [
    "for j in range(J):\n",
    "    for k in range(K):\n",
    "        print(f\"Session {sessions[j]:15} block {k}   has {sum(int(X[i][j][k].solution_value()) for i in range(I))} attendees\")"
   ]
  },
  {
   "cell_type": "markdown",
   "id": "c025375d-e40f-4684-bdd3-e616d0508fde",
   "metadata": {},
   "source": [
    "And verify some sums"
   ]
  },
  {
   "cell_type": "code",
   "execution_count": 46,
   "id": "76697057-facf-48ff-b208-69be2a6c2d32",
   "metadata": {},
   "outputs": [
    {
     "name": "stdout",
     "output_type": "stream",
     "text": [
      "Total enrolled per block\n"
     ]
    },
    {
     "data": {
      "text/plain": [
       "array([[ 22,  22,  22],\n",
       "       [ 22,  22,  22],\n",
       "       [102, 124, 105],\n",
       "       [ 96,  80,  97],\n",
       "       [ 20,  22,  22],\n",
       "       [ 22,  22,  22],\n",
       "       [ 22,  22,  22],\n",
       "       [ 22,  22,  22],\n",
       "       [ 22,  22,  22],\n",
       "       [ 22,  14,  16],\n",
       "       [ 22,  22,  22],\n",
       "       [ 22,  22,  22]])"
      ]
     },
     "execution_count": 46,
     "metadata": {},
     "output_type": "execute_result"
    }
   ],
   "source": [
    "print(\"Total enrolled per block\")\n",
    "np.sum(X_solution,axis=0)"
   ]
  },
  {
   "cell_type": "code",
   "execution_count": 47,
   "id": "e6ae9992-0825-40c7-a811-c8c35e89965b",
   "metadata": {},
   "outputs": [
    {
     "name": "stdout",
     "output_type": "stream",
     "text": [
      "Total attendees per session\n"
     ]
    },
    {
     "data": {
      "text/plain": [
       "array([ 66,  66, 331, 273,  64,  66,  66,  66,  66,  52,  66,  66])"
      ]
     },
     "execution_count": 47,
     "metadata": {},
     "output_type": "execute_result"
    }
   ],
   "source": [
    "print(\"Total attendees per session\")\n",
    "np.sum(np.sum(X_solution,axis=2),axis=0)"
   ]
  },
  {
   "cell_type": "code",
   "execution_count": 48,
   "id": "0ce15a64-036b-4bdd-99c1-9859b9ade55e",
   "metadata": {},
   "outputs": [
    {
     "name": "stdout",
     "output_type": "stream",
     "text": [
      "Total sessions per student\n"
     ]
    },
    {
     "data": {
      "text/plain": [
       "array([3, 3, 3, 3, 3, 3, 3, 3, 3, 3, 3, 3, 3, 3, 3, 3, 3, 3, 3, 3, 3, 3,\n",
       "       3, 3, 3, 3, 3, 3, 3, 3, 3, 3, 3, 3, 3, 3, 3, 3, 3, 3, 3, 3, 3, 3,\n",
       "       3, 3, 3, 3, 3, 3, 3, 3, 3, 3, 3, 3, 3, 3, 3, 3, 3, 3, 3, 3, 3, 3,\n",
       "       3, 3, 3, 3, 3, 3, 3, 3, 3, 3, 3, 3, 3, 3, 3, 3, 3, 3, 3, 3, 3, 3,\n",
       "       3, 3, 3, 3, 3, 3, 3, 3, 3, 3, 3, 3, 3, 3, 3, 3, 3, 3, 3, 3, 3, 3,\n",
       "       3, 3, 3, 3, 3, 3, 3, 3, 3, 3, 3, 3, 3, 3, 3, 3, 3, 3, 3, 3, 3, 3,\n",
       "       3, 3, 3, 3, 3, 3, 3, 3, 3, 3, 3, 3, 3, 3, 3, 3, 3, 3, 3, 3, 3, 3,\n",
       "       3, 3, 3, 3, 3, 3, 3, 3, 3, 3, 3, 3, 3, 3, 3, 3, 3, 3, 3, 3, 3, 3,\n",
       "       3, 3, 3, 3, 3, 3, 3, 3, 3, 3, 3, 3, 3, 3, 3, 3, 3, 3, 3, 3, 3, 3,\n",
       "       3, 3, 3, 3, 3, 3, 3, 3, 3, 3, 3, 3, 3, 3, 3, 3, 3, 3, 3, 3, 3, 3,\n",
       "       3, 3, 3, 3, 3, 3, 3, 3, 3, 3, 3, 3, 3, 3, 3, 3, 3, 3, 3, 3, 3, 3,\n",
       "       3, 3, 3, 3, 3, 3, 3, 3, 3, 3, 3, 3, 3, 3, 3, 3, 3, 3, 3, 3, 3, 3,\n",
       "       3, 3, 3, 3, 3, 3, 3, 3, 3, 3, 3, 3, 3, 3, 3, 3, 3, 3, 3, 3, 3, 3,\n",
       "       3, 3, 3, 3, 3, 3, 3, 3, 3, 3, 3, 3, 3, 3, 3, 3, 3, 3, 3, 3, 3, 3,\n",
       "       3, 3, 3, 3, 3, 3, 3, 3, 3, 3, 3, 3, 3, 3, 3, 3, 3, 3, 3, 3, 3, 3,\n",
       "       3, 3, 3, 3, 3, 3, 3, 3, 3, 3, 3, 3, 3, 3, 3, 3, 3, 3, 3, 3, 3, 3,\n",
       "       3, 3, 3, 3, 3, 3, 3, 3, 3, 3, 3, 3, 3, 3, 3, 3, 3, 3, 3, 3, 3, 3,\n",
       "       3, 3, 3, 3, 3, 3, 3, 3, 3, 3, 3, 3, 3, 3, 3, 3, 3, 3, 3, 3, 3, 3,\n",
       "       3, 3, 3, 3, 3, 3, 3, 3, 3, 3, 3, 3, 3, 3, 3, 3, 3, 3, 3, 3])"
      ]
     },
     "execution_count": 48,
     "metadata": {},
     "output_type": "execute_result"
    }
   ],
   "source": [
    "print(\"Total sessions per student\")\n",
    "np.sum(np.sum(X_solution,axis=2),axis=1)"
   ]
  },
  {
   "cell_type": "code",
   "execution_count": 49,
   "id": "eeb338fa-dc27-4620-888f-27508fbbe381",
   "metadata": {},
   "outputs": [
    {
     "name": "stdout",
     "output_type": "stream",
     "text": [
      "Total students assigned per block\n"
     ]
    },
    {
     "data": {
      "text/plain": [
       "array([416, 416, 416])"
      ]
     },
     "execution_count": 49,
     "metadata": {},
     "output_type": "execute_result"
    }
   ],
   "source": [
    "print(\"Total students assigned per block\")\n",
    "np.sum(np.sum(X_solution,axis=1),axis=0)"
   ]
  },
  {
   "cell_type": "markdown",
   "id": "905a880a-c80e-4cc4-8707-116530dab350",
   "metadata": {},
   "source": [
    "Now just mathematically verify the constraints were satisfied"
   ]
  },
  {
   "cell_type": "code",
   "execution_count": 34,
   "id": "4724d486-b300-4f80-b697-191488206783",
   "metadata": {},
   "outputs": [],
   "source": [
    "# Verify 1 session for every student-block\n",
    "for i in range(I):\n",
    "    for k in range(K):\n",
    "        if sum(X[i][j][k] for j in range(J)).solution_value()<1:\n",
    "            print(i,j,k )"
   ]
  },
  {
   "cell_type": "code",
   "execution_count": 35,
   "id": "75602efe-bafb-4f08-a1dc-dde590989fcd",
   "metadata": {},
   "outputs": [],
   "source": [
    "# Verify 3 sessions for every studeny\n",
    "for i in range(I):\n",
    "    if(sum(X[i][j][k].solution_value() for j in range(J) for k in range(K)) < 3):\n",
    "        print(i, sum(X[i][j][k].solution_value() for j in range(J) for k in range(K)))"
   ]
  },
  {
   "cell_type": "markdown",
   "id": "aeb6d711-7872-45ad-9ff8-9e6a625d00d7",
   "metadata": {},
   "source": [
    "And print the whole schedule"
   ]
  },
  {
   "cell_type": "code",
   "execution_count": 36,
   "id": "3ba0b11e-2d9f-4b2a-8bd6-d3b54b1efd56",
   "metadata": {},
   "outputs": [
    {
     "name": "stdout",
     "output_type": "stream",
     "text": [
      "Student #0000  mantech       lcps          xelevate     \n",
      "Student #0001  terracon      xelevate      mpr          \n",
      "Student #0002  mantech       mpr           xelevate     \n",
      "Student #0003  dss           mantech       xelevate     \n",
      "Student #0004  xelevate      terracon      mpr          \n",
      "Student #0005  xelevate      new ag        usgs         \n",
      "Student #0006  salesforce    mantech       mpr          \n",
      "Student #0007  mantech       xelevate      terracon     \n",
      "Student #0008  mantech       saic          xelevate     \n",
      "Student #0009  mantech       iridium       xelevate     \n",
      "Student #0010  mantech       saic          xelevate     \n",
      "Student #0011  mantech       saic          mpr          \n",
      "Student #0012  mantech       saic          xelevate     \n",
      "Student #0013  mantech       new ag        xelevate     \n",
      "Student #0014  mantech       iridium       xelevate     \n",
      "Student #0015  xelevate      new ag        mantech      \n",
      "Student #0016  xelevate      mantech       lcps         \n",
      "Student #0017  xelevate      mantech       saic         \n",
      "Student #0018  mpr           xelevate      salesforce   \n",
      "Student #0019  salesforce    xelevate      mantech      \n",
      "Student #0020  saic          xelevate      mantech      \n",
      "Student #0021  mpr           mantech       terracon     \n",
      "Student #0022  xelevate      mantech       salesforce   \n",
      "Student #0023  mantech       mpr           usgs         \n",
      "Student #0024  xelevate      mantech       salesforce   \n",
      "Student #0025  xelevate      mantech       salesforce   \n",
      "Student #0026  salesforce    mantech       usgs         \n",
      "Student #0027  mantech       iridium       salesforce   \n",
      "Student #0028  usgs          dss           mantech      \n",
      "Student #0029  xelevate      mantech       dss          \n",
      "Student #0030  xelevate      mantech       bwxt         \n",
      "Student #0031  bwxt          dss           mantech      \n",
      "Student #0032  usgs          xelevate      salesforce   \n",
      "Student #0033  bwxt          mantech       dss          \n",
      "Student #0034  xelevate      terracon      new ag       \n",
      "Student #0035  saic          mantech       mpr          \n",
      "Student #0036  mantech       salesforce    xelevate     \n",
      "Student #0037  mantech       iridium       dss          \n",
      "Student #0038  xelevate      lcps          mantech      \n",
      "Student #0039  bwxt          mantech       salesforce   \n",
      "Student #0040  mantech       new ag        bwxt         \n",
      "Student #0041  mpr           mantech       bwxt         \n",
      "Student #0042  bwxt          salesforce    xelevate     \n",
      "Student #0043  saic          xelevate      mantech      \n",
      "Student #0044  xelevate      iridium       salesforce   \n",
      "Student #0045  saic          mantech       dss          \n",
      "Student #0046  bwxt          mantech       lcps         \n",
      "Student #0047  iridium       xelevate      mantech      \n",
      "Student #0048  new ag        xelevate      mantech      \n",
      "Student #0049  xelevate      usgs          mantech      \n",
      "Student #0050  xelevate      lcps          mantech      \n",
      "Student #0051  bwxt          salesforce    xelevate     \n",
      "Student #0052  mantech       bwxt          xelevate     \n",
      "Student #0053  xelevate      mantech       bwxt         \n",
      "Student #0054  xelevate      bwxt          mantech      \n",
      "Student #0055  xelevate      iridium       mantech      \n",
      "Student #0056  mpr           xelevate      lcps         \n",
      "Student #0057  xelevate      salesforce    mantech      \n",
      "Student #0058  bwxt          mantech       salesforce   \n",
      "Student #0059  iridium       mantech       dss          \n",
      "Student #0060  mpr           mantech       salesforce   \n",
      "Student #0061  xelevate      mantech       iridium      \n",
      "Student #0062  iridium       dss           mantech      \n",
      "Student #0063  xelevate      terracon      mantech      \n",
      "Student #0064  mantech       terracon      usgs         \n",
      "Student #0065  mantech       lcps          xelevate     \n",
      "Student #0066  mpr           iridium       mantech      \n",
      "Student #0067  bwxt          terracon      salesforce   \n",
      "Student #0068  xelevate      mantech       dss          \n",
      "Student #0069  mantech       mpr           salesforce   \n",
      "Student #0070  xelevate      salesforce    mantech      \n",
      "Student #0071  xelevate      mantech       mpr          \n",
      "Student #0072  xelevate      iridium       saic         \n",
      "Student #0073  bwxt          mantech       new ag       \n",
      "Student #0074  mantech       saic          xelevate     \n",
      "Student #0075  bwxt          mantech       lcps         \n",
      "Student #0076  mantech       terracon      xelevate     \n",
      "Student #0077  mantech       saic          lcps         \n",
      "Student #0078  xelevate      iridium       usgs         \n",
      "Student #0079  mantech       xelevate      bwxt         \n",
      "Student #0080  bwxt          lcps          xelevate     \n",
      "Student #0081  mpr           mantech       usgs         \n",
      "Student #0082  lcps          mantech       bwxt         \n",
      "Student #0083  dss           mantech       xelevate     \n",
      "Student #0084  mantech       saic          xelevate     \n",
      "Student #0085  saic          dss           mantech      \n",
      "Student #0086  xelevate      dss           mantech      \n",
      "Student #0087  mantech       lcps          saic         \n",
      "Student #0088  xelevate      mantech       new ag       \n",
      "Student #0089  xelevate      iridium       mantech      \n",
      "Student #0090  dss           xelevate      mantech      \n",
      "Student #0091  bwxt          saic          xelevate     \n",
      "Student #0092  bwxt          mantech       xelevate     \n",
      "Student #0093  bwxt          mantech       salesforce   \n",
      "Student #0094  mantech       salesforce    lcps         \n",
      "Student #0095  mantech       xelevate      saic         \n",
      "Student #0096  xelevate      mantech       salesforce   \n",
      "Student #0097  new ag        xelevate      usgs         \n",
      "Student #0098  xelevate      usgs          mantech      \n",
      "Student #0099  mantech       xelevate      bwxt         \n",
      "Student #0100  mantech       salesforce    xelevate     \n",
      "Student #0101  xelevate      mantech       dss          \n",
      "Student #0102  salesforce    terracon      mantech      \n",
      "Student #0103  usgs          mantech       salesforce   \n",
      "Student #0104  mantech       lcps          new ag       \n",
      "Student #0105  mantech       dss           xelevate     \n",
      "Student #0106  bwxt          dss           mantech      \n",
      "Student #0107  mantech       bwxt          xelevate     \n",
      "Student #0108  mantech       xelevate      lcps         \n",
      "Student #0109  bwxt          mpr           usgs         \n",
      "Student #0110  usgs          saic          xelevate     \n",
      "Student #0111  mantech       xelevate      saic         \n",
      "Student #0112  bwxt          mantech       xelevate     \n",
      "Student #0113  terracon      iridium       mantech      \n",
      "Student #0114  lcps          mantech       new ag       \n",
      "Student #0115  iridium       mantech       bwxt         \n",
      "Student #0116  iridium       mpr           xelevate     \n",
      "Student #0117  dss           mantech       usgs         \n",
      "Student #0118  xelevate      mpr           lcps         \n",
      "Student #0119  mpr           xelevate      mantech      \n",
      "Student #0120  mantech       terracon      xelevate     \n",
      "Student #0121  xelevate      mantech       new ag       \n",
      "Student #0122  bwxt          xelevate      mantech      \n",
      "Student #0123  mantech       xelevate      usgs         \n",
      "Student #0124  mantech       usgs          xelevate     \n",
      "Student #0125  dss           mantech       xelevate     \n",
      "Student #0126  iridium       xelevate      lcps         \n",
      "Student #0127  mpr           mantech       xelevate     \n",
      "Student #0128  new ag        lcps          mantech      \n",
      "Student #0129  salesforce    xelevate      dss          \n",
      "Student #0130  mantech       usgs          lcps         \n",
      "Student #0131  saic          xelevate      mantech      \n",
      "Student #0132  xelevate      mantech       saic         \n",
      "Student #0133  bwxt          iridium       mantech      \n",
      "Student #0134  xelevate      mantech       usgs         \n",
      "Student #0135  xelevate      bwxt          mantech      \n",
      "Student #0136  mantech       saic          xelevate     \n",
      "Student #0137  lcps          mantech       bwxt         \n",
      "Student #0138  bwxt          iridium       xelevate     \n",
      "Student #0139  dss           mantech       xelevate     \n",
      "Student #0140  mantech       bwxt          usgs         \n",
      "Student #0141  dss           terracon      mantech      \n",
      "Student #0142  dss           xelevate      mantech      \n",
      "Student #0143  salesforce    mantech       xelevate     \n",
      "Student #0144  mantech       dss           xelevate     \n",
      "Student #0145  iridium       salesforce    mantech      \n",
      "Student #0146  mantech       bwxt          xelevate     \n",
      "Student #0147  mpr           xelevate      mantech      \n",
      "Student #0148  mantech       xelevate      iridium      \n",
      "Student #0149  xelevate      mantech       lcps         \n",
      "Student #0150  mantech       bwxt          iridium      \n",
      "Student #0151  xelevate      terracon      mantech      \n",
      "Student #0152  xelevate      lcps          bwxt         \n",
      "Student #0153  mantech       xelevate      new ag       \n",
      "Student #0154  xelevate      mantech       iridium      \n",
      "Student #0155  saic          lcps          bwxt         \n",
      "Student #0156  xelevate      lcps          dss          \n",
      "Student #0157  mantech       xelevate      dss          \n",
      "Student #0158  salesforce    mantech       dss          \n",
      "Student #0159  mantech       xelevate      iridium      \n",
      "Student #0160  xelevate      bwxt          dss          \n",
      "Student #0161  saic          terracon      xelevate     \n",
      "Student #0162  iridium       mantech       xelevate     \n",
      "Student #0163  terracon      lcps          bwxt         \n",
      "Student #0164  mantech       salesforce    iridium      \n",
      "Student #0165  salesforce    mantech       xelevate     \n",
      "Student #0166  mantech       xelevate      mpr          \n",
      "Student #0167  dss           xelevate      mantech      \n",
      "Student #0168  mantech       xelevate      dss          \n",
      "Student #0169  dss           mantech       mpr          \n",
      "Student #0170  iridium       mantech       xelevate     \n",
      "Student #0171  mantech       xelevate      iridium      \n",
      "Student #0172  mantech       bwxt          iridium      \n",
      "Student #0173  xelevate      salesforce    dss          \n",
      "Student #0174  salesforce    mantech       dss          \n",
      "Student #0175  mantech       terracon      iridium      \n",
      "Student #0176  terracon      mantech       new ag       \n",
      "Student #0177  xelevate      iridium       mantech      \n",
      "Student #0178  lcps          mantech       salesforce   \n",
      "Student #0179  mantech       terracon      xelevate     \n",
      "Student #0180  terracon      xelevate      mantech      \n",
      "Student #0181  saic          mantech       dss          \n",
      "Student #0182  mantech       new ag        iridium      \n",
      "Student #0183  saic          xelevate      bwxt         \n",
      "Student #0184  mpr           saic          new ag       \n",
      "Student #0185  mantech       usgs          xelevate     \n",
      "Student #0186  usgs          salesforce    mantech      \n",
      "Student #0187  terracon      mantech       xelevate     \n",
      "Student #0188  xelevate      mpr           terracon     \n",
      "Student #0189  lcps          mantech       dss          \n",
      "Student #0190  xelevate      iridium       mantech      \n",
      "Student #0191  xelevate      mantech       saic         \n",
      "Student #0192  terracon      xelevate      mantech      \n",
      "Student #0193  mantech       xelevate      bwxt         \n",
      "Student #0194  terracon      mantech       mpr          \n",
      "Student #0195  dss           salesforce    xelevate     \n",
      "Student #0196  iridium       lcps          xelevate     \n",
      "Student #0197  terracon      mantech       xelevate     \n",
      "Student #0198  mantech       xelevate      mpr          \n",
      "Student #0199  usgs          xelevate      mpr          \n",
      "Student #0200  xelevate      iridium       saic         \n",
      "Student #0201  xelevate      iridium       mantech      \n",
      "Student #0202  xelevate      mantech       saic         \n",
      "Student #0203  mantech       usgs          xelevate     \n",
      "Student #0204  salesforce    xelevate      saic         \n",
      "Student #0205  terracon      mpr           mantech      \n",
      "Student #0206  iridium       xelevate      mantech      \n",
      "Student #0207  saic          salesforce    mantech      \n",
      "Student #0208  mpr           terracon      mantech      \n",
      "Student #0209  mantech       usgs          xelevate     \n",
      "Student #0210  terracon      xelevate      mantech      \n",
      "Student #0211  usgs          mpr           mantech      \n",
      "Student #0212  xelevate      mantech       mpr          \n",
      "Student #0213  xelevate      lcps          terracon     \n",
      "Student #0214  mantech       new ag        xelevate     \n",
      "Student #0215  xelevate      mantech       dss          \n",
      "Student #0216  lcps          salesforce    mantech      \n",
      "Student #0217  mantech       new ag        xelevate     \n",
      "Student #0218  lcps          xelevate      mantech      \n",
      "Student #0219  mpr           mantech       iridium      \n",
      "Student #0220  mantech       iridium       xelevate     \n",
      "Student #0221  xelevate      mantech       saic         \n",
      "Student #0222  terracon      lcps          xelevate     \n",
      "Student #0223  iridium       xelevate      saic         \n",
      "Student #0224  mpr           xelevate      mantech      \n",
      "Student #0225  salesforce    usgs          mantech      \n",
      "Student #0226  xelevate      usgs          mantech      \n",
      "Student #0227  xelevate      mantech       dss          \n",
      "Student #0228  mpr           usgs          lcps         \n",
      "Student #0229  xelevate      terracon      mantech      \n",
      "Student #0230  lcps          xelevate      mantech      \n",
      "Student #0231  bwxt          xelevate      iridium      \n",
      "Student #0232  salesforce    terracon      xelevate     \n",
      "Student #0233  salesforce    bwxt          xelevate     \n",
      "Student #0234  xelevate      salesforce    mantech      \n",
      "Student #0235  terracon      iridium       mantech      \n",
      "Student #0236  usgs          mpr           xelevate     \n",
      "Student #0237  lcps          terracon      xelevate     \n",
      "Student #0238  salesforce    mantech       iridium      \n",
      "Student #0239  usgs          mantech       xelevate     \n",
      "Student #0240  new ag        usgs          xelevate     \n",
      "Student #0241  new ag        salesforce    xelevate     \n",
      "Student #0242  lcps          xelevate      mantech      \n",
      "Student #0243  terracon      mantech       xelevate     \n",
      "Student #0244  xelevate      mantech       salesforce   \n",
      "Student #0245  dss           mantech       xelevate     \n",
      "Student #0246  salesforce    xelevate      mantech      \n",
      "Student #0247  mantech       saic          xelevate     \n",
      "Student #0248  saic          bwxt          mantech      \n",
      "Student #0249  xelevate      mantech       saic         \n",
      "Student #0250  mpr           saic          mantech      \n",
      "Student #0251  saic          xelevate      dss          \n",
      "Student #0252  salesforce    dss           xelevate     \n",
      "Student #0253  xelevate      mpr           mantech      \n",
      "Student #0254  new ag        mantech       bwxt         \n",
      "Student #0255  lcps          usgs          mantech      \n",
      "Student #0256  mantech       lcps          xelevate     \n",
      "Student #0257  usgs          saic          xelevate     \n",
      "Student #0258  saic          new ag        mantech      \n",
      "Student #0259  usgs          dss           xelevate     \n",
      "Student #0260  usgs          dss           mantech      \n",
      "Student #0261  usgs          xelevate      new ag       \n",
      "Student #0262  terracon      mantech       new ag       \n",
      "Student #0263  lcps          usgs          mantech      \n",
      "Student #0264  lcps          mantech       terracon     \n",
      "Student #0265  xelevate      mantech       dss          \n",
      "Student #0266  mantech       xelevate      salesforce   \n",
      "Student #0267  mantech       bwxt          terracon     \n",
      "Student #0268  mantech       xelevate      saic         \n",
      "Student #0269  xelevate      mantech       mpr          \n",
      "Student #0270  mpr           saic          mantech      \n",
      "Student #0271  mantech       xelevate      saic         \n",
      "Student #0272  usgs          mantech       new ag       \n",
      "Student #0273  xelevate      dss           mantech      \n",
      "Student #0274  new ag        dss           bwxt         \n",
      "Student #0275  xelevate      mantech       terracon     \n",
      "Student #0276  usgs          mantech       xelevate     \n",
      "Student #0277  lcps          bwxt          xelevate     \n",
      "Student #0278  usgs          mantech       xelevate     \n",
      "Student #0279  usgs          xelevate      mantech      \n",
      "Student #0280  mantech       new ag        xelevate     \n",
      "Student #0281  terracon      mpr           mantech      \n",
      "Student #0282  mpr           mantech       iridium      \n",
      "Student #0283  new ag        terracon      mantech      \n",
      "Student #0284  mantech       dss           xelevate     \n",
      "Student #0285  xelevate      lcps          terracon     \n",
      "Student #0286  xelevate      mantech       usgs         \n",
      "Student #0287  xelevate      mantech       iridium      \n",
      "Student #0288  xelevate      usgs          salesforce   \n",
      "Student #0289  bwxt          usgs          xelevate     \n",
      "Student #0290  mpr           salesforce    terracon     \n",
      "Student #0291  new ag        salesforce    mantech      \n",
      "Student #0292  iridium       xelevate      terracon     \n",
      "Student #0293  new ag        mantech       xelevate     \n",
      "Student #0294  new ag        mantech       xelevate     \n",
      "Student #0295  mantech       usgs          xelevate     \n",
      "Student #0296  mantech       usgs          bwxt         \n",
      "Student #0297  new ag        mpr           terracon     \n",
      "Student #0298  new ag        xelevate      lcps         \n",
      "Student #0299  xelevate      bwxt          terracon     \n",
      "Student #0300  lcps          bwxt          usgs         \n",
      "Student #0301  saic          mantech       xelevate     \n",
      "Student #0302  xelevate      mantech       lcps         \n",
      "Student #0303  xelevate      mantech       iridium      \n",
      "Student #0304  iridium       xelevate      mantech      \n",
      "Student #0305  usgs          mantech       terracon     \n",
      "Student #0306  dss           mantech       xelevate     \n",
      "Student #0307  xelevate      mantech       salesforce   \n",
      "Student #0308  terracon      usgs          mantech      \n",
      "Student #0309  dss           mpr           terracon     \n",
      "Student #0310  dss           mantech       terracon     \n",
      "Student #0311  dss           mantech       lcps         \n",
      "Student #0312  iridium       mpr           mantech      \n",
      "Student #0313  iridium       usgs          mantech      \n",
      "Student #0314  dss           mantech       salesforce   \n",
      "Student #0315  mantech       salesforce    xelevate     \n",
      "Student #0316  saic          xelevate      mantech      \n",
      "Student #0317  mantech       salesforce    mpr          \n",
      "Student #0318  saic          lcps          mpr          \n",
      "Student #0319  mpr           mantech       usgs         \n",
      "Student #0320  xelevate      new ag        mantech      \n",
      "Student #0321  mantech       mpr           xelevate     \n",
      "Student #0322  mantech       dss           terracon     \n",
      "Student #0323  mantech       saic          xelevate     \n",
      "Student #0324  iridium       xelevate      mantech      \n",
      "Student #0325  dss           new ag        terracon     \n",
      "Student #0326  terracon      mantech       saic         \n",
      "Student #0327  xelevate      mantech       usgs         \n",
      "Student #0328  xelevate      mantech       terracon     \n",
      "Student #0329  mantech       xelevate      usgs         \n",
      "Student #0330  lcps          xelevate      mantech      \n",
      "Student #0331  new ag        salesforce    mantech      \n",
      "Student #0332  iridium       mpr           terracon     \n",
      "Student #0333  iridium       saic          mantech      \n",
      "Student #0334  usgs          xelevate      mantech      \n",
      "Student #0335  salesforce    iridium       bwxt         \n",
      "Student #0336  mantech       new ag        dss          \n",
      "Student #0337  new ag        xelevate      mantech      \n",
      "Student #0338  mantech       bwxt          xelevate     \n",
      "Student #0339  mantech       salesforce    usgs         \n",
      "Student #0340  xelevate      dss           mantech      \n",
      "Student #0341  new ag        mantech       lcps         \n",
      "Student #0342  mantech       saic          xelevate     \n",
      "Student #0343  mantech       xelevate      iridium      \n",
      "Student #0344  mantech       xelevate      lcps         \n",
      "Student #0345  salesforce    xelevate      mantech      \n",
      "Student #0346  mantech       bwxt          xelevate     \n",
      "Student #0347  dss           lcps          bwxt         \n",
      "Student #0348  xelevate      iridium       mantech      \n",
      "Student #0349  new ag        xelevate      mantech      \n",
      "Student #0350  mantech       dss           usgs         \n",
      "Student #0351  mantech       terracon      xelevate     \n",
      "Student #0352  saic          bwxt          xelevate     \n",
      "Student #0353  mantech       usgs          terracon     \n",
      "Student #0354  xelevate      mantech       mpr          \n",
      "Student #0355  salesforce    dss           mantech      \n",
      "Student #0356  xelevate      lcps          saic         \n",
      "Student #0357  xelevate      mantech       terracon     \n",
      "Student #0358  terracon      bwxt          mantech      \n",
      "Student #0359  new ag        mpr           mantech      \n",
      "Student #0360  xelevate      mantech       lcps         \n",
      "Student #0361  mantech       dss           xelevate     \n",
      "Student #0362  dss           new ag        xelevate     \n",
      "Student #0363  mpr           xelevate      mantech      \n",
      "Student #0364  mantech       terracon      xelevate     \n",
      "Student #0365  mantech       xelevate      mpr          \n",
      "Student #0366  lcps          mantech       xelevate     \n",
      "Student #0367  mantech       xelevate      mpr          \n",
      "Student #0368  saic          dss           mantech      \n",
      "Student #0369  usgs          xelevate      mantech      \n",
      "Student #0370  xelevate      dss           iridium      \n",
      "Student #0371  xelevate      mantech       mpr          \n",
      "Student #0372  salesforce    saic          mantech      \n",
      "Student #0373  new ag        xelevate      mantech      \n",
      "Student #0374  xelevate      saic          mantech      \n",
      "Student #0375  iridium       xelevate      new ag       \n",
      "Student #0376  mantech       xelevate      saic         \n",
      "Student #0377  saic          bwxt          new ag       \n",
      "Student #0378  mantech       iridium       new ag       \n",
      "Student #0379  salesforce    new ag        xelevate     \n",
      "Student #0380  xelevate      terracon      usgs         \n",
      "Student #0381  xelevate      usgs          bwxt         \n",
      "Student #0382  usgs          mantech       xelevate     \n",
      "Student #0383  xelevate      lcps          bwxt         \n",
      "Student #0384  xelevate      bwxt          mantech      \n",
      "Student #0385  mantech       saic          iridium      \n",
      "Student #0386  mantech       mpr           lcps         \n",
      "Student #0387  xelevate      mantech       terracon     \n",
      "Student #0388  mantech       dss           xelevate     \n",
      "Student #0389  terracon      mantech       iridium      \n",
      "Student #0390  usgs          xelevate      mpr          \n",
      "Student #0391  xelevate      mantech       saic         \n",
      "Student #0392  saic          mantech       xelevate     \n",
      "Student #0393  dss           mpr           lcps         \n",
      "Student #0394  lcps          xelevate      mantech      \n",
      "Student #0395  iridium       mantech       xelevate     \n",
      "Student #0396  new ag        xelevate      mantech      \n",
      "Student #0397  salesforce    mantech       new ag       \n",
      "Student #0398  terracon      mantech       lcps         \n",
      "Student #0399  new ag        mantech       saic         \n",
      "Student #0400  lcps          mantech       saic         \n",
      "Student #0401  mantech       terracon      usgs         \n",
      "Student #0402  iridium       lcps          mantech      \n",
      "Student #0403  xelevate      mpr           usgs         \n",
      "Student #0404  lcps          bwxt          mantech      \n",
      "Student #0405  xelevate      mantech       saic         \n",
      "Student #0406  mantech       xelevate      mpr          \n",
      "Student #0407  saic          mantech       lcps         \n",
      "Student #0408  xelevate      mantech       salesforce   \n",
      "Student #0409  mantech       saic          iridium      \n",
      "Student #0410  xelevate      mantech       mpr          \n",
      "Student #0411  terracon      xelevate      bwxt         \n",
      "Student #0412  mantech       usgs          iridium      \n",
      "Student #0413  new ag        mpr           mantech      \n",
      "Student #0414  dss           mantech       xelevate     \n",
      "Student #0415  mpr           mantech       xelevate     \n"
     ]
    }
   ],
   "source": [
    "for i in range(I):\n",
    "    s = f\"Student #{i:04} \"\n",
    "    for k in range(K):\n",
    "        for j in range(J):\n",
    "            if X[i][j][k].solution_value() > 0:\n",
    "                s += f\" {sessions[j]:12} \"\n",
    "    print(s)"
   ]
  }
 ],
 "metadata": {
  "kernelspec": {
   "display_name": "Python 3 (ipykernel)",
   "language": "python",
   "name": "python3"
  },
  "language_info": {
   "codemirror_mode": {
    "name": "ipython",
    "version": 3
   },
   "file_extension": ".py",
   "mimetype": "text/x-python",
   "name": "python",
   "nbconvert_exporter": "python",
   "pygments_lexer": "ipython3",
   "version": "3.10.12"
  }
 },
 "nbformat": 4,
 "nbformat_minor": 5
}
