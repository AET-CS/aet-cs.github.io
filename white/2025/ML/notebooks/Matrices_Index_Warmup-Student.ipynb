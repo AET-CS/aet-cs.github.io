{
 "cells": [
  {
   "cell_type": "markdown",
   "id": "c679f1aa-6a80-48eb-a1e5-4b42e3ca905d",
   "metadata": {},
   "source": [
    "# Matrix indices warmup"
   ]
  },
  {
   "cell_type": "markdown",
   "id": "37b034cc-4610-4a6e-a9f5-ae479136da10",
   "metadata": {},
   "source": [
    "#### First, About python `range(a,b)`"
   ]
  },
  {
   "cell_type": "markdown",
   "id": "57d47f04-63e2-4312-b9be-6bae85074f60",
   "metadata": {},
   "source": [
    "Run the following and make sure you understand the output"
   ]
  },
  {
   "cell_type": "code",
   "execution_count": null,
   "id": "5d57616d-1527-4d47-b1f6-00556a23a1ca",
   "metadata": {},
   "outputs": [],
   "source": [
    "a = range(10)\n",
    "b = range(2,10)\n",
    "c = range(2,10,3)\n",
    "d = range(10,2,-1)\n",
    "e = range(10,2,-3)\n",
    "print(list(a))\n",
    "print(list(b))\n",
    "print(list(c))\n",
    "print(list(d))\n",
    "print(list(e))"
   ]
  },
  {
   "cell_type": "markdown",
   "id": "68bcbc35-480d-4d8b-acda-1f9dabe6eea2",
   "metadata": {},
   "source": [
    "#### Now for the matrix challenge"
   ]
  },
  {
   "cell_type": "code",
   "execution_count": null,
   "id": "de0861f2-88e4-4625-81c5-c9e8aea68825",
   "metadata": {},
   "outputs": [],
   "source": [
    "import numpy as np"
   ]
  },
  {
   "cell_type": "markdown",
   "id": "ee595cf2-adcf-482a-b2ab-f70f3eeb0dc9",
   "metadata": {},
   "source": [
    "Write nested loops to create each of the following 5x5 matrices, starting from a zero matrix. Use 'c' and 'r' as the names of your index variables (this really helps your brain.) Use a counter, too! Your counter should *always* start at 1, and your code should always look like this, with no added lines\n",
    "```python\n",
    "for c in ....\n",
    "  for r in ......\n",
    "    A[r][c] = ...\n",
    "```"
   ]
  },
  {
   "cell_type": "markdown",
   "id": "d62d0dcb-3160-4251-8278-bd00e4a3f5bf",
   "metadata": {},
   "source": [
    "$$\n",
    "A = \\begin{bmatrix}\n",
    "  1 &  0 &  0 &  0 &  0\\\\\n",
    "  2 &  6 &  0 &  0 &  0\\\\\n",
    "  3 &  7 &  10 &  0 &  0\\\\\n",
    "  4 &  8 &  11 &  13 &  0\\\\\n",
    "  5 &  9 &  12 &  14 &  15\n",
    "\\end{bmatrix}\n",
    "$$\n"
   ]
  },
  {
   "cell_type": "code",
   "execution_count": null,
   "id": "94b030c1-6ac8-4c70-a679-cd8d9bbb6d4d",
   "metadata": {},
   "outputs": [],
   "source": [
    "A = np.zeros((5,5), np.int32)\n",
    "# Solution 1 Here\n",
    "print(A)"
   ]
  },
  {
   "cell_type": "markdown",
   "id": "30e1a539-b5bd-467b-a17b-3e13767a6fe1",
   "metadata": {},
   "source": [
    "\n",
    "$$\n",
    "B=\\begin{bmatrix}\n",
    "  0 &  0 &  0 &  0 &  0\\\\\n",
    "  1 &  0 &  0 &  0 &  0\\\\\n",
    "  2 &  5 &  0 &  0 &  0\\\\\n",
    "  3 &  6 &  8 &  0 &  0\\\\\n",
    "  4 &  7 &  9 &  10 &  0\n",
    "\\end{bmatrix}\n",
    "$$\n"
   ]
  },
  {
   "cell_type": "code",
   "execution_count": null,
   "id": "764c8880-2ce1-4373-b43b-bb513ffa2e92",
   "metadata": {},
   "outputs": [],
   "source": [
    "B = np.zeros((5,5), np.int32)\n",
    "# Solution 2 Here\n",
    "print(B)"
   ]
  },
  {
   "cell_type": "markdown",
   "id": "563310bd-52f0-476f-ab4d-67ed9840433a",
   "metadata": {},
   "source": [
    "\n",
    "$$\n",
    "C = \\begin{bmatrix}\n",
    "  15 &  14 &  12 &  9 &  5\\\\\n",
    "  0 &  13 &  11 &  8 &  4\\\\\n",
    "  0 &  0 &  10 &  7 &  3\\\\\n",
    "  0 &  0 &  0 &  6 &  2\\\\\n",
    "  0 &  0 &  0 &  0 &  1\n",
    "\\end{bmatrix}\n",
    "$$\n"
   ]
  },
  {
   "cell_type": "code",
   "execution_count": null,
   "id": "6d7008b1-8be9-4271-8e1d-aeea168b9a76",
   "metadata": {},
   "outputs": [],
   "source": [
    "C = np.zeros((5,5), np.int32)\n",
    "# Solution 3 Here\n",
    "print(C)"
   ]
  },
  {
   "cell_type": "markdown",
   "id": "54785bf3-eebf-4776-81ba-f38db3245376",
   "metadata": {},
   "source": [
    "\n",
    "$$\n",
    "D=\\begin{bmatrix}\n",
    "  0 &  10 &  9 &  7 &  4\\\\\n",
    "  0 &  0 &  8 &  6 &  3\\\\\n",
    "  0 &  0 &  0 &  5 &  2\\\\\n",
    "  0 &  0 &  0 &  0 &  1\\\\\n",
    "  0 &  0 &  0 &  0 &  0\n",
    "\\end{bmatrix}\n",
    "$$"
   ]
  },
  {
   "cell_type": "code",
   "execution_count": null,
   "id": "d6d28976-809d-4d76-a66b-97dcfd7b5a52",
   "metadata": {},
   "outputs": [],
   "source": [
    "D = np.zeros((5,5), np.int32)\n",
    "# Solution 4 Here\n",
    "print(D)"
   ]
  }
 ],
 "metadata": {
  "kernelspec": {
   "display_name": "Python 3 (ipykernel)",
   "language": "python",
   "name": "python3"
  },
  "language_info": {
   "codemirror_mode": {
    "name": "ipython",
    "version": 3
   },
   "file_extension": ".py",
   "mimetype": "text/x-python",
   "name": "python",
   "nbconvert_exporter": "python",
   "pygments_lexer": "ipython3",
   "version": "3.11.9"
  }
 },
 "nbformat": 4,
 "nbformat_minor": 5
}
