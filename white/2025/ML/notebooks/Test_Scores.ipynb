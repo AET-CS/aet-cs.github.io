{
 "cells": [
  {
   "cell_type": "markdown",
   "id": "7e9349d0",
   "metadata": {},
   "source": [
    "# Test Scores Toy Data"
   ]
  },
  {
   "cell_type": "code",
   "execution_count": null,
   "id": "771ea7b9-e7de-43c7-96ae-bc3a30862715",
   "metadata": {},
   "outputs": [],
   "source": [
    "import pandas as pd\n",
    "import os\n",
    "from sklearn.linear_model import LinearRegression\n",
    "from sklearn.metrics import r2_score\n",
    "import numpy as np\n",
    "import matplotlib.pyplot as plt\n",
    "import seaborn as sns"
   ]
  },
  {
   "cell_type": "code",
   "execution_count": null,
   "id": "f8372bbb-7f90-41b7-914c-aca8597c1f6a",
   "metadata": {},
   "outputs": [],
   "source": [
    "pd.options.display.max_rows = 20  # Shows 20 rows\n",
    "pd.options.display.max_columns = None  # Shows All columns"
   ]
  },
  {
   "cell_type": "markdown",
   "id": "c1121f80",
   "metadata": {
    "jp-MarkdownHeadingCollapsed": true
   },
   "source": [
    "## Loading the dataset"
   ]
  },
  {
   "cell_type": "code",
   "execution_count": null,
   "id": "95d691a5-1638-4953-b929-761a8095a773",
   "metadata": {
    "scrolled": true
   },
   "outputs": [],
   "source": [
    "# These lines would load the data locally\n",
    "# data_root = \"./\"\n",
    "# filename = \"Life_Expectancy_Data.csv\"\n",
    "# filepath = os.path.join(data_root, filename)\n",
    "# df = pd.read_csv(filepath)\n",
    "\n",
    "# We'll fetch it directly from the web\n",
    "data_url = \"https://aet-cs.github.io/white/ML/data/test-scores.csv\"\n",
    "df = pd.read_csv(data_url)\n",
    "df"
   ]
  },
  {
   "cell_type": "markdown",
   "id": "a71ed4f4-5106-4425-88cd-ab2acbc24b86",
   "metadata": {},
   "source": [
    "`describe` gives a quick overview of each feature"
   ]
  },
  {
   "cell_type": "code",
   "execution_count": null,
   "id": "a363da42-73b6-4d09-b1c6-f885b020c633",
   "metadata": {},
   "outputs": [],
   "source": [
    "df.describe()"
   ]
  },
  {
   "cell_type": "markdown",
   "id": "b7c00c5e",
   "metadata": {
    "jp-MarkdownHeadingCollapsed": true
   },
   "source": [
    "## Data Exploration"
   ]
  },
  {
   "cell_type": "markdown",
   "id": "66b733f8-c4db-41d1-8e9e-ac316c0b8ecb",
   "metadata": {},
   "source": [
    "Show all the columns. Target is 'final_exam_score'"
   ]
  },
  {
   "cell_type": "code",
   "execution_count": null,
   "id": "91eae28c-7318-4630-b527-3cb6763babeb",
   "metadata": {},
   "outputs": [],
   "source": [
    "df.columns"
   ]
  },
  {
   "cell_type": "markdown",
   "id": "b5a2457e-739c-41ca-a91e-bbabbd5686f5",
   "metadata": {},
   "source": [
    "Get the size of the dataframe. Shape returns (rows, cols)"
   ]
  },
  {
   "cell_type": "code",
   "execution_count": null,
   "id": "22e851b3-20d7-4e4b-a450-140a428a9294",
   "metadata": {},
   "outputs": [],
   "source": [
    "target = \"final_exam_score\""
   ]
  },
  {
   "cell_type": "code",
   "execution_count": null,
   "id": "7b8d5fcc-1043-427a-9264-6f0a5deeb995",
   "metadata": {},
   "outputs": [],
   "source": [
    "df.shape"
   ]
  },
  {
   "cell_type": "markdown",
   "id": "3e22afb6-b203-4542-9c36-f4910be75a60",
   "metadata": {},
   "source": [
    "Let's get all the data types"
   ]
  },
  {
   "cell_type": "code",
   "execution_count": null,
   "id": "5318a0b9-6de2-4fa9-a17d-606e6b5aa61b",
   "metadata": {},
   "outputs": [],
   "source": [
    "df.dtypes"
   ]
  },
  {
   "cell_type": "code",
   "execution_count": null,
   "id": "2c1e74a9-08b9-4e73-8855-8af51df9a2ea",
   "metadata": {},
   "outputs": [],
   "source": [
    "df.hist(target);"
   ]
  },
  {
   "cell_type": "code",
   "execution_count": null,
   "id": "192bb3f4-9107-4d6d-8f9a-83dd2e8014d5",
   "metadata": {},
   "outputs": [],
   "source": [
    "df.hist(figsize=(15,15));"
   ]
  },
  {
   "cell_type": "markdown",
   "id": "a75755e5-62cc-4275-9ab2-bbddce4a948c",
   "metadata": {
    "jp-MarkdownHeadingCollapsed": true
   },
   "source": [
    "### Individual Plots"
   ]
  },
  {
   "cell_type": "code",
   "execution_count": null,
   "id": "a00f516c-0a21-47bd-bf9f-aafb5f66f1e0",
   "metadata": {},
   "outputs": [],
   "source": [
    "df.columns"
   ]
  },
  {
   "cell_type": "code",
   "execution_count": null,
   "id": "fd99ac0e-6564-4f7e-84e4-70b52e75f052",
   "metadata": {},
   "outputs": [],
   "source": [
    "import pandas as pd\n",
    "import matplotlib.pyplot as plt\n",
    "import seaborn as sns\n",
    "from sklearn.linear_model import LinearRegression\n",
    "from sklearn.metrics import r2_score\n",
    "import numpy as np\n",
    "\n",
    "def plot_X_vs_Y(col1_name, col2_name, col1_label, col2_label):\n",
    "        \n",
    "    # Load the data\n",
    "    df = pd.read_csv(data_url)\n",
    "    \n",
    "    # Extract variables\n",
    "    X = df[[col1_name]].values  # needs to be 2D for sklearn\n",
    "    y = df[col2_name].values\n",
    "    \n",
    "    # Fit linear regression\n",
    "    model = LinearRegression()\n",
    "    model.fit(X, y)\n",
    "    y_pred = model.predict(X)\n",
    "    \n",
    "    # Get statistics\n",
    "    r2 = r2_score(y, y_pred)\n",
    "    slope = model.coef_[0]\n",
    "    intercept = model.intercept_\n",
    "    \n",
    "    print(f\"Regression Statistics:\")\n",
    "    print(f\"  Equation: y = {slope:.3f}x + {intercept:.3f}\")\n",
    "    print(f\"  R² = {r2:.3f}\")\n",
    "    \n",
    "    # Create plot\n",
    "    plt.figure(figsize=(10, 6))\n",
    "    plt.scatter(df[col1_name], df[col2_name], \n",
    "                alpha=0.6, s=50, label='Students')\n",
    "    plt.plot(df[col1_name], y_pred, \n",
    "             color='red', linewidth=2, label='Regression Line')\n",
    "    \n",
    "    plt.xlabel(f'{col1_label}', fontsize=12)\n",
    "    plt.ylabel(f'{col2_label}', fontsize=12)\n",
    "    plt.title(f'{col1_label} vs {col2_label}', fontsize=14, fontweight='bold')\n",
    "    plt.legend()\n",
    "    plt.grid(True, alpha=0.3)\n",
    "    \n",
    "    # Add equation to plot\n",
    "    plt.text(0.05, 0.95, f'y = {slope:.3f}x + {intercept:.3f}\\nR² = {r2:.3f}',\n",
    "             transform=plt.gca().transAxes, fontsize=11,\n",
    "             verticalalignment='top', bbox=dict(boxstyle='round', \n",
    "             facecolor='wheat', alpha=0.5))\n",
    "    \n",
    "    plt.tight_layout()\n",
    "    plt.show()"
   ]
  },
  {
   "cell_type": "code",
   "execution_count": null,
   "id": "af94e24f-b894-4c4e-8be1-427362015708",
   "metadata": {},
   "outputs": [],
   "source": [
    "plot_X_vs_Y('minutes_studying','final_exam_score','Minutes Studying', 'Exam Score')"
   ]
  },
  {
   "cell_type": "code",
   "execution_count": null,
   "id": "99b2330b-175f-48b3-abbb-bbab7dbc00d6",
   "metadata": {},
   "outputs": [],
   "source": [
    "plot_X_vs_Y('num_pets','final_exam_score','Number of Pets', 'Exam Score')"
   ]
  },
  {
   "cell_type": "code",
   "execution_count": null,
   "id": "cf14f9e6-a18c-4036-9305-d1ae0de8769f",
   "metadata": {},
   "outputs": [],
   "source": [
    "plot_X_vs_Y('screen_time_minutes','final_exam_score','Screen Time', 'Exam Score')"
   ]
  },
  {
   "cell_type": "code",
   "execution_count": null,
   "id": "b665e71d-385a-4190-9663-1dbbc7bf4c62",
   "metadata": {
    "scrolled": true
   },
   "outputs": [],
   "source": [
    "plot_X_vs_Y('minutes_studying','current_grade','minutes_studying','current_grade')"
   ]
  },
  {
   "cell_type": "markdown",
   "id": "0bdfeadc-13f3-4041-a954-d46ed9ead5b2",
   "metadata": {
    "jp-MarkdownHeadingCollapsed": true
   },
   "source": [
    "## Correlation matrix heat map"
   ]
  },
  {
   "cell_type": "markdown",
   "id": "7fc020d8-adfa-48de-b9bb-9dabde9499a4",
   "metadata": {},
   "source": [
    "Let's get a quick visual representation of the relationshop between features in this dataset. First drop the non-predictive attributes. Use a **new name** so we don't pollute the original dataframe"
   ]
  },
  {
   "cell_type": "code",
   "execution_count": null,
   "id": "3e61caf8-98a4-4e58-bb36-7c025a0b0c1d",
   "metadata": {},
   "outputs": [],
   "source": [
    "df_heat = df.drop([\"student_id\"], axis = 1)"
   ]
  },
  {
   "cell_type": "code",
   "execution_count": null,
   "id": "3cfe649b-f8cc-48c6-9ad9-3ac968bffc8f",
   "metadata": {},
   "outputs": [],
   "source": [
    "corr_matrix = df_heat.corr()"
   ]
  },
  {
   "cell_type": "code",
   "execution_count": null,
   "id": "1cd6565e-12d2-48a1-bfc1-35c44e39e22b",
   "metadata": {},
   "outputs": [],
   "source": [
    "plt.figure(figsize=(16, 6))\n",
    "# define the mask to set the values in the upper triangle to True\n",
    "mask = np.triu(np.ones_like(corr_matrix, dtype=np.bool))\n",
    "heatmap = sns.heatmap(corr_matrix, mask=mask, vmin=-1, vmax=1, annot=True, cmap='BrBG')\n",
    "heatmap.set_title('Test Scores Correlation Heatmap', fontdict={'fontsize':14}, pad=16);\n",
    "plt.show()"
   ]
  },
  {
   "cell_type": "markdown",
   "id": "e406b72a-e7e7-4294-853c-66ec7f36f6bc",
   "metadata": {},
   "source": [
    "Which features seem to be important?"
   ]
  },
  {
   "cell_type": "code",
   "execution_count": null,
   "id": "7ff1e04d-41dd-48b9-97e4-c17ca7351f75",
   "metadata": {},
   "outputs": [],
   "source": [
    "row_filter = abs(corr_matrix[target])>0.1\n",
    "top_features = pd.DataFrame(corr_matrix[target][row_filter])\n",
    "top_features.sort_values(by=target)"
   ]
  },
  {
   "cell_type": "markdown",
   "id": "961a4b15-dbfb-4585-86f6-5d0bddd1f444",
   "metadata": {
    "jp-MarkdownHeadingCollapsed": true
   },
   "source": [
    "## Data Modeling"
   ]
  },
  {
   "cell_type": "markdown",
   "id": "7416c6a5-a15e-4fc9-81a1-529ebdd44b6b",
   "metadata": {},
   "source": [
    "Here we will run a linear regression. First we need to clean up the data a bit. We will create a data pipeline so we can repeat this process as needed."
   ]
  },
  {
   "cell_type": "code",
   "execution_count": null,
   "id": "9ed64ed8-a168-4479-ac47-678d17e46b27",
   "metadata": {},
   "outputs": [],
   "source": [
    "import pandas as pd\n",
    "from sklearn.model_selection import train_test_split\n",
    "from sklearn.preprocessing import LabelEncoder\n",
    "from sklearn.tree import DecisionTreeClassifier\n",
    "from sklearn.metrics import accuracy_score, classification_report\n",
    "from sklearn.impute import SimpleImputer\n",
    "from sklearn.compose import ColumnTransformer\n",
    "from sklearn.impute import SimpleImputer\n",
    "from sklearn.preprocessing import OneHotEncoder\n",
    "from sklearn.pipeline import Pipeline\n",
    "from sklearn.preprocessing import OrdinalEncoder"
   ]
  },
  {
   "cell_type": "markdown",
   "id": "aed528e4-5585-4ec9-9fe6-399a1cb54256",
   "metadata": {},
   "source": [
    "### Linear Regression"
   ]
  },
  {
   "cell_type": "markdown",
   "id": "3766dfe6-c94c-4a92-b54d-c3e27ef5e324",
   "metadata": {},
   "source": [
    "Three methods will load the data, preprocess it, and create X and y datasets for training and testing."
   ]
  },
  {
   "cell_type": "code",
   "execution_count": null,
   "id": "c160ab9a-7d8d-47cf-aa39-4d1db73a75f2",
   "metadata": {},
   "outputs": [],
   "source": [
    "def get_data(filename):\n",
    "    df = pd.read_csv(filename)\n",
    "    return df    "
   ]
  },
  {
   "cell_type": "code",
   "execution_count": null,
   "id": "ecdc3219-ceee-4353-9dd4-737d0fcd1d09",
   "metadata": {},
   "outputs": [],
   "source": [
    "\n",
    "def pre_process_data(df, one_hot_encode = False):\n",
    "    target = \"final_exam_score\"    \n",
    "    simple_median = SimpleImputer(strategy='median')\n",
    "    simple_most_freq = SimpleImputer(strategy='most_frequent')\n",
    "    \n",
    "    num_cols = df.select_dtypes(include=np.number).columns\n",
    "    cat_cols = df.select_dtypes(include=object).columns\n",
    "\n",
    "    df[num_cols] = simple_median.fit_transform(df[num_cols])\n",
    "    df[cat_cols] = simple_most_freq.fit_transform(df[cat_cols])\n",
    "    \n",
    "    if one_hot_encode:\n",
    "        O_encoder = OrdinalEncoder()\n",
    "        df[cat_cols]= O_encoder.fit_transform(df[cat_cols])\n",
    "\n",
    "        # df = pd.get_dummies(df, dtype=int)\n",
    "        \n",
    "    return df"
   ]
  },
  {
   "cell_type": "code",
   "execution_count": null,
   "id": "c6691978-8b74-41cd-83b3-339b8e4eb3c9",
   "metadata": {},
   "outputs": [],
   "source": [
    "def get_test_train(df, test_size = 0.2, random_state = 42):\n",
    "    target = \"final_exam_score\"    \n",
    "    X = df.drop(target, axis=1)\n",
    "    y = df[target]\n",
    "    X_train, X_test, y_train, y_test = train_test_split(X,y,test_size=test_size, random_state=random_state)\n",
    "    return X_train, X_test, y_train, y_test"
   ]
  },
  {
   "cell_type": "code",
   "execution_count": null,
   "id": "9c8ab8e2-0a40-4c0b-81b7-dc5d9cc2c5e2",
   "metadata": {},
   "outputs": [],
   "source": [
    "df = get_data(data_url)\n",
    "X_train, X_test, y_train, y_test = get_test_train(df)"
   ]
  },
  {
   "cell_type": "code",
   "execution_count": null,
   "id": "fd9ebd7b-48da-4652-a149-04bcf0bc015e",
   "metadata": {},
   "outputs": [],
   "source": [
    "lreg = LinearRegression()\n",
    "model = lreg.fit(X_train, y_train)\n",
    "\n",
    "y_pred = lreg.predict(X_test)\n",
    "print(f\"Train R-squared = {r2_score(lreg.predict(X_train), y_train):5.3}\")\n",
    "print(f\"Test R-squared  = {r2_score(y_pred, y_test):5.3}\")"
   ]
  },
  {
   "cell_type": "code",
   "execution_count": null,
   "id": "81ab732f-23ba-4d7d-aa18-582665cb549f",
   "metadata": {},
   "outputs": [],
   "source": [
    "plt.scatter(y_test, y_pred);\n",
    "plt.plot([60,100],[60,100],color='red')\n",
    "plt.title(\"Predicted Score vs. Real Score\")\n",
    "plt.xlabel(\"True Exam Score\")\n",
    "plt.ylabel(\"Predicted Exam Score\")"
   ]
  },
  {
   "cell_type": "markdown",
   "id": "6fe004b8-d1e5-4d9e-9b42-a34ea0d6613c",
   "metadata": {
    "jp-MarkdownHeadingCollapsed": true
   },
   "source": [
    "## Advanced Techniques"
   ]
  },
  {
   "cell_type": "code",
   "execution_count": null,
   "id": "55e68021-ebde-4d1f-8477-2dd5f8085de9",
   "metadata": {},
   "outputs": [],
   "source": [
    "import matplotlib.pyplot as plt\n",
    "import pandas as pd\n",
    "\n",
    "target = 'final_exam_score'\n",
    "df = get_data(data_url)\n",
    "features = df.drop(target, axis=1).select_dtypes(include=['number']).columns\n",
    "\n",
    "# Set up a grid of subplots\n",
    "num_features = len(features)\n",
    "num_cols = 5  # Adjust this to your preference\n",
    "num_rows = (num_features + num_cols - 1) // num_cols  # Calculates rows needed\n",
    "\n",
    "plt.figure(figsize=(15, num_rows * 3))\n",
    "\n",
    "for i, feature in enumerate(features, 1):\n",
    "    plt.subplot(num_rows, num_cols, i)\n",
    "    plt.scatter(df[feature], df[target], alpha=0.5)\n",
    "    plt.title(f'{feature} vs. exam_score')\n",
    "    plt.xlabel(feature)\n",
    "    plt.ylabel(target)\n",
    "\n",
    "plt.tight_layout()\n",
    "plt.show()\n"
   ]
  },
  {
   "cell_type": "markdown",
   "id": "6f787cba-52e4-4245-b6d3-7e656c78f8c5",
   "metadata": {
    "jp-MarkdownHeadingCollapsed": true
   },
   "source": [
    "## Importance Analysis"
   ]
  },
  {
   "cell_type": "code",
   "execution_count": null,
   "id": "ad62d085-6abc-4ee3-a4be-43b4f41d80f2",
   "metadata": {},
   "outputs": [],
   "source": [
    "import statsmodels.api as sm\n",
    "\n",
    "# Fit the OLS model\n",
    "model = sm.OLS(y_train, X_train).fit()\n",
    "\n",
    "# Get a summary of the regression\n",
    "print(model.summary())"
   ]
  },
  {
   "cell_type": "code",
   "execution_count": null,
   "id": "e4d06e5b-8b58-47ab-b624-2214b0e4dd09",
   "metadata": {},
   "outputs": [],
   "source": [
    "# Extract the summary table as a DataFrame\n",
    "summary_table = model.summary2().tables[1]  # tables[1] is the coefficients table in summary2()\n",
    "\n",
    "# Sort by p-values (for example)\n",
    "sorted_summary = summary_table.sort_values(by='t')\n",
    "\n",
    "\n",
    "# Set display options to prevent truncation\n",
    "pd.options.display.max_rows = None  # Shows all rows\n",
    "pd.options.display.max_columns = None  # Shows all columns\n",
    "\n",
    "sorted_summary"
   ]
  }
 ],
 "metadata": {
  "kernelspec": {
   "display_name": "Python 3 (ipykernel)",
   "language": "python",
   "name": "python3"
  },
  "language_info": {
   "codemirror_mode": {
    "name": "ipython",
    "version": 3
   },
   "file_extension": ".py",
   "mimetype": "text/x-python",
   "name": "python",
   "nbconvert_exporter": "python",
   "pygments_lexer": "ipython3",
   "version": "3.11.13"
  }
 },
 "nbformat": 4,
 "nbformat_minor": 5
}
