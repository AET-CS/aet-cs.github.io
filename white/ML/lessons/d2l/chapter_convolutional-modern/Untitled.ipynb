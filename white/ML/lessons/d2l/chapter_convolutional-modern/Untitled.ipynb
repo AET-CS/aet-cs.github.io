{
 "cells": [
  {
   "cell_type": "code",
   "execution_count": 17,
   "id": "932d87d8-0b96-466c-8ef7-a89cdd37aec3",
   "metadata": {},
   "outputs": [],
   "source": [
    "import tensorflow as tf\n",
    "import pathlib\n",
    "dataset_url = \"https://storage.googleapis.com/download.tensorflow.org/example_images/flower_photos.tgz\"\n",
    "archive = tf.keras.utils.get_file(origin=dataset_url, extract=True)\n",
    "data_dir = pathlib.Path(archive+\"/flower_photos\")"
   ]
  },
  {
   "cell_type": "code",
   "execution_count": 18,
   "id": "b8457f49-cd8e-4027-b3af-15cf5f3cdfe7",
   "metadata": {},
   "outputs": [
    {
     "name": "stdout",
     "output_type": "stream",
     "text": [
      "3670\n"
     ]
    }
   ],
   "source": [
    "image_count = len(list(data_dir.glob('*/*.jpg')))\n",
    "print(image_count)"
   ]
  },
  {
   "cell_type": "code",
   "execution_count": 19,
   "id": "bdb38593-4f6b-4714-912d-0f2950b3fe3d",
   "metadata": {},
   "outputs": [
    {
     "data": {
      "text/plain": [
       "PosixPath('/home/pewhite/.keras/datasets/flower_photos.tgz/flower_photos')"
      ]
     },
     "execution_count": 19,
     "metadata": {},
     "output_type": "execute_result"
    }
   ],
   "source": [
    "data_dir"
   ]
  },
  {
   "cell_type": "code",
   "execution_count": 20,
   "id": "94408c3b-b223-42af-87f6-78c53b1ccab4",
   "metadata": {},
   "outputs": [
    {
     "data": {
      "text/plain": [
       "'/home/pewhite/.keras/datasets/flower_photos.tgz'"
      ]
     },
     "execution_count": 20,
     "metadata": {},
     "output_type": "execute_result"
    }
   ],
   "source": [
    "archive"
   ]
  },
  {
   "cell_type": "code",
   "execution_count": null,
   "id": "a34506be-99e5-46c8-9b6f-721263a7bc9a",
   "metadata": {},
   "outputs": [],
   "source": []
  }
 ],
 "metadata": {
  "kernelspec": {
   "display_name": "Python 3 (ipykernel)",
   "language": "python",
   "name": "python3"
  },
  "language_info": {
   "codemirror_mode": {
    "name": "ipython",
    "version": 3
   },
   "file_extension": ".py",
   "mimetype": "text/x-python",
   "name": "python",
   "nbconvert_exporter": "python",
   "pygments_lexer": "ipython3",
   "version": "3.11.9"
  }
 },
 "nbformat": 4,
 "nbformat_minor": 5
}
